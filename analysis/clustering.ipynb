{
  "cells": [
    {
      "attachments": {},
      "cell_type": "markdown",
      "metadata": {},
      "source": [
        "# Clustering\n",
        "Notebook to cluster our ***video candidates for news***, i.e., videos that are flagged as possibly news related by: nyt headline comparison.\n",
        "\n",
        "Author: Johanna"
      ]
    },
    {
      "cell_type": "code",
      "execution_count": 12,
      "metadata": {
        "id": "3E74NPMzoneg"
      },
      "outputs": [],
      "source": [
        "import pandas as pd \n",
        "\n",
        "#load all csv files\n",
        "with open('./use_by_week_highsim_55.csv','r') as f:\n",
        "    df_nyt = pd.read_csv(f)\n",
        "    f.close()"
      ]
    },
    {
      "cell_type": "code",
      "execution_count": 13,
      "metadata": {},
      "outputs": [
        {
          "name": "stdout",
          "output_type": "stream",
          "text": [
            "nyt: Index(['Unnamed: 0', 'video_id', 'video_date', 'video_keywords',\n",
            "       'nyt_keywords', 'nyt_headline', 'cosine_sim'],\n",
            "      dtype='object')\n"
          ]
        }
      ],
      "source": [
        "print('nyt:',df_nyt.columns)"
      ]
    },
    {
      "attachments": {},
      "cell_type": "markdown",
      "metadata": {},
      "source": [
        "### Clustering\n",
        "code from cs315 slides <br>\n",
        "possible space for improvement: ***topic modeling***\n",
        "\n",
        "1. hashtag clustering"
      ]
    },
    {
      "attachments": {},
      "cell_type": "markdown",
      "metadata": {},
      "source": [
        "## get embeddings"
      ]
    },
    {
      "cell_type": "code",
      "execution_count": 15,
      "metadata": {},
      "outputs": [],
      "source": [
        "import tensorflow as tf\n",
        "import tensorflow_hub as hub\n",
        "import numpy as np\n",
        "\n",
        "embed = hub.load(\"https://tfhub.dev/google/universal-sentence-encoder/4\")\n",
        "def create_embeddings(row,target):\n",
        "    return embed([row[target]])\n",
        "\n",
        "df_nyt['embeddings'] = df_nyt.apply(lambda row: create_embeddings(row,'video_keywords'), axis=1)"
      ]
    },
    {
      "cell_type": "code",
      "execution_count": 3,
      "metadata": {},
      "outputs": [
        {
          "name": "stdout",
          "output_type": "stream",
          "text": [
            "(516, 512)\n"
          ]
        }
      ],
      "source": [
        "matrix_nyt = np.vstack(df_nyt['embeddings'])\n",
        "print(matrix_nyt.shape)"
      ]
    },
    {
      "cell_type": "code",
      "execution_count": 16,
      "metadata": {},
      "outputs": [
        {
          "data": {
            "image/png": "[encoded data removed]",
            "text/plain": [
              "<Figure size 640x480 with 1 Axes>"
            ]
          },
          "metadata": {},
          "output_type": "display_data"
        }
      ],
      "source": [
        "import matplotlib.pyplot as plt\n",
        "from sklearn.cluster import KMeans\n",
        "\n",
        "# Step 1: how do we know how many clusters to use? Elbow method!\n",
        "def elbow_method(matrix, maximum_K):\n",
        "  \"\"\"\n",
        "  Elbow Method: \n",
        "  used to figure out how many clusters we should use \n",
        "  WCSS = within-cluster sum of squares = distance between points in cluster \n",
        "  want to minimize WSS, such that WCSS is low but the clusters are small enough to interpret\n",
        "  \"\"\"\n",
        "  wcss = {} #key: k, values: wcss\n",
        "\n",
        "  for k in range(1,maximum_K):\n",
        "    kmeans = KMeans(n_clusters = k, init = 'k-means++', random_state = 42)\n",
        "    kmeans.fit(matrix)\n",
        "    wcss[k] = kmeans.inertia_\n",
        "\n",
        "  return wcss\n",
        "\n",
        "def draw_elbow_plot(wcss):\n",
        "  plt.plot(wcss.keys(), wcss.values(), 'gs-')\n",
        "  plt.xlabel(\"number of clusters 'k'\")\n",
        "  plt.ylabel('WCSS')\n",
        "  plt.show()\n",
        "\n",
        "draw_elbow_plot(elbow_method(matrix_nyt, 15))\n",
        "#no clear elbow; chose 9"
      ]
    },
    {
      "cell_type": "code",
      "execution_count": 17,
      "metadata": {},
      "outputs": [],
      "source": [
        "from sklearn.manifold import TSNE\n",
        "from sklearn.cluster import KMeans\n",
        "import plotly.express as px\n",
        "import pandas as pd\n",
        "\n",
        "# Step 2: now that we know k=3, we can perform k-means model\n",
        "def draw_cluster_plot(n_clusters,df,matrix,target,title):\n",
        "    kmeans = KMeans(n_clusters = n_clusters)\n",
        "    kmeans.fit(matrix)\n",
        "\n",
        "    df['cluster'] = kmeans.labels_\n",
        "\n",
        "    #use TSNE to visualize high dim. data\n",
        "    tsne = TSNE(n_components=2, perplexity=15, random_state=42, init=\"random\", learning_rate=200)\n",
        "    tsne_results = tsne.fit_transform(matrix)\n",
        "\n",
        "    # Step 3: Append tsne_1, tsne_2 to df_hashtag\n",
        "    df_tsne = pd.DataFrame(tsne_results, \n",
        "                    columns=['tsne_1', 'tsne_2'])\n",
        "\n",
        "    df_res = pd.concat([df,df_tsne],axis=1)\n",
        "\n",
        "    # Step 4: Use plotly to visualize it\n",
        "    fig = px.scatter(df_res, x='tsne_1', y='tsne_2', color='cluster',hover_data= {target})\n",
        "    fig.update_traces(textposition='top center', textfont=dict(size=6))\n",
        "    fig.update_layout(title=f'Embeddings of TikTok News filtered by {title}', hoverlabel=dict(\n",
        "                                    font=dict(size=7),\n",
        "                                    align=\"left\"))\n",
        "    return df_res, fig"
      ]
    },
    {
      "cell_type": "code",
      "execution_count": 18,
      "metadata": {},
      "outputs": [
        {
          "data": {
            "application/vnd.plotly.v1+json": {
              "config": {
                "plotlyServerURL": "https://plot.ly"
              },
              "data": [
                {
                  "customdata": [
                    [
                      "['replying', 'killercatmay', 'got', 'yall', 'kpop', 'jyp', 'wondergirls']"
                    ],
                    [
                      "['starbuck', 'loses', 'billion', 'starbucks', 'starbucks', 'losing', 'money', 'raymonte', 'starbucks', 'lauren', 'giraldo', 'starbucks', 'dropping', 'starbucks', 'cup', 'dropping', 'starbucks', 'starbucks', 'cups', 'viral', 'starbucks', 'drink', 'starbucks', 'drinks', 'greenscreen']"
                    ],
                    [
                      "['advent', 'calendars', 'unbox', 'ultaadventcalendar', 'ultabeauty', 'beautyadventcalendar', 'adventcalendar']"
                    ],
                    [
                      "['christmas', 'wish', 'list', 'christmas', 'list', 'wish', 'list', 'want', 'christmas', 'christmas', 'presents', 'christmas', 'christmas', 'list', 'christmas', 'christmas', 'count', 'wishlist', 'ideas', 'christmas', 'knowi', 'know', 'trend', 'short', 'bored', 'funny']"
                    ],
                    [
                      "['musical', 'theatre', 'performance', 'musical', 'stage', 'performance', 'dont', 'need', 'roof', 'comedy', 'theatre', 'musical', 'theatre', 'cover', 'theater', 'acting', 'making', 'whole', 'theater', 'laugh', 'people', 'laughing', 'serious', 'situations', 'class', 'guys', 'youre', 'making', 'laugh', 'musicaltheatre', 'worstperson', 'theatre', 'performanceclass', 'performance']"
                    ],
                    [
                      "['thanksgivings', 'coo', 'christmas', 'hehehe']"
                    ],
                    [
                      "['thanksgiving', 'tradition', 'shoutoutot', 'basketball', 'thanksgiving']"
                    ],
                    [
                      "['serious', 'would', 'think', 'finna', 'actually', 'debut', 'kpop', 'jyp', 'sm', 'yg', 'hybe', 'cube', 'blackpink', 'bts', 'twice', 'straykids', 'gidle']"
                    ],
                    [
                      "['broadway', 'junction', 'th', 'street', 'nyc', 'broadway', 'junction', 'nyc', 'gentrification', 'nyc', 'nyc', 'subway', 'new', 'york', 'city', 'subway', 'subway', 'new', 'york', 'nyc', 'gentrifiers', 'subway', 'nyc', 'subway', 'lines', 'imma', 'show', 'u', 'around']"
                    ],
                    [
                      "['market', 'macys', 'store', 'shopping', 'holiday', 'season', 'even', 'hosting', 'instore', 'events', 'season', 'long', 'dont', 'forget', 'grab', 'something', 'special', 'sponsored', 'marketbymacys', 'macysstylecrew']"
                    ],
                    [
                      "['sherlock', 'shinee', 'oh', \"i'm\", 'curious', 'yeah', 'shinee', 'mma', 'taemin', 'curious', 'shinee', 'jonghyun', 'oh', \"i'm\", 'curious', 'oh', 'im', 'curious', 'shinee', 'sherlock', 'shinee', 'mma', 'shinee', 'band', 'shinee_official', 'taemin', 'casually', 'taking', 'foot', 'long', 'steps', 'taemin', 'shinee', 'mma', 'sherlock', 'kpop', 'ndgen']"
                    ],
                    [
                      "['woongki', 'woongki', 'seunghwan', 'hyeongjun', 'cravity', 'woong', 'ki', 'hyeongjun', 'cravity', 'band', 'boys', 'planet', 'hyeongjun', 'edits', 'kim', 'ji', 'woong', '-', 'boys', 'planet', 'cravityofficial', 'kpop', 'edits', 'woongki', 'adorable', 'episode', 'woongki', 'hyeongjun', 'cravity', 'boysplanet', 'kpop', 'kpopedit']"
                    ],
                    [
                      "['best', 'mexican', 'thanksgiving', 'turkey', 'thanksgiving', 'mexican', 'turkey']"
                    ],
                    [
                      "['crazy', 'kpop', 'stans', 'real', 'good', 'hiding', 'crazy', 'kpop', 'kpopmemes']"
                    ],
                    [
                      "['cant', 'believe', 'actually', 'happening', 'sistar', 'hyolyn', 'bora', 'sistar', '씨스타', '보라', '효린', 'kpop']"
                    ],
                    [
                      "['united', 'grief', 'tell', 'truth', 'dance', 'group', 'paris', 'cav', 'united', 'grief', 'united', 'grief', 'dance', 'group', 'united', 'grief', 'edit', 'kendrick', 'lamar', 'dance', 'dance', 'performances', 'dance', 'kendrick', 'lamar', 'united', 'grief', 'tell', 'em', 'tell', 'em', 'tell', 'em', 'dance', 'competition', 'paris', 'cav', 'choreography', 'like', 'let', 'js', 'pack', 'competitive', 'dance', 'relatable', 'viral', 'hiphop']"
                    ],
                    [
                      "['gaza', 'sea', 'zionists', 'explained', 'im', 'tired', 'argument', 'freepalestine', 'palestine', 'palestineisrael', 'freepalestine', 'israel', 'freegaza', 'gaza', 'zionists', 'palestine']"
                    ],
                    [
                      "['guess', 'choreography', 'sound', 'guessing', 'choreo', 'sound', 'gigi', 'lakers', 'cheerleader', 'golden', 'state', 'warriors', 'dance', 'team', 'guess', 'cheer', 'jenny', 'lakers', 'cheerleader', 'guessing', 'choreography', 'guess', 'choreography', 'lakers', 'lakers', 'cheerleaders', 'running', 'back', 'lakers', 'dancechallenge', 'dancersoftiktok', 'lakergirls']"
                    ],
                    [
                      "['honestly', 'casting', 'gale', 'president', 'snow', 'becoming', 'serious', 'sport', 'kdrama', 'kdramas', 'kdramatiktok', 'kdramalover', 'kdramacasting', 'fancast', 'fancasting', 'thehungergames', 'fy', 'thehungergamescast', 'thehungergamestrilogy', 'koreandramas', 'koreanmovies', 'actors', 'actor', 'thg', 'thehungergamescatchingfire', 'thehungergamesmockingjay']"
                    ],
                    [
                      "['notice', 'mainly', 'ggs', 'redvelvet', 'nayeon', 'loona', 'twice', 'bts', 'girlsgeneration', 'fromis_', 'newjeans', 'shinee', 'kpop']"
                    ],
                    [
                      "['jason', 'schwartzman', 'sejanus', 'hunger', 'games', 'snow', 'falls', 'top', 'flickerman', 'hunger', 'games', 'whistle', 'flo', 'rida', 'jason', 'schwartzman', 'hunger', 'games', 'snow', 'hunger', 'games', 'hunger', 'games', 'songbirds', 'snakes', 'coriolanus', 'snow', 'finnick', 'hunger', 'games', 'favs', 'bosas', 'hungergames']"
                    ],
                    [
                      "['proceeds', 'go', 'palestine', 'purchase', 'atxpartiesforpalestine', 'instagram', 'atx', 'palestinian', 'designed', 'ran', 'first', 'event', 'november', 'th', 'raised', 'nearly', 'k', 'door', 'fees', 'merch', 'sales', 'donating', 'proceeds', 'connectinghumanity_', 'provides', 'esims', 'resources', 'palestinians', 'gaza', 'sold', 'stock', 'event', 'shirts', 'going', 'donated', 'percentage', 'put', 'towards', 'producing', 'next', 'batch', 'essentially', 'triple', 'amount', 'keep', 'every', 'drop', 'donate', 'cause', 'time', 'continue', 'cycle', 'small', 'group', 'made', 'mostly', 'student', 'volunteers', 'freepalestine', 'freepalestine', 'gaza', 'pali', 'istandwithpalestine', 'palestine', 'fromtherivertotheseapalastinewillbefree', 'vivavivapalestina']"
                    ],
                    [
                      "['mccafferty', 'spotify', 'wrapped', 'korn', 'spotify', 'wrapped', 'hozier', 'melanie', 'martinez', 'spotify', 'wrapped', 'hollywood', 'undead', 'wrapped', 'hozier', 'wrapped', 'ghost', 'band', 'sza', 'spotify', 'wrapped', 'mom', 'jeans', 'spotify', 'spotifywrapped', 'dissapointed']"
                    ],
                    [
                      "['day', 'ceasefire', 'yet', 'theyre', 'still', 'bmbing', 'gaza', 'youre', 'pro', 'isnotreal', 'youre', 'actually', 'sick', 'freepalestine']"
                    ],
                    [
                      "['turkey', 'trot', 'families', 'rise', 'turkeytrot', 'happythanksgiving', 'thanksgiving', 'thanksgiving', 'krun', 'happythanksgiving']"
                    ],
                    [
                      "['performing', 'day', 'stunt', 'last', 'year', 'gidle', 'mama', 'mamaawards', 'mybag', 'kpop', 'coreyxkenshin']"
                    ],
                    [
                      "['ignore', 'text', 'idk', 'tf', 'tat', 'redvelvet', 'kpop', 'blowthisup', 'xzybca', 'viral', 'kpop']"
                    ],
                    [
                      "['jimmy', 'carter', 'young', 'jimmy', 'rosalynn', 'carter', 'hospice', 'jimmy', 'carter', 'hospice', 'jimmycarter', 'jimmy', 'rosalynn', 'carter', 'young', 'jimmy', 'carter', 'rosalynn', 'cnn', 'jimmy', 'carter', 'jimmy', 'carter', 'presidency', 'jimmy', 'carter', 'palestine', 'greenscreenvideo', 'love', 'jimmy', 'carter', 'roslynn', 'carter', 'potus']"
                    ],
                    [
                      "['sorry', 'besties', 'dont', 'make', 'rules', 'spotifywrapped', 'spotify', 'spotifysoundtown', 'music', 'burlington', 'sanluisobispo', 'cambridge', 'boulder', 'madison', 'honolulu', 'spotifywrapped']"
                    ],
                    [
                      "['much', 'rent', 'door', 'wont', 'close', 'nyc', 'rent', 'apartment', 'viral', 'hurricane', 'hurricanebridgitmendler']"
                    ],
                    [
                      "['anyone', 'get', 'burlington', 'almost', 'music', 'friends', 'spotifywrapped', 'burlington', 'burlingtonvermont', 'indiemusic', 'alexg']"
                    ],
                    [
                      "['baby', 'ariel', 'baby', 'ariel', 'israel', 'baby', 'ariel', 'palestine', 'oven', 'palestine', 'palestine', 'alshifa', 'hospital', 'regret', 'tears', 'baby', 'ariel', 'sea', 'boundary', 'palestine', 'fish', 'rising', 'beach', 'palestine', 'palestine', 'hoodie', 'baby', 'ariel', 'saying', 'word', 'ermmm', 'anyways', 'palestine', 'dumbahh']"
                    ],
                    [
                      "['tom', 'blyth', 'tom', 'blyth', 'edit', 'tom', 'blyth', 'sexuality', 'rachel', 'zegler', 'tom', 'blythe', 'girlfriend', 'tom', 'blyth', 'rachel', 'zelger', 'tom', 'blyth', 'interview', 'cornelius', 'snow', 'edit', 'snow', 'hunger', 'games', 'hunger', 'games', 'hes', 'ughhh', 'especially', 'watching', 'movie', 'tomblyth', 'donaldsutherland', 'youngsnow', 'jenniferlawrence', 'theballadofsongbirdsandsnakes', 'tbosas', 'bosasedit', 'thedit', 'thg', 'thehungergames', 'hungergames', 'theballadofsongbirdsandsnakesedit', 'thehungergamesedit', 'jennifer', 'lucygreybaird', 'lucygreybairdedit', 'coryosnow', 'coriolanussnow', 'coriolanussnowedit', 'snowbaird', 'hunterschafer', 'tigris', 'coriolanussnow', 'presidentsnow', 'katnisseverdeen', 'rachelzegler', 'snakes', 'mockingjay', 'peetamellark', 'catchingfire', 'snowwhite', 'galehawthorne', 'hunterschafer', 'euphoria', 'amc', 'movie', 'panem', 'tribute', 'youngpresidentsnow', 'thhungergames', 'cantcatchme']"
                    ],
                    [
                      "['wish', 'movie', 'wish', 'wish', 'concept', 'art', 'magic', 'star', 'boy', 'star', 'boy', 'wish', 'wish', 'disney', 'wish', 'villain', 'song', 'tony', 'carmela', 'soprano', 'tony', 'carmela', 'wish', 'disney', 'concept', 'havent', 'even', 'seen', 'yet', 'im', 'already', 'disappointed', 'also', 'apparently', 'grossed', 'like', 'mil', 'far', 'theatres', 'days', 'wish', 'disney']"
                    ],
                    [
                      "['want', 'taeyeon', 'special', 'want', 'free', 'since', 'yall', 'wont', 'give', 'another', 'album', 'smentertainment', 'kpop', 'asinglebeomgyu', 'kpopidol']"
                    ],
                    [
                      "['surprised', 'exhanid', 'kpop', 'babymonster', 'ahyeon', 'baemon', 'yg', 'fancam', 'babymonsteryg']"
                    ],
                    [
                      "['amazing', 'fiction', 'books', 'ive', 'read', 'recently', 'palestinian', 'authorsabout', 'palestinians', 'highly', 'recommend', 'looking', 'read', 'add', 'recs', 'comments', 'booktok', 'readforpalestine', 'palestine', 'fiction', 'graphicnovel', 'bookrecs']"
                    ],
                    [
                      "['silver', 'fish', 'real', 'life', 'silverfish', 'silverfish', 'real', 'life', 'silverfish', 'new', 'york', 'nyc', 'apartment', 'nyc', 'new', 'york', 'apartment', 'living', 'new', 'york', 'living', 'nyc', 'nyc', 'roaches', 'apartment', 'yes', 'gold', 'flake', 'toilet', 'seat', 'came', 'apartment', 'nyc', 'nycapartment']"
                    ],
                    [
                      "['used', 'create', 'cultural', 'content', 'shes', 'documenting', 'war', 'gaza', 'israel', 'gazaunderattack', 'palestine']"
                    ],
                    [
                      "['first', 'hunger', 'games', 'suzanne', 'collins', 'ballad', 'songbirds', 'snakes', 'first', 'hunger', 'games', 'explained', 'hunger', 'games', 'hunger', 'games', 'hunger', 'games', 'books', 'ballad', 'songbirds', 'snakes', 'suzanne', 'collins', 'ballad', 'songbirds', 'snakes', 'suzanne', 'president', 'snow', 'ill', 'never', 'shut', 'book', 'hope', 'finds', 'right', 'people', 'balladofsongbirdsandsnakes', 'presidentcoriolanussnow', 'thgedits', 'suzannecollins']"
                    ],
                    [
                      "['tom', 'blyth', 'rachel', 'zegler', 'hunger', 'games', 'songbirds', 'snakes', 'hunger', 'games', 'tom', 'blyth', 'edit', 'peter', 'dinklage', 'hunter', 'schafer', 'rachel', 'zegler', 'snow', 'white', 'snow', 'hunger', 'games', 'tigris', 'hunger', 'games', 'games', 'back', 'baby', 'balladofsongbirdsandsnakes', 'theaters', 'november', 'th', 'hungergames', 'katnisseverdeen', 'lionsgatepartner']"
                    ],
                    [
                      "['lucy', 'gray', 'happened', 'lucy', 'gray', 'maude', 'ivory', 'hunger', 'games', 'songbirds', 'snakes', 'maude', 'ivory', 'hunger', 'games', 'hunger', 'games', 'hunger', 'games', 'ballad', 'songbirds', 'tigris', 'hunger', 'games', 'snow', 'hunger', 'games', 'lucy', 'gray', 'go', 'like', 'could', 'shes', 'right', 'age', 'mockingjay', 'pin', 'maybe', 'im', 'delulu', 'came', 'back', 'years', 'later', 'balladofsongbirdsandsnakes', 'hungergames', 'lucygray', 'katniss']"
                    ],
                    [
                      "['jada', 'pinkett', 'smith', 'jada', 'pinkett', 'cassie', 'euphoria', 'cassie', 'boyfriend', 'cassie', 'scene', 'euphoria', 'diddy', 'bop', 'gf', 'jada', 'cassie', 'euphoria', 'diddy', 'stare', 'diddy', 'edit', 'diddy', 'loses', 'cassie', 'suing', 'diddy', 'suing', 'jada', 'pinkett', 'diddy', 'cassie', 'jadapinkett', 'survivingdiddy']"
                    ],
                    [
                      "['nyc', 'new', 'york', 'city', 'nyc', 'city', 'new', 'york', 'apartment', 'nyc', 'new', 'york', 'city', 'apartment', 'apartments', 'nyc', 'apartment', 'new', 'york', 'nyc', 'beautiful', 'apartment', 'tiny', 'apartment', 'nyc', 'like', 'feel', 'like', 'end', 'school', 'friday', 'head', 'home', 'apartment', 'city', 'much', 'offer', 'feeling', 'wonder', 'possiblity', 'child', 'amplified', 'think', 'realize', 'lucky']"
                    ],
                    [
                      "['thanksgiving', 'walk', 'thanksgiving', 'walk', 'thanksgiving', 'walk', 'josh', 'richards', 'brother', 'thanksgiving', 'walk', 'meaning', 'josh', 'richards', 'thanksgiving', 'walk', 'explained', 'josh', 'richards', 'sister', 'thanksgiving', 'walk', 'thanksgiving', 'kids', 'rlly', 'growing', 'right', 'front', 'wills', 'th', 'account']"
                    ],
                    [
                      "['absolutely', 'feral', 'thanksgiving']"
                    ],
                    [
                      "['dont', 'even', 'get', 'start', 'vxq', 'jyj', 'debacle', 'kpop', 'smentertainment', 'tvxq', 'maxchangmin', 'kpopstan', 'mamaawards', 'bts']"
                    ],
                    [
                      "['liked', 'popular', 'book', 'try', 'book', 'selection', 'kierra', 'cass', 'jewel', 'amy', 'ewing', 'read', 'book', 'years', 'back', 'one', 'first', 'serieses', 'excited', 'downfall', 'dystopian', 'era', 'hunger', 'games', 'divergent', 'selection', 'etc', 'huge', 'dystopian', 'fan', 'youre', 'looking', 'wonderful', 'way', 'relive', 'phase', 'please', 'pick', 'series', 'invisible', 'life', 'addie', 'larue', 'schwab', 'stop', 'time', 'matt', 'haig', 'book', 'written', 'author', 'booktok', 'book', 'midnight', 'library', 'another', 'one', 'favorites', 'book', 'impeccably', 'written', 'colorfully', 'emotional', 'flashing', 'past', 'present', 'watch', 'main', 'character', 'fall', 'painful', 'love', 'cannot', 'hold', 'laura', 'nowlin', 'light', 'lost', 'jill', 'santopolo', 'two', 'books', 'one', 'major', 'element', 'common', 'sadness', 'found', 'book', 'relatable', 'wanted', 'reading', 'going', 'first', 'real', 'breakup', 'characters', 'book', 'feel', 'real', 'fall', 'love', 'innocent', 'complicated', 'natural', 'full', 'chemistry', 'yet', 'find', 'book', 'makes', 'feel', 'way', 'one', 'love', 'story', 'book', 'pungent', 'sharp', 'leave', 'feeling', 'equally', 'hopeful', 'hopeless', 'archers', 'voice', 'mia', 'sheridan', 'love', 'hurt', 'like', 'paige', 'toon', 'book', 'small', 'town', 'romance', 'done', 'well', 'deviates', 'general', 'predictions', 'see', 'constantly', 'within', 'trope', 'fulfills', 'us', 'areas', 'rely', 'book', 'offers', 'beautiful', 'romance', 'blossoming', 'familial', 'story', 'share', 'book', 'reviews', 'get', 'connected', 'community', 'follow', 'milanamarie', 'lemon', 'lemonus', 'lemon', 'lemonbookclub', 'archersvoice', 'onlylovecanhurtlikethis', 'addielarue', 'howtostoptime', 'theselection', 'thejewel']"
                    ],
                    [
                      "['happy', 'thanksgiving', 'turkeys']"
                    ],
                    [
                      "['eckerd', 'college', 'college', 'students', 'college', 'reactions', 'college', 'tour', 'college', 'decision', 'reaction', 'college', 'acceptance', 'college', 'tiktok', 'college', 'life', 'college', 'band', 'college', 'life', 'memories', 'thinking', 'back', 'happier', 'days', 'familyeckerdcollege']"
                    ],
                    [
                      "['dirty', 'pop', 'lets', 'talk', 'bebe', 'rexha', 'wrote', 'hook', 'monster', 'eminem', 'rihanna', 'vocals', 'even', 'left', 'track', 'unbeknownst', 'found', 'world', 'thah', 'rihanna', 'gonna', 'vocalist', 'dirtypop', 'popmusic', 'pop', 'music', 'popculture', 'popculturenews', 'celebrity', 'celebritygossip', 'musicindustry', 'musicindustrysecrets', 'bebe', 'beberexha', 'rihanna', 'riri', 'eminem', 'singers', 'singersongwriter']"
                    ],
                    [
                      "['replying', 'stacy', 'dirty', 'pop', 'music', 'ibdustry', 'done', 'bebe', 'rexha', 'dirty', 'many', 'times', 'lets', 'talk', 'time', 'wasnt', 'even', 'told', 'britney', 'spears', 'would', 'performing', 'song', 'rhe', 'vmas', 'dirtypop', 'popmusic', 'pop', 'music', 'popculture', 'popculturenews', 'celebrity', 'celebritygossip', 'musicindustry', 'musicindustrysecrets', 'bebe', 'beberexha', 'britneyspears', 'vma', 'vmas', 'geazy', 'wwhl', 'justiceforbebe', 'singers', 'singersongwriter']"
                    ],
                    [
                      "['replying', 'serotoniene', 'dirty', 'pop', 'taylor', 'swift', 'wrote', 'cane', 'rihanna', 'calvin', 'harris', 'vocals', 'allll', 'track', 'still', 'dirtypop', 'popmusic', 'pop', 'music', 'popculture', 'popculturenews', 'celebrity', 'celebritygossip', 'musicindustry', 'musicindustrysecrets', 'taylorswift', 'swifttok', 'swifties', 'calvinharris', 'rihanna', 'riri', 'singers', 'singersongwriter']"
                    ],
                    [
                      "['replying', 'user', 'dirty', 'pop', 'singer', 'cowriter', 'calvin', 'harris', 'track', 'deep', 'love', 'asked', 'credit', 'performer', 'denied', 'name', 'ins', 'wroldsen', 'thank', 'lot', 'favorite', 'pop', 'songs', 'dirtypop', 'popmusic', 'pop', 'music', 'popculture', 'popculturenews', 'celebrity', 'celebritygossip', 'musicindustry', 'musicindustrysecrets', 'inawroldsen', 'inawroldsenobssesed', 'calvinharris', 'singers', 'singer', 'songwriter']"
                    ],
                    [
                      "['replying', 'charleytheunicorn', 'dirty', 'pop', 'ive', 'absolutely', 'dying', 'spotlight', 'pop', 'legend', 'bonniemckee', 'tell', 'pulled', 'taylor', 'swift', 'rerecorded', 'album', 'held', 'hostage', 'sony', 'almost', 'decade', 'please', 'follow', 'stream', 'singles', 'fron', 'uocoming', 'album', 'deserves', 'blow', 'dirtypop', 'bonniemckee', 'katyperry', 'kesha', 'britneyspears', 'popmusic', 'pop', 'music', 'popculture', 'popculturenews', 'celebrity', 'celebritygossip', 'musicindustry', 'musicindustrysecrets', 'singers', 'singer', 'songwriter']"
                    ],
                    [
                      "['replying', 'k', 'hype', 'dirty', 'pop', 'jennifer', 'lopez', 'part', 'talk', 'jenny', 'block', 'natasha', 'ramos', 'heavily', 'featured', 'uncredited', 'vocalist', 'dirtypop', 'popmusic', 'pop', 'music', 'popculture', 'popculturenews', 'celebrity', 'celebritygossip', 'musicindustry', 'musicindustrysecrets', 'jlo', 'jenniferlopez', 'singers', 'singersongwriter', 'benaffleck']"
                    ],
                    [
                      "['anna', 'devley', 'inventing', 'anna', 'anna', 'delvey', 'interview', 'anna', 'sorokin', 'anna', 'delvey', 'explained', 'anna', 'delvey', 'real', 'footage', 'anna', 'story', 'anna', 'delvey', 'boat', 'scene', 'anna', 'delvey', 'chateau', 'marmont', 'anna', 'delvey', 'real', 'voice', 'anna', 'delvey', 'villain', 'antihero', 'let', 'know', 'comments', 'full', 'video', 'youtube', 'annadelvey', 'inventinganna', 'scammers']"
                    ],
                    [
                      "['anna', 'delvey', 'explained', 'anna', 'delvey', 'anna', 'delvey', 'gets', 'caught', 'scene', 'anna', 'delvey', 'anna', 'delvey', 'netflix', 'scenes', 'anna', 'delvey', 'netflix', 'anna', 'sorokin', 'anna', 'sorokin', 'anna', 'delvey', 'gets', 'caught', 'movie', 'scene', 'anna', 'delvey', 'case', 'fake', 'heiress', 'annadelvey', 'aka', 'annasorokin', 'seen', 'stepping', 'house', 'arrest', 'manhattan']"
                    ],
                    [
                      "['andrew', 'barth', 'feldman', 'hard', 'feelings', 'hard', 'feelings', 'interview', 'andrew', 'barth', 'feldman', 'dear', 'evan', 'hansen', 'andrew', 'barth', 'feldman', 'jennifer', 'lawrence', 'andrew', 'feldman', 'jennifer', 'lawrence', 'andrew', 'feldman', 'andrew', 'feldman', 'singing', 'hard', 'feelings', 'movie', 'jennifer', 'lawrence', 'partner', 'andrew', 'nohardfeelings', 'jenniferlawrence', 'andrewbarthfeldman']"
                    ],
                    [
                      "['part', 'nohardfeelings', 'movie', 'movieclips', 'film', 'tiktok', 'trending', 'movies']"
                    ],
                    [
                      "['gail', 'lewis', 'walmart', 'thanksgiving', 'eazyblakeoven_', 'thanksgiving', 'dinner', 'thanksgiving', 'plot', 'twist', 'white', 'thanksgiving', 'thanksgiving', 'fails', 'thanksgiving', 'leftover', 'ideas', 'thanksgiving', 'funny', 'videos', 'happy', 'thanksgiving', 'funny', 'im', 'still', 'shock', 'honestly', 'thanksgiving', 'comedy']"
                    ],
                    [
                      "['peeta', 'katniss', 'hunger', 'games', 'josh', 'hutcherson', 'peeta', 'mellark', 'peeta', 'unhinged', 'hunger', 'games', 'enobaria', 'hunger', 'games', 'johanna', 'hunger', 'games', 'peeta', 'sass', 'hunger', 'games', 'songbirds', 'snakes', 'peeta', 'little', 'stupid', 'love', 'joshhutchersonsupermacy', 'peetamellark', 'jhutch', 'joshhutcherson', 'hungergames', 'peetamellarksupremacy', 'hungergamescatchingfire']"
                    ],
                    [
                      "['hanging', 'tree', 'lucy', 'gray', 'coming', 'tree', 'meadow', 'song', 'hunger', 'games', 'hanging', 'tree', 'katniss', 'snow', 'hunger', 'games', 'hanging', 'tree', 'lucy', 'gray', 'hunger', 'games', 'songbirds', 'snakes', 'hanging', 'tree', 'meadow', 'song', 'hunger', 'games', 'times', 'katniss', 'reminded', 'snow', 'lucy', 'gray', 'hunger', 'games', 'hungergames', 'katnisseverdeen', 'presidentsnow', 'lucygray']"
                    ],
                    [
                      "['tigris', 'hunger', 'games', 'lucy', 'gray', 'snow', 'hunger', 'games', 'hunger', 'games', 'songbirds', 'snakes', 'hunger', 'games', 'happened', 'lucy', 'gray', 'hunger', 'games', 'ballad', 'songbirds', 'ballad', 'songbirds', 'snakes', 'hunger', 'games', 'explained', 'president', 'snow', 'put', 'together', 'hungergames', 'balladofsongbirdsandsnakes', 'presidentsnow', 'lucygraybaird', 'endingexplained', 'movieanalysis', 'booktok']"
                    ],
                    [
                      "['little', 'holiday', 'decorating', 'prep', 'new', 'dove', 'holiday', 'treats', 'collection', 'dovepartner', 'doveholidaytreats', 'collection', 'comes', 'delicious', 'scents', 'peppermint', 'bark', 'sugar', 'cookie', 'cinnamon', 'pumpkin', 'pie', 'hurry', 'walmart', 'grab', 'today', 'bodycare', 'showertok', 'holidaytiktok', 'holidayprep', 'holidaybathroom', 'holidaydecor', 'asmr']"
                    ],
                    [
                      "['family', 'college', 'black', 'friday', 'college', 'black', 'friday', 'dad', 'chats', 'college', 'life', 'black', 'friday', 'store', 'college', 'students', 'college', 'tiktok', 'send', 'dad', 'bout', 'head', 'black', 'friday', 'shopping', 'college', 'thanksgiving', 'blackfriday', 'dads', 'daughters', 'family', 'nailedit']"
                    ],
                    [
                      "['tigris', 'hunger', 'games', 'hunter', 'schafer', 'think', 'f', 'f', 'like', 'dad', 'hunter', 'schafer', 'hunger', 'games', 'think', 'f', 'f', 'tigris', 'look', 'like', 'father', 'think', 'look', 'like', 'father', 'tigris', 'look', 'like', 'father', 'sejanus', 'hunger', 'games', 'hot', 'take', 'new', 'hunger', 'games', 'movie']"
                    ],
                    [
                      "['nyc', 'shopping', 'gift', 'nyc', 'shopping', 'places', 'nyc', 'shops', 'nyc', 'new', 'york', 'shopping', 'lower', 'eastside', 'nyc', 'lower', 'east', 'side', 'new', 'york', 'market', 'nyc', 'rooftop', 'nyc', 'recommendations', 'gift', 'shopping', 'heaven', 'nycrecommendations', 'lowereastside', 'nycshopping']"
                    ],
                    [
                      "['finnick', 'hunger', 'games', 'jamie', 'campbell', 'bower', 'finnick', 'dying', 'scene', 'snow', 'selling', 'finnick', 'finnick', 'finnick', 'deaths', 'scene', 'snow', 'hunger', 'games', 'tigris', 'hunger', 'games', 'tom', 'blyth', 'hunger', 'games', 'songbirds', 'snakes', 'need', 'keep', 'reminding', 'presidentsnow', 'theballadofsongbirdsandsnakes', 'hungergames', 'booktok']"
                    ],
                    [
                      "['yarden', 'lasry', 'yarden', 'lasry', 'war', 'days', 'war', 'days', 'water', 'splash', 'tire', 'river', 'israel', 'damage', 'vs', 'palestine', 'canaera']"
                    ],
                    [
                      "['happy', 'thanksgiving', 'getmeoffthisapp', 'cheatthesystem', 'circles']"
                    ],
                    [
                      "['literally', 'anything', 'kpop', 'cunty', 'like', 'shootawoo', 'nct', 'nct', 'ndgen', 'servinglooks']"
                    ],
                    [
                      "['greenscreen', 'said', 'tweet', 'eats', 'lmfaoo', 'gypsyroseblanchard', 'comedy', 'twitter']"
                    ],
                    [
                      "['happy', 'thanksgiving']"
                    ],
                    [
                      "['piece', 'puzzle', 'time', 'lase', 'puzzle', 'ensky', 'spirited', 'away', 'g', 'completed', 'puzzle', 'spiritedaway', 'tylerthecreator']"
                    ],
                    [
                      "['fka', 'twigs', 'fashion', 'moodboard', 'wigs', 'style', 'fashion', 'fashion', 'advice', 'wigs', 'style', 'fashion', 'tok', 'fashion', 'outfits', 'ideas', 'pinterest', 'twigs', 'style', 'icon', 'fkatwigs', 'moodboard', 'pinterestmoodboard']"
                    ],
                    [
                      "['hunger', 'games:', 'ballad', 'songbirds', '&', 'snakes', 'hunger', 'game', 'ballad', 'songbirds', 'snakes', 'lucy', 'gray', 'hunger', 'games', 'hunger', 'games', 'lucy', 'gray', 'katniss', 'everdeen', 'snow', 'lucy', 'gray', 'hunger', 'games', 'ballad', 'songbirds', 'lucy', 'gray', 'baird', '|', 'hunger', 'games', 'oh', 'money', 'would', 'pay', 'see', 'snows', 'reaction', 'katniss', 'volunteering', 'tbosas', 'theballadofsongbirdsandsnakes', 'hungergames', 'thehungergames']"
                    ],
                    [
                      "['scott', 'pilgrim', 'scott', 'pilgrim', 'comic', 'ending', 'explained', 'scott', 'pilgrim', 'ending', 'scottpilgrimtakesoff', 'novel', 'scott', 'pilgrim', 'scott', 'pilgrim', 'comic', 'scott', 'pilgrim', 'villain', 'scott', 'pilgrim', 'takes', 'ending', 'scott', 'pilgrim', 'vs', 'world', 'scott', 'pilgrim', 'novel', 'ending', 'anime', 'really', 'made', 'novel', 'scott', 'villan', 'really', 'diffed', 'evil', 'exes', 'anime', 'scott', 'ramona', 'sscottpilgrimsscottpilgrimvstheworldsscottpilgrimanimesscottpilgrimtakesoff']"
                    ],
                    [
                      "['someone', 'gets', 'hurt', 'someone', 'gets', 'hurt', 'mean', 'girls', 'someone', 'gets', 'hurt', 'renee', 'rapp', 'mean', 'girls', 'musical', 'world', 'burn', 'mean', 'girls', 'renee', 'rapp', 'mean', 'girls', 'someone', 'gets', 'hurt', 'reprise', 'renee', 'rapp', 'world', 'burn', 'renee', 'rapp', 'mean', 'girls', 'replying', 'mm', 'regina', 'regina', 'regina', 'amazing', 'talent', 'artistree', 'performing', 'arts', 'high', 'school', 'mean', 'girls', 'someone', 'gets', 'hurt']"
                    ],
                    [
                      "['kate', 'rockwell', 'mean', 'girls', 'mean', 'girls', 'musical', 'karl', 'marx', 'renee', 'rapp', 'mean', 'girls', 'avantika', 'mean', 'girls', 'mean', 'girls', 'broadway', 'mean', 'girls', 'kate', 'rockwell', 'controversy', 'avantika', 'song', 'mean', 'girls', 'karen', 'mean', 'girls', 'big', 'thank', 'kate', 'rockwell', 'taking', 'time', 'come', 'talk', 'amazing', 'cast', 'help', 'one', 'karen', 'another', 'love', 'amazing', 'talent', 'artistree', 'performing', 'arts', 'high', 'school', 'mean', 'girls', 'sexy', 'kate', 'rockwell']"
                    ],
                    [
                      "['definitely', 'best', 'form', 'halloween', 'always', 'favorite', 'holiday', 'grwm', 'halloweenmakeup']"
                    ],
                    [
                      "['dog']"
                    ],
                    [
                      "['south', 'africa', 'apart', 'heid', 'white', 'south', 'africans', 'south', 'africa', 'africa', 'south', 'african', 'aparth', 'south', 'africa', 'tiktok', 'cape', 'town', 'south', 'africa', 'durban', 'south', 'africa', 'vanderbijlpark', 'south', 'africa', 'white', 'south', 'africans', 'israel', 'replying', 'lando', 'guess', 'many', 'white', 'south', 'africans', 'immigrated', 'apartheid', 'ended']"
                    ],
                    [
                      "['minutes', 'eren', 'erens', 'death', 'aot', 'eren', 'yeager', 'eren', 'deaths', 'scene', 'eren', 'funeral', 'attack', 'titan', 'cabin', 'eren', 'aot', 'ending', 'eren', 'yeager', 'edit', 'aot', 'final', 'episode', 'rip', 'husband', 'nothing', 'wrong', 'eren', 'erenjaeger', 'erenyeager', 'erenjaegersupremacy', 'erenyeagersupremacy', 'manbuneren', 'manbunerensupremacy', 'erenyaeger', 'erenjeager', 'erenjaegermemorial', 'erenjaegerfuneral', 'seasoneren', 'aotfinale', 'attackontitanfinalseason', 'shingekinokyojinfinalseason', 'attackontitanseason', 'shingekinokyojinseason', 'attackontitan', 'shingekinokyojin', 'aot', 'snk', 'anime', 'manga', 'erensbarbie', 'erenjaegerslovebot']"
                    ],
                    [
                      "['skincare', 'oiling', 'scalp', 'skincare', 'tiktok', 'skincare', 'pores', 'severe', 'plaque', 'psoriasis', 'questions', 'answer', 'best', 'ability', 'endlessjourney', 'skincare', 'psoriasisawareness', 'psoriasistok', 'psoriasisjourney', 'homeremedies', 'helpme']"
                    ],
                    [
                      "['attack', 'titan', 'attack', 'titan', 'attack', 'titan', 'edit', 'jean', 'titan', 'form', 'erens', 'attack', 'titan', 'levi', 'ackerman', 'attack', 'titan', 'edit', 'eren', 'jean', 'titan', 'eren', 'yeager', 'armin', 'niche', 'anime', 'attackontitan', 'aot']"
                    ],
                    [
                      "['emma', 'ganzarain', 'redecorating', 'boyfriend', 'apartment', 'emma', 'g', 'living', 'room', 'redesign', 'boyfriend', 'redecorating', 'boyfriend', 'apartment', 'redesign', 'bf', 'apartment', 'emma', 'ganzarain', 'apartment', 'living', 'room', 'girlfriend', 'living', 'room', 'redesign', 'girlfriend', 'redoing', \"boyfriend's\", 'apartment', 'gf', 'redesign', 'living', 'room', 'ex', 'id', 'cackling', 'also', 'want', 'stuff', 'back', 'design', 'livingroom', 'beige', 'redflag', 'ex']"
                    ],
                    [
                      "['pumpkin', 'head', 'pumpkin', 'head', 'trend', 'pumpkin', 'head', 'tutorial', 'generate', 'ai', 'image', 'diy', 'pumpkin', 'head', 'dog', 'ghost', 'costume', 'pumpkin', 'head', 'costume', 'hand', 'pumpkin', 'trend', 'hand', 'pumpkin', 'video', 'trend', 'halloween', 'pumpkin', 'way', 'sticking', 'head', 'pumpkin', 'pumpkinheadchallenge', 'pumpkinheadphotoshoot', 'generativeai', 'photoshopai', 'ghostdogchallenge', 'ghostphotoshoot', 'ai']"
                    ],
                    [
                      "['april', 'fools', 'prank', 'bye', 'blonde', 'hair', 'hello', 'brown', 'hair', 'greenscreenvideo']"
                    ],
                    [
                      "['trynna', 'survive', 'cali', 'watermella']"
                    ],
                    [
                      "['toy', 'chica', 'love', 'taste', 'chica', 'wanna', 'show', 'toy', 'chica', 'edit', 'chica', 'fnaf', 'chica', 'love', 'taste', 'fnaf', 'edits', 'glamrock', 'chica', 'funtime', 'chica', 'wanna', 'show', 'u', 'toychica', 'tbsxobrien', 'fnaf']"
                    ],
                    [
                      "['sabrina', 'carpenter', 'eyebrows', 'sabrina', 'carpenter', 'bushy', 'eyebrows', 'sabrina', 'carpenter', 'makeup', 'eyebrows', 'filter', 'thin', 'eyebrows', 'filter', 'thin', 'eyebrow', 'thicker', 'eyebrows', 'filter', 'eyebrows', 'sabrina', 'carpenter', 'thin', 'eyebrows', 'thank', 'u', 'mom', 'making', 'love', 'caterpillers', 'eyes']"
                    ],
                    [
                      "['college', 'uni', 'diwali', 'deepavali', 'desi', 'brown', 'indian', 'india', 'university']"
                    ],
                    [
                      "['priscilla', 'movie', 'priscilla', 'priscilla', 'presley', 'priscilla', 'moviegun', 'outfit', 'elvis', 'presley', 'priscilla', 'pool', 'scene', 'priscilla', 'chair', 'scene', 'know', 'like', 'priscilla', 'sofia', 'coppola', 'jacob', 'elordi', 'movie', 'deeply', 'hurt', 'priscilla']"
                    ],
                    [
                      "['ballet', 'jumping', 'without', 'bending', 'knees', 'jump', 'without', 'bending', 'knees', 'ballet', 'videos', 'ballerinas', 'ballet', 'performance', 'plie', 'ballet', 'jump', 'style', 'professional', 'ballerina', 'ballerina', 'leap', 'take', 'away', 'pliè', 'ballet', 'things', 'get', 'little', 'scary', 'master', 'ballet', 'academy', 'ballet', 'ballerinas', 'jumping', 'jump', 'jumpchallenge']"
                    ],
                    [
                      "['priscilla', 'movie', 'priscilla', 'presley', 'elvis', 'priscilla', 'elvis', 'presley', 'priscilla', 'elvis', 'priscilla', 'age', 'gap', 'jackie', 'rowland', 'graceland', 'elvis', 'presley', 'elvis', 'movie', 'jacob', 'elordi', 'elvis', 'replying', 'christina', 'gibson', 'greenscreen', 'elvis', 'soo', 'many', 'enablers', 'around', 'every', 'opportunity', 'priscilla', 'would', 'question', 'seems', 'like', 'someone', 'payroll', 'normalizing', 'behavior', 'priscillapresley', 'elvis', 'elvisandme']"
                    ],
                    [
                      "['yeah', 'mnews', 'disney', 'disney', 'pixar', 'animation', 'insideout', 'insideout']"
                    ],
                    [
                      "['dance', 'dancers', 'behind', 'scenes', 'man', 'danced', 'rasputin', 'dance', 'dance', 'behind', 'scenes', 'rasputin', 'dance', 'behind', 'scenes', 'dance', 'lore', 'dance', 'dance', 'central', 'life', 'dancer', 'coach', 'dance', 'love', 'baby', 'dancers', 'real', 'people', 'justdance']"
                    ],
                    [
                      "['elvis', 'presley', 'creepy', 'elvis', 'presley', 'priscilla', 'presley', 'priscilla', 'movie', 'priscilla', 'elvis', 'presley', 'priscilla', 'elvis', 'presley', 'mom', 'elvis', 'priscilla', 'elvis', 'mom', 'elvis', 'presley', 'movie', 'elvis', 'elvispresley', 'priscilla', 'priscillapresley', 'creepy', 'truecrime']"
                    ],
                    [
                      "['priscilla', 'movie', 'priscilla', 'presley', 'jacob', 'elordi', 'elvis', 'presley', 'priscilla', 'priscilla', 'movie', 'watch', 'jacob', 'elordi', 'elvis', 'elvis', 'priscilla', 'priscilla', 'movie', 'edit', 'priscilla', 'watching', 'priscilla', 'movie', 'priscillamovie', 'playing', 'everywhere']"
                    ],
                    [
                      "['know', 'know', 'elvis', 'elvismovie', 'elvismovieedit', 'elvis', 'elvispresley', 'elvispresleyedit', 'priscilla', 'priscillapresley', 'priscillapresleyedit', 'oliviadejonge', 'austinbutler', 'austinbutlerelvis']"
                    ],
                    [
                      "['priscilla', 'movie', 'priscilla', 'presley', 'lana', 'del', 'rey', 'priscilla', 'cailee', 'spaeny', 'priscilla', 'movie', 'lana', 'del', 'rey', 'priscilla', 'presley', 'movie', 'marie', 'antoinette', 'movie', 'priscilla', 'presley', 'makeup', 'marie', 'antoinette', 'replying', 'priscillamovie', 'lanadelrey', 'lanacult', 'priscillapresley']"
                    ],
                    [
                      "['dont', 'big', 'creator', 'support', 'freepalestine', 'freepalestine', 'freepalestine', 'palestine', 'gaza', 'freegaza', 'abcxyz', 'zyxcba', 'bst', 'filter']"
                    ],
                    [
                      "['iain', 'armitage', 'us', 'alex', 'edelman', 'broadway', 'theatre', 'us', 'comedy', 'theatre', 'broadway', 'musical', 'theatre', 'broadway', 'tiktok', 'musical', 'theatre', 'performing', 'broadway', 'broadway', 'musicals', 'younger', 'one', 'favorite', 'things', 'review', 'theatre', 'havent', 'done', 'pandemic', 'happened', 'got', 'groove', 'still', 'love', 'seeing', 'shows', 'go', 'whenever', 'havent', 'done', 'reviews', 'recently', 'ive', 'bever', 'posted', 'review', 'tiktok', 'even', 'work', 'dont', 'know', 'well', 'changed', 'week', 'emergency', 'review', 'terrific', 'show', 'closong', 'soon', 'cab', 'get', 'ny', 'go', 'see', 'italex', 'edelman', 'theatre', 'broadway', 'standupcomedy', 'alexedelmanjustforus']"
                    ],
                    [
                      "['bushy', 'eyebrows', 'bushy', 'eyebrows', 'make', 'look', 'like', 'old', 'man', 'bushy', 'eyebrows', 'old', 'man', 'original', 'eyebrows', 'filter', 'realising', 'bushy', 'eyebrows', 'original', 'bushy', 'eyebrows', 'make', 'look', 'like', 'old', 'man', 'original', 'bushy', 'eyebrows', 'original', 'bushy', 'eyebrows', 'old', 'man', 'sparse', 'eyebrows', 'thin', 'eyebrows', 'filter', 'parody']"
                    ],
                    [
                      "['im', 'officially', 'alive', 'release', 'new', 'beatles', 'song', 'thebeatles', 'relatable', 'romanempire', 'nowandthen', 'paulmccartney', 'johnlennon', 'georgeharrison', 'ringostarr']"
                    ],
                    [
                      "['alec', 'baldwin', 'baldwin', 'accusations', 'alec', 'baldwin', 'hailey', 'baldwin', 'alec', 'baldwin', 'wife', 'alec', 'baldwin', 'hilaria', 'baldwin', 'cucumbers', 'hilaria', 'thomas', 'baldwin', 'paparazzi', 'baldwin', 'family', 'speaking', 'fake', 'language', 'public', 'hilaria', 'baldwin', 'responds', 'paparazzi', 'husband', 'alec', 'baldwin', 'charged', 'involuntary', 'manslaughter', 'fatal', 'rust', 'shooting', 'rust', 'hilariabaldwin', 'alecbaldwin', 'apnews']"
                    ],
                    [
                      "['yurilamasbella', 'kim', 'kardashian', 'kylie', 'jenner', 'ooouuu', 'kardashian', 'impression', 'kylie', 'jenner', 'fashion', 'week', 'kardashian', 'kylie', 'khloe', 'kardashian', 'nails', 'kylie', 'jenner', 'kylie', 'jenner', 'lion', 'head', 'dress', 'kylie', 'jenner', 'lion', 'dress', 'kyliejenner', 'fashionweek', 'kyliejennerlion', 'parisfashionweek']"
                    ],
                    [
                      "['wrote', 'guilty', 'childhood', 'bedroom', 'peak', 'taemin', 'ate', 'taemin', 'taeminshinee', 'kpop', 'songwriter']"
                    ],
                    [
                      "['keith', 'lee', 'keith', 'lee', 'atlanta', 'cardi', 'b', 'keith', 'lee', 'atlanta', 'restaurants', 'keith', 'lee', 'atlanta', 'food', 'real', 'milk', 'honey', 'milk', 'honey', 'real', 'milk', 'honey', 'atlanta', 'atl', 'restaurants', 'cardi', 'b', 'replying', 'elio', 'mauricio', 'greenscreenvideo', 'cardi', 'b', 'agrees', 'keith', 'lee', 'cardib', 'atlrestaurants', 'keithleereviews', 'foodreviews', 'keithlee']"
                    ],
                    [
                      "['greenscreen', 'hate', 'keith', 'lee', 'coming', 'atlanta', 'crazy', 'keithlee', 'foodreview', 'atlanta', 'reaction', 'shame']"
                    ],
                    [
                      "['keith', 'lee', 'real', 'milk', 'honey', 'therealmilkandhoney', 'keith', 'lee', 'atlanta', 'cardi', 'b', 'keith', 'lee', 'real', 'milk', 'honey', 'atlanta', 'milk', 'honey', 'keith', 'lee', 'parking', 'lot', 'keith', 'lee', 'atlanta', 'food', 'keith', 'lee', 'milk', 'honey', 'review', 'atlanta', 'food', 'tour', 'recap', 'would', 'try', 'foodcritic']"
                    ],
                    [
                      "['chixciclub', 'crater', 'farmers', 'finding', 'dinosaur', 'bones', 'stromatolite', 'fossil', 'dinosaurs', 'oldest', 'fossil', 'discovered', 'dinosaur', 'fossils', 'dinosaur', 'extinction', 'fossil', 'dinosaur', 'tiktok', 'asteroid', 'dinosaurs', 'replying', 'alexis', 'well', 'go', 'paleopedia', 'dinosaur', 'dinotok', 'fossil', 'fossiltok', 'paleontology', 'evolution']"
                    ],
                    [
                      "['happy', 'halloween', 'guyssss', 'homelessant', 'homelessantmeme', 'halloween', 'halloween', 'antmeme']"
                    ],
                    [
                      "['halloween']"
                    ],
                    [
                      "['obama', 'instagram', 'post', 'malik', 'obama', 'palestine', 'obama', 'israel', 'obama', 'palestine', 'post', 'shut', 'obama', 'malia', 'obama', 'palestine', 'post', 'obama', 'instagram', 'palestine', 'obama', 'instagram', 'obama', 'war', 'criminal', 'obama', 'war', 'crimes', 'refuse', 'believe', 'man', 'shut', 'mouse', 'obamaaa', 'freepalestine', 'shocking', 'news', 'viral', 'presidentobama', 'palestine']"
                    ],
                    [
                      "['obama', 'palestine', 'gaza', 'muslim', 'israel', 'news', 'barackobama']"
                    ],
                    [
                      "['crazy', 'see', 'sun', 'longer', 'everyone', 'else', 'city', 'nyc', 'sunset', 'penthouse', 'luxuryliving', 'hudsonyards', 'manhattan', 'newyorkcity']"
                    ],
                    [
                      "['horror', 'movie', 'horrormovie', 'chuckecheese', 'animatronic', 'actor', 'actress', 'halloween', 'meme']"
                    ],
                    [
                      "['kid', 'fsvorite', 'holiday', 'happened', 'halloween', 'halloween']"
                    ],
                    [
                      "['fnaf', 'fnaf', 'ending', 'scene', 'fnaf', 'red', 'scene', 'fnaf', 'gameplay', 'fnaf', 'ending', 'scene', 'bad', 'fnaf', 'lore', 'explained', 'fnaf', 'movie', 'fnaf', 'explained', 'fnaf', 'sister', 'location', 'nightmare', 'fnaf', 'greenscreen', 'still', 'never', 'finished', 'one', 'idk', 'ends', 'never', 'watched', 'playthrough', 'hate', 'fnaf', 'fivenightsatfreddys', 'fnafmovie', 'nightmare']"
                    ],
                    [
                      "['namjoon', 'looks', 'like', 'cutie', 'patootie', 'one', 'photo', 'kpop', 'twicepinkvelvet', 'lisa', 'chaeyoung', 'momo', 'sana', 'trending', 'hair', 'badhairday', 'goofy', 'boa', 'snsd', 'hyoyeon', 'namjoon', 'bts', 'itzy', 'yeji', 'gidle', 'yuqi', 'minnie', 'exo', 'bigbang', 'gdragon', 'stayc', 'yoon']"
                    ],
                    [
                      "['cant', 'stop', 'fnaf', 'fivenightsatfreddy', 'joshhutcherson', 'fnafmovie']"
                    ],
                    [
                      "['embarrassment', 'era', 'chaesnumberone', 'viral', 'jessi', 'jessikpop', 'jessigum', 'kpop']"
                    ],
                    [
                      "['vladimir', 'putin', 'dead', 'vvladimirputinpputinpputindeadpuputinrarmedforcesofukraineawarinukraineurussianinvasionkukrainewarusupportukrainetstandwithukraineлславаукраїніегероямславаkukrainewillwinhkhersonymykolaivodonheskuluhanskazaporizhzhiaabakhmutkukraine']"
                    ],
                    [
                      "['germany', 'palestine', 'israel', 'refugeetraveldocument']"
                    ],
                    [
                      "['marcello', 'hernandez', 'marcellohdz', \"mother's\", 'day', \"mother's\", 'day', 'speech', 'happy', \"mother's\", 'day', 'mothers', 'day', 'funny', 'kid', 'president', 'mothers', 'day', 'humor', \"mother's\", 'day', 'card', \"mother's\", 'day', 'gift', 'reaction', 'tag', 'mama', 'parati']"
                    ],
                    [
                      "['marcello', 'hernandez', 'world', 'cup', 'soccer', 'world', 'cup', 'worldcup', 'football', 'world', 'cup', 'matches', 'world', 'cup', 'fans', 'world', 'cup', 'football', 'competition', 'world', 'cup', 'funny', 'world', 'cup', 'moments', 'spanish', 'commentary', 'world', 'cup', 'latin', 'world', 'cup', 'watchers', 'something', 'else', 'ad', 'mcdonalds']"
                    ],
                    [
                      "['marcello', 'hernandez', 'kenanthompson', 'sketching', 'sketch', 'drawing', 'sketch', 'art', 'snl', 'keenan', 'thompson', 'drawing', 'people', 'sketch', 'drawing', 'saturday', 'night', 'live', '-', 'snl', 'sketch', 'funny', 'moments', 'first', 'sketch', 'w', 'big', 'bro', 'kenan', 'thompson', 'saturday', 'night', 'live', 'snl']"
                    ],
                    [
                      "['cma', 'awards', 'music', 'katy', 'perry', 'thomas', 'rhett', 'unforgettable', 'thomas', 'rhett', 'country', 'singer', 'country', 'music', 'people', 'singing', 'country', 'songs', 'public', 'country', 'concert', 'country', 'music', 'songs', 'started', 'thomas', 'rhett', 'country', 'girls', 'unforgettable', 'thank', 'welcoming', 'community', 'thomasrhett', 'country', 'music', 'association']"
                    ],
                    [
                      "['conversationpoetry', 'poetry', 'writing', 'originalwriting', 'women']"
                    ],
                    [
                      "['mint', 'yoongi', 'wonbin', 'wonbin', 'riize', 'ty', 'kpop', 'chuu', 'kpop', 'idols', 'bts', '-', 'suga', 'yoongi', 'hands', 'long', 'hair', 'yoongi', 'kpop', 'stickers', 'replying', '태', 'get', 'time', 'still', 'get', 'shoutout', 'lemme', 'know', 'kpop', 'yoongi', 'chuu', 'wonbin']"
                    ],
                    [
                      "['know', 'im', 'gonna', 'get', 'yall', 'havent', 'gotten', 'got', 'yet', 'kpop', 'tomorrow_x_together', 'lesserafim']"
                    ],
                    [
                      "['woody', 'allen', 'woody', 'allen', 'movies', 'woody', 'allen', 'woody', 'allen', 'controversy', 'mia', 'farrow', 'manhattan', 'woody', 'allen', 'woody', 'allen', 'stepdaughter', 'woody', 'allen', 'wife', 'woody', 'allen', 'selena', 'gomez', 'woody', 'allen', 'toystory', 'woodyallen']"
                    ],
                    [
                      "['lathe', 'look', 'stunning', 'khloe', 'really', 'showed', 'kimkardashian', 'kardashian', 'kourt', 'kourtneykardashian', 'kourtneyandtravis', 'kourtneykardashianoutfits', 'kourtneykardashianwedding', 'kourtneyandtravismarried', 'kourtneyandtraviswedding', 'khloe', 'khloekardashian', 'khloekardashianedit', 'khloeandtristan', 'khloekardashiansnewface', 'khloekardashianoutfits', 'thekardashians', 'entertainmentnews', 'entertainment', 'celebritynews']"
                    ],
                    [
                      "['constance', 'wu', 'israel', 'constance', 'wu', 'constance', 'wu', 'palestine', 'life', 'occupied', 'palestine', 'anna', 'baltzer', 'constance', 'wu', 'zionist', 'israel', 'kamakawiwoʻole', 'sea', 'boundary', 'palestine', 'thailand', 'support', 'palestine', 'war', 'gave', 'us', 'freedom', 'war', 'stripped', 'palestinians', 'freedom', 'asian', 'nyc', 'abg', 'abb', 'chooseyourasian']"
                    ],
                    [
                      "['finally', 'get', 'round', 'lemme', 'know', 'kpop', 'kpopmemes', 'hiraimomo', 'bangchan']"
                    ],
                    [
                      "['mine', 'kanye', 'west', 'taemin', 'mine', 'kanye', 'rizzness', 'taemin', 'taemin', 'guilty', 'taemin', 'rizz', 'rizzness', 'taemin', 'mine', 'kanye', 'taemin', 'kpop', 'kpop', 'song', 'insane', 'sajheartstae', 'kpop', 'xybca', 'taemin']"
                    ],
                    [
                      "['rizzness', 'kpop', 'bts', 'army', 'straykids', 'blackpink']"
                    ],
                    [
                      "['bite', 'matpat', 'scott', 'bonnie', 'nightmare', 'bite', 'mangle', 'bite', 'mangle', 'fnaf', 'fnaf', 'quiz', 'fnaf', 'lore', 'matpat', 'fnaf', 'lore', 'fnaf', 'tried', 'best', 'fnaf']"
                    ],
                    [
                      "['im', 'literally', 'seesaw', 'girl', 'like', 'one', 'love', 'song', 'kpop', 'suga', 'bts', 'btsarmy', 'relatable']"
                    ],
                    [
                      "['music', 'ends', 'right', 'laughing', 'pets', 'seventeen', 'albumunboxing', 'kpop', 'scoups', 'seventeenth_heaven']"
                    ],
                    [
                      "['knew', 'good', 'music', 'served', 'skz', 'straykids', 'skzcomeback', 'disneythenandnow', 'kpop']"
                    ],
                    [
                      "['weeknd', 'palestine', 'sza', 'palestine', 'paris', 'hilton', 'palestine', 'cristiano', 'ronaldo', 'palestine', 'dylan', \"o'brien\", 'palestine', 'michael', 'b', 'jordan', 'palestine', 'sza', 'albert', 'einstein', 'palestine', 'damian', 'lillard', 'palestine', 'cristiano', 'support', 'palestine', 'freepalestine', 'plm', 'palestinianlifesmatters', 'gazaunderattack', 'stopisrael', 'viral']"
                    ],
                    [
                      "['keith', 'lee', 'real', 'milk', 'honey', 'therealmilkandhoney', 'keith', 'lee', 'atlanta', 'real', 'milk', 'honey', 'atlanta', 'milk', 'honey', 'real', 'milk', 'honey', 'atl', 'real', 'milk', 'honey', 'atlanta', 'keith', 'keith', 'lee', 'atlanta', 'food', 'atlanta', 'restaurants', 'greenscreen', 'keithlee', 'atlanta', 'customerservice']"
                    ],
                    [
                      "['switch', 'main', 'dancer', 'best', 'dancer', 'unclear', 'main', 'actually', 'also', 'according', 'google', 'hyuna', 'best', 'dancer', 'kpop', 'lesserafim', 'kazuha', 'momo', 'twice', 'gaeul', 'ive', 'aespa', 'karina', 'itzy', 'chaeryeong', 'gidle', 'yuqi', 'redvelvet', 'seulgi', 'wheein', 'mamamoo', 'nmixx', 'kyujin', 'sua', 'dreamcatcher', 'snsd', 'hyo', 'hyoyeon', 'girlsgeneration', 'haerin', 'newjeans', 'hyuna']"
                    ],
                    [
                      "['dont', 'forget', 'ask', 'every', 'redneck', 'condemned', 'yesterdays', 'shooter', 'maine']"
                    ],
                    [
                      "['kyrell', 'kpop', 'kyrell', 'kyrell', 'ampersandone', 'ampersand', 'one', 'kpop', 'kpop', 'fyp', 'kpop', 'idols', 'k-pop', 'vocals', 'k-pop', 'moments', 'lady', 'kpop', 'group', 'thats', 'actually', 'crazy', 'thought', 'trippin', 'greenscreen', 'ampersandone']"
                    ],
                    [
                      "['scary', 'accused', 'witchcraft']"
                    ],
                    [
                      "['miltok', 'military', 'usmc', 'marines', 'army', 'navy', 'airforce', 'viral', 'zyxcba']"
                    ],
                    [
                      "['end', 'sitting', 'floor', 'itzy', 'yuna', 'itzyyuna', 'kpop', 'kpopggs', 'midzy']"
                    ],
                    [
                      "['candy', 'bara', 'costume', 'halloweekend', 'halloween', 'transitions', 'halloween', 'costume', 'halloween', 'costume', 'halloween', 'weekend', 'candy', 'bracelet', 'costume', 'halloween', 'audios', 'costume', 'halloween', 'cosplay', 'im', 'girl', 'halloween', 'halloweekend']"
                    ],
                    [
                      "['viral', 'txt', 'tomorrow_x_together', 'tiktok', 'kpop', 'fanpage']"
                    ],
                    [
                      "['en', 'pointe', 'uggs', 'nutcracker', 'ballerina', 'ballet', 'dancersoftiktok', 'dancer', 'balletdancer', 'ballettok', 'balletflex', 'uggs', 'dmv']"
                    ],
                    [
                      "['boooooooo', 'halloween']"
                    ],
                    [
                      "['yeva', 'ukrainian', 'girl', 'ukraine', 'palestine', 'seeing', 'news', 'israel', 'ukraine', 'ukraine', 'support', 'israel', 'ukraine', 'palestine', 'ukrainian', 'palestinian', 'yeva', 'palestine', 'sea', 'boundary', 'palestine', 'palestine', 'hoodie', 'defend', 'land', 'holubtsi', 'kinda']"
                    ],
                    [
                      "['crowd', 'loud', 'insanee', 'itzy', 'kpop']"
                    ],
                    [
                      "['got', 'th', 'century', 'americana', 'going', 'americangirldolls', 'americangirl', 'girl', 'doll', 'halloween', 'halloweencostumes', 'costume', 'barbie']"
                    ],
                    [
                      "['genderless', 'nonbinary', 'halloween', 'costume', 'idea', 'halloween', 'halloweeninspo', 'halloweencostume']"
                    ],
                    [
                      "['please', 'destroy', 'def', 'jam', 'comedy', 'matt', 'rife', 'taylor', 'swift', 'snl', 'young', 'pete', 'davidson', 'snl', 'peter', \"davidson's\", 'snl', 'pete', 'davidson', 'princes', 'comedy', 'pete', 'davidson', 'comedy', 'please', 'dont', 'destroy', 'original', 'princes', 'comedy']"
                    ],
                    [
                      "['thats', 'pres', 'joebiden', 'says', 'asked', 'travelers', 'continue', 'wear', 'masks', 'airplanes', 'federal', 'mask', 'mandate', 'overturned', 'news', 'covid']"
                    ],
                    [
                      "['joe', 'biden', 'speaks', 'cotton', 'picking', 'biden', 'gibberish', 'joe', 'biden', 'announces', 'cotton', 'picking', 'job', 'airplane', 'biden', 'dementia', 'airplane', 'tiktok', 'videos', 'joe', 'biden', 'air', 'force', 'one', 'president', 'head', 'statue', 'plane', 'moving', 'airplane', 'flying', 'videos', 'biden', 'breakingnews', 'joebiden', 'president', 'airforce', 'plane', 'airplane', 'interview', 'trouble', 'dementia', 'trending']"
                    ],
                    [
                      "['lot', 'change', 'years', 'politics', 'biden', 'trump', 'leftist', 'genocidejoe', 'drewparkerk']"
                    ],
                    [
                      "['anybody', 'help', 'us', 'original', 'video', 'anybody', 'help', 'us', 'israel', 'original', 'video', 'anybody', 'help', 'us', 'cry', 'muslim', 'tiktok', 'muslim', 'negev', 'desert', 'israel', 'israel', 'kamakawiwoʻole', 'sea', 'boundary', 'palestine', 'israel', 'music', 'festival', 'inshallah', 'free', 'palstine', 'muslimtiktok', 'muslim', 'freepalestine', 'freepalestine', 'israel', 'gaza', 'tiktok']"
                    ],
                    [
                      "['israeli', 'influencer', 'gluten', 'free', 'israel', 'israeli', 'influencers', 'new', 'jeans', 'gluten', 'free', 'bread', 'israel', 'new', 'jeans', 'israel', 'israeli', 'influencer', 'gluten', 'bread', 'gluten', 'free', 'cookies', 'israel', 'influencers', 'israeli', 'hummus', 'oven', 'palestine', 'israeli', 'influencers', 'truly', 'revealing', 'propaganda', 'country', 'puts', 'scared', 'lives', 'serious', 'palestine', 'freepalestine']"
                    ],
                    [
                      "['amy', 'schumer', 'okay', 'amyschumer', 'israel', 'hamas', 'palestine', 'celebrity', 'popculture', 'popculturenews', 'activism', 'socialmedia']"
                    ],
                    [
                      "['sinister', 'movie', 'sinister', 'host', 'horror', 'movie', 'host', 'movie', 'talk', 'movie', 'host', 'hell', 'house', 'llc', 'descent', 'talk', 'smile', 'movie', 'movies']"
                    ],
                    [
                      "['kim', 'kardashian', 'kanye', 'west', 'songs', 'kanye', 'west', 'funny', 'moments', 'kanye', 'west', 'american', 'rapper', 'kanye', 'funny', 'moments', 'kanye', 'west', 'funny', 'kanye', 'west', 'plane', 'kanye', 'moments', 'kardashian', 'kanye', 'west', 'stare', 'north', 'love', 'dad', 'kanyewestlover', 'kanyewest', 'northwest', 'kimkardashian', 'hiphop', 'rap']"
                    ],
                    [
                      "['cheshire', 'cat', 'costume', 'alice', 'wonderland', 'costume', 'cheshirecat', 'pinterest', 'costume', 'halloween', 'costume', 'mad', 'hatter', 'costume', 'cheshire', 'cat', 'halloween', 'costume', 'idea', 'alice', 'wonderland', 'halloween', 'costume', 'halloween', 'transition', 'wheres', 'shirt', 'halloween', 'costumeideas', 'cheshirecat', 'aliceinwonderland', 'pinterestfamous']"
                    ],
                    [
                      "['halloween', 'day', 'girlie', 'pops', 'wheres', 'supersuit', 'halloween']"
                    ],
                    [
                      "['round', 'call', 'time', 'kpop', 'kpopmemes', 'jungkook', 'nctmark']"
                    ],
                    [
                      "['victoria', 'beckham', 'david', 'beckham', 'victoria', 'beckham', 'engagement', 'rings', 'victoria', 'beckham', 'david', 'beckham', 'victoria', 'beckham', 'david', 'victoria', 'beckham', 'david', 'beckham', 'wife', 'beckhams', 'victoria', 'beckham', 'wedding', 'dress', 'victoria', 'beckham', 'young', 'replying', 'mitchie', 'agreed', 'victoriabeckham', 'davidbeckham', 'blokecore', 'englishicons', 'becks']"
                    ],
                    [
                      "['dinosaurs', 'spinosaurus', 'sounds', 'rex', 'scientifically', 'accurate', 'scariest', 'dinosaur', 'roars', 'dinosaurs', 'scientifically', 'dinosaurs', 'scientifically', 'look', 'like', 'trex', 'actually', 'sounds', 'like', 'trex', 'real', 'sound', 'dinosaur', 'sounds', 'dinosaur', 'scientificlyaccurate', 'trex', 'creepy']"
                    ],
                    [
                      "['dinosaurs', 'triceratops', 'dinosaur', 'tiktok', 'real', 'dinosaur', 'accurate', 'dinosaurs', 'depiction', 'jurassic', 'world', 'meat', 'snacks', 'scientifically', 'accurate', 'dinosaur', 'dinosaurs', 'caught', 'camera', 'dinosaurs', 'scientifically', 'replying', 'miltredconure', 'meat', 'eating', 'ceratopsians', 'dinotok', 'dinosaur', 'accuratedinosaurs', 'edutok', 'learnontiktok', 'paleontology', 'jurassicworld', 'triceratops']"
                    ],
                    [
                      "['late', 'treand', 'wtvr', 'asian', 'viral', 'kpop', 'dontletthisflop', 'txtmoa', 'txt', 'relatable', 'grrwolfganggrahh']"
                    ],
                    [
                      "['perfect', 'nighthas', 'revived', 'lesserafim', 'lesserafimedit', 'kazuha', 'kazuhaedit', 'sakura', 'sakuraedit', 'perfectnight', 'kpop', 'hrtine', 'hrtsrfm', 'zzuzzhas']"
                    ],
                    [
                      "['tiger', 'balm', 'make', 'noise', 'yall', 'redd', 'eagle', 'oil', 'vietnamese', 'eagle', 'oil', 'halloween', 'costume', 'halloween', 'transitions', 'halloween', 'makeup', 'halloween', 'costume', 'ideas', 'costumes', 'costumes', 'halloween', 'make', 'noise', 'dad', 'brother', 'helped', 'years', 'costume', 'vietnamese', 'viet', 'diycostume', 'halloween', 'eagleoil']"
                    ],
                    [
                      "['creativealternative', 'ways', 'serve', 'cnt', 'halloween', 'halloweencostumeideas', 'halloween', 'costumeideas', 'creativehalloweencostumes', 'funnycostumes']"
                    ],
                    [
                      "['halloween', 'halloweencostume', 'paintgrandpa']"
                    ],
                    [
                      "['dont', 'know', 'little', 'dance', 'halloween', 'littleredridinghood']"
                    ],
                    [
                      "['im', 'alive', 'rnnnn', 'wtfff', 'someone', 'restrain', 'meeh', 'lesserafim', 'chaewon', 'yunjin', 'sakura', 'kpop']"
                    ],
                    [
                      "['watch', 'whole', 'thing', 'enhypen', 'engene', 'kpop', 'kpopchoreo', 'chaconne', 'enhypen']"
                    ],
                    [
                      "['jester', 'long', 'mouth', 'trick', 'treating', 'halloween', 'gon', 'get', 'original', 'video', 'gon', 'get', 'jester', 'amanda', 'adventurer', 'halloween', 'candy', 'decoration', 'halloween', 'tiktoks', 'decoration', 'halloween', 'yall', 'knowww', 'im', 'talking', 'viral', 'halloween', 'horrortok', 'trickortreat', 'scary']"
                    ],
                    [
                      "['travis', 'kelce', 'taylor', 'swift', 'travis', 'kelce', 'taylor', 'swift', 'costume', 'travis', 'kelce', 'halloween', 'costume', 'taylor', 'travis', 'taylor', 'swift', 'couple', 'halloween', 'costume', 'louisa', 'melcher', 'lying', 'louisa', 'melcher', 'halloween', 'costume', 'ideas', 'told', 'felt', 'left', 'told', 'go', 'joe', 'alwyn', 'donna', 'kelce', 'travis', 'mom', 'halloween', 'couplescostume', 'traviskelce', 'taylorswift', 'joealwyn']"
                    ],
                    [
                      "['dont', 'even', 'halloween', 'plans', 'lol', 'halloweencostumes', 'halloween', 'halloweenideas', 'halloween', 'coolgirlhalloweencostume', 'ingirlworldhalloween', 'costumes']"
                    ],
                    [
                      "['devonta', 'smith', 'devonta', 'smith', 'drop', 'devonta', 'smith', 'drop', 'pass', 'vs', 'jets', 'devonta', 'smith', 'drop', 'pass', 'eagles', 'vs', 'jets', 'devonta', 'smith', 'drop', 'vs', 'jets', 'eagles', 'devonta', 'smith', 'micd', 'eagles', 'lose', 'jets', 'eagles', 'vs', 'cowboys', 'devonta', 'smith', 'keeps', 'real', 'eagles', 'loss']"
                    ],
                    [
                      "['back', 'u', 'best', 'song', 'nct', 'nct', 'nctdream', 'kpop', 'doyoungnct']"
                    ],
                    [
                      "['bros', 'costume', 'fire', 'via', 'first', 'joel', 'halloween', 'costume', 'funny']"
                    ],
                    [
                      "['custom', 'upcycled', 'suki', 'costume', 'halloween']"
                    ],
                    [
                      "['super', 'easy', 'halloween', 'costumes', 'lmk', 'want', 'videos', 'like', 'halloweencostumes', 'halloweeninspo', 'halloween', 'easyhalloweencostumes']"
                    ],
                    [
                      "['last', 'halloween', 'inspo', 'easy', 'last', 'min', 'halloween', 'costumes', 'hot', 'girls', 'everything', 'bio', 'nonbasichalloweencostumes', 'halloween', 'halloweeninspo', 'lastminutehalloweencostumes', 'easyhalloweencostume', 'conceptcostume', 'runawaybride', 'hotgirlcostume']"
                    ],
                    [
                      "['super', 'cute', 'easy', 'last', 'minute', 'halloween', 'costumes', 'get', 'amazon', 'lastminutehalloweencostumes', 'lastminutehalloweencostume', 'lastminutecostume', 'amazonhalloweencostume', 'amazonhalloweencostumes', 'amazonhalloweencostumeideas']"
                    ],
                    [
                      "['easy', 'make', 'last', 'minute', 'fall', 'halloween', 'lastminutecostumes', 'halloweencostumes', 'costumeideas', 'maxineminx', 'bettyboop', 'blackswan', 'halloween', 'spookyseason']"
                    ],
                    [
                      "['replying', 'itsbigheadjr', 'gotcha', 'friend', 'fav', 'men', 'halloween', 'costumes', 'menhalloweencostumes', 'halloweencostumesformen', 'halloween', 'tiktokhalloween']"
                    ],
                    [
                      "['meeka', 'becomes', 'friends', 'anyone', 'trick', 'treating', 'halloween', 'even', 'scary', 'monsters', 'costume', 'guys']"
                    ],
                    [
                      "['greenscreen', 'halloween']"
                    ],
                    [
                      "['costume', 'ideas', 'halloween', 'halloween', 'costumeideasforguys', 'menshalloweencostume']"
                    ],
                    [
                      "['order', 'rd', 'get', 'adorable', 'tinkerbell', 'costume', 'halloween', 'tinkerbellcostume', 'fairycostume', 'tiktokshop', 'halloweenfinds', 'cutehalloweencostume']"
                    ],
                    [
                      "['taylor', 'swift', 'cats', 'taylor', 'swift', 'productions', 'taylor', 'swift', 'productions', 'logo', 'taylor', 'swift', 'taylor', 'taylor', 'swift', 'performing', 'taylor', 'swift', 'tiktok', 'taylorswiftandtraviskelce', 'candace', 'owens', 'taylor', 'swift', 'margaret', 'qualley', 'taylor', 'swift', 'taylorswift']"
                    ],
                    [
                      "['disney', 'angels', 'came', \"i'll\", 'tell', 'angels', 'came', 'fyp', 'disney', 'cards', 'game', 'wanna', 'leave', 'baby', 'alone', 'disney', 'sending', 'minimum', 'tiktoks', 'day']"
                    ],
                    [
                      "['kpop', 'kdrama', 'eunwoo', 'chaeunwoo', 'kdramalover', 'eunwoo_c']"
                    ],
                    [
                      "['goddess', 'costume', 'halloween', 'costume', 'diy', 'easycostume', 'diycostume', 'lastminutehalloweencostumes', 'lastminutecostume']"
                    ],
                    [
                      "['booktok', 'classic', 'literature', 'classic', 'books', 'reading', 'books', 'reading', 'book', 'tiktok', 'books', 'tiktok', 'book', 'page', 'lolitta', 'lana', 'good', 'reads', 'buffing', 'goodreads', 'page', 'count', 'booktoklolitaclassicsclassicliterature']"
                    ],
                    [
                      "['lotta', 'eunuchs', 'going', 'around', 'back', 'xylospongiumsweep', 'xylospongium', 'funny', 'memes', 'ancienthistory', 'ancientrome', 'latin', 'classics', 'ancientgreece', 'roman', 'ancient', 'ancientrome', 'latintok', 'viral', 'rome', 'greek', 'language', 'linguistics', 'romanhistory', 'juliuscaesar', 'marcusaurelius', 'caesar', 'history', 'historymemes', 'history', 'eu']"
                    ],
                    [
                      "['rush', 'hour', 'rush', 'hour', 'costume', 'halloween', 'costume', 'rush', 'hour', 'edit', 'halloween', 'costume', 'ideas', 'couple', 'halloween', 'costumes', 'halloween', 'costume', 'ideas', 'costume', 'costumes', 'halloween', 'think', 'best', 'halloween', 'costumes', 'could', 'think', 'year', 'lol', 'tiktokhalloween', 'rushhour']"
                    ],
                    [
                      "['seriousness', 'people', 'start', 'leaving', 'suggestions', 'stores', 'look', 'find', 'dress', 'jumpsuit', 'rehearsal', 'dinner', 'weeks', 'bride', 'bridal', 'bride', 'weddingtok', 'bridetok']"
                    ],
                    [
                      "['disney', 'das', 'pass', 'disney', 'disney', 'disability', 'pass', 'disneyland', 'disneyparks', \"disney's\", 'disneyland', 'park', 'disneyland', 'california', 'adventure', 'disney', 'tiktok', 'disney', 'world', 'happiest', 'place', 'earth', 'workers', 'mean', 'disney', 'disneyland', 'anaheim', 'disneyparks', 'caadventure', 'disability']"
                    ],
                    [
                      "['thats', 'one', 'thing', 'sureabsolutely', 'obsessed', 'sound', 'barkley', 'l', 'hendricks', 'exhibition', 'frick', 'madison', 'sure', 'check', 'closes', 'january', 'museum', 'artmuseum', 'frickmadison', 'nyclife', 'frickcollection', 'art', 'contemporaryart', 'museums', 'art', 'artgirl', 'museummoment', 'nycmuseum', 'artist']"
                    ],
                    [
                      "['total', 'solar', 'eclipse', 'solar', 'eclipse', 'percent', 'solar', 'eclipse', 'solar', 'eclipse', 'eclipse', 'total', 'solar', 'eclipse', 'eclipse', 'solar', 'eclipse', 'eclipse', 'annular', 'eclipse', 'whos', 'excited', 'greenscreen', 'eclipse', 'solareclipse', 'moon', 'totalsolareclipse', 'eclipse', 'sun', 'totality', 'science', 'dallas', 'dfw', 'texas', 'austin', 'indianapolis', 'cleveland', 'buffalony', 'totaleclipse', 'weather', 'space', 'nasa', 'partialeclipse', 'spaceweather', 'weatheraware', 'annulareclipse']"
                    ],
                    [
                      "['imagine', 'thinking', 'horror', 'film', 'gonna', 'switch', 'genres', 'one', 'photo', 'fnaf', 'fnafsb', 'fivenightsatfreddy', 'fivenightsatfreddys', 'fnafmovie', 'fnaffilm', 'freddyfazbear', 'fnafatfreddys', 'chicafnaf', 'wearefnaf', 'horror', 'horrortok', 'fivenightsatffreddys']"
                    ],
                    [
                      "['loving', 'spooky', 'yall', 'making', 'spaces', 'halloween', 'every', 'corner', 'looking', 'terrifying', 'temus', 'got', 'best', 'halloween', 'finds', 'visit', 'temucom', 'make', 'sure', 'costume', 'decor', 'point', 'temu', 'temufinds', 'shoptemu', 'halloween', 'halloweenontemu', 'halloweencostume', 'haul', 'temuhaul', 'halloweendecor']"
                    ],
                    [
                      "['halloween', 'costume', 'ideas', 'last', 'minute', 'costume', 'purge', 'costume', 'halloween', 'costumes', 'couple', 'ideas', 'halloween', 'costume', 'purge', 'purge', 'makeup', 'lazy', 'costume', 'ideas', 'last', 'minute', 'halloween', 'costumes', 'purge', 'makeup', 'yes', 'im', 'bringing', 'series', 'back', 'comment', 'youre', 'gonna', 'halloween', 'costume', 'halloweenlook', 'costumeideas']"
                    ],
                    [
                      "['lara', 'croft', 'costume', 'black', 'swan', 'costume', 'snow', 'queen', 'costume', 'wednesday', 'addams', 'costume', 'lara', 'croft', 'halloween', 'costume', 'ideas', 'halloween', 'costume', 'great', 'gatsby', 'costume', 'halloween', 'costume', 'khaleesi', 'costume', 'pt', 'hot', 'girl', 'halloween', 'costume', 'inspo', 'happyoctoberst', 'halloween', 'costumeideas', 'halloween', 'hotgirlcostume']"
                    ],
                    [
                      "[\"jennifer's\", 'body', 'costume', 'halloween', 'costume', 'jennifers', 'body', 'costume', 'costume', 'ideas', 'costumes', 'halloween', 'halloween', 'costume', 'ideas', 'cosplay', 'halloween', 'dollskill', 'halloween', 'halloween', 'party', 'costumes', 'jennifers', 'body', 'cosplay', 'anyone', 'jennifercheck', 'screamqueens', 'costumeideas', 'dollskillhalloween', 'jennifersbody']"
                    ],
                    [
                      "['couple', 'costumes', 'try', 'halloween', 'couplecostumes', 'iconiccouplescostumes', 'costumesideas']"
                    ],
                    [
                      "['drake', 'seyredd', 'seyy', 'redd', 'pregnant', 'drake', 'red', 'baby', 'seyy', 'redd', 'aubrey', 'drake', 'graham', \"drake's\", 'baby', 'momma', 'aubrey', 'drake', 'drake', 'red', 'drake', 'son', 'rapping', 'soulja', 'boy', 'drake', 'sis', 'get', 'took', 'gameeee', 'sexyred', 'tea', 'drake', 'aintnoway', 'viral', 'xybca', 'foreal']"
                    ],
                    [
                      "['greenscreen', 'faafo', 'starbucks', 'palestine', 'israel']"
                    ],
                    [
                      "['according', 'opinion', 'children', 'chose', 'klled', 'israel', 'israeli', 'palestine', 'palestinian', 'gaza', 'gazastrip', 'gazaunderattack', 'gazahospital', 'hospital', 'hotspotmedia']"
                    ],
                    [
                      "['hindu', 'temple', 'new', 'jersey', 'largest', 'hindu', 'temple', 'new', 'jersey', 'temple', 'robbinsville', 'temple', 'largest', 'hindu', 'temple', 'world', 'second', 'largest', 'hindu', 'temple', 'nj', 'temple', 'new', 'jersey', 'akshardham', 'new', 'jersey', 'new', 'jersey', 'places', 'visit', 'baps', 'desi', 'temple', 'nj', 'newjersey', 'hindu', 'akshardham', 'akshardhamtemple', 'mandhir', 'desitiktok', 'bapsswaminarayan']"
                    ],
                    [
                      "['jeremyjordan', 'jeremymjordan', 'billieeilish', 'barbiemovie', 'barbie', 'musicaltheatre', 'musicaltheater']"
                    ],
                    [
                      "['trumps', 'former', 'lawyer', 'maga', 'loyalist', 'sidney', 'powell', 'pleads', 'guilty', 'georgia', 'election', 'interference', 'case', 'powell', 'one', 'trumps', 'codefendants', 'named', 'district', 'attorney', 'fani', 'willis', 'rico', 'indictment', 'part', 'plea', 'agreement', 'powell', 'must', 'testify', 'truthfully', 'codefendants', 'provide', 'documents', 'da', 'willis', 'nbcs', 'laura', 'jarrett', 'calls', 'devastating', 'news', 'trump']"
                    ],
                    [
                      "['midsommar', 'taylor', 'swift', 'movie', 'eras', 'tour', 'movie', 'willow', 'taylor', 'swift', 'cameras', 'movie', 'theater', 'willow', 'eras', 'tour', 'taylor', 'swift', 'swifties', 'movie', 'theatre', 'cinema', 'cameras', 'willow', 'eras', 'tour', 'movie', 'giving', 'midsommar', 'erastourmovie', 'erastourtaylorswift', 'evermore', 'taylorswift', 'midsommar']"
                    ],
                    [
                      "['notes', 'app', 'poetry', 'please', 'dont', 'flop', 'poetry', 'notesapp', 'wildflowergirlie', 'mylovemineallmine', 'mitski', 'florist', 'iamaflorist', 'adamandeve']"
                    ],
                    [
                      "['ant', 'farm', 'chinamcclain', 'disney', 'china', 'anne', 'mcclain', 'informant', 'disney', 'disney', 'channel', 'clips', 'a.n.t.', 'farm', 'disney', 'ants', 'videos', 'disney', 'channel', 'informant_part', 'antfarm', 'disney']"
                    ],
                    [
                      "['informant_part', 'antfarm', 'disney']"
                    ],
                    [
                      "['informant_part', 'antfarm', 'disney']"
                    ],
                    [
                      "['informant_part', 'antfarm', 'disney']"
                    ],
                    [
                      "['informant_part', 'antfarm', 'disney']"
                    ],
                    [
                      "['informant_part', 'antfarm', 'disney']"
                    ],
                    [
                      "['informant_part', 'antfarm', 'disney']"
                    ],
                    [
                      "['informant_part', 'antfarm', 'disney']"
                    ],
                    [
                      "['informant_part', 'antfarm', 'disney']"
                    ],
                    [
                      "['informant_part', 'antfarm', 'disney']"
                    ],
                    [
                      "['informant_part', 'antfarm', 'disney']"
                    ],
                    [
                      "['movie', 'movie', 'adam', 'devine', 'adam', 'devine', 'movie', 'movie', 'explained', 'movie', 'ending', 'octavia', 'spencer', 'movie', 'ending', 'movie', 'kissing', 'scene', 'guys', 'mad', 'something', 'guys', 'mad', 'something', 'mamovie', 'trend', 'horrormovie', 'octavia', 'spencer']"
                    ],
                    [
                      "['michael', 'jackson', 'michael', 'jackson', 'deep', 'voice', 'michael', 'jackson', 'reveals', 'deep', 'voice', 'michael', 'jackson', 'concert', 'michael', \"jackson's\", 'real', 'voice', 'michael', 'jackson', 'something', 'baby', 'michael', 'jackson', 'songs', 'michael', 'jackson', 'edits', 'michael', 'jackson', 'performance', 'chicago', 'michael', 'jackson', 'crazy', 'hear', 'dubsthevlogger', 'viral', 'michaeljackson']"
                    ],
                    [
                      "['almond', 'blossom', 'van', 'gogh', 'van', 'gogh', 'almond', 'blossom', 'vincent', 'van', 'gogh', 'van', 'gogh', 'painting', 'written', 'poetry', 'poems', 'poetry', 'tiktok', 'writing', 'blossom', 'cant', 'wait', 'publish', 'yall', 'u', 'wait', 'fr', 'poem', 'poet', 'poetry', 'poems', 'writtenpoetry', 'persianpoetry']"
                    ],
                    [
                      "['kissproducts', 'halloween', 'limited', 'edition', 'lashes', 'perfect', 'halloween', 'look', 'kisshalloweenpartner', 'pair', 'wearing', 'year', 'kisslashes']"
                    ],
                    [
                      "['snl', 'breaking', 'character', 'pedro', 'pascal', 'snl', 'snl', 'oh', 'cuz', 'black', 'snl', 'king', 'queens', 'cause', \"we're\", 'black', 'snl', 'cuz', \"we're\", 'black', 'pedro', 'pascal', 'snl', 'breaks', 'character', 'king', 'queens', 'cuz', 'im', 'black', 'pedro', 'pascal', 'people', 'breaking', 'character', 'snl', 'snl', 'snlskit', 'viral', 'viral', 'snlmeme', 'blackmeme', 'blacktiktok', 'viralvideo', 'zyxcba']"
                    ],
                    [
                      "['im', 'oui', 'oui', 'oui', 'cliff', 'bedbugs', 'parisbedbugs']"
                    ],
                    [
                      "['el', 'churro', 'nyc', 'el', 'churro', 'restaurant', 'nyc', 'nyc', 'events', 'bakery', 'nyc', 'free', 'food', 'nyc', 'money', 'pieces', 'plane', 'lady', 'nyc', 'luxury', 'experience', 'el', 'churro', 'nyc', 'theory', 'wheres', 'lady', 'plane', 'need', 'elchurronyc']"
                    ],
                    [
                      "['orthodox', 'jewish', 'jewish', 'zionists', 'explained', 'jewish', 'wrist', 'melinda', 'strauss', 'zionist', 'jewish', 'family', 'tiktok', 'jews', 'zionism', 'viral', 'viralvideo', 'trending', 'trend', 'respect', 'palestine', 'freepalestine', 'israel', 'gaza', 'video']"
                    ],
                    [
                      "['trending', 'viral', 'comedy', 'jokes', 'funny']"
                    ],
                    [
                      "['halloween', 'picture', 'fav', 'guy', 'kaidou', 'cute', 'costume', 'kaidou', 'kaidoushu', 'saiki', 'tdlosk', 'halloween', 'thedisastrouslifeofsaikik', 'saikikusuo']"
                    ],
                    [
                      "['hit', 'year', 'crossword', 'streak', 'else', 'loving', 'connections', 'nyt', 'crossword', 'nytcrossword', 'nytgames']"
                    ],
                    [
                      "['disney', 'taylor', 'swift', 'movie', 'cleaning', 'movie', 'theater', 'eras', 'tour', 'movie', 'taylor', 'swift', 'swifties', 'movie', 'theatre', 'disney', 'card', 'game', 'disney', 'paw', 'patrol', 'movie', 'theater', 'cleaning', 'taylor', 'swift', 'eras', 'tour', 'movie', 'wasnt', 'bad', 'theaters', 'pretty', 'clean', 'seemed', 'certain', 'rows', 'super', 'messy', 'majority', 'pristine', 'give', 'yall', 'based', 'night', 'cleaning', 'shows', 'swifties', 'taylorswifteras', 'erastourfilm', 'movietheateremployees', 'timelapse', 'satisfyingcleaning']"
                    ],
                    [
                      "['bake', 'alaska', 'dragon', 'beard', 'candy', 'baking', 'rocky', 'road', 'ice', 'cream', 'hardest', 'thing', 'bake', 'pound', 'cake', 'recipe', 'baking', 'easy', 'baking', 'recipes', 'tiramisu', 'recipe', 'cookie', 'recipe', 'im', 'greatest', 'baker', 'alive', 'food', 'cooking', 'foodasmr', 'recipe']"
                    ],
                    [
                      "['tomato', 'cream', 'pasta', 'shrimp', 'tomato', 'cream', 'pasta', 'mom', 'always', 'finds', 'right', 'container', 'pasta', 'shrimp', 'pasta', 'tomato', 'pasta', 'foodtiktok', 'pasta', 'con', 'camarones', 'recipes', 'shrimp', 'food', 'tiktok', 'maman', 'always', 'finds', 'perfect', 'container', 'leftovers', 'pt', 'featuring', 'tomato', 'cream', 'pasta', 'shrimp', 'artichokes']"
                    ],
                    [
                      "['freepalestine', 'gaza']"
                    ],
                    [
                      "['dustygiamanco', 'light', 'realtor', 'realestate', 'real', 'estate', 'broker', 'realtors', 'tiktok', 'light', 'luke', 'bryan', 'bada', 'lee', 'light', 'working', 'real', 'estate', 'life', 'realtor', 'dc', 'gsmooth', 'well', 'made', 'official', 'change', 'brokerages', 'happy', 'announce', 'realtor', 'palms', 'realty', 'let', 'know', 'anyone', 'know', 'looking', 'buy', 'sell', 'areas', 'looking', 'forward', 'serving', 'needs', 'well', 'dancingrealtor', 'realestate', 'officefun', 'committedtoexcellence', 'dancinggardener']"
                    ],
                    [
                      "['pasta', 'recipes', 'pasta', 'easy', 'pasta', 'recipe', 'pasta', 'dish', 'food', 'ideas', 'pasta', 'recipes', 'dinner', 'easy', 'recipe', 'tahini', 'recipe', 'pasta', 'dinner', 'ideas', 'easy', 'pasta', 'recipes', 'dinner', 'lowkey', 'mad', 'lazy', 'didnt', 'make', 'grilled', 'chicken', 'go', 'anyways', 'easy', 'dairy', 'free', 'pasta', 'recipe', 'dinnersideas', 'ideasdinner', 'fastdinnerideas', 'sundaydinnerideas', 'dinnerideaschallenge', 'dinnerideias', 'dinnerideastiktok', 'dinnersideideas', 'tahinipasta', 'dairyfreepastarecipe']"
                    ],
                    [
                      "['halloween', 'costume', 'queen', 'hearts', 'costume', 'kim', 'possible', 'halloween', 'costume', 'ideas', 'buzz', 'lightyear', 'costume', 'kim', 'possible', 'costume', 'blair', 'serena', 'halloween', 'vampire', 'costume', 'halloween', 'costumes', 'couple', 'ideas', 'creative', 'halloween', 'costume', 'creative', 'funny', 'spooky', 'uga', 'godawgs', 'athens']"
                    ],
                    [
                      "['way', 'get', 'uniform', 'lol', 'forplay', 'catalog', 'halloween', 'costumeideas', 'halloweencostumeideas', 'halloween']"
                    ],
                    [
                      "['youre', 'welcome', 'halloweencostume', 'halloween', 'halloweenideas', 'halloweencostumeideas', 'halloweeninspo', 'costumeparty', 'costumes', 'halloween']"
                    ],
                    [
                      "['effort', 'ive', 'ever', 'spent', 'halloween', 'love', 'part', 'princessmononoke', 'upcycling', 'halloween']"
                    ],
                    [
                      "['happy', 'halloween', 'name', 'movies', 'happyhalloween', 'ghibli', 'halloween', 'cosplay', 'house', 'asian']"
                    ],
                    [
                      "['everyone', 'scared', 'baseball', 'yankees', 'cat', 'streaker', 'sports', 'via', 'mlb', 'yes', 'network']"
                    ],
                    [
                      "['yeat', 'yeat', 'drake', 'year', 'drake', 'drake', 'zesty', 'yeat', 'without', 'mask', 'yeat', 'drake', 'idgaf', 'idgaf', 'drake', 'drake', 'new', 'album', 'yeat', 'look', 'like', 'say', 'whatever', 'want', 'yeat', 'viral', 'pov', 'trend']"
                    ],
                    [
                      "['give', 'whole', 'show', 'adultingredients', 'genz', 'millennialsoftiktok', 'millennials', 'growingup', 'adulting', 'wheeloffortune', 'gameshow']"
                    ],
                    [
                      "['halloween', 'costume', 'inspo', 'everything', 'instaa', 'halloweencostumes', 'halloween', 'halloweeninspo']"
                    ],
                    [
                      "['aespa', 'crocs', 'aespa', 'jersey', 'aespa', 'crocs', 'crocs', 'slippers', 'new', 'crocs', 'crocs', 'sandals', 'aespa_official', 'croc', 'slippers', 'fur', 'black', 'crocs', 'maybe', 'ill', 'keep', 'box', 'aespa', 'x', 'crocs', 'aespa', 'aespaxcrocs', 'aespacrocs', 'crocs']"
                    ],
                    [
                      "['travis', 'kelce', 'edits', 'travis', 'kelce', 'perform', 'travis', 'kelce', 'dancing', 'pay', 'fee', 'perform', 'travis', 'kelce', 'taylor', 'swift', 'taylor', 'swift', 'travis', 'kelce', 'black', 'women', 'said', 'good', 'girl', 'perform', 'football', 'edits', 'perform', 'qystics', 'traviskelce', 'traviskelceedit', 'chiefs', 'taylorswiftandtraviskelce', 'taylorswift', 'traviskelce', 'traviskelceedits', 'traviskelcetaylorswift', 'traviskelcetiktok']"
                    ],
                    [
                      "['jerseyclub', 'dababy', 'jerseydance', 'shakesumn', 'dance']"
                    ],
                    [
                      "['dance']"
                    ],
                    [
                      "['save', 'costume', 'inspo', 'lightning', 'mcqueen', 'halloween', 'costume', 'halloween', 'halloweencostume', 'halloweencostumeideas', 'halloween', 'amazonfinds', 'lightningmcqueen']"
                    ],
                    [
                      "['halloween', 'costume', 'ideas', 'mexican', 'paletero', 'costume', 'paletero', 'paletero', 'costume', 'mexican', 'paletero', 'costumes', 'halloween', 'costume', 'ideas', 'costume', 'costumes', 'halloween', 'kidshalloweencostumes', 'october', 'arrived', 'awesome', 'halloween', 'costume', 'idea', 'sons', 'halloween', 'costume', 'last', 'year', 'made', 'mexicanpaletero', 'halloween', 'diycostume', 'toddlercostumeidea', 'halloweendiycostume', 'rgv', 'thevalley', 'fun', 'costume', 'paleterocostume', 'kidscostumes', 'boycostumes', 'girlcostumes', 'diy']"
                    ],
                    [
                      "['college', 'weak', 'thanksgiving', 'college']"
                    ],
                    [
                      "['palestine', 'hoodie', 'palestine', 'hoodie', 'clothing', 'oven', 'palestine', 'fish', 'rising', 'beach', 'palestine', 'support', 'palestinians', 'peope', 'tryinf', 'ti', 'sell', 'things', 'tiktok', 'personal', 'profit', 'freepalestine', 'hirbawitextiles']"
                    ],
                    [
                      "['cass', 'holland', 'cass', 'holland', 'controversy', 'golf', 'cart', 'bev', 'girl', 'golf', 'golftiktok', 'golf', 'cart', 'golf', 'video', 'golf', 'cart', 'lift', 'golf', 'swing', 'bev', 'cart', 'golf', 'job', 'keeping', 'skin', 'hydrated', 'nourished', 'golf', 'course', 'olay', 'skin', 'care', 'ad', 'olaypartner', 'cartgirl', 'golf', 'golfers', 'golftiktok', 'hyaluronicacid', 'skintok', 'bodycare']"
                    ],
                    [
                      "['thanksgiving', 'break', 'isnt', 'weeks', 'long']"
                    ],
                    [
                      "['deviled', 'eggs', 'grandma', 'lost', 'dollars', 'cant', 'believe', 'jesus', 'mac', 'n', 'cheese', 'recipe', 'thanksgiving', \"can't\", 'believe', 'jesus', 'grandma', 'white', 'thanksgiving', \"can't\", 'believe', 'macaroni', 'cheese', 'mac', 'n', 'cheese', 'thanksgiving', 'thanksgiving', 'blackthanksgiving']"
                    ],
                    [
                      "['spotify', 'wrapped', 'inaccurate', 'dominic', 'fike', 'lil', 'durk', 'spotify', 'wrapped', 'spotifywrapped', 'music', 'wrapped', 'spotify', 'picture', 'frame', 'wrapped', 'tiktok', 'spotify', 'wrapped', 'personality', 'sza', 'spotify', 'wrapped', 'spotify', 'wrapped', 'wrong', 'happy', 'wrapped', 'day', 'spotifywrapped']"
                    ],
                    [
                      "['noah', 'kahan', 'emma', 'stone', 'snl', 'draft', 'last', 'night']"
                    ],
                    [
                      "['george', 'santos', 'funny', 'moments', 'george', 'santos', 'baby', 'george', 'santos', 'israel', 'george', 'santos', 'banana', 'peel', 'georgesantos', 'george', 'santos', 'walk', 'gum', 'george', 'santos', 'george', 'santos', 'edit', 'george', 'dragrace', 'sue', 'life', 'heres', 'look', 'back', 'george', 'santos', 'greatest', 'hits', 'time', 'congress', 'santos', 'expelled', 'house', 'friday', 'georgesantos', 'republicans', 'congress', 'politics']"
                    ],
                    [
                      "['jesse', 'watters', 'straw', 'joe', 'biden', 'straw', 'jesse', 'waters', 'fox', 'news', 'straw', 'jesse', 'jesse', 'watters', 'biden', 'straw', 'cap', 'biden', 'straw', 'joe', 'biden', 'used', 'straw', 'straw', 'covers', 'fox', 'news', 'jesse', 'watters', 'criticized', 'president', 'joe', 'biden', 'using', 'straw']"
                    ],
                    [
                      "['taylor', 'swift', 'taylor', 'swift', 'cleaning', 'cart', 'taylornation', 'taylor', 'swift', 'getting', 'cleaning', 'cart', 'louta', 'taylor', 'swift', 'cleaning', 'cart', 'dancing', 'stars', 'taylor', 'swift', 'taylor', 'cleaning', 'cart', 'taylor', 'taylor', 'cart', 'filmed', 'cleaning', 'cart', 'swiftie', 'swifties', 'swiftok', 'swifttok', 'taylorsvault', 'taylorswift', 'spotifywrapped', 'spotifywrapped', 'bbmas', 'speaknowtaylorsversion', 'taylor', 'swift', 'taylor', 'nation', 'tstheerastour', 'spotify']"
                    ],
                    [
                      "['lucy', 'gray', 'hunger', 'games', 'snow', 'hunger', 'games', 'tom', 'blyth', 'lucy', 'gray', 'snow', 'hunger', 'games', 'parallel', 'little', 'dark', 'age', 'hunger', 'games', 'ballad', 'songbirds', 'president', 'snow', 'coriolanus', 'snow', 'edit', 'hard', 'draw', 'parallels', 'trailers', 'hope', 'makes', 'sense', 'cc', 'eclipse', 'payhip', 'tbosbas', 'trailer', 'anetescenes', 'coriolanussnow', 'coriolanussnowedit', 'presidentsnow', 'presidentsnowedit', 'tomblyth', 'tomblythedit', 'hungergamesedit', 'hungergames', 'thehungergames', 'thehungergamesedit', 'theballadofsongbirdsandsnakes', 'theballadofsongbirdsandsnakesedit', 'tbosbas', 'tbosasedit', 'lucygraybaird', 'lucygraybairdedit', 'rachelzegler', 'rachelzegleredit', 'katnisseverdeen', 'katnisseverdeenedit', 'mockingjay']"
                    ],
                    [
                      "['thanksgiving', 'dinner', 'grandmaand', 'aunts', 'uncles', 'cousins', 'fambam', 'wehungry', 'familydinner', 'southerncooking', 'grandma', 'thanksgiving']"
                    ],
                    [
                      "['peep', 'bandana', 'lmfaoooo', 'anyway', 'free', 'palestine', 'usrepresentatives', 'palestine']"
                    ],
                    [
                      "['peeta', 'katniss', 'love', 'real', 'real', 'real', 'real', 'real', 'real', 'hunger', 'games', 'peeta', 'mellark', 'peeta', 'katniss', 'kiss', 'josh', 'hutcherson', 'hunger', 'games', 'peeta', 'katniss', 'ending', 'hunger', 'games', 'ending', 'hed', 'still', 'ask', 'thehungergames', 'theballadofsongbirdsandsnakes']"
                    ],
                    [
                      "['need', 'everyone', 'taylor', 'spotify', 'wrapped', 'year', 'greenscreen', 'spotifywrapped', 'taylorswift']"
                    ],
                    [
                      "['everybody', 'put', 'fingers', 'air', 'hunger', 'games', 'edit', 'hunger', 'games', 'section', 'high', 'power', 'hunger', 'games', 'songbirds', 'snakes', 'new', 'hunger', 'games', 'movie', 'hunger', 'games', 'explained', 'katniss', 'everdeen', 'edit', 'everybody', 'put', 'fingers', 'air', 'hunger', 'games', 'katniss', 'shoot', 'coin', 'scene', 'thehungergames', 'edit']"
                    ],
                    [
                      "['happening', 'right', 'manhattan', 'christmas', 'tree', 'lighting', 'freepalestine', 'palestineprotest', 'foxnews', 'newscorp', 'palestinetiktok', 'nyc', 'christmas', 'treelighting', 'gaza']"
                    ],
                    [
                      "['brown', 'university', 'students', 'interrupt', 'comments', 'schools', 'president', 'christine', 'paxson', 'monday', 'night', 'calls', 'school', 'divest', 'weapons', 'manufacturers', 'vigil', 'students', 'shot', 'vermont', 'israel', 'israelhamaswar', 'gaza', 'palestinians', 'palestine', 'israelpalestine', 'brownuniversity']"
                    ],
                    [
                      "['black', 'friday', 'victoria', 'secret', 'black', 'friday', 'black', 'friday', 'crowd', 'black', 'friday', 'crowd', 'black', 'friday', 'black', 'friday', 'back', 'victoria', 'secret', 'black', 'friday', 'deals', 'victoria', 'secret', 'store', 'black', 'friday', 'sales', 'wild', 'black', 'friday', 'looked', 'like', 'crazy', 'experience', 'make', 'alive', 'blackfriday', 'victoriassecret', 'chaos']"
                    ],
                    [
                      "['didnt', 'lie', 'indigenousday', 'dontsupportslaughter', 'thanksgiving']"
                    ],
                    [
                      "['wovey', 'hunger', 'games', 'sofia', 'sanchez', 'wovey', 'goes', 'wovey', 'sofia', 'sanchez', 'hunger', 'games', 'reaper', 'hunger', 'games', 'go', 'home', 'hunger', 'games', 'hunger', 'games', 'songbirds', 'snakes', 'candy', 'goes', 'wovey', 'whos', 'loving', 'wovey', 'new', 'hunger', 'games', 'wovey', 'hungergames', 'theballadofsongbirdsandsnakes', 'sofiasanchez', 'rachelzegler', 'tomblyth']"
                    ],
                    [
                      "['sam', 'claflin', 'finnick', 'odair', 'finnick', 'odair', 'edit', 'finnick', 'hunger', 'games', 'finnick', 'finnick', 'katniss', 'finnick', 'dying', 'scene', 'finnick', 'annie', 'sam', 'claflin', 'edit', 'hunger', 'games', 'ill', 'walk', 'day']"
                    ],
                    [
                      "['hunger', 'games', 'hunger', 'games', 'tattoos', 'hunger', 'games', 'edit', 'prim', 'dying', 'hunger', 'games', 'jennifer', 'lawrence', 'hunger', 'games', 'songbirds', 'snakes', 'katniss', 'peeta', 'never', 'asked', 'hunger', 'games', 'jayson', 'tatum', 'tattoo', 'jay', 'roxx', 'alberto', 'tattoo', 'theres', 'reason', 'mockingjay', 'tattoo', 'im', 'crazy']"
                    ],
                    [
                      "['hunger', 'games', 'snow', 'hunger', 'games', 'katniss', 'shoot', 'coin', 'katniss', 'killcoin', 'katniss', 'shoot', 'coin', 'katniss', 'peeta', 'katniss', 'everdeen', 'hunger', 'games', 'songbirds', 'snakes', 'hunger', 'games', 'hunger', 'games', 'ending', 'happy', 'hunger', 'games', 'trending', 'thehungergames', 'balladofsongbirdsandsnakes', 'katnisseverdeen']"
                    ],
                    [
                      "['tigris', 'hunger', 'games', 'ballad', 'songbirds', 'snakes', 'snow', 'hunger', 'games', 'hunger', 'games', 'hunger', 'games', 'songbirds', 'snakes', 'hunger', 'games', 'hunger', 'games', 'books', 'hunger', 'games:', 'ballad', 'songbirds', '&', 'snakes', 'coriolanus', 'snow', 'hunger', 'games', 'ballad', 'songbirds', 'uber', 'driver', 'didnt', 'even', 'know', 'hunger', 'games', 'prequel', 'idk', 'like', 'consumed', 'moment', 'thehungergames', 'balladofsongbirdsandsnakes', 'thg', 'theballadofsongbirdsandsnakes', 'coriolanussnow', 'booktok']"
                    ],
                    [
                      "['mastermind', 'taylor', 'swift', 'mastermind', 'eras', 'tour', 'mastermind', 'bridge', 'taylor', 'swift', 'dear', 'reader', 'bridge', 'eras', 'tour', 'mastermind', 'taylor', 'swift', 'eras', 'tour', 'one', 'wanted', 'play', 'little', 'kid', 'taylor', 'swift', 'sao', 'paulo', 'best', 'bridge', 'midnights', 'erastour']"
                    ],
                    [
                      "['thanksgiving', 'talent', 'show', 'winners', 'thanksgiving', 'turkeyday', 'talentshow', 'grandparents', 'weareneverevergettingbacktogether', 'grandparentsfunny', 'divorcedgrandparents']"
                    ],
                    [
                      "['exit', 'wrentham', 'outlets', 'black', 'friday', 'blackfriday', 'masshole', 'wrenthamoutlets']"
                    ],
                    [
                      "['rachel', 'zegler', 'rachel', 'zegler', 'snow', 'white', 'rachel', 'zegler', 'singing', 'rachel', 'zegler', 'hunger', 'games', 'hunger', 'games', 'hunger', 'games', 'songbirds', 'snakes', 'rachel', 'zegler', 'tom', 'blyth', 'rachel', 'zegler', 'josh', 'rivera', 'wovey', 'hunger', 'games', 'rachel', 'zegler', 'boyfriend', 'thats', 'gonna', 'dawg', 'thehungergames', 'rachelzegler', 'movietok', 'imdb']"
                    ],
                    [
                      "['thanksgiving', 'alone', 'spending', 'thanksgiving', 'alone', 'thanksgiving', 'siblings', 'thanksgiving', 'food', 'thanksgiving', 'cooking', 'thanksgiving', 'dinner', 'thanksgiving', 'leftovers', 'marriage', 'thanksgiving', 'sandwich', 'dont', 'give', 'children', 'enough', 'creditthey', 'bravest', 'soliders', 'thanksgiving', 'onlychild']"
                    ],
                    [
                      "['thanksgiving', \"i'm\", 'owner', 'house', 'home', 'thanksgiving', 'hosting', 'thanksgiving', 'home', 'thanksgiving', \"i'm\", 'owner', 'house', 'thanksgiving', 'sandwich', 'thanksgiving', 'transition', 'boyfriend', 'day', 'im', 'pam', \"i'm\", 'owner', 'house', 'battle', 'boyfriends', 'thanksgiving', 'boyfriend', 'theownerofthishouse']"
                    ],
                    [
                      "['happy', 'thanksgiving']"
                    ],
                    [
                      "['happy', 'thanksgiving']"
                    ],
                    [
                      "['visiting', 'southern', 'brown', 'laws', 'thanksgiving']"
                    ],
                    [
                      "['black', 'friday', 'sale', 'officially', 'arrived', 'dont', 'miss', 'mostwanted', 'styles', 'regular', 'priced', 'items', 'online']"
                    ],
                    [
                      "['black', 'friday', 'deals', 'courteney', 'cox', 'thanksgiving', 'black', 'friday', 'courteney', 'cox', 'turkey', 'courteney', 'cox', 'scream', 'thanksgiving', 'sounds', 'thanksgiving', 'food', 'thanksgiving', 'transitions', 'thanksgiving', 'dessert', 'happy', 'thanksgiving', 'everyone']"
                    ],
                    [
                      "['loved', 'thanksgiving']"
                    ],
                    [
                      "['yes', 'fam', 'decided', 'cracker', 'barrel', 'thanksgiving', 'year', 'thanksgiving', 'crackerbarrel', 'family']"
                    ],
                    [
                      "['time', 'year', 'thanksgiving']"
                    ],
                    [
                      "['thanksgiving', 'thanksgiving', 'funny', 'videos', 'turkey', 'thanksgiving', 'song', 'turkey', 'throwing', 'turkey', 'trot', 'turkeys', 'gobbling', 'frying', 'turkey', 'happy', 'thanksgiving', 'meme', 'happy', 'thanksgiving', 'funny']"
                    ],
                    [
                      "['halloween']"
                    ],
                    [
                      "['kalani', 'dance', 'moms', 'kalanihilliker', 'dance', 'mom', 'reunion', 'thanksgiving', 'sounds', 'thanksgiving', 'alone', 'thanksgiving', 'spending', 'thanksgiving', 'alone', 'christmas', 'holiday', 'christmas', 'thanksgiving', 'day', 'another', 'single', 'holiday', 'year']"
                    ],
                    [
                      "['happy', 'thanksgiving']"
                    ],
                    [
                      "['breaking', 'several', 'propalestine', 'activists', 'arrested', 'staging', 'sitin', 'march', 'route', 'macys', 'thanksgiving', 'day', 'parade', 'new', 'york', 'city', 'palestine']"
                    ],
                    [
                      "['happy', 'thanksgiving']"
                    ],
                    [
                      "[\"macy's\", 'thanksgiving', 'day', 'parade', 'palestine', 'thanksgiving', 'parade', 'thanksgiving', 'parade', 'palestine', 'nyc', 'thanksgiving', 'parade', \"macy's\", 'thanksgiving', 'day', 'parade', 'palestine', 'thanksgiving', 'keffiyeh', 'thanksgiving', 'day', 'thanksgiving', 'nyc', 'subway', 'thanksgiving', 'nyc', 'thanksgiving', 'freepalestine']"
                    ],
                    [
                      "['find', 'rebutal', 'genuinely', 'insane', 'freepalestine', 'freefalastin', 'palestine', 'israel', 'leftism', 'viral']"
                    ],
                    [
                      "['macys', 'thanksgiving', 'day', 'parade', 'thanksgiving']"
                    ],
                    [
                      "[\"macy's\", 'thanksgiving', 'day', 'parade', 'palestine', 'macys', 'parade', 'free', 'palestine', 'thanksgiving', 'parade', 'shutting', 'macys', 'parade', 'thanksgiving', 'parade', 'palestine', \"macy's\", 'day', 'parade', 'palestine', \"macy's\", 'thanksgiving', 'day', 'parade', 'live', 'free', 'palestine', 'macys', 'thanksgiving', 'parade', 'macys', 'day', 'parade', 'luffy', 'thanksgiving', 'parade', 'thanksgiving', 'day', 'parade', 'thanksgiving']"
                    ],
                    [
                      "['thanksgiving', 'nyc', 'subway', 'thanksgiving', 'nyc', 'subway', 'thanksgiving', 'subway', 'nyc', 'jessie', 'thanksgiving', 'episode', 'thanksgiving', 'dinner', 'thanksgiving', 'outfit', 'thanksgiving', 'food', 'made', 'thanksgiving', 'lmaooo', 'thanksgiving', 'train', 'nyc', 'really', 'stimulation', 'thanksgiving', 'cooking']"
                    ],
                    [
                      "['hometown', 'bar', 'thanksgiving', 'thanksgiving', 'eve', 'thanksgiving', 'thanksgiving', 'dinner', 'thanksgiving', 'appetizers', 'alix', 'earle', 'thanksgiving', 'eve', 'outfit', 'thanksgiving', 'outfits', 'home', 'thanksgiving', 'thanksgiving', 'makeup', 'stick', 'parents', 'thx', 'much', 'thanksgivingeve', 'thankgsiving', 'hometownbar']"
                    ],
                    [
                      "['nothing', 'like', 'home', 'holidays', 'thanksgiving', 'family']"
                    ],
                    [
                      "['ballad', 'songbirds', 'snakes', 'hunger', 'games', 'serrano', 'hunger', 'games', 'hunger', 'games', 'songbirds', 'snakes', 'olivia', 'rodrigo', 'hunger', 'games', 'snow', 'hunger', 'games', 'hunger', 'games', 'ballad', 'songbirds', 'tigris', 'hunger', 'games', 'ballad', 'songbirds', 'snakes', 'suzanne', 'collins', 'hunger', 'games', 'ballad', 'songbirds', 'snakes', 'actually', 'life', 'changing']"
                    ],
                    [
                      "['homework', 'guy', 'praying', 'trump', 'president', 'trump', 'please', 'save', 'us', 'homework', 'excuses', 'donald', 'trump', 'drinker', 'trump', 'speech', 'abdu', 'shane', 'gillis', 'trump', 'see', 'please', 'save', 'us', 'trump', 'lady', 'meme', 'real', 'women', 'vote', 'trump', 'president', 'trump']"
                    ],
                    [
                      "['wonderful', 'thanksgiving', 'school', 'dayseveryone']"
                    ],
                    [
                      "['lead', 'paint', 'stare', 'lb', 'turkey', 'turkey', 'thanksgiving', 'dinner', 'biggest', 'turkey', 'turkey', 'recipes', 'costco', 'thanksgiving', 'deep', 'fried', 'turkey', 'turkey', 'thanksgiving', 'need', 'biggest', 'turkey', 'thanksgiving', 'canceled', 'costco', 'wholesale', 'thanksgiving', 'grandmasoftiktok', 'momsoftiktok', 'holidayfood', 'turkey', 'familyreunion', 'relatable', 'host', 'hostessproblems']"
                    ],
                    [
                      "['advent', 'calendars', \"l'occitane\", 'advent', 'calendar', 'advent', 'calendar', 'unboxing', 'advent', 'calendar', 'sephora', 'advent', 'beauty', 'advent', 'calendar', \"l'occitane\", 'oil', 'sephora', 'day', 'advent', 'calendar', 'advent', 'case', 'quickest', 'ive', 'ever', 'opened', 'advent', 'calender', 'amazing', 'products', 'cant', 'wait', 'try', 'loccitane', 'loccitanepartner', 'ad', 'adventcalender', 'skincare', 'sephora']"
                    ],
                    [
                      "['least', 'classmates', 'got', 'watch', 'embarrass', 'diag', 'uofm', 'umich', 'michigan', 'tiktok', 'collegelife']"
                    ],
                    [
                      "['firefighters', 'firefighters', 'fine', 'firefighter', 'men', 'firefighters', 'fine', 'girls', 'firefighters', 'rescuing', 'firefighter', 'elevator', 'firemen', 'fine', 'firefighter', 'rescue', 'elevator', 'female', 'firefighter', 'firefighters', 'saving', 'people', 'firefighter', 'bathroom']"
                    ],
                    [
                      "['taylor', 'nation', 'taylor', 'swift', 'reputation', 'tv', 'announcement', 'reputation', \"taylor's\", 'version', 'taylor', 'nation', 'reputation', 'post', 'taylor', 'swift', 'reputation', 'tv', 'rep', 'tv', 'taylor', 'swift', 'eras', 'tour', 'reputation', 'tv', 'like', 'papa', 'rep', 'viral']"
                    ],
                    [
                      "['free', 'palestine', 'freepalestine', 'palestine', 'freepalestine', 'gaza', 'palestiniantiktok']"
                    ],
                    [
                      "['tolerate', 'piano', 'tolerate', 'tolerate', 'eras', 'tour', 'tolerate', 'taylor', 'swift', 'tolerate', 'taylor', 'guess', 'taylor', 'swift', 'song', 'guess', 'taylor', 'swift', 'song', 'one', 'note', 'taylor', 'swift', 'one', 'chord', 'swiftie', 'check', 'swiftie', 'test', 'think', 'taylor', 'swift', 'jack', 'antonoff', 'national', 'morgan', 'brook', 'music', 'morgan', 'brook', 'music', 'morgan', 'brook', 'music', 'evermoreera', 'taylorswiftpiano', 'taylorswiftpianocover', 'taylorswiftcover', 'taylorswiftcovers', 'taylorswiftpianobook', 'taylorswiftpianobooks', 'taylorswiftpianotutorial', 'taylorswifttutorial', 'swiftiecover', 'swiftiecovers', 'tolerateiterastour', 'tolerateit', 'tolerateittaylorswift', 'tolerateittaylor', 'donttolerateit', 'evermoretolerateit', 'inmyevermoreera', 'evermoretaylorswift', 'evermoretaylorsversion']"
                    ],
                    [
                      "['couldnt', 'help', 'cry', 'see', 'taylor', 'feel', 'love', 'tonight', 'needed', 'rio', 'de', 'janeiro', 'brazil', 'n', 'taylor', 'taylorswift', 'taylornation', 'swiftie', 'swiftietiktok', 'taylorsversion', 'taylorswifttok', 'taylorsversion', 'taylorswifttok', 'taylorswiftedit', 'therastour', 'theerastourtaylorswift', 'taylor', 'nation', 'taylor', 'swift']"
                    ],
                    [
                      "['taylor', 'swift', 'guess', 'song', 'guess', 'song', 'chalkboard', 'shake', 'song', 'taylor', 'swift', 'song', 'chalk', 'guess', 'song', 'talk', 'box', 'taylor', 'swift', 'shake', 'guess', 'song', 'chalkboard', 'taylor', 'swift', 'talk', 'box', 'speaker', 'mouth', 'talkbox', 'guessthesong', 'challenge']"
                    ],
                    [
                      "['love', 'must', 'really', 'tf', 'blind', 'dating', 'relationships', 'datingadvice', 'love', 'viralvideo']"
                    ],
                    [
                      "['home', 'thanksgiving', 'yall', 'kj', 'thanksgiving', 'greenscreen', 'primedaydreamdeals']"
                    ],
                    [
                      "['home', 'thanksgiving', 'yall', 'diceroll', 'smallbusiness', 'backhomeballers', 'backhome', 'turkey', 'foodie', 'holidaytiktok', 'tiktok', 'tik']"
                    ],
                    [
                      "['home', 'thanksgiving', 'yallrogers', 'emmabeim', 'mamatwosix', 'thanksgiving', 'daughters']"
                    ],
                    [
                      "['taylor', 'swift', 'taylor', 'swift', 'water', 'bottle', 'happened', 'taylor', 'swift', 'concert', 'taylor', 'swift', 'brazil', 'taylor', 'swift', 'breath', 'eras', 'tour', 'taylor', 'swift', 'water', 'hayley', 'williams', 'passed', 'away', 'taylor', 'swift', 'brazil', 'eras', 'tour', 'taylor', 'swift', 'eras', 'tour', 'please', 'safe', 'tonight', 'brazil', 'brazilerastour', 'brazil', 'erastour', 'taylorswift', 'taylorsversion', 'swifttok', 'theerastour']"
                    ],
                    [
                      "['taylor', 'swift', 'eras', 'tour', 'scott', 'swift', 'jessicagolich', 'taylor', 'swift', 'brazil', 'eras', 'tour', 'brazil', 'eras', 'tour', 'stadium', 'eras', 'tour', 'taylor', 'swift', 'taylor', 'swift', 'concert', 'eras', 'tour', 'wrong', 'erastourbrazilnight', 'erastourrionight', 'erastourtf', 'erastourbrazil', 'swiftiesever', 'erastourriodejaneiro', 'riotstheerastour', 'swiftok', 'swiftiesoftiktok']"
                    ],
                    [
                      "['taylor', 'swift', 'taylor', 'swift', 'brazil', 'rio', 'de', 'janeiro', 'style', 'taylor', 'swift', 'travis', 'kelce', 'taylor', 'swift', 'eras', 'tour', 'taylor', 'swift', 'almost', 'passed', 'taylor', 'swift', 'concert', 'eras', 'tour', 'taylorswifterastour', 'duet', 'mateus', 'benac', 'yall', 'cant', 'control', 'weather', 'theerastour', 'tstheeratourriodejaneiro', 'riodejaneiroerastour', 'swifttok']"
                    ],
                    [
                      "['bad', 'bloodsecurity', 'guard', 'version', 'taylor', 'swift', 'ready', 'eras', 'tour', 'travis', 'kelce', 'taylor', 'swift', 'taylor', 'swift', 'eras', 'tour', 'taylor', 'taylor', 'swift', 'performing', 'taylor', 'eras', 'tour', 'taylor', 'swift', 'singing', 'taylor', 'swift', 'concert', 'replying', 'horror', 'high', 'people', 'tear', 'downtaylorswift', 'taylor', 'swift', 'erastour', 'eras', 'erastourtaylorswift', 'swiftok', 'swifties', 'readyforit', 'readyforittaylorswift', 'tay']"
                    ],
                    [
                      "['scary', 'tiktok', 'classrooms', 'horror', 'game', 'game', 'monster', 'hear', 'scary', 'games', 'play', 'alex', 'video', 'games', 'horror', 'videos', 'games', 'tiktok', 'scary', 'video', 'footage', 'horrortiktok', 'going', 'bad', 'tiktoklive', 'horror', 'scary', 'horrorgames', 'scarygames']"
                    ],
                    [
                      "['tolerate', 'eras', 'tour', 'taylor', 'swift', 'disney', 'tolerate', 'taylor', 'swift', 'tolerate', 'taylor’s', 'version', 'tolerate', 'eras', 'movie', 'tolerate', 'taylor', 'travis', 'kelce', 'taylor', 'swift', 'illicit', 'affairs', 'eras', 'tour', 'hurt', 'girl', 'tstheerastour', 'tstheerastourfilm', 'theerastourtaylorswift', 'theerastour', 'taylorswift', 'taylor', 'swift', 'taylor', 'nation', 'eras', 'tour']"
                    ],
                    [
                      "['jokesss', 'thanksgiving', 'primos', 'cousinsgiving', 'viral']"
                    ],
                    [
                      "['okitsval', 'starbucks', 'jules', 'starbucks', 'jules', 'tony', 'varas', 'starbucks', 'jules', 'apology', 'video', 'jules', 'apology', 'video', 'starbucks', 'v', 'starbucks', 'boycott', 'starbucks', 'v', 'starbucks', 'starbucks', 'red', 'cup', 'blame', 'period', 'time', 'went', 'unions', 'demonized', 'yall', 'getting', 'online', 'show', 'completely', 'lack', 'solidarity', 'redcuprebellion', 'starbuckssucks', 'workerssolidarity', 'workersrightsarehumanrights', 'classsolidarity', 'prounion', 'palestinianliberation', 'classconciousness', 'blacklivesmattermovement']"
                    ],
                    [
                      "['red', 'cup', 'day', 'starbucks', 'starbucks', 'red', 'cup', 'starbucks', 'red', 'cup', 'red', 'cup', 'day', 'starbucks', 'red', 'cup', 'day', 'red', 'cup', 'day', 'boycott', 'starbucks', 'red', 'cup', 'boycott', 'red', 'cup', 'day', 'boycott', 'red', 'cup', 'day', 'starbucks', 'excited', 'starbucks', 'red', 'cup', 'day', 'tomrrow', 'let', 'know', 'comments', 'like', 'years', 'starbucks', 'red', 'cup', 'design', 'last', 'years', 'red', 'cup', 'design', 'starbucks', 'starbucksredcup', 'starbucksredcupday', 'starbucksholidaydrinks', 'starbucksholidaycup']"
                    ],
                    [
                      "['talk', 'talk', 'sped', 'dont', 'talk', 'talk', 'friendship', 'ex', 'friend', 'group', 'talk', 'lyrics', 'talk', 'taylor', 'swift', 'talk', 'song', 'taylor', 'swift', \"taylor's\", 'version', 'taylor', 'swift', 'song', 'literally', 'taylorswift', 'taylorsversion', 'taylorswifttok', 'nowthatwedonttalktaylorsversion', 'nowthatwedonttalkfromthevault']"
                    ],
                    [
                      "['frankie', 'lapenna', 'frankie', 'lapenna', 'ufc', 'nfl', 'sunday', 'ticket', 'nfl', 'tickets', 'nfl', 'sunday', 'football', 'nfl', 'football', 'nfl', 'frankie', 'football', 'season', 'ad', 'check', 'link', 'channel', 'page', 'get', 'nfl', 'sunday', 'ticket', 'youtube', 'youtubetv', 'starting', 'rest', 'season', 'youtube', 'tv', 'base', 'plan', 'compared', 'full', 'season', 'price', 'terms', 'embargoes', 'apply', 'cancellations', 'nflsundayticket', 'football', 'nfl', 'youtube']"
                    ],
                    [
                      "['taylor', 'swift', 'taylor', 'swift', 'talk', 'lyrics', 'dont', 'talk', 'talk', 'taylor', 'swift', 'lyrics', 'talk', 'sped', 'travis', 'kelce', 'taylor', 'swift', 'say', 'go', 'taylor', 'swift', 'slu', 'taylor', 'swift', 'need', 'min', 'version', 'taylorsversion', 'taylorswift', 'nowthatwedonttalk']"
                    ],
                    [
                      "['thousands', 'egyptian', 'fans', 'alahly', 'football', 'club', 'based', 'cairo', 'chant', 'solidarity', 'palestine', 'palestine', 'standwithpalestine', 'freepalestine', 'gaza', 'egypt']"
                    ],
                    [
                      "['amtrak', 'train', 'amtrak', 'amtrak', 'solo', 'travel', 'solo', 'travel', 'amtrak', 'train', 'houston', 'amtrak', 'train', 'houston', 'new', 'york', 'amtrak', 'private', 'rooms', 'works', 'like', 'charm', 'amtrak']"
                    ],
                    [
                      "['thanksgiving', 'side', 'dishes', 'ni', 'al', 'caso', 'somos', 'thanksgiving', 'small', 'friendsgiving', 'thanksgiving', 'cooking', 'thanksgiving', 'food', 'thanksgiving', 'plate', 'friendsgiving', 'table', 'setup', 'thanks', 'giving', 'desserts', 'thanksgiving', 'dishes', 'table', 'plz', 'friendsgiving', 'viral', 'parati', 'friends', 'thanksgiving']"
                    ],
                    [
                      "['taylor', 'swift', 'taylor', 'taylor', 'swift', 'tiktok', 'taylor', 'swift', 'liked', 'video', 'like', 'taylor', 'swift', 'taylor', 'swift', 'trend', 'taylor', 'swift', 'tiktok', 'cover', 'taylor', 'swift', 'tiktok', 'account', 'taylor', 'ashley', 'swift', 'swift', 'tiktok', 'dont', 'lie', 'know', 'youve', 'done']"
                    ],
                    [
                      "['railroad', 'apartment', 'nyc', 'apartment', 'railroad', 'apartment', 'nyc', 'nyc', 'apartment', 'tour', 'apartment', 'tour', 'apartment', 'apartments', 'nyc', 'apartment', 'new', 'york', 'apartment', 'room', 'tour', 'new', 'york', 'apartment', 'tour', 'replying', 'breinicole', 'apartment', 'tour', 'xoxoxoxo', 'newyorkcity', 'nycapartment', 'apartmenttour']"
                    ],
                    [
                      "['tom', 'blyth', 'finnick', 'hunger', 'games', 'tom', 'blyth', 'edit', 'hunger', 'games', 'songbirds', 'snakes', 'gale', 'hunger', 'games', 'donald', 'sutherland', 'snow', 'hunger', 'games', 'liam', 'hemsworth', 'josh', 'hutcherson', 'tom', 'blyth', 'hunger', 'games', 'white', 'boy', 'month', 'tom', 'blyth', 'tomblyth', 'peetamellark', 'finnickodair', 'joshhutcherson', 'samclaflin', 'thehungergames', 'thg', 'theballadofsongbirdsandsnakes', 'catchingfire', 'katnisseverdeen']"
                    ],
                    [
                      "['advent', 'calendars', 'mac', 'advent', 'calendar', 'pandora', 'advent', 'calendar', 'rare', 'beauty', 'advent', 'calendar', 'advent', 'calendar', 'e', 'l', 'f', 'advent', 'calendar', 'makeup', 'advent', 'calendar', 'glow', 'recipe', 'advent', 'calendar', 'p', 'louise', 'advent', 'calendar', 'dior', 'advent', 'calendar', 'replying', 'jessica', 'dawn', 'hunt', 'ngl', 'one', 'got', 'better', 'better', 'think', 'let', 'know', 'next', 'adventcalendar', 'adventcalendars', 'unboxingadventcalendars', 'elfcosmetics']"
                    ],
                    [
                      "['drake', 'taylor', 'swift', 'taylor', 'swift', 'taylor', \"swift's\", 'eras', 'tour', 'taylor', 'swift:', 'eras', 'tour', 'taylor', 'eras', 'tour', 'taylor', 'swift', 'concert', 'eras', 'tour', 'concert', 'taylor', 'swift', 'taylor', 'eras', 'tour', 'rio', 'de', 'janeiro', 'brazil', 'taylor', \"swift's\", 'eras', 'tour', 'outfits', 'greenscreen', 'swifttok', 'erastourtaylorswift', 'swifties', 'taylortok', 'taylorsversion', 'erastour', 'erastourbrazil']"
                    ],
                    [
                      "['sabrina', 'brier', 'sabrina', 'brier', 'controversy', 'comedy', 'nyc', 'new', 'york', 'lunch', 'nyc', 'brunch', 'sabrina', 'brier', 'edit', 'nyc', 'sabrina', 'social', 'battery', 'friends', 'nyc', 'comedy']"
                    ],
                    [
                      "['palestine', 'free', 'freepalestine', 'freepalestine', 'palestine']"
                    ],
                    [
                      "['donald', 'trump', 'scares', 'kid', 'trump', 'kids', 'screaming', 'kids', 'scared', 'donald', 'trump', 'say', 'womp', 'womp', 'kids', 'scared', 'trump', 'howard', 'dean', 'scream', 'us', 'history', 'moments', 'us', 'history', 'moments', 'add', 'donald', 'trump', 'funny', 'moments', 'whoop', 'whoop', 'news', 'womp', 'womp', 'donaldtrump', 'wompwomp', 'joebiden', 'politics', 'americanpolitics']"
                    ],
                    [
                      "['mental', 'health', 'resources', 'health', 'tips', 'health', 'mental', 'health', 'awareness', 'mental', 'health', 'matters', 'mental', 'health', 'support', 'worker', 'mental', 'health', 'calendar', 'mental', 'health', 'black', 'women', 'visit', 'love', 'mind', 'find', 'mental', 'health', 'resources', 'right', 'huntsmanmentalhealthinstitute', 'ad', 'council', 'adcouncilpartner', 'psa', 'loveyourmind', 'mensmentalhealth']"
                    ],
                    [
                      "['karma', 'guy', 'chiefs', 'taylor', 'swift', 'travis', 'kelce', 'taylor', 'swift', 'travis', 'kelce', 'reaction', 'karma', 'travis', 'kelce', 'taylor', 'travis', 'kelce', 'travis', 'reaction', 'karma', 'travis', 'blows', 'kiss', 'travis', 'taylor', 'swift', 'karma', 'guy', 'chiefs', 'dancers', 'reaction', 'hearttaylorswift', 'traviskelce', 'swifties', 'erastour', 'viralvideo', 'foruyou', 'viralvideo', 'tayvis']"
                    ],
                    [
                      "['brooklyn', 'beckham', 'brooklyn', 'beckham', 'parents', 'travis', 'kelce', 'taylor', 'swift', 'travis', 'kelce', 'david', 'beckham', 'scream', 'troy', 'bolton', 'travis', 'kelce', 'singing', 'taylor', 'swift', 'brooklyn', 'beckham', 'football', 'troy', 'bolton', 'gonna', 'locked', 'traviskelce', 'taylorswift', 'tayvis', 'nfl', 'football', 'music', 'troybolton', 'sports']"
                    ],
                    [
                      "['interior', 'design', 'major', 'architecture', 'major', 'interior', 'design', 'architecture', 'interior', 'design', 'student', 'architecture', 'student', 'interior', 'decorator', 'graphic', 'design', 'major', 'interior', 'decorator', 'major', 'interior', 'design', 'vs', 'architecture', 'part', 'interiordesign', 'college', 'universityofkentucky']"
                    ],
                    [
                      "['scott', 'swift', 'travis', 'kelce', 'taylor', 'swift', 'austin', 'swift', 'taylor', 'swift', 'travis', 'kelce', 'taylor', 'travis', 'kelce', 'travis', 'taylor', 'swift', 'labyrinth', 'taylor', 'swift', 'taylor', 'swift', 'brother', 'taylor', 'travis', 'travis', 'seemed', 'nervousher', 'brothers', 'smiles', 'thoughtaylor', 'travis', 'taylorswift', 'traviskelce', 'taylortravis', 'travistaylor', 'taylorswifttraviskce', 'traviskelcetaylorswift', 'erastourargentina', 'love']"
                    ],
                    [
                      "['palestinian', 'food', 'recipes', 'fish', 'rising', 'beach', 'palestine', 'palestine', 'hoodie', 'clothing', 'sea', 'boundary', 'palestine', 'adam', 'sandler', 'palestine', 'scene', 'oven', 'palestine', 'palestine', 'hoodie', 'relatable', 'educate', 'freepalestine']"
                    ],
                    [
                      "['redcuprebellion', 'begun', 'sbworkersunited', 'baristas', 'staged', 'surprise', 'walkouts', 'across', 'country', 'today', 'tomorrow', 'expected', 'largest', 'barista', 'strike', 'history', 'day', 'red', 'cup', 'day', 'notoriusly', 'busy', 'exploitative', 'day', 'starbucks', 'dont', 'cross', 'picket', 'line', 'join', 'one', 'link', 'bio']"
                    ],
                    [
                      "['harry', 'styles', 'buzz', 'cut', 'harry', 'styles', 'travis', 'kelce', 'taylor', 'swift', 'travis', 'kelce', 'taylor', 'swift', 'taylor', 'swift', 'travis', 'kelce', 'singing', 'harry', 'styles', 'taylor', 'swift', 'taylor', 'travis', 'kelce', 'lmaooooo', 'harrystyles', 'harrystylesvids', 'harrystylesedit', 'traviskelce', 'taylorswift', 'swifttok', 'loveontour', 'hslot', 'harryshouse']"
                    ],
                    [
                      "['taylor', 'swift', 'say', 'go', 'taylor', 'swift', 'nina', 'dobrev', 'think', 'knows', 'taylor', 'swift', 'say', 'go', 'say', 'go', 'taylor', 'klaus', 'caroline', 'taylor', 'swift', 'filter', 'say', 'go', 'song', 'taylor', 'swift', 'klaus', 'caroline', 'vampire', 'diaries', 'boy', 'understand']"
                    ],
                    [
                      "['cutting', 'water', 'place', 'million', 'children', 'sound', 'like', 'israel', 'israeli', 'palestine', 'israelpalestine', 'freepalestine']"
                    ],
                    [
                      "['aoc', 'palestine', 'alexandra', 'cortez', 'palestine', 'sea', 'boundary', 'palestine', 'aoc', 'president', 'ceasefire', 'option', 'way']"
                    ],
                    [
                      "['lover', 'dissociation', 'taylor', 'swift', 'call', 'want', 'eras', 'tour', 'tiwwchnt', 'taylor', 'swift', 'call', 'want', 'tiwwchnt', 'eras', 'tour', 'daylight', 'eras', 'tour', 'lover', 'argentina', 'taylor', 'lover', 'disassociation', 'taylor', 'labyrinth', 'taylor', 'swift', \"can't\", 'nice', 'things', 'eras', 'tour', 'greenscreenvideo', 'original', 'videos', 'surprisesongs', 'eras', 'tour', 'erastour', 'taylorswift', 'taylorsversion', 'taylorswift', 'traviskelce', 'travisandtaylor', 'surprisesongs', 'erastourtaylorswift', 'labryinth', 'swiftie', 'swiftiesoftiktok', 'swifties']"
                    ],
                    [
                      "['woods', 'taylor', 'swift', 'karma', 'guy', 'chiefs', 'eras', 'tour', 'eras', 'tour', 'argentina', 'night', 'taylor', 'swift', 'argentina', 'taylor', 'swift', 'woods', 'travis', 'kelce', 'taylor', 'swift', 'new', 'roman', 'empire', 'taylorswift', 'taylornation', 'outofthewoods', 'isitovernow', 'taylorsversion', 'midnights', 'taylorsversion', 'surprisesongs', 'romanempire']"
                    ],
                    [
                      "['let', 'ask', 'audience', 'bobbi', 'storm', 'response', 'bobbi', 'storm', 'candace', 'bobbi', 'storm', 'singing', 'flight', 'bobbi', 'storm', 'delta', 'delta', 'bobbi', 'storm', 'song', 'bobbi', 'storm', 'flight', 'flight', 'gospel', 'music', 'gospel', 'singer', 'bobbistorm', 'tried', 'serenade', 'fellow', 'passengers', 'delta', 'flight', 'got', 'scolded', 'flight', 'attendant']"
                    ],
                    [
                      "['disney', 'pixar', 'trend', 'adorablecapcut', 'pixar', 'disney', 'disneypixar', 'coupletrend', 'blackcouple']"
                    ],
                    [
                      "['taylor', 'swift', 'argentina', 'blame', 'eras', 'tour', 'taylor', 'swift', 'blame', 'argentina', 'eras', 'tour', 'argentina', 'blame', 'eras', 'tour', 'dont', 'blame', 'taylor', 'swift', 'taylor', 'swift', 'eras', 'tour', 'argentina', 'surprise', 'songs', 'night', 'argentina', 'lets', 'gooo', 'taylor', 'swift', 'taylorswift', 'argentina']"
                    ],
                    [
                      "['king', 'back', 'weekend', 'go', 'state', 'pennstate', 'psu', 'mobamba', 'michigan', 'weare', 'comedy']"
                    ],
                    [
                      "['taylor', 'swift', 'falls', 'concert', 'taylor', 'swift', 'taylor', 'swift', 'falling', 'taylor', 'swift', 'argentina', 'travis', 'kelce', 'taylor', 'swift', 'taylor', 'swift', 'dancer', 'knocks', 'reputation', 'stadium', 'tour', 'taylor', 'swift', 'stage', 'malfunction', 'taylor', 'swift', 'concert', 'taylor', 'falling', 'stage', 'went', 'hard', 'got', 'right', 'back', 'taylorswift', 'swifttok', 'swiftie', 'tswift', 'fall', 'fail', 'rep', 'reputationstadiumtour', 'traviskelce']"
                    ],
                    [
                      "['addressing', 'zionist', 'argument', 'hamas', 'terrorist', 'orginization', 'hamas', 'zionism']"
                    ],
                    [
                      "['vigilante', 'taylor', 'swift', 'kansas', 'city', 'night', 'travis', 'kelce', 'eras', 'tour', 'taylor', 'swift', 'travis', 'kelce', 'travis', 'kelce', 'taylor', 'swift', 'vigilante', 'shi', 'eras', 'tour', 'vigilante', 'taylor', 'swift', 'travis', 'kelce', 'eras', 'tour', 'eras', 'tour', 'kansas', 'city', 'night', 'vigilante', 'tay', 'gets', 'every', 'time', 'kansas', 'city', 'mo', 'night', 'los', 'angeles', 'ca', 'night', 'show', 'travis', 'kelce', 'attended', 'vs', 'last', 'night', 'us', 'leg', 'taylorswifterastour', 'erastourtaylorswift', 'taylornation', 'swift', 'traviskelce', 'reputationtaylorsversion', 'taylorsversion', 'swifty', 'swiftoks', 'newromantics', 'tv', 'cruelsummer', 'taylorswifttok', 'midnightstaylorswift', 'taylorswiftchallenge', 'swiftietok', 'reputation', 'vigilanteshittaylorswift', 'caddizac', 'theknifepainter']"
                    ],
                    [
                      "['palestine', 'sticker', 'biden', 'palestine', 'palestine', 'merch', 'anyways', 'free', 'palestine', 'freepalestine']"
                    ],
                    [
                      "['nikki', 'haley', 'lgbtq', 'stance', 'nikki', 'haley', 'heels', 'landslide', 'republican', 'answer', 'abortion', 'issue', 'nikkihaley', 'americafirst', 'usa_tiktok', 'usa', 'gop', 'republicandebate', 'nikkihaley', 'nikki']"
                    ],
                    [
                      "['cursing', 'go', 'crazy']"
                    ],
                    [
                      "['travis', 'kelce', 'taylor', 'swift', 'taylor', 'swift', 'travis', 'kelce', 'taylor', 'travis', 'kelce', 'last', 'time', 'taylor', 'swift', 'travis', 'kelce', 'eras', 'tour', 'travis', 'kelce', 'podcast', 'taylor', 'swift', 'travis', 'kelce', \"taylor's\", 'version', 'travis', 'kelce', 'talking', 'taylor', 'swift', 'ever', 'stop', 'making', 'edits', 'probably', 'taylorswift', 'swifttok', 'traviskelce', 'swiftie', 'swifttoker', 'taylorswifttraviskelce', 'traylor']"
                    ],
                    [
                      "['wanna', 'live', 'forever', 'eras', 'tour', 'labyrinth', 'taylor', 'swift', 'taylor', 'swift', 'taylor', 'swift', 'argentina', 'travis', 'kelce', 'taylor', 'swift', 'travis', 'kelce', 'eras', 'tour', 'taylor', 'swift', 'wanna', 'live', 'forever', 'dont', 'wanna', 'live', 'forever', 'taylors', 'part', 'taylor', 'swift', 'argentina', 'night', 'aawwwwtaylorswift', 'traviskelce', 'taylorswiftandtraviskelce', 'tv']"
                    ],
                    [
                      "['changes', 'timetaylorswift', 'taylorswiftisthemusicindustry', 'swiftie', 'taylorswiftismyfavoriteperson', 'taylor', 'swift', 'taylor', 'nation']"
                    ],
                    [
                      "['disney', 'desha', 'bf', 'watching', 'mess', 'last', 'chance', 'disney', 'card', 'game', \"disney's\", 'games', 'disney', 'game', 'play', 'disney', 'card', 'game', 'isaiah', 'wright', 'last', 'chance', 'watching', 'fall', 'love', 'desha', 'bf', 'account']"
                    ],
                    [
                      "['miriam', 'seth', 'rogan', 'palestine', 'jews', 'support', 'palestinians', 'orthodox', 'jewish', 'miriam', 'lady', 'jews', 'myriam', 'orthodox', 'jew', 'orthodox', 'jews', 'palestine', 'myriam', 'orthodox', 'jew', 'palestine', 'glorious', 'macklemore', 'gentelman', 'children', 'extremely', 'nice', 'kind', 'hearted', 'peaceful', 'organized', 'amazing', 'see', 'right', 'side', 'history', 'thank', 'luayisinmyshot', 'freepalestine', 'washingtondc', 'novemberth', 'jewspalestine', 'mackelmore', 'gimzofreegazaceasefirenowprotestmarchorthodoxjews']"
                    ],
                    [
                      "['taylor', 'swift', 'dress', 'taylor', 'swift', 'taylor', 'swift', 'song', 'filter', 'ranking', 'taylor', 'swift', 'taylor', 'swift', 'filters', 'tolerate', 'taylor', 'ranking', 'taylor', 'swift', 'songs', 'taylor’s', 'version', 'last', 'time', 'taylor', 'swift', 'taylor', 'swift', 'megamix', 'first', 'try', 'feel', 'like', 'banging', 'taylorswift', 'erastour', 'swifttok', 'swiftie', 'blindranking']"
                    ],
                    [
                      "['exile', 'taylor', 'swift', 'exile', 'exile', 'taylor', 'starlight', 'taylor', 'swift', 'cruel', 'summer', 'back', 'december', 'cardigan', 'taylorswift', 'new', 'romantics', 'great', 'war', 'taylor', 'taylor', 'swift', 'taylorswift', 'taylorsversion', 'taylornation', 'swift', 'ts', 'taylorswiftsongs', 'ranking', 'taylorswiftsongranking']"
                    ],
                    [
                      "['taylor', 'swift', 'suburban', 'legends', 'taylor', 'swift', 'say', 'go', 'taylor', 'swift', \"taylor's\", 'version', 'slu', 'taylor', 'swift', 'taylor', 'swift', 'talk', 'taylor', 'swift', 'brooke', 'monk', 'taylor', 'swift', 'suburban', 'legends']"
                    ],
                    [
                      "['nyc', 'marathon', 'nyc', 'marathon', 'train', 'marathon', 'marathon', 'training', 'new', 'york', 'city', 'marathon', 'new', 'york', 'marathon', 'runners', 'marathon', 'runner', 'running', 'tiktok', 'nyc', 'training', 'starts', 'today', 'bb', 'whos', 'nycmarathon', 'nycmarathon']"
                    ],
                    [
                      "['wanna', 'live', 'forever', 'eras', 'tour', 'labyrinth', 'taylor', 'swift', 'labyrinth', 'surprise', 'song', 'taylor', 'swift', 'taylor', 'swift', 'argentina', 'first', 'night', 'ears', 'tour', 'taylor', 'swift', 'performing', 'wanna', 'live', 'forever', 'labyrinth', 'eras', 'tour', 'travis', 'kelce', 'taylor', 'swift', 'eras', 'tour', 'want', 'happy', 'feel', 'loved', 'swiftie', 'taylorswift', 'tstheerastour', 'taylorswiftsurpisesongs', 'taylorswiftlabyrinth']"
                    ],
                    [
                      "['taylor', 'taylor', 'swift', 'song', 'taylor', 'swift', \"taylor's\", 'version', 'taylor', 'version', 'taylors', 'version', 'songs', 'taylor', 'swift', 'taylor', 'version', 'taylor', 'swift', 'songs', 'taylor', 'replying', 'emma', 'one', 'favorites', 'cuz', 'actual', 'hell', 'taylorswift', 'taylorsversion', 'singing', 'singing', 'taylorsversion']"
                    ],
                    [
                      "['free', 'palestine', 'song', 'oven', 'palestine', 'fish', 'rising', 'beach', 'palestine', 'sea', 'boundary', 'palestine', 'palestine', 'hoodie', 'palestine', 'hoodie', 'clothing', 'jews', 'support', 'palestinians', 'palestine', 'alshifa', 'hospital', 'ann', 'palestine', 'israel', 'supporters', 'mean', 'freepalestine', 'istandwithpalestine', 'israelisajoke', 'ceasefirenow', 'stopthegenocide', 'freegaza']"
                    ],
                    [
                      "['taylor', 'swift', 'ally', 'dawson', 'taylor', 'swift', 'taylor', 'swift', 'argentina', 'eras', 'tour', 'austin', 'ally', 'lyrics', 'laura', 'marano', 'ross', 'lynch', 'austin', 'ally', 'taylor', 'swift', 'nooo']"
                    ],
                    [
                      "['know', 'places', 'know', 'places', 'piano', 'guess', 'taylor', 'swift', 'song', 'know', 'places', 'taylor', 'version', 'eras', 'tour', 'something', 'bad', 'piano', 'taylor', 'swift', 'argentina', 'taylor', 'swift', 'taylor', 'swift', 'piano', 'guess', 'taylor', 'swift', 'song', 'second', 'prove', 'wrong', 'taylorswift', 'taylornation', 'eras', 'erastour', 'taylorswifterastour', 'piano', 'pianotutorial', 'pianist', 'pianocover', 'cover', 'taylorsversion', 'theerastour']"
                    ],
                    [
                      "['nyc', 'marathon', 'new', 'york', 'city', 'marathon', 'new', 'york', 'marathon', 'marathon', 'runners', 'marathon', 'runner', 'running', 'marathon', 'running', 'tiktok', 'runtok', 'runners', 'high', 'feels', 'like', 'replying', 'olivia', 'caruso', 'got', 'baked', 'nyc', 'marathon', 'nycmarathon', 'runhigh']"
                    ],
                    [
                      "['daylight', 'savings', 'got', 'messed', 'daylightsavings']"
                    ],
                    [
                      "['taylor', 'swift', 'maddie', 'ziegler', 'taylor', 'swift', 'argentina', 'taylor', 'swift', 'travis', 'kelce', 'taylor', 'swift', 'eras', 'tour', 'eras', 'tour', 'argentina', 'eras', 'tour', 'taylor', 'swift', 'dancers', 'better', 'way', 'arrive', 'buenos', 'aires', 'recreating', 'incredible', 'swizzlers', 'dance', 'fav', 'eras', 'tour', 'girlies', 'hope', 'dont', 'mind', 'changed', 'ending', 'argentina', 'buenosaires', 'taylorswift', 'erastour', 'isitovernow']"
                    ],
                    [
                      "['fnaf', 'movie', 'fnaf', 'five', 'nights', 'freddy’s', 'join', 'us', 'bite', 'fnaf', 'song', 'fnaf', 'cringe', 'scene', 'fnaf', 'fort', 'scene', 'together', 'fnaf', 'fnaf', 'lore', 'explained', 'freddy', 'bites', 'girl', 'real', 'complaint', 'enough', 'jump', 'scares', 'gore', 'entertaining', 'film', 'fnaf', 'fnafsecuritybreach', 'fivenightsatfreddys', 'fivenightsatfreddy', 'fnafmovie']"
                    ],
                    [
                      "['nyc', 'marathon', 'nyc', 'marathon', 'train', 'marathon', 'chicago', 'marathon', 'new', 'york', 'marathon', 'marathon', 'training', 'nyc', 'marathon', 'map', 'marathon', 'boston', 'marathon', 'new', 'york', 'city', 'marathon', 'greenscreen', 'things', 'wish', 'knew', 'running', 'new', 'york', 'marathon', 'newyorkmarathon', 'newyorkmarathon', 'nycmarathon', 'nyc', 'runtok']"
                    ],
                    [
                      "['run', 'marathon', 'nycmarathon', 'runnergirl', 'nyc', 'marathontraining', 'nycmarathon']"
                    ],
                    [
                      "['daylight', 'savings', 'time', 'daylight', 'savings', 'daylight', 'savings', 'daylight', 'savings', 'caught', 'camera', 'daylight', 'savings', 'time', 'explained', 'daylight', 'savings', 'explained', 'arizona', 'daylight', 'savings', 'daylight', 'savings', 'daylight', 'savings', 'work', 'arizona', 'daylight', 'savings']"
                    ],
                    [
                      "['catholics', 'palestine', 'catholic', 'palestine', 'catholic', 'pope', 'francis', 'palestine', 'church', 'palestine', 'catholic', 'church', 'palestine', 'catholic', 'church', 'keffiyeh', 'palestine', 'christians', 'palestine', 'priest', 'palestine', 'man', 'brought', 'professor', 'stick', 'said', 'time', 'learning']"
                    ],
                    [
                      "['make', 'happen', 'nycmarathon', 'nyc', 'marathon', 'newyork']"
                    ],
                    [
                      "['officially', 'abbott', 'world', 'marathon', 'majors', 'finisher', 'newyorkmarathon', 'newyorkmarathon', 'nyc', 'abbottworldmarathonmajors', 'runtok', 'nymarathon', 'marathontiktok', 'marathontok', 'runnerlife', 'runnertok', 'newyork', 'newyorkcity']"
                    ],
                    [
                      "['nyc', 'marathon', 'nyc', 'marathon', 'liam', 'neeson', 'marathon', 'liam', 'neeson', 'sam', 'norton', 'marathon', 'nyc', 'marathon', 'winner', 'boston', 'marathon', 'new', 'york', 'marathon', 'nyc', 'marathon', 'finish', 'line', 'marathon', 'words', 'express', 'feelings', 'finish', 'line', 'nyc', 'marathon', 'saw', 'pm', 'today', 'congrats', 'everyone', 'took', 'part', 'nyrr', 'nycmarathon']"
                    ],
                    [
                      "['jewish', 'orthodox', 'jewish', 'jewish', 'support', 'palestine', 'clio', 'clios_world', 'freepalestine', 'jewsforpalestine']"
                    ],
                    [
                      "['taylor', 'swift', 'taylor', 'swift', 'dance', 'taylor', 'swift', 'taylor', 'swift', 'argentina', 'travis', 'kelce', 'taylor', 'swift', 'taylor', 'swift', 'dance', 'original', 'lyrics', 'woods', 'tutorial', 'much', 'energy', 'dance', 'thought', 'id', 'make', 'tutorial', 'dancetutorial', 'trendingdance', 'isitovernowtutorial']"
                    ],
                    [
                      "['daylight', 'savings', 'time', 'brand', 'new', 'band', 'daylight', 'savings', 'daylight', 'savings', 'time', 'ends', 'brand', 'new', 'daylight', 'savings', 'time', 'caught', 'daylight', 'savings', 'time', 'night', 'shift', 'daylight', 'savings', 'ending', 'daylight', 'savings', 'november', 'night', 'shift', 'daylight', 'savings', 'dont', 'forget', 'fall', 'back', 'abyss', 'daylightsavings', 'daylightsavingstimesucks', 'darkness', 'brandnewband', 'meme', 'memecut']"
                    ],
                    [
                      "['dads', 'mile', 'pep', 'talk', 'nycmarathon', 'nycmarathon', 'newyorkcity', 'nyc', 'marathon']"
                    ],
                    [
                      "['malala', 'malala', 'palestine', 'statement', 'malala', 'stance', 'palestine', 'malala', 'yousafzai', 'palestine', 'malala', 'palestine', 'statement', 'malala', 'performance', 'activism', 'malala', 'yousafzai', 'malala', 'post', 'israel', 'maryam', 'malala', 'malala', 'tiktok', 'making', 'career', 'oppression', 'playing', 'sides', 'benefits', 'nasty', 'work', 'malalayousafzai', 'freepalestine', 'palestinetiktok', 'muslimtiktok']"
                    ],
                    [
                      "['cornell', 'university', 'columbia', 'university', 'ivy', 'league', 'barnard', 'college', 'ivy', 'league', 'colleges', 'cornell', 'princeton', 'university', 'ivy', 'league', 'university', 'yale', 'university', 'harvard', 'university', 'people', 'avoid', 'saying', 'name', 'costs', 'college', 'cornell']"
                    ],
                    [
                      "['daylight', 'savings', 'time', 'disney', 'daylight', 'savings', 'daylight', 'savings', 'daylight', 'savings', 'caught', 'camera', 'daylight', 'saving', 'like', 'daylight', 'savings', 'work', 'daylight', 'savings', 'time', 'explained', 'daylight', 'savings', 'explained', 'disney', 'card', 'game', 'thoughts', 'daylight', 'savings', 'time', 'giovanni', 'teran', 'daylightsavings', 'daylightsavingstime', 'springforward', 'fallback', 'timechange']"
                    ],
                    [
                      "['taylor', 'swift', 'songs', 'taylor', 'swift', 'taylor', 'wildest', 'dreams', 'taylor', 'swift', 'style', 'taylor', 'swift', \"taylor's\", 'version', 'taylors', 'version', 'songs', 'woods', 'taylor', 'swift', 'woods', \"taylor's\", 'version', 'house', 'heres', 'room', 'would', 'look', 'like', 'whats', 'favorite', 'song', 'taylorswifterastour', 'taylorsversion', 'aesthetic', 'ruggable', 'rugtok', 'greenscreen']"
                    ],
                    [
                      "['nyc', 'marathon', 'nyc', 'marathon', 'winner', 'nyc', 'marathon', 'first', 'place', 'nyc', 'marathon', 'nyc', 'marathon', 'winner', 'nyc', 'marathon', 'route', 'nyc', 'marathon', 'map', 'marathon', 'new', 'york', 'city', 'marathon', 'long', 'marathon', 'last', 'runners', 'nyc', 'marathon', 'marathon', 'officially', 'congratulations', 'runners', 'see', 'next', 'year', 'nycmarathon', 'marathon', 'nyc', 'newyork', 'running']"
                    ],
                    [
                      "['sorry', 'sorry', 'gotta', 'get', 'subway', 'nycmarathon', 'traffic', 'nyc', 'marathon']"
                    ],
                    [
                      "['please', 'bridgerton', 'season', 'shondarhimes', 'netflix', 'colinandpenelope']"
                    ],
                    [
                      "['brands', 'support', 'palestine', 'krispy', 'kreme', 'palestine', 'canes', 'palestine', 'dior', 'palestine', 'fast', 'food', 'support', 'palestine', 'raising', 'canes', 'palestine', 'huda', 'beauty', 'palestine', 'huda', 'beauty', 'brand', 'support', 'israel', 'brand', 'support', 'palestine', 'replying', 'sha', 'popular', 'dem', 'placesbrands', 'support']"
                    ],
                    [
                      "['daylight', 'savings', 'time', 'daylight', 'savings', 'explained', 'daylight', 'savings', 'savings', 'daylight', 'savings', 'time', 'caught', 'daylight', 'daylight', 'savings', 'caught', 'camera', 'daylight', 'savings', 'time', 'night', 'shift', 'daylight', 'savings', 'caught', 'camera', 'daylight', 'savings', 'november', 'stove', 'clock', 'gave', 'away', 'daylightsavings']"
                    ],
                    [
                      "['miriam', 'haart', 'miriam', 'unorthodox', 'life', 'israel', 'miriam', 'unorthodox', 'unorthodox', 'life', 'miriam', 'unorthodox', 'life', 'miriam', 'astrology', 'miriam', 'haart', 'israel', 'zodiac', 'sign', 'new', 'york', 'times', 'square', 'israel', 'factor', 'astrology', 'dating', 'decisions', 'israel', 'palestine', 'protest', 'funny', 'israelpalestine']"
                    ],
                    [
                      "['halloween', 'halloween', 'halloween', 'shrek', 'princessfiona', 'parati', 'halloweencostume']"
                    ],
                    [
                      "['wanna', 'different', 'music', 'tastes', 'tf', 'cup', 'ken', 'carson', 'different', 'music', 'tastes', 'office', 'music', 'taste', 'different', 'music', 'taste', 'sza', 'songs', 'szaofficial', 'sza', 'tiktok', 'music', 'taste', 'using', 'name', 'think', 'im', 'feeling', 'like', 'sza', 'dash', 'backstreet', 'lovers', 'music', 'sza', 'creds', 'isabel']"
                    ],
                    [
                      "['pivotal', 'lol', 'nowthatwedonttalk', 'taylorswift', 'taylorsversion', 'tv', 'girls', 'truestory', 'halloween', 'traylor', 'tayvis', 'costume', 'halloween']"
                    ],
                    [
                      "['happy', 'fnaf', 'movie', 'day', 'whatever', 'fnaf', 'fnafmovie', 'fivenightsatfreddy', 'fivenightsatfreedys', 'roblox', 'ttd', 'ttdroblox', 'xzycba', 'xzybca']"
                    ],
                    [
                      "['nyc', 'marathon', 'nyc', 'marathon', 'nyc', 'marathon', 'winner', 'cody', 'ko', 'nyc', 'marathon', 'boston', 'marathon', 'chicago', 'marathon', 'cody', 'ko', 'new', 'york', 'marathon', 'nyc', 'marathon', 'winner', 'marathon', 'boston', 'marathon', 'route', 'nyc', 'marathon', 'route', 'nycmarathon', 'nycmarathon', 'nycmarathonexpo', 'marathontraining', 'marathonrunner', 'nyc', 'runtok', 'runningtiktok']"
                    ],
                    [
                      "['happy', 'halloween', 'servicedog', 'halloween', 'spookyseason', 'scarystories', 'greenscreenvideo']"
                    ],
                    [
                      "['steal', 'iced', 'coffee', 'manhattan', 'tbh', 'nyc', 'newyork']"
                    ],
                    [
                      "['talk', 'taylor', 'swift', 'taylor', 'swift', 'say', 'go', 'taylor', 'swift', 'taylor', 'swift', 'slu', 'taylor', 'swift', 'taylor’s', 'version', 'talk', 'lyrics', 'dont', 'talk', 'suburban', 'legends', 'taylor', 'swift', 'really', 'love', 'song', 'nowthatwedonttalk', 'taylorsversion', 'taylorsversion']"
                    ],
                    [
                      "['costume', 'last', 'year', 'halloween', 'corpsebride', 'emilycosplay']"
                    ],
                    [
                      "['disney', 'pingu', 'taylor', 'swift', \"taylor's\", 'version', 'say', 'go', 'taylor', 'swift', 'pingu', 'dancing', 'talk', 'lyrics', 'taylor', 'swift', 'talk', 'taylor', 'swift', 'im', 'girl', 'dont', 'talk', 'taylorswift', 'taylorsversion', 'swifttok', 'nowthatwedonttalk', 'viral']"
                    ],
                    [
                      "['disney', 'cardigan', 'taylorswift', 'shake', 'song', 'taylor', 'swift', 'stay', 'stay', 'stay', 'taylor', 'need', 'calm', 'back', 'december', 'taylor', 'swift', 'filters', 'yntcd', 'taylor', 'swift', 'cardigan']"
                    ],
                    [
                      "['taylor', 'swift', 'acid', 'rock', 'acid', 'rock', 'taylor', 'swift', 'talk', 'taylor', 'swift', 'acid', 'rock', 'songs', 'taylor’s', 'version', 'say', 'go', 'taylor', 'swift', 'acid', 'rock', 'music', 'pretend', 'like', 'acid', 'rock', 'ive', 'ascended', 'mother', 'outdid', 'taylorsversion']"
                    ],
                    [
                      "['takis', 'support', 'israel', 'food', 'brand', 'support', 'palestine', 'takis', 'palestine', 'brands', 'support', 'palestine', 'snacks', 'support', 'palestine', 'food', 'brand', 'support', 'israel', 'takis', 'support', 'israel', 'brand', 'support', 'palestine', 'brands', 'support', 'israel', 'brand', 'support', 'israel', 'hope', 'takis', 'dont', 'support', 'real']"
                    ],
                    [
                      "['fuck', 'james', 'lankford', 'free', 'palastine', 'freepalestine', 'endoccupationofpalestine', 'ussenate', 'standwithpalestine', 'gaza', 'ceasefirenow', 'fuckit', 'al', 'jazeera', 'english']"
                    ],
                    [
                      "['know', 'hurt', 'hurt', 'relationships', 'reputation', 'taylor', 'swift', 'taylor', 'swift', 'loyal', 'protective', 'people']"
                    ],
                    [
                      "['unfathomable', 'really', 'freepalestine', 'palestine', 'fromtherivertothesea', 'withinourlifetime', 'protest', 'nyc']"
                    ],
                    [
                      "['halloween', 'hsm']"
                    ],
                    [
                      "['taylor', 'swift', 'talk', 'taylor', 'swift', 'millennial', 'phone', 'hand', 'taylor', 'swift', 'say', 'go', 'taylor', 'swift', \"taylor's\", 'version', 'katherine', 'taylor', 'swift', 'spot', 'gen', 'z', 'gen', 'z', 'hand', 'gestures', 'swifttok', 'hand', 'thing', 'dead', 'giveaway', 'swiftok', 'taylorsversion']"
                    ],
                    [
                      "['probably', 'best', 'costume', 'time', 'katnisseverdeen', 'hungergames', 'halloween', 'halloweencostume', 'halloweekend', 'twin', 'dressedup', 'costume', 'costumeideas']"
                    ],
                    [
                      "['talk', 'taylor', 'swift', \"taylor's\", 'version', 'taylor', 'swift', 'say', 'go', 'taylor', 'swift', 'suburban', 'legends', 'taylor', 'swift', 'slu', 'taylor', 'swift', 'taylor', 'swift', 'taylor', 'swift', 'style', \"taylor's\", 'version', 'dont', 'talk', 'insanity', 'swifttok', 'swiftie', 'taylorswift']"
                    ],
                    [
                      "['matthew', 'perry', 'best', 'known', 'role', 'sitcom', 'friends', 'died', 'tmz', 'reporting', 'matthewperry', 'friends', 'chandlerbing']"
                    ],
                    [
                      "['taylor', 'swift', 'said', 'taylorswift', 'taylor', 'haylor', 'harrystyles', 'nowthatwedonttalk', 'taylorsversion', 'taylornation']"
                    ],
                    [
                      "['taylor', 'swift', \"taylor's\", 'version', 'know', 'places', \"taylor's\", 'version', 'know', 'places', 'style', \"taylor's\", 'version', 'taylornation', 'taylor', 'swift', 'slu', 'taylor', 'swift', 'say', 'go', 'taylor', 'swift', 'growl', 'know', 'places', 'growl', 'taylorswift', 'swifttok', 'taylorsversion', 'iknowplaces', 'swiftie', 'saydontgo', 'vaultsongs', 'vault', 'vaulttracks', 'vaulttracks', 'sluttaylorsversion', 'newmusic', 'lyrics', 'trend', 'iknowplacestaylorswift', 'iknowplacestaylorsversion', 'taylor', 'swift', 'taylor', 'nation']"
                    ],
                    [
                      "['say', 'go', 'taylor', 'swift', \"taylor's\", 'version', 'taylor', 'swift', 'talk', 'taylor', 'swift', 'suburban', 'legends', 'taylor', 'swift', 'slu', 'taylor', 'swift', 'say', 'go', 'taylor', 'swift', 'said', 'love', 'say', 'nothing', 'back', 'best', 'vault', 'song', 'hello']"
                    ],
                    [
                      "['notes', 'taylorswift', 'tv', 'taylorsversion', 'swifttok', 'taylor', 'swift', 'taylor', 'nation']"
                    ],
                    [
                      "['halloween', 'halloweekend', 'college']"
                    ],
                    [
                      "['new', 'romantics', \"taylor's\", 'version', 'style', \"taylor's\", 'version', 'style', 'style', 'taylor', 'swift', 'style', 'old', 'version', \"taylor's\", 'version', 'blank', 'space', 'taylor', 'version', 'shake', \"taylor's\", 'version', 'new', 'romantics', 'style', \"taylor's\", 'version', 'comparison', 'still', 'listening', 'repeat', 'bcs', 'tv', 'yes', 'yes', 'justiceformaxmartin', 'taylorsversion', 'styletaylorsversion']"
                    ],
                    [
                      "['wild', 'ride', 'song', 'taylorswift', 'taylorsversion', 'taylornation', 'swiftie', 'taylor', 'swift', 'taylor', 'nation']"
                    ],
                    [
                      "['full', 'swing', 'top', 'golf', 'top', 'golf', 'net', 'top', 'golf', 'employees', 'get', 'mad', 'golf', 'hitting', 'top', 'golf', 'net', 'driving', 'range', 'golf', 'falling', 'top', 'golf', 'hitting', 'net', 'top', 'golf', 'people', 'falling', 'net', 'top', 'golf', 'hitting', 'nukes', 'night', 'golf', 'golftiktok', 'topgolf', 'employee']"
                    ],
                    [
                      "[\"taylor's\", 'version', 'taylor', 'swift', 'taylor', 'swift', 'harry', 'styles', 'taylor', 'swift', 'stands', 'harry', 'styles', 'grammy', 'speech', 'harry', 'styles', 'harry', 'taylor', 'swift', 'taylor', 'harry', 'taylor', 'swift', 'talk', 'taylor', 'swift', 'greenscreen', 'anyway', 'swiftie', 'swifttok', 'taylorswift', 'taylorsversion']"
                    ],
                    [
                      "['roman', 'empire', 'explained', 'first', 'love', 'roman', 'empire', 'meaning', 'roman', 'empire', 'roman', 'empire', 'trend', 'roman', 'empire', 'roman', 'empire', 'roman', 'empire', 'tattoo', 'empire', 'roman', 'empire', 'costume', 'im', 'sobbing', 'romanempire', 'greenscreen']"
                    ],
                    [
                      "['jaw', 'dropped', 'idf', 'israel', 'palestine', 'freepalestine', 'girlmath', 'greenscreenvideo', 'greenscreen']"
                    ],
                    [
                      "['stand', 'palestine', 'free', 'palestinian', 'palestine', 'hoodie', 'palestine', 'hoodie', 'clothing', 'glasgow', 'celtic', 'fans', 'wave', 'palestinian', 'flags', 'sea', 'boundary', 'palestine', 'oven', 'palestine', 'fish', 'rising', 'beach', 'palestine', 'palestine', 'alshifa', 'hospital', 'qatar', 'palestine', 'istandwithisreal', 'freepalestine']"
                    ],
                    [
                      "['silence', 'loud', 'gaza', 'palestine']"
                    ],
                    [
                      "['fox', 'say', 'fox', 'actually', 'say', 'fox', 'fox', 'sound', 'fox', 'say', 'dance', 'fox', 'say', 'nate', 'norell', 'fox', 'fox', 'say', 'dun', 'dun', 'dun', 'foxy', 'dun', 'dun', 'dun', 'fox', 'say', 'chaeryeong', 'simpler', 'times']"
                    ],
                    [
                      "['anyways', 'go', 'watch', 'interview', 'israeli', 'hostage', 'saying', 'treated', 'kindly', 'hamas', 'idf', 'shot', 'citizens', 'crossfirefreepalestine']"
                    ],
                    [
                      "['movie', 'clip', 'movie', 'scene', 'movie', 'shows', 'clips', 'andrea', 'movie', 'tiktok', 'movietok', 'comedy', 'movies', 'funny', 'movie', 'scenes', 'funny', 'movies', 'short', 'movies', 'part', 'movieclips', 'moviescene']"
                    ],
                    [
                      "['goat', 'nfl', 'nyjets', 'nflfootball', 'aaronrodgers', 'jets', 'rodgers', 'nfltiktok']"
                    ],
                    [
                      "['disney', 'disney', 'halloween', 'costume', 'halloween', 'party', 'halloween', 'costume', 'halloween', 'weekend', 'roman', 'empire', 'explained', 'roman', 'empire', 'trend', 'last', 'minute', 'halloween', 'costumes', 'easy', 'halloween', 'costume']"
                    ],
                    [
                      "['disney', 'netflix', 'new', 'policy', 'disney', 'netflix', 'household', 'netflix', 'boycott', 'netflix', 'responds', 'hate', 'new', 'rules', 'disney', 'card', 'game', 'cancel', 'netflix', 'disney', 'game', 'netflix', 'price', 'increase', 'netflix', 'pissed']"
                    ],
                    [
                      "['travis', 'kelce', 'taylor', 'swift', 'taylor', 'swift', 'brittany', 'mahomes', 'travis', 'kelce', 'travis', 'kelce', 'hit', 'hard', 'today', 'travis', 'kelce', 'gets', 'hurt', 'taylor', 'chiefs', 'game', 'taylor', 'brittany', 'mahomes', 'taylor', 'travis', 'kelce', 'taylor', 'swift', 'chiefs', 'game', 'reaction', 'shaking', 'shes', 'definitely', 'love', 'gotaylorsboyfriend']"
                    ],
                    [
                      "['lesson', 'learned', 'one']"
                    ],
                    [
                      "['wanna', 'see', 'one', 'dingy', 'missiles', 'get', 'past', 'csgs', 'air', 'defenses', 'israel', 'palestine', 'gaza', 'gazaconflict', 'usa', 'geraldrford']"
                    ],
                    [
                      "['history', 'israel', 'kids', 'edition', 'minnesota', 'minneapolis', 'gaza', 'parentsoftiktok', 'palestine', 'israel', 'standwithpalestine', 'istandwithgaza']"
                    ],
                    [
                      "['taylor', 'swift', 'beyonce', 'dancing', 'vigilante', 'taylor', 'swift', 'travis', 'kelce', 'taylor', 'swift', \"can't\", 'dance', 'travis', 'kelce', 'taylor', 'swift', 'eras', 'tour', 'travis', 'kelce', 'eras', 'tour', 'karma', 'eras', 'tour', 'taylor', 'swift', 'travis', 'kelce', 'replying', 'pink', 'cant', 'dancewho', 'agreestaylor', 'swift', 'erastour', 'eras', 'erastourtaylorswift', 'taylorswift', 'swiftok', 'swiftnation']"
                    ],
                    [
                      "['israel', 'gaza', 'israelhamaswar']"
                    ],
                    [
                      "['hope', 'soothes', 'bruised', 'heart', 'like', 'mine', 'nyc', 'subway', 'palestine', 'israel', 'peaceandlove']"
                    ],
                    [
                      "['scammys', 'scammys', 'grammys', 'grammys', 'conangray', 'memories']"
                    ],
                    [
                      "['reality', 'apartheid', 'israel', 'palestine', 'westbank', 'israel', 'palestine', 'gaza']"
                    ],
                    [
                      "['travis', 'kelce', 'taylor', 'swift', 'travis', 'kelce', 'hanging', 'bf', 'friend', 'group', 'hanging', 'bf', 'friends', 'travis', 'kelce', 'singing', 'taylor', 'swift', 'childhood', 'childhood', 'friends', 'love', 'travis', 'kelce', 'singing', 'friend', 'group', 'leader', 'friends', 'edits']"
                    ],
                    [
                      "['palestine', 'black', 'people', 'black', 'people', 'palestine', 'sea', 'boundary', 'palestine', 'fish', 'rising', 'beach', 'palestine', 'palestine', 'song', 'lyrics', 'palestine', 'song', 'translation', 'river', 'sea', 'freepalestine', 'palestine', 'freepalastine', 'milkatheemovement']"
                    ],
                    [
                      "['harvard', 'palestine', 'harvard', 'students', 'palestine', 'harvard', 'student', 'group', 'harvard', 'harvard', 'university', 'palestine', 'harvard', 'university', 'regena', 'harvard', 'harvard', 'dorm', 'harvard', 'jada', 'ross', 'harvard', 'yale', 'protesters', 'calling', 'stop', 'genocide', 'gaza', 'held', 'diein', 'harvard', 'business', 'school', 'campus', 'wednesday', 'one', 'point', 'handful', 'briefly', 'engaged', 'person', 'walking', 'among', 'nbcbostoncom', 'israel', 'hamas', 'boston', 'massachusetts', 'news', 'video']"
                    ],
                    [
                      "['lasagna', 'soup', 'edithxbella', 'edith', 'pasta', 'edith', 'green', 'spaghetti', 'pasta', 'alfredo', 'pasta', 'recipes', 'big', 'pasta', 'noodles', 'lasagna', 'chicken', 'alfredo', 'pasta']"
                    ],
                    [
                      "['manhattan', 'foerver', 'confuse', 'nyc', 'storefronts', 'newyork']"
                    ],
                    [
                      "['gluten', 'free', 'israel', 'jazzie', 'gluten', 'free', 'israel', 'video', 'jazzie', 'gluten', 'free', 'israeli', 'israel', 'bite', 'jazzie', 'apology', 'jazzie', 'day', 'life', 'oven', 'palestine', 'sea', 'boundary', 'palestine', 'fish', 'rising', 'beach', 'palestine', 'gluten', 'free', 'free', 'palestine', 'freepalestine', 'endoccupationofpalestine', 'endoccupation']"
                    ],
                    [
                      "['severe', 'weather', 'noreaster', 'coming', 'weekend', 'newengland', 'weather', 'massachusetts', 'boston', 'maine', 'rhodeisland', 'newyork']"
                    ],
                    [
                      "['right', 'cue', 'nyc', 'thank', 'nyc', 'nycweather', 'nycrain', 'imgratefulallthetime', 'weather', 'newyorkcity', 'nycrainyday', 'weekendinnyc']"
                    ],
                    [
                      "['publishing', 'book', 'booktok', 'author', 'book', 'tiktok', 'publishing', 'career', 'books', 'tiktok', 'book', 'writing', 'salary', 'book', 'writing', 'tips', 'book', 'shelves', 'im', 'bestsellingauthor', 'cool', 'club', 'mean', 'im', 'making', 'bank', 'publishingpaidme', 'publishingtips', 'booktea', 'booktoker', 'salarytransparency', 'diversebooks']"
                    ],
                    [
                      "['since', 'yall', 'saying', 'yall', 'stand', 'leave', 'homes', 'give', 'palestine', 'israel']"
                    ],
                    [
                      "['taylors', 'eras', 'tour', 'movie', 'make', 'circular', 'economy', 'taylorswift', 'erastourmovie', 'erasmoviepremiere', 'taylor', 'swift']"
                    ],
                    [
                      "['negev', 'desert', 'israel', 'oven', 'palestine', 'sea', 'boundary', 'palestine', 'fish', 'rising', 'beach', 'palestine', 'visit', 'israel', 'gracie', 'abrams', 'palestine', 'israel', 'music', 'festival', 'dont', 'speak', 'dont', 'know', 'aak', 'dont', 'know', 'palestine', 'israelpalestine', 'freepalestine', 'information', 'ageofinformation']"
                    ],
                    [
                      "['sleep', 'sleep', 'tiktok', 'sleep', 'schedule', 'lack', 'sleep', 'best', 'amount', 'sleep', 'viral']"
                    ],
                    [
                      "['disney', 'taylor', 'swift', 'taylornation', 'disney', 'meeting', 'taylor', 'swift', 'taylor', 'swift', 'movie', 'premiere', 'taylor', 'swift', 'concert', 'movie', 'taylor', 'taylor', \"swift's\", 'eras', 'tour', 'taylor', 'swift', 'movie', 'theaters', 'cant', 'get', 'video', 'like', 'taylor', 'reached', 'phone', 'told', 'like', 'think', 'taylorswift', 'theerasmoviepremiere', 'thegrovela', 'swifttok', 'erasmoviepremiere', 'tstheerastourfilm', 'tstheerastourfilmpremiere', 'taylornation']"
                    ],
                    [
                      "['john', 'green', 'palestine', 'john', 'green', 'john', 'green', 'palestine', 'israel', 'crash', 'course', 'israel', 'palestine', 'history', 'palestine', 'israel', 'john', 'green', 'israel', 'palestine', 'history', 'history', 'tiktok', 'john', 'green', 'israel', 'john', 'green', 'crash', 'course', 'israel', 'importance', 'knowing', 'history', 'giving', 'opinion', 'thank', 'john', 'green', 'passed', 'history', 'class', 'thanks', 'videos', 'crashcourse', 'worldhistory', 'palestine', 'israel', 'knowledgehistory']"
                    ],
                    [
                      "['palestinian', 'israeli', 'conflict', 'summarized', 'arabtok', 'palestine']"
                    ],
                    [
                      "['friday', 'th', 'got', 'best', 'us']"
                    ],
                    [
                      "['solar', 'eclipse', 'solar', 'eclipse', 'happens', 'look', 'solar', 'eclipse', 'solar', 'eclipse', 'eclipse', 'october', 'solar', 'eclipse', 'october', 'th', 'total', 'solar', 'eclipse', 'eclipse', 'case', 'missed', 'solar', 'eclipse', 'solar', 'eclipse', 'wow', 'solareclipse']"
                    ],
                    [
                      "['taylorlautner', 'well', 'taylor', 'swift', 'well', 'minute', 'version', 'eras', 'tour', 'movie', 'well', 'eras', 'tour', 'taylor', 'swift', 'movie', 'travis', 'kelce', 'taylor', 'swift', 'well', 'lyrics', 'eras', 'tour', 'movie', 'taylorswift', 'theerastour', 'theerastourmovie', 'alltoowellmin']"
                    ],
                    [
                      "['oh', 'wednesday']"
                    ],
                    [
                      "['replying', 'martin', 'stop', 'asking', 'us', 'hamas', 'im', 'uploading', 'genocide', 'happening', 'israel', 'palestine', 'warcrimes', 'genocide', 'hamas', 'biden', 'apartheid']"
                    ],
                    [
                      "['seoul', 'new', 'york', 'protests', 'behalf', 'palestine', 'unfolded', 'across', 'globe', 'palestine', 'protests', 'israel', 'news']"
                    ],
                    [
                      "['bangladesh', 'palestine', 'muslim', 'palestine', 'arab', 'arabtiktok']"
                    ],
                    [
                      "['taylor', 'swift', 'eras', 'movie', 'delight', 'erasmoviepremiere']"
                    ],
                    [
                      "['brownstone', 'apartment', 'new', 'york', 'brownstone', 'nyc', 'brownstones', 'upper', 'west', 'side', 'nyc', 'upper', 'east', 'side', 'brownstone', 'inside', 'brownstone', 'upper', 'west', 'side', 'brownstone', 'brownstone', 'courtyards', 'nyc', 'brownstones', 'courtyard', 'location', 'location', 'location', 'upper', 'west', 'side', 'nyc', 'uws', 'upperwestside', 'uppereastside', 'upperwestsidenyc', 'nycrealestate', 'nycrealtor', 'nycskyline', 'brownstone', 'manhattanrealestate']"
                    ],
                    [
                      "['bernie', 'sanders', 'edit', 'bernie', 'sanders', 'democrat', 'democrat', 'edit', 'conservative', 'democrat', 'bernie', 'solos', 'biden', 'election', 'edit', 'usa', 'politicaleditsflop', 'politicaledit', 'democrat', 'america', 'democrat', 'progressive', 'progressivepolitics', 'aoc', 'bernie', 'politics', 'political']"
                    ],
                    [
                      "['kailee', 'coleman', 'books', 'booktok', 'bodies', 'children', 'book', 'bodies', 'book', 'books', 'tiktok', 'book', 'tiktok', 'book', 'ideas', 'books', 'recommendation', 'books', 'read', 'love', 'forever', 'children', 'book', 'topics', 'write', 'tiktokshop', 'representationmatters', 'selfpublishedauthor', 'bodyneutrality', 'childrenssong', 'childrensbook', 'kcolemanbooks', 'ourbodiesbook', 'dietculture']"
                    ],
                    [
                      "['yall', 'gon', 'make', 'lose', 'mind', 'explained', 'politics', 'israel', 'palestine', 'geography', 'unitedstates', 'cc']"
                    ],
                    [
                      "['columbia', 'university', 'lockdown', 'palestinian', 'protest']"
                    ],
                    [
                      "['taylor', 'swift', 'meeting', 'taylor', 'swift', 'taylor', 'swift', 'movie', 'eras', 'tour', 'movie', 'taylor', 'swift', 'premiere', 'travis', 'kelce', 'taylor', 'swift', 'taylor’s', 'version', 'eras', 'tour', 'taylor', 'swift', 'song', 'taylor', 'happened', 'last', 'night', 'waited', 'years', 'magical', 'moment', 'glad', 'met', 'woman', 'whose', 'music', 'grew', 'listening', 'taylor', 'swift', 'appreciate', 'love', 'swiftie', 'taylorswift', 'tstheerastourfilm', 'tstheerastourfilmpremiere', 'losangeles', 'thegrove', 'taylorsversion', 'tstheerastour', 'sofistadium', 'sofistadiumtaylorswift', 'hollywood']"
                    ],
                    [
                      "['dorothy', 'hofner', 'skydiving', 'dorothy', 'skydive', 'old', 'grandma', 'skydiving', 'record', 'skydiving', 'water', 'skydiving', 'videos', 'oldest', 'person', 'world', 'oldest', 'human', 'world', 'brookdale', 'senior', 'living', 'dorothy', 'hoffner', 'lifelong', 'chicagoan', 'centenarian', 'recently', 'set', 'world', 'record', 'oldest', 'person', 'ever', 'participate', 'tandem', 'skydive', 'passed', 'away', 'week', 'incredible', 'jump', 'officials', 'brookdale', 'senior', 'living', 'center', 'confirmed', 'hoffner', 'died', 'sleep', 'sunday', 'night', 'chicago', 'chicagonews', 'skydiving', 'skydive']"
                    ],
                    [
                      "['jewishauthor', 'asking', 'speak', 'whats', 'happening', 'read', 'anything', 'palestinian', 'author', 'listen', 'palestinians', 'palestine']"
                    ],
                    [
                      "['beyonce', 'frecrum', 'dress', 'beyonce', 'renaissance', 'tour', 'beyonce', 'houston', 'tx', 'renaissance', 'tour', 'beyonce', 'concert', 'beyonce', 'new', 'orleans', 'tiffany', 'shades', 'mute', 'challenge', 'beyonce', 'beyonce', 'mute', 'said', 'hope', 'yall', 'get', 'back', 'beyonce', 'renaissanceworldtour', 'houston', 'fyoncé']"
                    ],
                    [
                      "['eras', 'tour', 'movie', 'taylor', 'swift', 'taylor', 'swift', 'movie', 'travis', 'kelce', 'eras', 'premiere', 'simu', 'liu', 'taylor', 'swift', 'taylor', 'swift', 'premiere', 'travis', 'kelce', 'taylor', 'swift', 'eras', 'tour', 'movie', 'taylor', 'chiefs', 'game', 'taylor', 'swift', 'watching', 'eras', 'tour', 'taylor', 'swift', 'getting', 'experience', 'eras', 'tour', 'swiftie', 'watches', 'along', 'movie', 'premiere', 'powerful', 'tstheerastour', 'tstheerastourfilm', 'swifttok']"
                    ],
                    [
                      "['sphere', 'las', 'vegas', 'sphere', 'vegas', 'sphere', 'sphere', 'las', 'vegas', 'u', 'sphere', 'vegas', 'vegas', 'sphere', 'inside', 'sphere', 'u', 'sphere', 'las', 'vegas', 'u', 'performance', 'las', 'vegas', 'sphere', 'inside', 'sphere', 'never', 'seen', 'anything', 'like', 'sphere']"
                    ],
                    [
                      "['israel', 'flag', 'israeli', 'news', 'farzy', 'war', 'good', 'sides', 'truth', 'choose', 'poison', 'fight', 'truth']"
                    ],
                    [
                      "['love', 'way', 'lie', 'eminem', 'gonna', 'stand', 'watch', 'burn', 'love', 'way', 'lie', 'eminem', 'eminem', 'songs', 'fans', 'singing', 'concert', 'gonna', 'stand', 'fans', 'rapping', 'concert', 'fan', 'raps', 'eminem', 'concert', 'eminem', 'concert', 'guess', 'chose', 'right', 'man', 'job']"
                    ],
                    [
                      "['jane', 'eyre', 'vampire', 'academy', 'jane', 'eyre', 'book', 'vampire', 'academy', 'book', 'ruth', 'wilson', 'jane', 'eyre', 'book', 'tok', 'books', 'tiktok', 'jane', 'eyre', 'mr', 'rochester', 'reading', 'books', 'think', 'handsome', 'jane', 'sorry', 'books', 'truly', 'ugly', 'main', 'characters', 'hit', 'harder', 'janeeyre', 'booktok']"
                    ],
                    [
                      "['replying', 'bobby', 'free', 'palestine', 'actions', 'hamas', 'abhorent', 'along', 'stance', 'judaism', 'condem', 'also', 'know', 'response', 'attack', 'cut', 'food', 'water', 'power', 'isnt', 'conflict', 'oppressive', 'stand', 'hear', 'cries', 'innocent', 'frustrated', 'confused', 'isnt', 'innocent', 'population', 'largely', 'made', 'children', 'people', 'suffered', 'decades', 'concern', 'outrage', 'want', 'peace', 'dont', 'answers', 'complex', 'knowledge', 'crisis', 'know', 'fight', 'liberation', 'see', 'one', 'stand', 'understanding', 'one', 'groups', 'awful', 'actions', 'dont', 'define', 'liberation', 'movement', 'someone', 'fought', 'openly', 'actively', 'rights', 'many', 'let', 'call', 'name', 'integrity', 'stance', 'doesnt', 'align', 'choose', 'hear', 'ask', 'want', 'peace', 'claim', 'seek', 'know', 'road', 'get', 'complicated', 'hard', 'likely', 'bloody', 'grieve', 'lives', 'lost', 'itll', 'take', 'care', 'compassion', 'compromise', 'wont', 'get', 'dont', 'sit', 'discomfort', 'reality', 'first', 'offer', 'love', 'support', 'care', 'jewish', 'friends', 'loved', 'ones', 'deeply', 'also', 'stand', 'liberation', 'palestine', 'freepalestine', 'freepalestine', 'palestine', 'fy']"
                    ],
                    [
                      "['straight', 'facts', 'wendy', 'bell', 'joe', 'biden']"
                    ],
                    [
                      "['carter', 'michael', 'geekaleek', 'dance', 'originalvideo', 'kid', 'dancing', 'michael', 'carter', 'dance', 'carter', 'amanda', 'geekaleek', 'dance', 'mom', 'mom', 'looking', 'dance', 'original', 'geek', 'leek', 'pass', 'vibe', 'check', 'carter', 'michael', 'kimmy', 'geekaleekdance', 'geekaleekkid', 'elevengirl', 'amandabailaconlabanda']"
                    ],
                    [
                      "['shani', 'louk', 'truck', 'israel', 'music', 'festival', 'israeli', 'news', 'shani', 'louk', 'full', 'video', 'truck', 'shani', 'louk', 'didnt', 'deserve', 'hamas', 'attacking', 'israel', 'taking', 'families', 'kill', 'death', 'femals', 'getting', 'harassed', 'hamas', 'gaza', 'killing', 'president', 'announced', 'stand', 'israel', 'help', 'going', 'ww', 'shanilouk', 'hamasgaza', 'israelisunderatttacked', 'israel', 'hamasattackisrael', 'ww', 'rip', 'sadnews']"
                    ],
                    [
                      "['free', 'palestine', 'arab', 'arabtiktok', 'palestine', 'freepalestine', 'lebanon']"
                    ],
                    [
                      "['winta', 'zesu', 'explained', 'iphone', 'policy', 'winta_zesu', 'winta', 'zesu', 'service', 'restaurant', 'nyc', 'restaurant', 'nyc', 'winta', 'zesu', 'brunch', 'nyc', 'brunch', 'restaurants', 'nyc', 'restaurant', 'new', 'york', 'wow', 'serviceindustry', 'nycrestaurant', 'nycbrunch', 'nycgirl']"
                    ],
                    [
                      "['asking', 'israelis', 'palestine', 'atiftv', 'interview', 'palestine', 'israel', 'lebanon', 'streetinterview', 'publicinterview', 'steveinthestreets']"
                    ],
                    [
                      "['hamas', 'fighters', 'ran', 'israeli', 'towns', 'unaliving', 'abducting', 'hundreds', 'citizens', 'hamas', 'group', 'feels', 'palestenians', 'done', 'wrong', 'want', 'establish', 'islamic', 'palestenian', 'state', 'get', 'rid', 'israel', 'hamas', 'group', 'governs', 'approximately', 'million', 'palestinians', 'gaza', 'strip', 'well', 'known', 'resistance', 'israel', 'known', 'antisemantic', 'towards', 'jewish', 'neighbors']"
                    ],
                    [
                      "['world', 'trade', 'center', 'new', 'york', 'one', 'world', 'trade', 'center', 'new', 'york', 'city', 'nyc', 'rainbow', 'world', 'trade', 'center', 'new', 'york', 'manhattan', 'world', 'trade', 'center', 'today', 'newyork', 'memorial', 'nyc']"
                    ],
                    [
                      "['hozier', 'hozier', 'philly', 'hozier', 'concert', 'hozier', 'live', 'hozier', 'mad', 'hozier', 'interview', 'hozier', 'take', 'church', 'hozier', 'philadelphia', 'concert', 'hozierofficial', 'replying', 'dj', 'smith', 'captured', 'moment', 'like', 'song', 'alone', 'wasnt', 'enough', 'damage', 'hozier', 'cherrywinehozier', 'unrealunearthtour', 'theanthemdc', 'hoziertok']"
                    ]
                  ],
                  "hovertemplate": "tsne_1=%{x}<br>tsne_2=%{y}<br>video_keywords=%{customdata[0]}<br>cluster=%{marker.color}<extra></extra>",
                  "legendgroup": "",
                  "marker": {
                    "color": [
                      7,
                      0,
                      0,
                      0,
                      0,
                      6,
                      6,
                      7,
                      4,
                      0,
                      7,
                      7,
                      6,
                      7,
                      7,
                      0,
                      1,
                      0,
                      0,
                      7,
                      8,
                      1,
                      0,
                      1,
                      6,
                      7,
                      7,
                      0,
                      0,
                      4,
                      0,
                      1,
                      8,
                      5,
                      7,
                      7,
                      1,
                      4,
                      1,
                      8,
                      8,
                      8,
                      0,
                      4,
                      6,
                      6,
                      7,
                      0,
                      6,
                      0,
                      0,
                      0,
                      2,
                      0,
                      2,
                      0,
                      0,
                      0,
                      0,
                      0,
                      6,
                      8,
                      8,
                      8,
                      0,
                      6,
                      8,
                      4,
                      8,
                      1,
                      6,
                      7,
                      0,
                      6,
                      0,
                      0,
                      8,
                      0,
                      0,
                      0,
                      3,
                      0,
                      0,
                      0,
                      0,
                      0,
                      0,
                      3,
                      0,
                      0,
                      5,
                      0,
                      0,
                      0,
                      0,
                      0,
                      5,
                      0,
                      0,
                      0,
                      0,
                      0,
                      1,
                      0,
                      0,
                      0,
                      0,
                      0,
                      7,
                      0,
                      0,
                      0,
                      0,
                      3,
                      3,
                      1,
                      1,
                      4,
                      3,
                      3,
                      5,
                      7,
                      5,
                      7,
                      0,
                      1,
                      0,
                      0,
                      0,
                      2,
                      0,
                      7,
                      7,
                      0,
                      0,
                      1,
                      7,
                      7,
                      7,
                      5,
                      7,
                      7,
                      7,
                      1,
                      0,
                      7,
                      0,
                      7,
                      0,
                      0,
                      7,
                      3,
                      7,
                      0,
                      3,
                      1,
                      7,
                      3,
                      3,
                      0,
                      0,
                      0,
                      0,
                      1,
                      1,
                      1,
                      0,
                      0,
                      3,
                      3,
                      7,
                      0,
                      0,
                      0,
                      7,
                      7,
                      3,
                      3,
                      3,
                      3,
                      7,
                      7,
                      3,
                      2,
                      3,
                      0,
                      7,
                      3,
                      3,
                      3,
                      3,
                      3,
                      3,
                      3,
                      3,
                      3,
                      3,
                      3,
                      2,
                      5,
                      7,
                      3,
                      0,
                      0,
                      3,
                      0,
                      5,
                      0,
                      0,
                      0,
                      3,
                      3,
                      3,
                      3,
                      3,
                      0,
                      1,
                      1,
                      0,
                      0,
                      0,
                      2,
                      0,
                      5,
                      5,
                      5,
                      5,
                      5,
                      5,
                      5,
                      5,
                      5,
                      5,
                      5,
                      0,
                      0,
                      0,
                      3,
                      0,
                      0,
                      4,
                      1,
                      0,
                      3,
                      0,
                      2,
                      0,
                      0,
                      1,
                      0,
                      0,
                      3,
                      3,
                      3,
                      3,
                      3,
                      0,
                      0,
                      0,
                      3,
                      0,
                      2,
                      0,
                      0,
                      3,
                      3,
                      6,
                      1,
                      0,
                      6,
                      6,
                      0,
                      0,
                      0,
                      0,
                      2,
                      8,
                      6,
                      1,
                      8,
                      2,
                      8,
                      4,
                      1,
                      0,
                      6,
                      8,
                      8,
                      8,
                      8,
                      8,
                      2,
                      6,
                      0,
                      8,
                      6,
                      6,
                      6,
                      6,
                      6,
                      0,
                      6,
                      6,
                      6,
                      6,
                      6,
                      3,
                      6,
                      6,
                      4,
                      6,
                      6,
                      1,
                      6,
                      6,
                      6,
                      6,
                      6,
                      8,
                      0,
                      6,
                      6,
                      0,
                      0,
                      0,
                      2,
                      1,
                      2,
                      2,
                      2,
                      0,
                      6,
                      6,
                      6,
                      2,
                      2,
                      2,
                      2,
                      0,
                      2,
                      6,
                      0,
                      0,
                      2,
                      0,
                      2,
                      1,
                      0,
                      6,
                      2,
                      4,
                      8,
                      0,
                      2,
                      4,
                      1,
                      0,
                      0,
                      2,
                      2,
                      0,
                      2,
                      1,
                      0,
                      2,
                      2,
                      1,
                      1,
                      2,
                      2,
                      0,
                      5,
                      2,
                      0,
                      2,
                      1,
                      2,
                      1,
                      0,
                      0,
                      2,
                      2,
                      2,
                      5,
                      1,
                      2,
                      2,
                      2,
                      4,
                      2,
                      2,
                      1,
                      2,
                      2,
                      4,
                      0,
                      2,
                      5,
                      4,
                      4,
                      0,
                      1,
                      4,
                      4,
                      4,
                      1,
                      2,
                      0,
                      4,
                      1,
                      0,
                      0,
                      2,
                      4,
                      4,
                      0,
                      1,
                      0,
                      1,
                      3,
                      0,
                      3,
                      5,
                      4,
                      3,
                      4,
                      2,
                      3,
                      2,
                      2,
                      2,
                      1,
                      1,
                      2,
                      1,
                      3,
                      2,
                      3,
                      2,
                      0,
                      2,
                      2,
                      2,
                      2,
                      3,
                      2,
                      2,
                      0,
                      2,
                      0,
                      1,
                      1,
                      1,
                      0,
                      1,
                      0,
                      0,
                      3,
                      5,
                      2,
                      0,
                      1,
                      1,
                      2,
                      1,
                      1,
                      0,
                      1,
                      2,
                      1,
                      1,
                      0,
                      4,
                      1,
                      4,
                      4,
                      0,
                      1,
                      2,
                      1,
                      0,
                      2,
                      1,
                      1,
                      0,
                      0,
                      2,
                      0,
                      1,
                      1,
                      1,
                      2,
                      4,
                      0,
                      0,
                      1,
                      1,
                      2,
                      0,
                      1,
                      0,
                      2,
                      0,
                      1,
                      0,
                      0,
                      1,
                      0,
                      0,
                      1,
                      1,
                      4,
                      1,
                      1,
                      4,
                      0
                    ],
                    "coloraxis": "coloraxis",
                    "symbol": "circle"
                  },
                  "mode": "markers",
                  "name": "",
                  "orientation": "v",
                  "showlegend": false,
                  "textfont": {
                    "size": 6
                  },
                  "textposition": "top center",
                  "type": "scatter",
                  "x": [
                    -16.777395248413086,
                    14.063150405883789,
                    26.168855667114258,
                    31.856245040893555,
                    -11.162694931030273,
                    44.989540100097656,
                    38.112876892089844,
                    -15.80264663696289,
                    10.416988372802734,
                    26.895700454711914,
                    -15.970388412475586,
                    -12.5480318069458,
                    35.941837310791016,
                    -17.266216278076172,
                    -15.605118751525879,
                    -6.206785678863525,
                    11.466642379760742,
                    -12.215778350830078,
                    -23.52328109741211,
                    -14.235610008239746,
                    -21.661354064941406,
                    6.498807907104492,
                    -25.883953094482422,
                    15.937105178833008,
                    37.100494384765625,
                    -12.765525817871094,
                    -12.561986923217773,
                    -0.921088695526123,
                    -27.884817123413086,
                    9.115140914916992,
                    -27.88670539855957,
                    6.043000221252441,
                    -21.79936408996582,
                    4.757437705993652,
                    -19.437442779541016,
                    -14.701008796691895,
                    15.426570892333984,
                    8.43428897857666,
                    12.905577659606934,
                    -19.84741973876953,
                    -21.475013732910156,
                    -21.509729385375977,
                    -20.662946701049805,
                    9.422581672668457,
                    31.209260940551758,
                    43.86225128173828,
                    -15.406064987182617,
                    -14.048243522644043,
                    40.567779541015625,
                    40.38576889038086,
                    -23.04020881652832,
                    -22.213712692260742,
                    -22.75312614440918,
                    -21.601099014282227,
                    -21.947874069213867,
                    -21.36020851135254,
                    -13.227523803710938,
                    -13.228954315185547,
                    -11.90995979309082,
                    6.55144739151001,
                    32.599029541015625,
                    -24.073299407958984,
                    -20.409700393676758,
                    -21.141891479492188,
                    31.59718132019043,
                    28.611175537109375,
                    -19.737154006958008,
                    9.15988826751709,
                    -23.44272804260254,
                    17.32490348815918,
                    41.20512390136719,
                    -16.327686309814453,
                    -13.064618110656738,
                    41.92107391357422,
                    1.151320457458496,
                    22.568885803222656,
                    -21.269804000854492,
                    -14.981463432312012,
                    -18.159637451171875,
                    -18.137338638305664,
                    14.848949432373047,
                    7.925974369049072,
                    3.540337085723877,
                    -29.99813461303711,
                    21.197782516479492,
                    -29.995607376098633,
                    11.687313079833984,
                    18.37388038635254,
                    20.52305793762207,
                    6.758190631866455,
                    5.2903151512146,
                    -21.236289978027344,
                    39.47822570800781,
                    -15.99217414855957,
                    -3.0102105140686035,
                    -16.102664947509766,
                    8.280756950378418,
                    -6.011699676513672,
                    -16.043603897094727,
                    -16.115842819213867,
                    -15.13539981842041,
                    -16.50641632080078,
                    9.857544898986816,
                    -11.169893264770508,
                    -21.26472282409668,
                    -22.47614860534668,
                    -10.628083229064941,
                    -13.289007186889648,
                    -17.359146118164062,
                    -39.617488861083984,
                    -40.45936584472656,
                    -39.5455436706543,
                    -4.893762588500977,
                    16.61613655090332,
                    11.639605522155762,
                    0.9766499400138855,
                    9.962718963623047,
                    7.506350994110107,
                    9.033639907836914,
                    14.71931266784668,
                    6.592620849609375,
                    -13.713943481445312,
                    6.3415727615356445,
                    -12.72965145111084,
                    -6.534452438354492,
                    12.176072120666504,
                    29.281930923461914,
                    -26.904932022094727,
                    -14.350869178771973,
                    -34.89775466918945,
                    -36.23794937133789,
                    -14.154425621032715,
                    -19.066864013671875,
                    -11.493257522583008,
                    -13.118892669677734,
                    3.533409357070923,
                    -19.060152053833008,
                    -16.662385940551758,
                    -14.801949501037598,
                    6.28372859954834,
                    -18.505001068115234,
                    -11.08598804473877,
                    -17.24691390991211,
                    3.2026617527008057,
                    -39.893985748291016,
                    -12.980816841125488,
                    1.4970107078552246,
                    -14.149214744567871,
                    10.998079299926758,
                    18.395299911499023,
                    -13.39013957977295,
                    24.464365005493164,
                    -11.8624906539917,
                    -2.6664249897003174,
                    12.364481925964355,
                    7.342729568481445,
                    -16.91919708251953,
                    24.745609283447266,
                    22.542945861816406,
                    -14.647021293640137,
                    -2.464508056640625,
                    -4.00197696685791,
                    -6.215063571929932,
                    6.144961357116699,
                    6.233185291290283,
                    11.892972946166992,
                    7.4206109046936035,
                    -17.474611282348633,
                    25.291118621826172,
                    16.99031639099121,
                    -18.224306106567383,
                    -25.971261978149414,
                    -5.285345554351807,
                    -5.093639850616455,
                    -11.345070838928223,
                    -14.289102554321289,
                    27.186914443969727,
                    14.96420669555664,
                    12.35742473602295,
                    8.547327995300293,
                    -14.779278755187988,
                    -14.799016952514648,
                    17.951290130615234,
                    -22.82427978515625,
                    17.727846145629883,
                    -23.435556411743164,
                    -16.53888702392578,
                    21.228527069091797,
                    22.498788833618164,
                    20.630624771118164,
                    19.87479019165039,
                    22.416154861450195,
                    15.544514656066895,
                    18.715866088867188,
                    19.72681999206543,
                    11.008038520812988,
                    21.349241256713867,
                    18.105764389038086,
                    -33.25835037231445,
                    5.849642753601074,
                    -15.581120491027832,
                    22.31017303466797,
                    -13.49865436553955,
                    -23.854454040527344,
                    26.662879943847656,
                    22.666065216064453,
                    8.206877708435059,
                    -18.94258689880371,
                    22.244365692138672,
                    7.24513053894043,
                    17.655820846557617,
                    27.177200317382812,
                    25.573909759521484,
                    25.1351261138916,
                    20.423404693603516,
                    -33.119911193847656,
                    10.281964302062988,
                    12.56203556060791,
                    12.935786247253418,
                    25.093461990356445,
                    -8.634249687194824,
                    -27.930179595947266,
                    -36.024383544921875,
                    6.964148998260498,
                    9.168990135192871,
                    7.622555255889893,
                    9.238309860229492,
                    9.603662490844727,
                    8.315712928771973,
                    8.706398010253906,
                    8.108034133911133,
                    7.617132186889648,
                    7.173455238342285,
                    8.497164726257324,
                    6.574214458465576,
                    -19.577762603759766,
                    -35.54386901855469,
                    15.739062309265137,
                    -15.024718284606934,
                    3.136610507965088,
                    9.686934471130371,
                    4.445104598999023,
                    -13.08302116394043,
                    18.46674919128418,
                    2.1326982975006104,
                    -27.725845336914062,
                    23.662595748901367,
                    23.185834884643555,
                    14.153202056884766,
                    6.926138877868652,
                    23.441343307495117,
                    26.2347469329834,
                    18.91486358642578,
                    17.661785125732422,
                    16.25295639038086,
                    22.21367645263672,
                    -26.405742645263672,
                    -33.12135314941406,
                    -11.22481632232666,
                    20.656347274780273,
                    -1.4505805969238281,
                    -22.419300079345703,
                    6.869101047515869,
                    7.401986122131348,
                    21.267080307006836,
                    26.242511749267578,
                    40.0632209777832,
                    6.349812030792236,
                    -4.529342174530029,
                    40.27431106567383,
                    31.123226165771484,
                    -25.940753936767578,
                    -15.803497314453125,
                    -35.568092346191406,
                    -4.158219814300537,
                    -34.2625617980957,
                    -22.487335205078125,
                    36.237144470214844,
                    8.844497680664062,
                    -24.973909378051758,
                    -27.18541717529297,
                    -23.049089431762695,
                    15.873812675476074,
                    11.277503967285156,
                    27.6390438079834,
                    40.19009780883789,
                    -22.36458969116211,
                    -24.973854064941406,
                    -24.55890655517578,
                    -23.642515182495117,
                    -21.04045295715332,
                    -30.9047908782959,
                    35.21258544921875,
                    27.147171020507812,
                    -20.606325149536133,
                    33.12273406982422,
                    33.587867736816406,
                    41.95405197143555,
                    42.49439239501953,
                    38.300209045410156,
                    27.308067321777344,
                    32.29022979736328,
                    42.028350830078125,
                    36.693973541259766,
                    42.110374450683594,
                    35.14345169067383,
                    11.639728546142578,
                    33.94305419921875,
                    42.846160888671875,
                    15.51443099975586,
                    42.44549560546875,
                    33.54413986206055,
                    14.59012222290039,
                    35.36720657348633,
                    33.513710021972656,
                    33.05845260620117,
                    32.701446533203125,
                    35.34100341796875,
                    -20.38357925415039,
                    -6.744591236114502,
                    43.328468322753906,
                    34.99349594116211,
                    25.926837921142578,
                    0.6819987297058105,
                    4.078017234802246,
                    -35.515235900878906,
                    11.840897560119629,
                    -32.03950500488281,
                    -35.14421463012695,
                    -34.86466598510742,
                    -42.538719177246094,
                    37.12946319580078,
                    36.76792526245117,
                    36.51122283935547,
                    -33.18936538696289,
                    -31.95870590209961,
                    -33.1552734375,
                    -32.065208435058594,
                    7.357207298278809,
                    -31.122116088867188,
                    38.9569206237793,
                    14.12783145904541,
                    14.796964645385742,
                    -33.34440994262695,
                    -26.237218856811523,
                    -33.24312973022461,
                    5.156646728515625,
                    11.10185718536377,
                    32.52803039550781,
                    -34.03574752807617,
                    9.992033958435059,
                    -22.435131072998047,
                    25.938199996948242,
                    -32.111305236816406,
                    11.02550983428955,
                    11.39659595489502,
                    -6.667385101318359,
                    21.115114212036133,
                    -22.333330154418945,
                    -24.522554397583008,
                    12.32629680633545,
                    -23.795656204223633,
                    5.94069766998291,
                    14.617562294006348,
                    -24.14643669128418,
                    -31.750957489013672,
                    12.644063949584961,
                    16.653160095214844,
                    -30.068161010742188,
                    -30.09270477294922,
                    -24.119739532470703,
                    8.412662506103516,
                    -31.935035705566406,
                    0.6673132181167603,
                    -33.81284713745117,
                    10.346125602722168,
                    -24.153488159179688,
                    8.143892288208008,
                    -7.881845951080322,
                    10.50383186340332,
                    -23.282621383666992,
                    -28.401166915893555,
                    -39.733428955078125,
                    5.790413856506348,
                    3.9109182357788086,
                    -34.5428352355957,
                    -29.765531539916992,
                    -33.94223403930664,
                    5.9403462409973145,
                    -28.55758285522461,
                    -36.556095123291016,
                    5.2202582359313965,
                    -32.046104431152344,
                    -37.411590576171875,
                    5.893735885620117,
                    31.586990356445312,
                    -31.159648895263672,
                    6.342998504638672,
                    5.171531677246094,
                    6.583946228027344,
                    30.75393295288086,
                    2.0629031658172607,
                    6.750728607177734,
                    5.1394805908203125,
                    4.717111110687256,
                    4.82967472076416,
                    -33.22533416748047,
                    29.910280227661133,
                    7.3484954833984375,
                    1.511777639389038,
                    9.804482460021973,
                    30.387754440307617,
                    -36.25043869018555,
                    5.349532127380371,
                    7.999463081359863,
                    5.638130187988281,
                    2.88122296333313,
                    30.473005294799805,
                    2.823765754699707,
                    16.536096572875977,
                    -22.566255569458008,
                    17.633974075317383,
                    5.4444074630737305,
                    4.64250373840332,
                    15.811432838439941,
                    7.747466087341309,
                    -33.88271713256836,
                    19.27423667907715,
                    -32.284610748291016,
                    -30.921600341796875,
                    -35.695045471191406,
                    2.7028849124908447,
                    15.278656959533691,
                    -41.6170539855957,
                    14.893660545349121,
                    12.457277297973633,
                    -35.87688064575195,
                    20.089387893676758,
                    -34.43002700805664,
                    -19.55655860900879,
                    -39.54392623901367,
                    -35.68218231201172,
                    -34.61634063720703,
                    -39.14104080200195,
                    12.185422897338867,
                    -37.69261932373047,
                    -40.20058822631836,
                    -4.5550031661987305,
                    -31.84456443786621,
                    -23.863712310791016,
                    14.598031044006348,
                    5.321633815765381,
                    13.393024444580078,
                    -5.900344371795654,
                    11.642149925231934,
                    6.493038177490234,
                    -24.00519561767578,
                    25.464624404907227,
                    5.725863933563232,
                    -23.287460327148438,
                    32.610694885253906,
                    13.397284507751465,
                    11.55448055267334,
                    -24.742929458618164,
                    13.69482421875,
                    14.458288192749023,
                    -40.976829528808594,
                    11.298238754272461,
                    -21.04245376586914,
                    4.51375675201416,
                    9.82504940032959,
                    23.26386260986328,
                    7.785813331604004,
                    6.179444313049316,
                    5.447502613067627,
                    6.633299350738525,
                    -12.366401672363281,
                    17.46183967590332,
                    -39.06478500366211,
                    5.478453159332275,
                    38.88018798828125,
                    -29.639799118041992,
                    3.795170307159424,
                    14.111420631408691,
                    44.355682373046875,
                    22.244661331176758,
                    -29.056257247924805,
                    44.3443717956543,
                    10.394161224365234,
                    14.980738639831543,
                    10.356905937194824,
                    -39.88340377807617,
                    9.17469596862793,
                    -6.999325275421143,
                    -12.86801528930664,
                    17.771223068237305,
                    13.320852279663086,
                    -30.385295867919922,
                    3.966431140899658,
                    14.720318794250488,
                    -22.80554962158203,
                    -29.692609786987305,
                    3.285288095474243,
                    8.777546882629395,
                    -24.624195098876953,
                    -14.25829029083252,
                    3.9856579303741455,
                    -4.830233573913574,
                    -6.310963153839111,
                    9.718328475952148,
                    10.985403060913086,
                    10.142801284790039,
                    12.859395027160645,
                    9.717107772827148,
                    9.192251205444336,
                    -19.930356979370117
                  ],
                  "xaxis": "x",
                  "y": [
                    33.040679931640625,
                    -24.88349151611328,
                    2.9059481620788574,
                    -4.02774715423584,
                    2.165766954421997,
                    -5.626119136810303,
                    -7.4433088302612305,
                    29.909210205078125,
                    -11.793981552124023,
                    -2.8570990562438965,
                    27.501907348632812,
                    28.385345458984375,
                    -3.7497479915618896,
                    31.19359016418457,
                    31.56165313720703,
                    21.33837890625,
                    -41.938934326171875,
                    24.933500289916992,
                    -20.870906829833984,
                    29.960811614990234,
                    -23.94769287109375,
                    -48.15843200683594,
                    17.430749893188477,
                    -49.43391799926758,
                    -6.431798934936523,
                    30.181060791015625,
                    33.99746322631836,
                    -38.73665237426758,
                    21.691068649291992,
                    -6.4716033935546875,
                    21.71666717529297,
                    -42.8857307434082,
                    -21.293264389038086,
                    46.54769515991211,
                    32.58669662475586,
                    32.21981430053711,
                    -44.691200256347656,
                    -7.941067695617676,
                    -41.45783615112305,
                    -25.495319366455078,
                    -22.568941116333008,
                    -27.514055252075195,
                    15.280597686767578,
                    -8.11591911315918,
                    -7.218549728393555,
                    -3.3233206272125244,
                    30.86565399169922,
                    -24.033863067626953,
                    -4.603952407836914,
                    -12.891752243041992,
                    12.635151863098145,
                    11.830354690551758,
                    13.223750114440918,
                    13.532562255859375,
                    13.698806762695312,
                    12.799444198608398,
                    -15.517643928527832,
                    -15.512724876403809,
                    -10.201614379882812,
                    7.583474636077881,
                    -6.828302383422852,
                    -24.020366668701172,
                    -27.497852325439453,
                    -26.166929244995117,
                    -2.0331363677978516,
                    -4.780371189117432,
                    -23.49246597290039,
                    -10.703055381774902,
                    -23.34512710571289,
                    -40.81637954711914,
                    -3.1430561542510986,
                    30.66663932800293,
                    7.295506477355957,
                    -5.06116247177124,
                    -19.40768814086914,
                    13.790030479431152,
                    -26.807188034057617,
                    -20.911678314208984,
                    -17.84848403930664,
                    -17.864688873291016,
                    26.06379508972168,
                    27.3975772857666,
                    -40.07771301269531,
                    -18.479156494140625,
                    0.9553253650665283,
                    -18.474201202392578,
                    -6.234409332275391,
                    28.54664421081543,
                    16.93330955505371,
                    4.856309413909912,
                    15.11058235168457,
                    -8.261487007141113,
                    -13.268423080444336,
                    -5.159261703491211,
                    21.79453468322754,
                    -3.8717093467712402,
                    46.07044219970703,
                    21.063426971435547,
                    -3.6895947456359863,
                    -4.725512504577637,
                    -3.7000932693481445,
                    -5.61246395111084,
                    -49.266056060791016,
                    2.127399206161499,
                    -8.266427040100098,
                    18.271663665771484,
                    -9.87735366821289,
                    15.64019775390625,
                    28.98594856262207,
                    -1.8692289590835571,
                    -2.8278701305389404,
                    -1.7367162704467773,
                    10.59046745300293,
                    24.261682510375977,
                    26.694128036499023,
                    -40.436073303222656,
                    -42.61911392211914,
                    -9.961385726928711,
                    13.602137565612793,
                    24.16206169128418,
                    15.128462791442871,
                    27.265975952148438,
                    16.495744705200195,
                    32.42573165893555,
                    -5.953803539276123,
                    -48.484310150146484,
                    -9.27957820892334,
                    -3.290801525115967,
                    4.683281421661377,
                    5.943572521209717,
                    -11.537334442138672,
                    28.031578063964844,
                    33.67481994628906,
                    -10.056015014648438,
                    15.605963706970215,
                    -44.7579460144043,
                    34.563018798828125,
                    26.510568618774414,
                    30.945098876953125,
                    15.48744010925293,
                    30.371456146240234,
                    31.285076141357422,
                    33.93967819213867,
                    -43.64340591430664,
                    -2.096590518951416,
                    25.936723709106445,
                    -8.138541221618652,
                    28.440458297729492,
                    22.223278045654297,
                    -39.83409118652344,
                    36.78620529174805,
                    20.376466751098633,
                    33.88526916503906,
                    21.850753784179688,
                    26.88858413696289,
                    -43.2506103515625,
                    35.11235427856445,
                    25.98969268798828,
                    21.479700088500977,
                    5.374659538269043,
                    -7.923026084899902,
                    -7.584033966064453,
                    -7.424715518951416,
                    -40.894710540771484,
                    -38.59371566772461,
                    -40.80531311035156,
                    10.820920944213867,
                    25.199810028076172,
                    18.363248825073242,
                    22.476116180419922,
                    35.71535110473633,
                    -1.8101741075515747,
                    9.87598991394043,
                    10.265522956848145,
                    33.94718933105469,
                    36.11155700683594,
                    21.89840316772461,
                    22.591732025146484,
                    25.184810638427734,
                    24.294994354248047,
                    35.66223907470703,
                    34.224876403808594,
                    27.216960906982422,
                    3.200532913208008,
                    23.430309295654297,
                    -2.414134979248047,
                    32.12069320678711,
                    18.24749755859375,
                    23.226354598999023,
                    22.6883487701416,
                    20.579580307006836,
                    16.11681365966797,
                    21.489015579223633,
                    21.213275909423828,
                    26.209625244140625,
                    27.53937530517578,
                    21.887256622314453,
                    17.88724708557129,
                    10.719569206237793,
                    47.69981002807617,
                    32.945518493652344,
                    19.542259216308594,
                    -24.78299331665039,
                    -12.746368408203125,
                    20.42121124267578,
                    14.761805534362793,
                    44.95211410522461,
                    9.747407913208008,
                    -26.20661735534668,
                    13.04908561706543,
                    26.681377410888672,
                    19.591638565063477,
                    19.28571128845215,
                    19.98206329345703,
                    23.63224983215332,
                    -3.480506658554077,
                    -44.73719787597656,
                    -42.94505310058594,
                    -11.642184257507324,
                    26.734033584594727,
                    -9.39117431640625,
                    7.305313587188721,
                    -11.51952075958252,
                    46.28327560424805,
                    48.31786346435547,
                    48.636226654052734,
                    49.94345474243164,
                    49.113624572753906,
                    48.3047981262207,
                    49.146602630615234,
                    49.42706298828125,
                    50.17763900756836,
                    49.37736511230469,
                    50.324954986572266,
                    8.799800872802734,
                    13.402679443359375,
                    -11.498790740966797,
                    19.718578338623047,
                    5.157265663146973,
                    -7.0048370361328125,
                    -10.44985580444336,
                    -35.84275436401367,
                    7.135487079620361,
                    19.762447357177734,
                    -19.26456642150879,
                    8.300704956054688,
                    -13.836865425109863,
                    -15.557435989379883,
                    -49.248573303222656,
                    -7.042886257171631,
                    -14.707466125488281,
                    19.059154510498047,
                    24.472335815429688,
                    24.449867248535156,
                    25.623807907104492,
                    24.892902374267578,
                    -4.757174015045166,
                    -3.4586400985717773,
                    15.011696815490723,
                    20.932668685913086,
                    22.042898178100586,
                    0.5725610852241516,
                    24.660371780395508,
                    26.844146728515625,
                    20.64051628112793,
                    20.488004684448242,
                    -11.839839935302734,
                    -45.03968811035156,
                    3.3184313774108887,
                    -9.492103576660156,
                    -8.914265632629395,
                    17.47344398498535,
                    4.908385276794434,
                    2.6141793727874756,
                    -7.474943161010742,
                    9.903642654418945,
                    -26.900880813598633,
                    -9.126601219177246,
                    -46.53303527832031,
                    -24.092435836791992,
                    17.634965896606445,
                    -25.05607032775879,
                    -31.99039649963379,
                    -36.198768615722656,
                    -4.295178413391113,
                    -6.823320388793945,
                    -24.222614288330078,
                    -23.126766204833984,
                    -25.604833602905273,
                    -24.624008178710938,
                    -25.109634399414062,
                    5.03757905960083,
                    -6.933854103088379,
                    -4.814899444580078,
                    -21.57822608947754,
                    -8.021966934204102,
                    -8.894359588623047,
                    -4.498682498931885,
                    -5.13932991027832,
                    -9.08605670928955,
                    -3.901609420776367,
                    -5.981661319732666,
                    -6.499057769775391,
                    -9.744970321655273,
                    -7.792163848876953,
                    -4.787109375,
                    26.6944637298584,
                    -7.242764949798584,
                    -4.7348480224609375,
                    -33.01823806762695,
                    -4.247936248779297,
                    -11.44819450378418,
                    -41.592247009277344,
                    -10.923896789550781,
                    -12.070783615112305,
                    -10.410360336303711,
                    -7.815124988555908,
                    -8.435759544372559,
                    -25.212984085083008,
                    -10.194452285766602,
                    -6.370145797729492,
                    -4.333566188812256,
                    2.0196518898010254,
                    -1.3755723237991333,
                    -20.92936134338379,
                    8.117919921875,
                    -45.780662536621094,
                    8.970396995544434,
                    3.460624933242798,
                    15.902100563049316,
                    13.018701553344727,
                    -7.893088340759277,
                    -5.551975727081299,
                    -7.601080417633057,
                    4.7756266593933105,
                    4.293379306793213,
                    5.852232933044434,
                    7.203560829162598,
                    12.43966007232666,
                    6.944507122039795,
                    -3.0995843410491943,
                    -24.722797393798828,
                    -24.768163681030273,
                    15.866201400756836,
                    -4.193714618682861,
                    14.355494499206543,
                    -46.13558578491211,
                    -12.972700119018555,
                    -8.598018646240234,
                    11.15357780456543,
                    -7.799203395843506,
                    -22.571928024291992,
                    2.038059949874878,
                    4.806746482849121,
                    -10.08748722076416,
                    -46.173797607421875,
                    -10.228011131286621,
                    0.9155519008636475,
                    1.4992595911026,
                    -1.249314785003662,
                    -5.687101364135742,
                    1.9014683961868286,
                    -44.46588897705078,
                    -23.860021591186523,
                    0.9694905281066895,
                    16.747182846069336,
                    -43.02683639526367,
                    -42.22683334350586,
                    4.375660419464111,
                    2.647456645965576,
                    14.101044654846191,
                    46.120277404785156,
                    2.1319332122802734,
                    -1.3747934103012085,
                    7.606974124908447,
                    -39.60015869140625,
                    3.355752944946289,
                    -45.67169952392578,
                    -7.953028678894043,
                    21.635852813720703,
                    1.1271721124649048,
                    3.9006481170654297,
                    9.888884544372559,
                    46.981422424316406,
                    -36.000431060791016,
                    11.999070167541504,
                    13.08857250213623,
                    12.99320125579834,
                    -17.18119239807129,
                    4.05183744430542,
                    14.563111305236816,
                    -43.88264465332031,
                    12.873587608337402,
                    12.593443870544434,
                    -17.987977981567383,
                    8.731488227844238,
                    2.763975143432617,
                    14.884648323059082,
                    -17.406761169433594,
                    -15.74295711517334,
                    9.802163124084473,
                    -42.77699661254883,
                    -14.897490501403809,
                    -15.128530502319336,
                    -18.07134437561035,
                    -35.49136734008789,
                    12.069741249084473,
                    9.72415828704834,
                    -17.136491775512695,
                    -44.939430236816406,
                    -30.824487686157227,
                    9.291669845581055,
                    14.349161148071289,
                    -16.769227981567383,
                    -15.483633041381836,
                    42.7857780456543,
                    -46.65790939331055,
                    9.994813919067383,
                    -36.095672607421875,
                    23.353063583374023,
                    15.353127479553223,
                    20.486650466918945,
                    16.031496047973633,
                    -16.94148826599121,
                    24.384180068969727,
                    -12.22063159942627,
                    14.145628929138184,
                    22.877334594726562,
                    14.905431747436523,
                    14.513490676879883,
                    17.66030502319336,
                    -46.93159103393555,
                    -46.45948791503906,
                    12.343613624572754,
                    -34.35403823852539,
                    28.390451431274414,
                    11.207247734069824,
                    18.955913543701172,
                    13.12657356262207,
                    2.163524627685547,
                    10.921930313110352,
                    12.948884963989258,
                    14.024757385253906,
                    9.458375930786133,
                    24.44498062133789,
                    15.190694808959961,
                    9.819945335388184,
                    3.3309874534606934,
                    11.332839965820312,
                    -12.75883674621582,
                    -42.6580810546875,
                    -44.027198791503906,
                    -46.70537567138672,
                    8.839061737060547,
                    -38.35746383666992,
                    8.344932556152344,
                    -3.427825689315796,
                    21.212799072265625,
                    43.024009704589844,
                    0.2945019602775574,
                    7.9559478759765625,
                    -39.52701187133789,
                    -43.89434051513672,
                    2.536344528198242,
                    -48.91371154785156,
                    -38.553855895996094,
                    6.035264492034912,
                    -42.90106964111328,
                    1.5062611103057861,
                    -43.12777328491211,
                    -30.973045349121094,
                    -15.400440216064453,
                    -11.607748985290527,
                    -38.83675765991211,
                    -10.454940795898438,
                    -11.04133415222168,
                    -25.507144927978516,
                    -45.67586135864258,
                    6.500404357910156,
                    -42.22385787963867,
                    -2.001131534576416,
                    8.514711380004883,
                    -41.775428771972656,
                    -43.918819427490234,
                    0.3972419798374176,
                    -26.21227264404297,
                    6.508829116821289,
                    0.34309980273246765,
                    -38.98926544189453,
                    -34.54452133178711,
                    -47.05794906616211,
                    6.4905781745910645,
                    -8.832815170288086,
                    -7.926680088043213,
                    -25.147546768188477,
                    -44.93052291870117,
                    -34.548194885253906,
                    7.643364429473877,
                    -19.980485916137695,
                    -45.42293167114258,
                    10.235358238220215,
                    7.233875274658203,
                    -12.2465181350708,
                    -37.03266143798828,
                    11.929999351501465,
                    -24.4837646484375,
                    -49.067481994628906,
                    -6.892420291900635,
                    20.34113121032715,
                    -37.71851348876953,
                    -46.527862548828125,
                    -9.989524841308594,
                    -44.39732360839844,
                    -39.510562896728516,
                    -12.009339332580566,
                    10.76598834991455
                  ],
                  "yaxis": "y"
                }
              ],
              "layout": {
                "coloraxis": {
                  "colorbar": {
                    "title": {
                      "text": "cluster"
                    }
                  },
                  "colorscale": [
                    [
                      0,
                      "#0d0887"
                    ],
                    [
                      0.1111111111111111,
                      "#46039f"
                    ],
                    [
                      0.2222222222222222,
                      "#7201a8"
                    ],
                    [
                      0.3333333333333333,
                      "#9c179e"
                    ],
                    [
                      0.4444444444444444,
                      "#bd3786"
                    ],
                    [
                      0.5555555555555556,
                      "#d8576b"
                    ],
                    [
                      0.6666666666666666,
                      "#ed7953"
                    ],
                    [
                      0.7777777777777778,
                      "#fb9f3a"
                    ],
                    [
                      0.8888888888888888,
                      "#fdca26"
                    ],
                    [
                      1,
                      "#f0f921"
                    ]
                  ]
                },
                "hoverlabel": {
                  "align": "left",
                  "font": {
                    "size": 7
                  }
                },
                "legend": {
                  "tracegroupgap": 0
                },
                "margin": {
                  "t": 60
                },
                "template": {
                  "data": {
                    "bar": [
                      {
                        "error_x": {
                          "color": "#2a3f5f"
                        },
                        "error_y": {
                          "color": "#2a3f5f"
                        },
                        "marker": {
                          "line": {
                            "color": "#E5ECF6",
                            "width": 0.5
                          },
                          "pattern": {
                            "fillmode": "overlay",
                            "size": 10,
                            "solidity": 0.2
                          }
                        },
                        "type": "bar"
                      }
                    ],
                    "barpolar": [
                      {
                        "marker": {
                          "line": {
                            "color": "#E5ECF6",
                            "width": 0.5
                          },
                          "pattern": {
                            "fillmode": "overlay",
                            "size": 10,
                            "solidity": 0.2
                          }
                        },
                        "type": "barpolar"
                      }
                    ],
                    "carpet": [
                      {
                        "aaxis": {
                          "endlinecolor": "#2a3f5f",
                          "gridcolor": "white",
                          "linecolor": "white",
                          "minorgridcolor": "white",
                          "startlinecolor": "#2a3f5f"
                        },
                        "baxis": {
                          "endlinecolor": "#2a3f5f",
                          "gridcolor": "white",
                          "linecolor": "white",
                          "minorgridcolor": "white",
                          "startlinecolor": "#2a3f5f"
                        },
                        "type": "carpet"
                      }
                    ],
                    "choropleth": [
                      {
                        "colorbar": {
                          "outlinewidth": 0,
                          "ticks": ""
                        },
                        "type": "choropleth"
                      }
                    ],
                    "contour": [
                      {
                        "colorbar": {
                          "outlinewidth": 0,
                          "ticks": ""
                        },
                        "colorscale": [
                          [
                            0,
                            "#0d0887"
                          ],
                          [
                            0.1111111111111111,
                            "#46039f"
                          ],
                          [
                            0.2222222222222222,
                            "#7201a8"
                          ],
                          [
                            0.3333333333333333,
                            "#9c179e"
                          ],
                          [
                            0.4444444444444444,
                            "#bd3786"
                          ],
                          [
                            0.5555555555555556,
                            "#d8576b"
                          ],
                          [
                            0.6666666666666666,
                            "#ed7953"
                          ],
                          [
                            0.7777777777777778,
                            "#fb9f3a"
                          ],
                          [
                            0.8888888888888888,
                            "#fdca26"
                          ],
                          [
                            1,
                            "#f0f921"
                          ]
                        ],
                        "type": "contour"
                      }
                    ],
                    "contourcarpet": [
                      {
                        "colorbar": {
                          "outlinewidth": 0,
                          "ticks": ""
                        },
                        "type": "contourcarpet"
                      }
                    ],
                    "heatmap": [
                      {
                        "colorbar": {
                          "outlinewidth": 0,
                          "ticks": ""
                        },
                        "colorscale": [
                          [
                            0,
                            "#0d0887"
                          ],
                          [
                            0.1111111111111111,
                            "#46039f"
                          ],
                          [
                            0.2222222222222222,
                            "#7201a8"
                          ],
                          [
                            0.3333333333333333,
                            "#9c179e"
                          ],
                          [
                            0.4444444444444444,
                            "#bd3786"
                          ],
                          [
                            0.5555555555555556,
                            "#d8576b"
                          ],
                          [
                            0.6666666666666666,
                            "#ed7953"
                          ],
                          [
                            0.7777777777777778,
                            "#fb9f3a"
                          ],
                          [
                            0.8888888888888888,
                            "#fdca26"
                          ],
                          [
                            1,
                            "#f0f921"
                          ]
                        ],
                        "type": "heatmap"
                      }
                    ],
                    "heatmapgl": [
                      {
                        "colorbar": {
                          "outlinewidth": 0,
                          "ticks": ""
                        },
                        "colorscale": [
                          [
                            0,
                            "#0d0887"
                          ],
                          [
                            0.1111111111111111,
                            "#46039f"
                          ],
                          [
                            0.2222222222222222,
                            "#7201a8"
                          ],
                          [
                            0.3333333333333333,
                            "#9c179e"
                          ],
                          [
                            0.4444444444444444,
                            "#bd3786"
                          ],
                          [
                            0.5555555555555556,
                            "#d8576b"
                          ],
                          [
                            0.6666666666666666,
                            "#ed7953"
                          ],
                          [
                            0.7777777777777778,
                            "#fb9f3a"
                          ],
                          [
                            0.8888888888888888,
                            "#fdca26"
                          ],
                          [
                            1,
                            "#f0f921"
                          ]
                        ],
                        "type": "heatmapgl"
                      }
                    ],
                    "histogram": [
                      {
                        "marker": {
                          "pattern": {
                            "fillmode": "overlay",
                            "size": 10,
                            "solidity": 0.2
                          }
                        },
                        "type": "histogram"
                      }
                    ],
                    "histogram2d": [
                      {
                        "colorbar": {
                          "outlinewidth": 0,
                          "ticks": ""
                        },
                        "colorscale": [
                          [
                            0,
                            "#0d0887"
                          ],
                          [
                            0.1111111111111111,
                            "#46039f"
                          ],
                          [
                            0.2222222222222222,
                            "#7201a8"
                          ],
                          [
                            0.3333333333333333,
                            "#9c179e"
                          ],
                          [
                            0.4444444444444444,
                            "#bd3786"
                          ],
                          [
                            0.5555555555555556,
                            "#d8576b"
                          ],
                          [
                            0.6666666666666666,
                            "#ed7953"
                          ],
                          [
                            0.7777777777777778,
                            "#fb9f3a"
                          ],
                          [
                            0.8888888888888888,
                            "#fdca26"
                          ],
                          [
                            1,
                            "#f0f921"
                          ]
                        ],
                        "type": "histogram2d"
                      }
                    ],
                    "histogram2dcontour": [
                      {
                        "colorbar": {
                          "outlinewidth": 0,
                          "ticks": ""
                        },
                        "colorscale": [
                          [
                            0,
                            "#0d0887"
                          ],
                          [
                            0.1111111111111111,
                            "#46039f"
                          ],
                          [
                            0.2222222222222222,
                            "#7201a8"
                          ],
                          [
                            0.3333333333333333,
                            "#9c179e"
                          ],
                          [
                            0.4444444444444444,
                            "#bd3786"
                          ],
                          [
                            0.5555555555555556,
                            "#d8576b"
                          ],
                          [
                            0.6666666666666666,
                            "#ed7953"
                          ],
                          [
                            0.7777777777777778,
                            "#fb9f3a"
                          ],
                          [
                            0.8888888888888888,
                            "#fdca26"
                          ],
                          [
                            1,
                            "#f0f921"
                          ]
                        ],
                        "type": "histogram2dcontour"
                      }
                    ],
                    "mesh3d": [
                      {
                        "colorbar": {
                          "outlinewidth": 0,
                          "ticks": ""
                        },
                        "type": "mesh3d"
                      }
                    ],
                    "parcoords": [
                      {
                        "line": {
                          "colorbar": {
                            "outlinewidth": 0,
                            "ticks": ""
                          }
                        },
                        "type": "parcoords"
                      }
                    ],
                    "pie": [
                      {
                        "automargin": true,
                        "type": "pie"
                      }
                    ],
                    "scatter": [
                      {
                        "fillpattern": {
                          "fillmode": "overlay",
                          "size": 10,
                          "solidity": 0.2
                        },
                        "type": "scatter"
                      }
                    ],
                    "scatter3d": [
                      {
                        "line": {
                          "colorbar": {
                            "outlinewidth": 0,
                            "ticks": ""
                          }
                        },
                        "marker": {
                          "colorbar": {
                            "outlinewidth": 0,
                            "ticks": ""
                          }
                        },
                        "type": "scatter3d"
                      }
                    ],
                    "scattercarpet": [
                      {
                        "marker": {
                          "colorbar": {
                            "outlinewidth": 0,
                            "ticks": ""
                          }
                        },
                        "type": "scattercarpet"
                      }
                    ],
                    "scattergeo": [
                      {
                        "marker": {
                          "colorbar": {
                            "outlinewidth": 0,
                            "ticks": ""
                          }
                        },
                        "type": "scattergeo"
                      }
                    ],
                    "scattergl": [
                      {
                        "marker": {
                          "colorbar": {
                            "outlinewidth": 0,
                            "ticks": ""
                          }
                        },
                        "type": "scattergl"
                      }
                    ],
                    "scattermapbox": [
                      {
                        "marker": {
                          "colorbar": {
                            "outlinewidth": 0,
                            "ticks": ""
                          }
                        },
                        "type": "scattermapbox"
                      }
                    ],
                    "scatterpolar": [
                      {
                        "marker": {
                          "colorbar": {
                            "outlinewidth": 0,
                            "ticks": ""
                          }
                        },
                        "type": "scatterpolar"
                      }
                    ],
                    "scatterpolargl": [
                      {
                        "marker": {
                          "colorbar": {
                            "outlinewidth": 0,
                            "ticks": ""
                          }
                        },
                        "type": "scatterpolargl"
                      }
                    ],
                    "scatterternary": [
                      {
                        "marker": {
                          "colorbar": {
                            "outlinewidth": 0,
                            "ticks": ""
                          }
                        },
                        "type": "scatterternary"
                      }
                    ],
                    "surface": [
                      {
                        "colorbar": {
                          "outlinewidth": 0,
                          "ticks": ""
                        },
                        "colorscale": [
                          [
                            0,
                            "#0d0887"
                          ],
                          [
                            0.1111111111111111,
                            "#46039f"
                          ],
                          [
                            0.2222222222222222,
                            "#7201a8"
                          ],
                          [
                            0.3333333333333333,
                            "#9c179e"
                          ],
                          [
                            0.4444444444444444,
                            "#bd3786"
                          ],
                          [
                            0.5555555555555556,
                            "#d8576b"
                          ],
                          [
                            0.6666666666666666,
                            "#ed7953"
                          ],
                          [
                            0.7777777777777778,
                            "#fb9f3a"
                          ],
                          [
                            0.8888888888888888,
                            "#fdca26"
                          ],
                          [
                            1,
                            "#f0f921"
                          ]
                        ],
                        "type": "surface"
                      }
                    ],
                    "table": [
                      {
                        "cells": {
                          "fill": {
                            "color": "#EBF0F8"
                          },
                          "line": {
                            "color": "white"
                          }
                        },
                        "header": {
                          "fill": {
                            "color": "#C8D4E3"
                          },
                          "line": {
                            "color": "white"
                          }
                        },
                        "type": "table"
                      }
                    ]
                  },
                  "layout": {
                    "annotationdefaults": {
                      "arrowcolor": "#2a3f5f",
                      "arrowhead": 0,
                      "arrowwidth": 1
                    },
                    "autotypenumbers": "strict",
                    "coloraxis": {
                      "colorbar": {
                        "outlinewidth": 0,
                        "ticks": ""
                      }
                    },
                    "colorscale": {
                      "diverging": [
                        [
                          0,
                          "#8e0152"
                        ],
                        [
                          0.1,
                          "#c51b7d"
                        ],
                        [
                          0.2,
                          "#de77ae"
                        ],
                        [
                          0.3,
                          "#f1b6da"
                        ],
                        [
                          0.4,
                          "#fde0ef"
                        ],
                        [
                          0.5,
                          "#f7f7f7"
                        ],
                        [
                          0.6,
                          "#e6f5d0"
                        ],
                        [
                          0.7,
                          "#b8e186"
                        ],
                        [
                          0.8,
                          "#7fbc41"
                        ],
                        [
                          0.9,
                          "#4d9221"
                        ],
                        [
                          1,
                          "#276419"
                        ]
                      ],
                      "sequential": [
                        [
                          0,
                          "#0d0887"
                        ],
                        [
                          0.1111111111111111,
                          "#46039f"
                        ],
                        [
                          0.2222222222222222,
                          "#7201a8"
                        ],
                        [
                          0.3333333333333333,
                          "#9c179e"
                        ],
                        [
                          0.4444444444444444,
                          "#bd3786"
                        ],
                        [
                          0.5555555555555556,
                          "#d8576b"
                        ],
                        [
                          0.6666666666666666,
                          "#ed7953"
                        ],
                        [
                          0.7777777777777778,
                          "#fb9f3a"
                        ],
                        [
                          0.8888888888888888,
                          "#fdca26"
                        ],
                        [
                          1,
                          "#f0f921"
                        ]
                      ],
                      "sequentialminus": [
                        [
                          0,
                          "#0d0887"
                        ],
                        [
                          0.1111111111111111,
                          "#46039f"
                        ],
                        [
                          0.2222222222222222,
                          "#7201a8"
                        ],
                        [
                          0.3333333333333333,
                          "#9c179e"
                        ],
                        [
                          0.4444444444444444,
                          "#bd3786"
                        ],
                        [
                          0.5555555555555556,
                          "#d8576b"
                        ],
                        [
                          0.6666666666666666,
                          "#ed7953"
                        ],
                        [
                          0.7777777777777778,
                          "#fb9f3a"
                        ],
                        [
                          0.8888888888888888,
                          "#fdca26"
                        ],
                        [
                          1,
                          "#f0f921"
                        ]
                      ]
                    },
                    "colorway": [
                      "#636efa",
                      "#EF553B",
                      "#00cc96",
                      "#ab63fa",
                      "#FFA15A",
                      "#19d3f3",
                      "#FF6692",
                      "#B6E880",
                      "#FF97FF",
                      "#FECB52"
                    ],
                    "font": {
                      "color": "#2a3f5f"
                    },
                    "geo": {
                      "bgcolor": "white",
                      "lakecolor": "white",
                      "landcolor": "#E5ECF6",
                      "showlakes": true,
                      "showland": true,
                      "subunitcolor": "white"
                    },
                    "hoverlabel": {
                      "align": "left"
                    },
                    "hovermode": "closest",
                    "mapbox": {
                      "style": "light"
                    },
                    "paper_bgcolor": "white",
                    "plot_bgcolor": "#E5ECF6",
                    "polar": {
                      "angularaxis": {
                        "gridcolor": "white",
                        "linecolor": "white",
                        "ticks": ""
                      },
                      "bgcolor": "#E5ECF6",
                      "radialaxis": {
                        "gridcolor": "white",
                        "linecolor": "white",
                        "ticks": ""
                      }
                    },
                    "scene": {
                      "xaxis": {
                        "backgroundcolor": "#E5ECF6",
                        "gridcolor": "white",
                        "gridwidth": 2,
                        "linecolor": "white",
                        "showbackground": true,
                        "ticks": "",
                        "zerolinecolor": "white"
                      },
                      "yaxis": {
                        "backgroundcolor": "#E5ECF6",
                        "gridcolor": "white",
                        "gridwidth": 2,
                        "linecolor": "white",
                        "showbackground": true,
                        "ticks": "",
                        "zerolinecolor": "white"
                      },
                      "zaxis": {
                        "backgroundcolor": "#E5ECF6",
                        "gridcolor": "white",
                        "gridwidth": 2,
                        "linecolor": "white",
                        "showbackground": true,
                        "ticks": "",
                        "zerolinecolor": "white"
                      }
                    },
                    "shapedefaults": {
                      "line": {
                        "color": "#2a3f5f"
                      }
                    },
                    "ternary": {
                      "aaxis": {
                        "gridcolor": "white",
                        "linecolor": "white",
                        "ticks": ""
                      },
                      "baxis": {
                        "gridcolor": "white",
                        "linecolor": "white",
                        "ticks": ""
                      },
                      "bgcolor": "#E5ECF6",
                      "caxis": {
                        "gridcolor": "white",
                        "linecolor": "white",
                        "ticks": ""
                      }
                    },
                    "title": {
                      "x": 0.05
                    },
                    "xaxis": {
                      "automargin": true,
                      "gridcolor": "white",
                      "linecolor": "white",
                      "ticks": "",
                      "title": {
                        "standoff": 15
                      },
                      "zerolinecolor": "white",
                      "zerolinewidth": 2
                    },
                    "yaxis": {
                      "automargin": true,
                      "gridcolor": "white",
                      "linecolor": "white",
                      "ticks": "",
                      "title": {
                        "standoff": 15
                      },
                      "zerolinecolor": "white",
                      "zerolinewidth": 2
                    }
                  }
                },
                "title": {
                  "text": "Embeddings of TikTok News filtered by NYT headlines comparison"
                },
                "xaxis": {
                  "anchor": "y",
                  "domain": [
                    0,
                    1
                  ],
                  "title": {
                    "text": "tsne_1"
                  }
                },
                "yaxis": {
                  "anchor": "x",
                  "domain": [
                    0,
                    1
                  ],
                  "title": {
                    "text": "tsne_2"
                  }
                }
              }
            }
          },
          "metadata": {},
          "output_type": "display_data"
        }
      ],
      "source": [
        "df_res, fig_nyt = draw_cluster_plot(9,df_nyt,matrix_nyt,'video_keywords','NYT headlines comparison')\n",
        "fig_nyt"
      ]
    },
    {
      "cell_type": "code",
      "execution_count": 19,
      "metadata": {},
      "outputs": [
        {
          "name": "stdout",
          "output_type": "stream",
          "text": [
            "cluster 2 len: 70\n",
            "all len: 516\n",
            "13.75968992248062\n"
          ]
        }
      ],
      "source": [
        "print(\"cluster 2 len:\",len(df_res[df_res['cluster']==2]))\n",
        "print(\"all len:\", len(df_res))\n",
        "print((71/516)*100)"
      ]
    }
  ],
  "metadata": {
    "colab": {
      "include_colab_link": true,
      "provenance": []
    },
    "kernelspec": {
      "display_name": "proj2",
      "language": "python",
      "name": "python3"
    },
    "language_info": {
      "codemirror_mode": {
        "name": "ipython",
        "version": 3
      },
      "file_extension": ".py",
      "mimetype": "text/x-python",
      "name": "python",
      "nbconvert_exporter": "python",
      "pygments_lexer": "ipython3",
      "version": "3.12.2"
    },
    "vscode": {
      "interpreter": {
        "hash": "5c09f7722eb0a6362bfc929b0044d36c9d3fd8ae563181cdc1dd80b6b3d830d6"
      }
    }
  },
  "nbformat": 4,
  "nbformat_minor": 0
}
