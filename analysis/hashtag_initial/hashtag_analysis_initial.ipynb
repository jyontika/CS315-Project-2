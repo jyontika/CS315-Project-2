{
 "cells": [
  {
   "cell_type": "markdown",
   "metadata": {},
   "source": [
    "## Initial hashtag analysis\n",
    "Tayae Rogers, 3/12/2024"
   ]
  },
  {
   "cell_type": "code",
   "execution_count": 1,
   "metadata": {},
   "outputs": [],
   "source": [
    "import os\n",
    "import csv\n",
    "from collections import defaultdict\n",
    "import pandas as pd\n",
    "import re\n",
    "import json"
   ]
  },
  {
   "cell_type": "code",
   "execution_count": 2,
   "metadata": {},
   "outputs": [],
   "source": [
    "def list_of_hashtags(csv_in):\n",
    "    \"\"\"\n",
    "    Takes hashtag CSV (our shared Google Sheets file) and returns a list of news accounts\n",
    "    \"\"\"\n",
    "    file = f\"{csv_in}.csv\"\n",
    "    hashtags = []\n",
    "    with open(file, mode ='r')as file:\n",
    "        csvFile = csv.reader(file)\n",
    "        for lines in csvFile:\n",
    "            hashtags.append(lines[0])\n",
    "    return hashtags"
   ]
  },
  {
   "cell_type": "code",
   "execution_count": 3,
   "metadata": {},
   "outputs": [],
   "source": [
    "wd = \"/Users/tayaerogers/Documents/MEDSL/GitHub/CS315-Project-2\" # put personal wd ending in \"/CS315-Project-2\" here\n",
    "hashtag_wd = wd + \"/analysis/hashtag_initial/\"\n",
    "hashtag_list = list_of_hashtags(os.path.join(hashtag_wd, 'hashtags_03112024'))"
   ]
  },
  {
   "cell_type": "code",
   "execution_count": 4,
   "metadata": {},
   "outputs": [
    {
     "data": {
      "text/plain": [
       "'/Users/tayaerogers/Documents/MEDSL/GitHub/CS315-Project-2/pre-processing/metadata-csv'"
      ]
     },
     "execution_count": 4,
     "metadata": {},
     "output_type": "execute_result"
    }
   ],
   "source": [
    "# path = os.path.dirname(os.path.abspath('hashtag_analysis_initial.ipynb'))\n",
    "# path = path.rsplit('/',2)[0]\n",
    "# path\n",
    "curr_path = f\"{wd}/pre-processing/metadata-csv\"\n",
    "curr_path"
   ]
  },
  {
   "cell_type": "code",
   "execution_count": 5,
   "metadata": {},
   "outputs": [],
   "source": [
    "def get_hashtags(phrase):\n",
    "    \"\"\"\"Takes a string phase and returns a list of hashtags\n",
    "    \"\"\"\n",
    "    if isinstance(phrase,str):\n",
    "        return re.findall(r'#(\\S+)', phrase.lower())\n",
    "    else:\n",
    "        return []"
   ]
  },
  {
   "cell_type": "code",
   "execution_count": 6,
   "metadata": {},
   "outputs": [],
   "source": [
    "def news_post_abundance(path):\n",
    "    all_news = pd.DataFrame(columns = [\"video_id\", \"author_username\", \"video_description\", \"hashtags\", \"suggested_words\", \"file_name\"])\n",
    "    stats_df = pd.DataFrame(columns = [\"file_name\", \"full_length\", \"news_length\", \"prop_news\"])\n",
    "    prefixed = [filename for filename in os.listdir(path) if filename.startswith(\"Sec2Gr3\")]\n",
    "\n",
    "    for file in prefixed:\n",
    "        meta_csv = pd.read_csv(os.path.join(path,file))\n",
    "        meta_csv[\"hashtags\"] = meta_csv[\"video_description\"].apply(get_hashtags)\n",
    "\n",
    "        meta_sub_df = meta_csv[[\"video_id\", \"author_username\", \"video_description\", \"hashtags\", \"suggested_words\", \"video_timestamp\"]].copy()\n",
    "        meta_sub_df[\"file_name\"] = str(file)\n",
    "        news_df = meta_sub_df[meta_sub_df[\"hashtags\"].apply(lambda htlst: (any(hashtag in htlst for hashtag in hashtag_list) if isinstance(htlst, list) else False))]\n",
    "        news_df['video_date'] = news_df['video_timestamp'].str[:10]\n",
    "\n",
    "        allLen = meta_csv.shape[0]\n",
    "        newsLen = news_df.shape[0]\n",
    "        propNews = newsLen/allLen\n",
    "        stats_df.loc[len(stats_df.index)] = [str(file), allLen, newsLen, propNews]  \n",
    "\n",
    "        all_news = pd.concat([all_news, news_df])\n",
    "    \n",
    "    return (stats_df, all_news)"
   ]
  },
  {
   "cell_type": "code",
   "execution_count": 38,
   "metadata": {},
   "outputs": [
    {
     "data": {
      "text/plain": [
       "' path = os.path.dirname(os.path.abspath(\\'hashtag_analysis_initial.ipynb\\'))\\npath = path.rsplit(\\'/\\',2)[0]\\ncurr_path = f\"{path}/pre-processing/metadata-csv\"\\ncurr_path '"
      ]
     },
     "execution_count": 38,
     "metadata": {},
     "output_type": "execute_result"
    }
   ],
   "source": [
    "## Not working for some reason, but path stuff above is working\n",
    "\"\"\" path = os.path.dirname(os.path.abspath('hashtag_analysis_initial.ipynb'))\n",
    "path = path.rsplit('/',2)[0]\n",
    "curr_path = f\"{path}/pre-processing/metadata-csv\"\n",
    "curr_path \"\"\""
   ]
  },
  {
   "cell_type": "code",
   "execution_count": 7,
   "metadata": {},
   "outputs": [
    {
     "name": "stderr",
     "output_type": "stream",
     "text": [
      "/var/folders/79/rqxxrf3n6zq58_z0ng_2hbhm0000gn/T/ipykernel_68585/3469459771.py:13: SettingWithCopyWarning: \n",
      "A value is trying to be set on a copy of a slice from a DataFrame.\n",
      "Try using .loc[row_indexer,col_indexer] = value instead\n",
      "\n",
      "See the caveats in the documentation: https://pandas.pydata.org/pandas-docs/stable/user_guide/indexing.html#returning-a-view-versus-a-copy\n",
      "  news_df['video_date'] = news_df['video_timestamp'].str[:10]\n",
      "/var/folders/79/rqxxrf3n6zq58_z0ng_2hbhm0000gn/T/ipykernel_68585/3469459771.py:13: SettingWithCopyWarning: \n",
      "A value is trying to be set on a copy of a slice from a DataFrame.\n",
      "Try using .loc[row_indexer,col_indexer] = value instead\n",
      "\n",
      "See the caveats in the documentation: https://pandas.pydata.org/pandas-docs/stable/user_guide/indexing.html#returning-a-view-versus-a-copy\n",
      "  news_df['video_date'] = news_df['video_timestamp'].str[:10]\n",
      "/var/folders/79/rqxxrf3n6zq58_z0ng_2hbhm0000gn/T/ipykernel_68585/3469459771.py:13: SettingWithCopyWarning: \n",
      "A value is trying to be set on a copy of a slice from a DataFrame.\n",
      "Try using .loc[row_indexer,col_indexer] = value instead\n",
      "\n",
      "See the caveats in the documentation: https://pandas.pydata.org/pandas-docs/stable/user_guide/indexing.html#returning-a-view-versus-a-copy\n",
      "  news_df['video_date'] = news_df['video_timestamp'].str[:10]\n"
     ]
    }
   ],
   "source": [
    "news_by_hashtag = news_post_abundance(curr_path)[1]\n",
    "more_hashtags = news_by_hashtag[\"hashtags\"].explode().to_list()"
   ]
  },
  {
   "cell_type": "code",
   "execution_count": 8,
   "metadata": {},
   "outputs": [
    {
     "data": {
      "text/html": [
       "<div>\n",
       "<style scoped>\n",
       "    .dataframe tbody tr th:only-of-type {\n",
       "        vertical-align: middle;\n",
       "    }\n",
       "\n",
       "    .dataframe tbody tr th {\n",
       "        vertical-align: top;\n",
       "    }\n",
       "\n",
       "    .dataframe thead th {\n",
       "        text-align: right;\n",
       "    }\n",
       "</style>\n",
       "<table border=\"1\" class=\"dataframe\">\n",
       "  <thead>\n",
       "    <tr style=\"text-align: right;\">\n",
       "      <th></th>\n",
       "      <th>video_id</th>\n",
       "      <th>author_username</th>\n",
       "      <th>video_description</th>\n",
       "      <th>hashtags</th>\n",
       "      <th>suggested_words</th>\n",
       "      <th>file_name</th>\n",
       "      <th>video_timestamp</th>\n",
       "      <th>video_date</th>\n",
       "    </tr>\n",
       "  </thead>\n",
       "  <tbody>\n",
       "    <tr>\n",
       "      <th>134</th>\n",
       "      <td>7294807570915626283</td>\n",
       "      <td>lincolnsmamaaa_</td>\n",
       "      <td>THIS ONE IS GONNA BE HARD TO BEAT!!! 12 will d...</td>\n",
       "      <td>[advent, adventcalendar, adventcalendar2023, a...</td>\n",
       "      <td>NaN</td>\n",
       "      <td>Sec2Gr3_77777.csv</td>\n",
       "      <td>2023-10-27T20:59:10</td>\n",
       "      <td>2023-10-27</td>\n",
       "    </tr>\n",
       "    <tr>\n",
       "      <th>341</th>\n",
       "      <td>6988185257426128133</td>\n",
       "      <td>gma</td>\n",
       "      <td>Morgan Wallen is speaking out to address using...</td>\n",
       "      <td>[news, morganwallen]</td>\n",
       "      <td>morgan wallen racist video, morgan wallen, mor...</td>\n",
       "      <td>Sec2Gr3_77777.csv</td>\n",
       "      <td>2021-07-23T14:07:54</td>\n",
       "      <td>2021-07-23</td>\n",
       "    </tr>\n",
       "    <tr>\n",
       "      <th>53</th>\n",
       "      <td>7231173879845113131</td>\n",
       "      <td>getadjustednow</td>\n",
       "      <td>You should be doing THIS if you want to “grow ...</td>\n",
       "      <td>[nycchiro, learnontiktok, getadjustednow, grow...</td>\n",
       "      <td>spine decompressing, how to get taller, stretc...</td>\n",
       "      <td>Sec2Gr3_77217.csv</td>\n",
       "      <td>2023-05-09T09:28:02</td>\n",
       "      <td>2023-05-09</td>\n",
       "    </tr>\n",
       "    <tr>\n",
       "      <th>143</th>\n",
       "      <td>7297290457330158894</td>\n",
       "      <td>sammyobeidthem</td>\n",
       "      <td>Add “ceasefire” to your wishlist immediately. ...</td>\n",
       "      <td>[standupcomedy, geography, history, historytok]</td>\n",
       "      <td>NaN</td>\n",
       "      <td>Sec2Gr3_77217.csv</td>\n",
       "      <td>2023-11-03T13:34:17</td>\n",
       "      <td>2023-11-03</td>\n",
       "    </tr>\n",
       "    <tr>\n",
       "      <th>168</th>\n",
       "      <td>7303271447374466346</td>\n",
       "      <td>icedvanillatriplelatte</td>\n",
       "      <td>Im so tired of this argument  #freepalestine #...</td>\n",
       "      <td>[freepalestine, palestine, palestineisrael, fr...</td>\n",
       "      <td>gaza to the sea, zionists explained</td>\n",
       "      <td>Sec2Gr3_77217.csv</td>\n",
       "      <td>2023-11-19T15:23:29</td>\n",
       "      <td>2023-11-19</td>\n",
       "    </tr>\n",
       "    <tr>\n",
       "      <th>...</th>\n",
       "      <td>...</td>\n",
       "      <td>...</td>\n",
       "      <td>...</td>\n",
       "      <td>...</td>\n",
       "      <td>...</td>\n",
       "      <td>...</td>\n",
       "      <td>...</td>\n",
       "      <td>...</td>\n",
       "    </tr>\n",
       "    <tr>\n",
       "      <th>8829</th>\n",
       "      <td>7282735903003381010</td>\n",
       "      <td>jasminedinis2</td>\n",
       "      <td>In a world full of women teaching their childr...</td>\n",
       "      <td>[homesteading, tradwife, motherhood, foryoupag...</td>\n",
       "      <td>jasmine dinis, Tradwife, women empowerment, Di...</td>\n",
       "      <td>Sec2Gr3_74721.csv</td>\n",
       "      <td>2023-09-25T08:14:50</td>\n",
       "      <td>2023-09-25</td>\n",
       "    </tr>\n",
       "    <tr>\n",
       "      <th>8864</th>\n",
       "      <td>7287317896370441514</td>\n",
       "      <td>ashly.antony</td>\n",
       "      <td>Ur fav couple #temple #templeuniversity #tailg...</td>\n",
       "      <td>[temple, templeuniversity, tailgate, cherryand...</td>\n",
       "      <td>NaN</td>\n",
       "      <td>Sec2Gr3_74721.csv</td>\n",
       "      <td>2023-10-07T16:35:33</td>\n",
       "      <td>2023-10-07</td>\n",
       "    </tr>\n",
       "    <tr>\n",
       "      <th>8872</th>\n",
       "      <td>7287284369268411691</td>\n",
       "      <td>definitelynotforkpoker</td>\n",
       "      <td>Fuck it we ball #swag #michigan</td>\n",
       "      <td>[swag, michigan]</td>\n",
       "      <td>bad roommates in college, Roommate TikTok, bad...</td>\n",
       "      <td>Sec2Gr3_74721.csv</td>\n",
       "      <td>2023-10-07T14:25:21</td>\n",
       "      <td>2023-10-07</td>\n",
       "    </tr>\n",
       "    <tr>\n",
       "      <th>8891</th>\n",
       "      <td>7285777286316510470</td>\n",
       "      <td>ctvnews</td>\n",
       "      <td>If you’re stuck in traffic on Hwy. 400 Tuesday...</td>\n",
       "      <td>[breakingnews, truck, highway, ontario, gta, t...</td>\n",
       "      <td>NaN</td>\n",
       "      <td>Sec2Gr3_74721.csv</td>\n",
       "      <td>2023-10-03T12:56:59</td>\n",
       "      <td>2023-10-03</td>\n",
       "    </tr>\n",
       "    <tr>\n",
       "      <th>8899</th>\n",
       "      <td>7284629865473625387</td>\n",
       "      <td>espn</td>\n",
       "      <td>What a tackle though 😂 (via @Matt Jensen) #bas...</td>\n",
       "      <td>[baseball, football, tackle, funny]</td>\n",
       "      <td>NaN</td>\n",
       "      <td>Sec2Gr3_74721.csv</td>\n",
       "      <td>2023-09-30T10:44:40</td>\n",
       "      <td>2023-09-30</td>\n",
       "    </tr>\n",
       "  </tbody>\n",
       "</table>\n",
       "<p>341 rows × 8 columns</p>\n",
       "</div>"
      ],
      "text/plain": [
       "                 video_id         author_username  \\\n",
       "134   7294807570915626283         lincolnsmamaaa_   \n",
       "341   6988185257426128133                     gma   \n",
       "53    7231173879845113131          getadjustednow   \n",
       "143   7297290457330158894          sammyobeidthem   \n",
       "168   7303271447374466346  icedvanillatriplelatte   \n",
       "...                   ...                     ...   \n",
       "8829  7282735903003381010           jasminedinis2   \n",
       "8864  7287317896370441514            ashly.antony   \n",
       "8872  7287284369268411691  definitelynotforkpoker   \n",
       "8891  7285777286316510470                 ctvnews   \n",
       "8899  7284629865473625387                    espn   \n",
       "\n",
       "                                      video_description  \\\n",
       "134   THIS ONE IS GONNA BE HARD TO BEAT!!! 12 will d...   \n",
       "341   Morgan Wallen is speaking out to address using...   \n",
       "53    You should be doing THIS if you want to “grow ...   \n",
       "143   Add “ceasefire” to your wishlist immediately. ...   \n",
       "168   Im so tired of this argument  #freepalestine #...   \n",
       "...                                                 ...   \n",
       "8829  In a world full of women teaching their childr...   \n",
       "8864  Ur fav couple #temple #templeuniversity #tailg...   \n",
       "8872                   Fuck it we ball #swag #michigan    \n",
       "8891  If you’re stuck in traffic on Hwy. 400 Tuesday...   \n",
       "8899  What a tackle though 😂 (via @Matt Jensen) #bas...   \n",
       "\n",
       "                                               hashtags  \\\n",
       "134   [advent, adventcalendar, adventcalendar2023, a...   \n",
       "341                                [news, morganwallen]   \n",
       "53    [nycchiro, learnontiktok, getadjustednow, grow...   \n",
       "143     [standupcomedy, geography, history, historytok]   \n",
       "168   [freepalestine, palestine, palestineisrael, fr...   \n",
       "...                                                 ...   \n",
       "8829  [homesteading, tradwife, motherhood, foryoupag...   \n",
       "8864  [temple, templeuniversity, tailgate, cherryand...   \n",
       "8872                                   [swag, michigan]   \n",
       "8891  [breakingnews, truck, highway, ontario, gta, t...   \n",
       "8899                [baseball, football, tackle, funny]   \n",
       "\n",
       "                                        suggested_words          file_name  \\\n",
       "134                                                 NaN  Sec2Gr3_77777.csv   \n",
       "341   morgan wallen racist video, morgan wallen, mor...  Sec2Gr3_77777.csv   \n",
       "53    spine decompressing, how to get taller, stretc...  Sec2Gr3_77217.csv   \n",
       "143                                                 NaN  Sec2Gr3_77217.csv   \n",
       "168                 gaza to the sea, zionists explained  Sec2Gr3_77217.csv   \n",
       "...                                                 ...                ...   \n",
       "8829  jasmine dinis, Tradwife, women empowerment, Di...  Sec2Gr3_74721.csv   \n",
       "8864                                                NaN  Sec2Gr3_74721.csv   \n",
       "8872  bad roommates in college, Roommate TikTok, bad...  Sec2Gr3_74721.csv   \n",
       "8891                                                NaN  Sec2Gr3_74721.csv   \n",
       "8899                                                NaN  Sec2Gr3_74721.csv   \n",
       "\n",
       "          video_timestamp  video_date  \n",
       "134   2023-10-27T20:59:10  2023-10-27  \n",
       "341   2021-07-23T14:07:54  2021-07-23  \n",
       "53    2023-05-09T09:28:02  2023-05-09  \n",
       "143   2023-11-03T13:34:17  2023-11-03  \n",
       "168   2023-11-19T15:23:29  2023-11-19  \n",
       "...                   ...         ...  \n",
       "8829  2023-09-25T08:14:50  2023-09-25  \n",
       "8864  2023-10-07T16:35:33  2023-10-07  \n",
       "8872  2023-10-07T14:25:21  2023-10-07  \n",
       "8891  2023-10-03T12:56:59  2023-10-03  \n",
       "8899  2023-09-30T10:44:40  2023-09-30  \n",
       "\n",
       "[341 rows x 8 columns]"
      ]
     },
     "execution_count": 8,
     "metadata": {},
     "output_type": "execute_result"
    }
   ],
   "source": [
    "news_by_hashtag"
   ]
  },
  {
   "cell_type": "code",
   "execution_count": 9,
   "metadata": {},
   "outputs": [],
   "source": [
    "with open(f\"{wd}/analysis/hashtag_initial/more_hashtags.json\", 'w') as outf:\n",
    "    json.dump(more_hashtags, outf)"
   ]
  },
  {
   "cell_type": "code",
   "execution_count": 10,
   "metadata": {},
   "outputs": [],
   "source": [
    "news_by_hashtag.to_csv(f\"{wd}/analysis/hashtag_initial/news_by_hashtag.csv\", index=False)  "
   ]
  },
  {
   "cell_type": "code",
   "execution_count": null,
   "metadata": {},
   "outputs": [],
   "source": []
  }
 ],
 "metadata": {
  "kernelspec": {
   "display_name": "proj2",
   "language": "python",
   "name": "python3"
  },
  "language_info": {
   "codemirror_mode": {
    "name": "ipython",
    "version": 3
   },
   "file_extension": ".py",
   "mimetype": "text/x-python",
   "name": "python",
   "nbconvert_exporter": "python",
   "pygments_lexer": "ipython3",
   "version": "3.12.2"
  }
 },
 "nbformat": 4,
 "nbformat_minor": 2
}
