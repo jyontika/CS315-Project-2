{
 "cells": [
  {
   "cell_type": "markdown",
   "metadata": {},
   "source": [
    "# User History Time Series\n",
    "\n",
    "Notebook used to create time series of the video watching history data that you got from TikTok’s user_data.json file contains timestamps of when videos were watched. Creates a single time series with all users (each with a different color) that shows their usage of TikTok over time, subset for 10/7 - 12/7\n",
    "\n",
    "**Author: Audrey Yip**"
   ]
  },
  {
   "cell_type": "code",
   "execution_count": 1,
   "metadata": {},
   "outputs": [],
   "source": [
    "import os\n",
    "import pandas as pd"
   ]
  },
  {
   "cell_type": "code",
   "execution_count": 3,
   "metadata": {},
   "outputs": [
    {
     "name": "stdout",
     "output_type": "stream",
     "text": [
      "Sec2Gr3_77217.json\n",
      ".DS_Store\n",
      "Sec2Gr3_20688.json\n",
      "Sec2Gr3_74721.json\n"
     ]
    }
   ],
   "source": [
    "cwd = os.getcwd()\n",
    "for file in os.listdir((f'{cwd}/../pre-processing/url-json-oct7')):\n",
    "    print(file)"
   ]
  },
  {
   "cell_type": "code",
   "execution_count": 4,
   "metadata": {},
   "outputs": [
    {
     "data": {
      "text/html": [
       "<div>\n",
       "<style scoped>\n",
       "    .dataframe tbody tr th:only-of-type {\n",
       "        vertical-align: middle;\n",
       "    }\n",
       "\n",
       "    .dataframe tbody tr th {\n",
       "        vertical-align: top;\n",
       "    }\n",
       "\n",
       "    .dataframe thead th {\n",
       "        text-align: right;\n",
       "    }\n",
       "</style>\n",
       "<table border=\"1\" class=\"dataframe\">\n",
       "  <thead>\n",
       "    <tr style=\"text-align: right;\">\n",
       "      <th></th>\n",
       "      <th>Date</th>\n",
       "      <th>Link</th>\n",
       "      <th>User</th>\n",
       "    </tr>\n",
       "  </thead>\n",
       "  <tbody>\n",
       "    <tr>\n",
       "      <th>0</th>\n",
       "      <td>2023-12-06 23:58:36</td>\n",
       "      <td>https://www.tiktokv.com/share/video/7308913410...</td>\n",
       "      <td>Sec2Gr3_77217</td>\n",
       "    </tr>\n",
       "    <tr>\n",
       "      <th>1</th>\n",
       "      <td>2023-12-06 23:58:30</td>\n",
       "      <td>https://www.tiktokv.com/share/video/7299469698...</td>\n",
       "      <td>Sec2Gr3_77217</td>\n",
       "    </tr>\n",
       "    <tr>\n",
       "      <th>2</th>\n",
       "      <td>2023-12-06 23:58:26</td>\n",
       "      <td>https://www.tiktokv.com/share/video/7309289501...</td>\n",
       "      <td>Sec2Gr3_77217</td>\n",
       "    </tr>\n",
       "    <tr>\n",
       "      <th>3</th>\n",
       "      <td>2023-12-06 23:57:56</td>\n",
       "      <td>https://www.tiktokv.com/share/video/7306241104...</td>\n",
       "      <td>Sec2Gr3_77217</td>\n",
       "    </tr>\n",
       "    <tr>\n",
       "      <th>4</th>\n",
       "      <td>2023-12-06 23:57:47</td>\n",
       "      <td>https://www.tiktokv.com/share/video/7308781653...</td>\n",
       "      <td>Sec2Gr3_77217</td>\n",
       "    </tr>\n",
       "  </tbody>\n",
       "</table>\n",
       "</div>"
      ],
      "text/plain": [
       "                  Date                                               Link  \\\n",
       "0  2023-12-06 23:58:36  https://www.tiktokv.com/share/video/7308913410...   \n",
       "1  2023-12-06 23:58:30  https://www.tiktokv.com/share/video/7299469698...   \n",
       "2  2023-12-06 23:58:26  https://www.tiktokv.com/share/video/7309289501...   \n",
       "3  2023-12-06 23:57:56  https://www.tiktokv.com/share/video/7306241104...   \n",
       "4  2023-12-06 23:57:47  https://www.tiktokv.com/share/video/7308781653...   \n",
       "\n",
       "            User  \n",
       "0  Sec2Gr3_77217  \n",
       "1  Sec2Gr3_77217  \n",
       "2  Sec2Gr3_77217  \n",
       "3  Sec2Gr3_77217  \n",
       "4  Sec2Gr3_77217  "
      ]
     },
     "execution_count": 4,
     "metadata": {},
     "output_type": "execute_result"
    }
   ],
   "source": [
    "# merge all jsons\n",
    "jsons = [file for file in os.listdir(f'{cwd}/../pre-processing/url-json-oct7') if file.endswith('.json')]\n",
    "\n",
    "dfs = []\n",
    "\n",
    "for file in jsons:\n",
    "    filepath = f'{cwd}/../pre-processing/url-json-oct7/{file}'\n",
    "    json_data = pd.read_json(filepath)\n",
    "\n",
    "    if 'VideoList' in json_data:\n",
    "        json_data = json_data['VideoList']\n",
    "\n",
    "    df = pd.json_normalize(json_data)\n",
    "    user = file.split('.')[0]\n",
    "    df['User'] = user\n",
    "    dfs.append(df)\n",
    "\n",
    "# concatenate all dataframes into one\n",
    "merged_df = pd.concat(dfs, ignore_index=True)\n",
    "merged_df.head()\n"
   ]
  }
 ],
 "metadata": {
  "kernelspec": {
   "display_name": "Python 3",
   "language": "python",
   "name": "python3"
  },
  "language_info": {
   "codemirror_mode": {
    "name": "ipython",
    "version": 3
   },
   "file_extension": ".py",
   "mimetype": "text/x-python",
   "name": "python",
   "nbconvert_exporter": "python",
   "pygments_lexer": "ipython3",
   "version": "3.11.3"
  }
 },
 "nbformat": 4,
 "nbformat_minor": 2
}
