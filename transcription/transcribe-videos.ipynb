{
 "cells": [
  {
   "cell_type": "markdown",
   "metadata": {},
   "source": [
    "### **Using OpenAI Whisper**\n",
    "#### Transcribing TikTok videos\n",
    "\n",
    "##### *Author: @Jyontika Kapoor*"
   ]
  },
  {
   "cell_type": "code",
   "execution_count": 1,
   "metadata": {},
   "outputs": [
    {
     "name": "stderr",
     "output_type": "stream",
     "text": [
      "/var/folders/94/hzlwrw5d571cgm5snsf618b00000gn/T/ipykernel_52016/3692569134.py:6: DeprecationWarning: \n",
      "Pyarrow will become a required dependency of pandas in the next major release of pandas (pandas 3.0),\n",
      "(to allow more performant data types, such as the Arrow string type, and better interoperability with other libraries)\n",
      "but was not found to be installed on your system.\n",
      "If this would cause problems for you,\n",
      "please provide us feedback at https://github.com/pandas-dev/pandas/issues/54466\n",
      "        \n",
      "  import pandas as pd\n",
      "/Library/Frameworks/Python.framework/Versions/3.12/lib/python3.12/site-packages/tqdm/auto.py:21: TqdmWarning: IProgress not found. Please update jupyter and ipywidgets. See https://ipywidgets.readthedocs.io/en/stable/user_install.html\n",
      "  from .autonotebook import tqdm as notebook_tqdm\n"
     ]
    }
   ],
   "source": [
    "from openai import OpenAI\n",
    "import requests\n",
    "from docx import Document\n",
    "import os\n",
    "import whisper\n",
    "import pandas as pd\n",
    "from transformers import WhisperProcessor, WhisperForConditionalGeneration\n",
    "import json \n",
    "import matplotlib.pyplot as plt\n",
    "import librosa\n",
    "cwd = os.getcwd()"
   ]
  },
  {
   "cell_type": "markdown",
   "metadata": {},
   "source": [
    "### Pre-Processing CSVs"
   ]
  },
  {
   "cell_type": "code",
   "execution_count": 74,
   "metadata": {},
   "outputs": [
    {
     "name": "stdout",
     "output_type": "stream",
     "text": [
      "0      7288055765938670894\n",
      "1      7302611720214957358\n",
      "2      7301777464840277294\n",
      "3      7289551496524467502\n",
      "4      7289467129089461550\n",
      "              ...         \n",
      "470    7305077915966852358\n",
      "471    7305541674766241054\n",
      "472    7290970440023969057\n",
      "473    7295843462497226015\n",
      "474    7303352147972721962\n",
      "Name: video_id, Length: 475, dtype: int64\n"
     ]
    }
   ],
   "source": [
    "### Merging Audrey and Tayae's videos\n",
    "\n",
    "poster = pd.read_csv(\"/Users/jyontika/Documents/GitHub/CS315-Project-2/analysis/news_accs/news_by_poster.csv\")\n",
    "\n",
    "hashtag = pd.read_csv(\"/Users/jyontika/Documents/GitHub/CS315-Project-2/analysis/hashtag_initial/news_by_hashtag.csv\")\n",
    "\n",
    "nyt = pd.read_csv(\"/Users/jyontika/Documents/GitHub/CS315-Project-2/analysis/top_cosine_similarities.csv\")\n",
    "\n",
    "\n",
    "# Merge the DataFrames and keep only the 'video_id' column\n",
    "merged_df = pd.concat([poster['video_id'], hashtag['video_id'], nyt['video_id']], ignore_index=True)\n",
    "\n",
    "# remove duplicates\n",
    "merged_df = merged_df.drop_duplicates()\n",
    "\n",
    "# shuffle the indices randomly\n",
    "merged_df = merged_df.sample(frac=1, random_state=42).reset_index(drop=True)\n",
    "\n",
    "print(merged_df)\n",
    "\n"
   ]
  },
  {
   "cell_type": "code",
   "execution_count": 16,
   "metadata": {},
   "outputs": [
    {
     "name": "stdout",
     "output_type": "stream",
     "text": [
      "                                                  Link\n",
      "0    https://www.tiktokv.com/share/video/7288055765...\n",
      "1    https://www.tiktokv.com/share/video/7302611720...\n",
      "2    https://www.tiktokv.com/share/video/7301777464...\n",
      "3    https://www.tiktokv.com/share/video/7289551496...\n",
      "4    https://www.tiktokv.com/share/video/7289467129...\n",
      "..                                                 ...\n",
      "470  https://www.tiktokv.com/share/video/7305077915...\n",
      "471  https://www.tiktokv.com/share/video/7305541674...\n",
      "472  https://www.tiktokv.com/share/video/7290970440...\n",
      "473  https://www.tiktokv.com/share/video/7295843462...\n",
      "474  https://www.tiktokv.com/share/video/7303352147...\n",
      "\n",
      "[475 rows x 1 columns]\n"
     ]
    }
   ],
   "source": [
    "##Change the video_ids to URLs\n",
    "\n",
    "urls = [\"https://www.tiktokv.com/share/video/\" + str(video_id) + \"/\" for video_id in merged_df]\n",
    "\n",
    "# convert  list of URLs to a DataFrame\n",
    "urls_df = pd.DataFrame(urls, columns=['Link'])\n",
    "\n",
    "print(urls_df)"
   ]
  },
  {
   "cell_type": "code",
   "execution_count": 17,
   "metadata": {},
   "outputs": [],
   "source": [
    "##Randomly choose 300 and turn to dataframe\n",
    "sampled_urls_df = urls_df.sample(n=300, random_state=42)\n",
    "\n",
    "\n",
    "json_data = sampled_urls_df.to_dict(orient='records')\n",
    "\n",
    "# Export the JSON data to a file\n",
    "with open(\"sampled_tiktok_urls.json\", \"w\") as json_file:\n",
    "    json.dump(json_data, json_file, indent=4)\n",
    "\n",
    "\n"
   ]
  },
  {
   "cell_type": "code",
   "execution_count": 4,
   "metadata": {},
   "outputs": [
    {
     "data": {
      "text/plain": [
       "(392, 20)"
      ]
     },
     "execution_count": 4,
     "metadata": {},
     "output_type": "execute_result"
    }
   ],
   "source": [
    "downloaded_vids = pd.read_csv(\"videos-downloaded.csv\")\n",
    "downloaded_vids.shape"
   ]
  },
  {
   "cell_type": "code",
   "execution_count": 29,
   "metadata": {},
   "outputs": [
    {
     "data": {
      "text/plain": [
       "0      7290493831408045330\n",
       "1      7295925652992363822\n",
       "2      7175869072263990533\n",
       "3      7304461225448967467\n",
       "4      7298442585964662046\n",
       "              ...         \n",
       "291    7300191041280412933\n",
       "292    7293283723934453038\n",
       "293    7297044924862647595\n",
       "294    7287549870171245854\n",
       "295    7291460094032645418\n",
       "Name: video_id, Length: 296, dtype: int64"
      ]
     },
     "execution_count": 29,
     "metadata": {},
     "output_type": "execute_result"
    }
   ],
   "source": [
    "video_ids = downloaded_vids['video_id']\n",
    "video_ids"
   ]
  },
  {
   "cell_type": "markdown",
   "metadata": {},
   "source": [
    "### Transcription"
   ]
  },
  {
   "cell_type": "code",
   "execution_count": 18,
   "metadata": {},
   "outputs": [],
   "source": [
    "#client = OpenAI(api_key=XYZ)"
   ]
  },
  {
   "cell_type": "markdown",
   "metadata": {},
   "source": [
    "!pip install git+https://github.com/openai/whisper.git"
   ]
  },
  {
   "cell_type": "code",
   "execution_count": 33,
   "metadata": {},
   "outputs": [
    {
     "name": "stderr",
     "output_type": "stream",
     "text": [
      "Special tokens have been added in the vocabulary, make sure the associated word embeddings are fine-tuned or trained.\n"
     ]
    }
   ],
   "source": [
    "\n",
    "# Load the WhisperProcessor and WhisperForConditionalGeneration models\n",
    "processor = WhisperProcessor.from_pretrained(\"openai/whisper-large\")\n",
    "model = WhisperForConditionalGeneration.from_pretrained(\"openai/whisper-large\")\n",
    "\n",
    "# set forced_decoder_ids to None for unforced context tokens\n",
    "model.config.forced_decoder_ids = None  \n",
    "\n"
   ]
  },
  {
   "cell_type": "code",
   "execution_count": 37,
   "metadata": {},
   "outputs": [
    {
     "name": "stderr",
     "output_type": "stream",
     "text": [
      "/var/folders/94/hzlwrw5d571cgm5snsf618b00000gn/T/ipykernel_32177/824772569.py:15: UserWarning: PySoundFile failed. Trying audioread instead.\n",
      "  audio, sr = librosa.load(audio_path, sr=sampling_rate)\n",
      "/Library/Frameworks/Python.framework/Versions/3.12/lib/python3.12/site-packages/librosa/core/audio.py:183: FutureWarning: librosa.core.audio.__audioread_load\n",
      "\tDeprecated as of librosa version 0.10.0.\n",
      "\tIt will be removed in librosa version 1.0.\n",
      "  y, sr_native = __audioread_load(path, offset, duration, dtype)\n",
      "Due to a bug fix in https://github.com/huggingface/transformers/pull/28687 transcription using a multilingual Whisper will default to language detection followed by transcription instead of translation to English.This might be a breaking change for your use case. If you want to instead always translate your audio to English, make sure to pass `language='en'`.\n",
      "/var/folders/94/hzlwrw5d571cgm5snsf618b00000gn/T/ipykernel_32177/824772569.py:15: UserWarning: PySoundFile failed. Trying audioread instead.\n",
      "  audio, sr = librosa.load(audio_path, sr=sampling_rate)\n",
      "/Library/Frameworks/Python.framework/Versions/3.12/lib/python3.12/site-packages/librosa/core/audio.py:183: FutureWarning: librosa.core.audio.__audioread_load\n",
      "\tDeprecated as of librosa version 0.10.0.\n",
      "\tIt will be removed in librosa version 1.0.\n",
      "  y, sr_native = __audioread_load(path, offset, duration, dtype)\n"
     ]
    },
    {
     "name": "stdout",
     "output_type": "stream",
     "text": [
      "Audio for video ID 7298062755058240801 not found.\n",
      "Audio for video ID 7289462001636576545 not found.\n",
      "Audio for video ID 7305077915966852358 not found.\n",
      "Audio for video ID 7287429952792841504 not found.\n",
      "Audio for video ID 7289223591458131231 not found.\n",
      "Audio for video ID 7300367621764091182 not found.\n",
      "Audio for video ID 7292143951392492846 not found.\n",
      "Audio for video ID 7304509572847521070 not found.\n",
      "Audio for video ID 7289551496524467502 not found.\n",
      "Audio for video ID 7267165450637790482 not found.\n",
      "Audio for video ID 7290970440023969057 not found.\n",
      "Audio for video ID 7294334382150651168 not found.\n",
      "Audio for video ID 7291766284549786926 not found.\n",
      "Audio for video ID 7288487297316572421 not found.\n",
      "Audio for video ID 7293537949860367658 not found.\n",
      "Audio for video ID 7290224386152484101 not found.\n",
      "Audio for video ID 7287680374539423018 not found.\n",
      "Audio for video ID 7288531043681062149 not found.\n",
      "Audio for video ID 7290565797792222510 not found.\n",
      "Audio for video ID 7290322507800890670 not found.\n",
      "Audio for video ID 7304895446378433834 not found.\n",
      "Audio for video ID 7302876922126650630 not found.\n",
      "Audio for video ID 7291760333746736416 not found.\n",
      "Audio for video ID 7296562916235431173 not found.\n",
      "Audio for video ID 7305949069636013343 not found.\n",
      "Audio for video ID 7308783780297280800 not found.\n",
      "Audio for video ID 7291341835052535086 not found.\n"
     ]
    }
   ],
   "source": [
    "output_path = \"txt-transcripts/\"\n",
    "\n",
    "# define sampling rate\n",
    "sampling_rate = 16000  \n",
    "\n",
    "for video_id in video_ids:\n",
    "    audio_path = f\"videos/share_video_{video_id}_.mp4\"\n",
    "\n",
    "\n",
    "    if os.path.exists(audio_path):\n",
    "\n",
    "        # load the audio file using librosa\n",
    "        audio, sr = librosa.load(audio_path, sr=sampling_rate)\n",
    "\n",
    "        # process the audio using WhisperProcessor\n",
    "        input_features = processor(audio, sampling_rate=sampling_rate, return_tensors=\"pt\").input_features\n",
    "\n",
    "        # generate token ids for transcription\n",
    "        predicted_ids = model.generate(input_features)\n",
    "\n",
    "        # decode token ids to text\n",
    "        transcription = processor.batch_decode(predicted_ids, skip_special_tokens=True)[0]\n",
    "\n",
    "        # write transcription to a text file named after the video ID\n",
    "        with open(os.path.join(output_path, f\"{video_id}.txt\"), \"w\", encoding=\"utf-8\") as txt:\n",
    "            txt.write(transcription)\n",
    "\n",
    "    else:\n",
    "        # If audio file not found\n",
    "        print(f\"Audio for video ID {video_id} not found.\")\n"
   ]
  },
  {
   "cell_type": "markdown",
   "metadata": {},
   "source": [
    "### Update downloaded CSV"
   ]
  },
  {
   "cell_type": "code",
   "execution_count": 39,
   "metadata": {},
   "outputs": [],
   "source": [
    "# Step 1: Read videos_not_downloaded.csv and extract IDs\n",
    "not_downloaded_df = pd.read_csv('videos-not-downloaded.csv')\n",
    "\n",
    "not_downloaded_ID = not_downloaded_df['video_url'].str.extract(r'(\\d+)/$')[0].tolist()\n",
    "\n",
    "not_downloaded_ID = [int(x) for x in not_downloaded_ID]\n"
   ]
  },
  {
   "cell_type": "code",
   "execution_count": 40,
   "metadata": {},
   "outputs": [],
   "source": [
    "#Remove rows with matching video_id\n",
    "new_downloaded_vids = downloaded_vids[~downloaded_vids['video_id'].isin(not_downloaded_ID)]\n",
    "\n",
    "\n",
    "# Step 4: Save modified videos_downloaded.csv\n",
    "new_downloaded_vids.to_csv('videos_downloaded.csv', index=False)"
   ]
  },
  {
   "cell_type": "code",
   "execution_count": 41,
   "metadata": {},
   "outputs": [
    {
     "data": {
      "text/plain": [
       "(365, 20)"
      ]
     },
     "execution_count": 41,
     "metadata": {},
     "output_type": "execute_result"
    }
   ],
   "source": [
    "new_downloaded_vids.shape"
   ]
  },
  {
   "cell_type": "markdown",
   "metadata": {},
   "source": [
    "### Analyze Transcription Lengths"
   ]
  },
  {
   "cell_type": "code",
   "execution_count": 68,
   "metadata": {},
   "outputs": [],
   "source": [
    "folder_path = os.path.join(cwd, 'txt-transcripts')\n",
    "\n",
    "# List to store lengths of all files\n",
    "file_lengths = []\n",
    "\n",
    "# Iterate through all .txt files in the folder\n",
    "for filename in os.listdir(folder_path):\n",
    "    if filename.endswith('.txt'):\n",
    "        file_path = os.path.join(folder_path, filename)\n",
    "        with open(file_path, 'r') as file:\n",
    "            # Read the file and calculate its length (e.g., number of characters)\n",
    "            file_length = len(file.read())\n",
    "            file_lengths.append(file_length)\n",
    "\n",
    "\n"
   ]
  },
  {
   "cell_type": "code",
   "execution_count": 72,
   "metadata": {},
   "outputs": [
    {
     "data": {
      "image/png": "[encoded data removed]",
      "text/plain": [
       "<Figure size 640x480 with 1 Axes>"
      ]
     },
     "metadata": {},
     "output_type": "display_data"
    }
   ],
   "source": [
    "# Plot a histogram of file lengths\n",
    "plt.hist(file_lengths, bins=20, color='lightpink', edgecolor='lightpink')\n",
    "plt.xlabel('Length of Transcription Files')\n",
    "plt.ylabel('Frequency')\n",
    "plt.title('Histogram of Transcription File Lengths')\n",
    "plt.grid(True)\n",
    "plt.show()"
   ]
  },
  {
   "cell_type": "code",
   "execution_count": 85,
   "metadata": {},
   "outputs": [],
   "source": [
    "poster_ID = poster[\"video_id\"].tolist()\n",
    "hashtag_ID = hashtag[\"video_id\"].tolist()\n",
    "nyt_ID = nyt[\"video_id\"].tolist()\n",
    "downloaded_ID = new_downloaded_vids[\"video_id\"].tolist()"
   ]
  },
  {
   "cell_type": "code",
   "execution_count": 98,
   "metadata": {},
   "outputs": [],
   "source": [
    "poster_downloaded = []\n",
    "hashtag_downloaded = []\n",
    "nyt_downloaded = []\n",
    "\n",
    "counter = 0\n",
    "\n",
    "for video_id in downloaded_ID:\n",
    "\n",
    "    if video_id in poster_ID:\n",
    "        poster_downloaded.append(video_id)\n",
    "\n",
    "    if video_id in hashtag_ID:\n",
    "        hashtag_downloaded.append(video_id)\n",
    "\n",
    "    if video_id in nyt_ID:\n",
    "        nyt_downloaded.append(video_id)\n",
    "\n",
    "    if video_id in merged_df.tolist():\n",
    "        counter += 1"
   ]
  },
  {
   "cell_type": "code",
   "execution_count": 101,
   "metadata": {},
   "outputs": [
    {
     "data": {
      "text/plain": [
       "179"
      ]
     },
     "execution_count": 101,
     "metadata": {},
     "output_type": "execute_result"
    }
   ],
   "source": [
    "counter"
   ]
  },
  {
   "cell_type": "code",
   "execution_count": 91,
   "metadata": {},
   "outputs": [
    {
     "data": {
      "text/plain": [
       "365"
      ]
     },
     "execution_count": 91,
     "metadata": {},
     "output_type": "execute_result"
    }
   ],
   "source": [
    "len(downloaded_ID)"
   ]
  },
  {
   "cell_type": "code",
   "execution_count": 92,
   "metadata": {},
   "outputs": [
    {
     "data": {
      "text/plain": [
       "193"
      ]
     },
     "execution_count": 92,
     "metadata": {},
     "output_type": "execute_result"
    }
   ],
   "source": [
    "len(nyt_downloaded) + len(hashtag_downloaded) + len(poster_downloaded)"
   ]
  }
 ],
 "metadata": {
  "kernelspec": {
   "display_name": "Python 3",
   "language": "python",
   "name": "python3"
  },
  "language_info": {
   "codemirror_mode": {
    "name": "ipython",
    "version": 3
   },
   "file_extension": ".py",
   "mimetype": "text/x-python",
   "name": "python",
   "nbconvert_exporter": "python",
   "pygments_lexer": "ipython3",
   "version": "3.12.0"
  }
 },
 "nbformat": 4,
 "nbformat_minor": 2
}
