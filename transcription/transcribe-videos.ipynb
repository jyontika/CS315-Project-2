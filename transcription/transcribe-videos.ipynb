{
 "cells": [
  {
   "cell_type": "markdown",
   "metadata": {},
   "source": [
    "### **Using OpenAI Whisper**\n",
    "#### Transcribing TikTok videos\n",
    "\n",
    "##### *Author: @Jyontika Kapoor*"
   ]
  },
  {
   "cell_type": "code",
   "execution_count": 63,
   "metadata": {},
   "outputs": [],
   "source": [
    "from openai import OpenAI\n",
    "import requests\n",
    "from docx import Document\n",
    "import os\n",
    "import whisper\n",
    "import pandas as pd\n",
    "from transformers import WhisperProcessor, WhisperForConditionalGeneration\n",
    "import json \n",
    "import matplotlib.pyplot as plt\n",
    "import librosa\n",
    "from langdetect import detect\n",
    "cwd = os.getcwd()"
   ]
  },
  {
   "cell_type": "markdown",
   "metadata": {},
   "source": [
    "### Pre-Processing CSVs"
   ]
  },
  {
   "cell_type": "code",
   "execution_count": 17,
   "metadata": {},
   "outputs": [
    {
     "data": {
      "text/plain": [
       "0      6988185257426128133\n",
       "1      7283179469001461035\n",
       "2      6948100100992322821\n",
       "3      7307673039922105643\n",
       "4      7306609553305652510\n",
       "              ...         \n",
       "935    7285518066920738094\n",
       "938    7283936646528093482\n",
       "940    7288050618646760746\n",
       "941    7288063740715470110\n",
       "942    7284427941948427566\n",
       "Name: video_id, Length: 834, dtype: int64"
      ]
     },
     "execution_count": 17,
     "metadata": {},
     "output_type": "execute_result"
    }
   ],
   "source": [
    "### Merging Audrey and Tayae's videos\n",
    "\n",
    "poster = pd.read_csv(\"/Users/jyontika/Documents/GitHub/CS315-Project-2/analysis/news_accs/news_by_poster.csv\")\n",
    "\n",
    "hashtag = pd.read_csv(\"/Users/jyontika/Documents/GitHub/CS315-Project-2/analysis/hashtag_initial/news_by_hashtag.csv\")\n",
    "\n",
    "nyt = pd.read_csv(\"/Users/jyontika/Documents/GitHub/CS315-Project-2/analysis/use_by_week_highsim_55.csv\")\n",
    "\n",
    "\n",
    "# Merge the DataFrames and keep only the 'video_id' column\n",
    "merged_df = pd.concat([poster['video_id'], hashtag['video_id'], nyt['video_id']], ignore_index=True)\n",
    "\n",
    "# remove duplicates\n",
    "merged_df = merged_df.drop_duplicates()\n",
    "\n",
    "merged_df\n",
    "\n",
    "\n"
   ]
  },
  {
   "cell_type": "code",
   "execution_count": 23,
   "metadata": {},
   "outputs": [
    {
     "name": "stdout",
     "output_type": "stream",
     "text": [
      "                                                  Link\n",
      "0    https://www.tiktokv.com/share/video/6988185257...\n",
      "1    https://www.tiktokv.com/share/video/7283179469...\n",
      "2    https://www.tiktokv.com/share/video/6948100100...\n",
      "3    https://www.tiktokv.com/share/video/7307673039...\n",
      "4    https://www.tiktokv.com/share/video/7306609553...\n",
      "..                                                 ...\n",
      "829  https://www.tiktokv.com/share/video/7285518066...\n",
      "830  https://www.tiktokv.com/share/video/7283936646...\n",
      "831  https://www.tiktokv.com/share/video/7288050618...\n",
      "832  https://www.tiktokv.com/share/video/7288063740...\n",
      "833  https://www.tiktokv.com/share/video/7284427941...\n",
      "\n",
      "[834 rows x 1 columns]\n"
     ]
    }
   ],
   "source": [
    "##Change the video_ids to URLs\n",
    "\n",
    "urls = [\"https://www.tiktokv.com/share/video/\" + str(video_id) + \"/\" for video_id in merged_df]\n",
    "\n",
    "# convert  list of URLs to a DataFrame\n",
    "urls_df = pd.DataFrame(urls, columns=['Link'])\n",
    "\n",
    "print(urls_df)"
   ]
  },
  {
   "cell_type": "code",
   "execution_count": 29,
   "metadata": {},
   "outputs": [
    {
     "data": {
      "text/html": [
       "<div>\n",
       "<style scoped>\n",
       "    .dataframe tbody tr th:only-of-type {\n",
       "        vertical-align: middle;\n",
       "    }\n",
       "\n",
       "    .dataframe tbody tr th {\n",
       "        vertical-align: top;\n",
       "    }\n",
       "\n",
       "    .dataframe thead th {\n",
       "        text-align: right;\n",
       "    }\n",
       "</style>\n",
       "<table border=\"1\" class=\"dataframe\">\n",
       "  <thead>\n",
       "    <tr style=\"text-align: right;\">\n",
       "      <th></th>\n",
       "      <th>Link</th>\n",
       "    </tr>\n",
       "  </thead>\n",
       "  <tbody>\n",
       "    <tr>\n",
       "      <th>117</th>\n",
       "      <td>https://www.tiktokv.com/share/video/7303041350...</td>\n",
       "    </tr>\n",
       "    <tr>\n",
       "      <th>485</th>\n",
       "      <td>https://www.tiktokv.com/share/video/7295871746...</td>\n",
       "    </tr>\n",
       "    <tr>\n",
       "      <th>261</th>\n",
       "      <td>https://www.tiktokv.com/share/video/7307665132...</td>\n",
       "    </tr>\n",
       "    <tr>\n",
       "      <th>227</th>\n",
       "      <td>https://www.tiktokv.com/share/video/7289861490...</td>\n",
       "    </tr>\n",
       "    <tr>\n",
       "      <th>771</th>\n",
       "      <td>https://www.tiktokv.com/share/video/7292366417...</td>\n",
       "    </tr>\n",
       "    <tr>\n",
       "      <th>...</th>\n",
       "      <td>...</td>\n",
       "    </tr>\n",
       "    <tr>\n",
       "      <th>753</th>\n",
       "      <td>https://www.tiktokv.com/share/video/7288933581...</td>\n",
       "    </tr>\n",
       "    <tr>\n",
       "      <th>221</th>\n",
       "      <td>https://www.tiktokv.com/share/video/7269101318...</td>\n",
       "    </tr>\n",
       "    <tr>\n",
       "      <th>268</th>\n",
       "      <td>https://www.tiktokv.com/share/video/7301058221...</td>\n",
       "    </tr>\n",
       "    <tr>\n",
       "      <th>264</th>\n",
       "      <td>https://www.tiktokv.com/share/video/7307277057...</td>\n",
       "    </tr>\n",
       "    <tr>\n",
       "      <th>564</th>\n",
       "      <td>https://www.tiktokv.com/share/video/7292144136...</td>\n",
       "    </tr>\n",
       "  </tbody>\n",
       "</table>\n",
       "<p>450 rows × 1 columns</p>\n",
       "</div>"
      ],
      "text/plain": [
       "                                                  Link\n",
       "117  https://www.tiktokv.com/share/video/7303041350...\n",
       "485  https://www.tiktokv.com/share/video/7295871746...\n",
       "261  https://www.tiktokv.com/share/video/7307665132...\n",
       "227  https://www.tiktokv.com/share/video/7289861490...\n",
       "771  https://www.tiktokv.com/share/video/7292366417...\n",
       "..                                                 ...\n",
       "753  https://www.tiktokv.com/share/video/7288933581...\n",
       "221  https://www.tiktokv.com/share/video/7269101318...\n",
       "268  https://www.tiktokv.com/share/video/7301058221...\n",
       "264  https://www.tiktokv.com/share/video/7307277057...\n",
       "564  https://www.tiktokv.com/share/video/7292144136...\n",
       "\n",
       "[450 rows x 1 columns]"
      ]
     },
     "execution_count": 29,
     "metadata": {},
     "output_type": "execute_result"
    }
   ],
   "source": [
    "## randomly sample some of the URLs\n",
    "\n",
    "urls_df = urls_df.sample(n=450, random_state=123)\n",
    "\n",
    "urls_df"
   ]
  },
  {
   "cell_type": "code",
   "execution_count": 30,
   "metadata": {},
   "outputs": [],
   "source": [
    "json_data = urls_df.to_dict(orient='records')\n",
    "\n",
    "# Export the JSON data to a file\n",
    "with open(\"sampled_tiktok_urls.json\", \"w\") as json_file:\n",
    "    json.dump(json_data, json_file, indent=4)\n",
    "\n",
    "\n"
   ]
  },
  {
   "cell_type": "markdown",
   "metadata": {},
   "source": [
    "### After Running PykTok"
   ]
  },
  {
   "cell_type": "code",
   "execution_count": 36,
   "metadata": {},
   "outputs": [],
   "source": [
    "#read in two CSVs\n",
    "\n",
    "not_downloaded_df = pd.read_csv('failed-to-locate-3-28.csv')\n",
    "downloaded_vids = pd.read_csv(\"results-3-28.csv\")\n",
    "\n",
    "#remove not downloaded IDs from downloaded_vids csv\n",
    "\n",
    "#1) extract IDs from URLs\n",
    "not_downloaded_ID = not_downloaded_df['video_url'].str.extract(r'(\\d+)/$')[0].tolist() \n",
    "\n",
    "not_downloaded_ID = [int(x) for x in not_downloaded_ID] #make an integer\n",
    "\n",
    "#Remove rows with matching video_id\n",
    "downloaded_vids = downloaded_vids[~downloaded_vids['video_id'].isin(not_downloaded_ID)]\n",
    "\n",
    "#Save videos that were actually downloaded to csv\n",
    "downloaded_vids.to_csv('videos_downloaded.csv', index=False)"
   ]
  },
  {
   "cell_type": "code",
   "execution_count": 44,
   "metadata": {},
   "outputs": [
    {
     "data": {
      "text/plain": [
       "44"
      ]
     },
     "execution_count": 44,
     "metadata": {},
     "output_type": "execute_result"
    }
   ],
   "source": [
    "len(not_downloaded_ID) #44 failed to locate "
   ]
  },
  {
   "cell_type": "code",
   "execution_count": 54,
   "metadata": {},
   "outputs": [
    {
     "data": {
      "text/plain": [
       "(406, 20)"
      ]
     },
     "execution_count": 54,
     "metadata": {},
     "output_type": "execute_result"
    }
   ],
   "source": [
    "downloaded_vids.shape #406 downloaded "
   ]
  },
  {
   "cell_type": "code",
   "execution_count": 52,
   "metadata": {},
   "outputs": [],
   "source": [
    "# See how many videos came from each data frame\n",
    "\n",
    "poster_ID = poster[\"video_id\"].tolist()\n",
    "hashtag_ID = hashtag[\"video_id\"].tolist()\n",
    "nyt_ID = nyt[\"video_id\"].tolist()\n",
    "downloaded_ID = downloaded_vids[\"video_id\"].tolist()\n",
    "\n",
    "\n",
    "poster_downloaded = []\n",
    "hashtag_downloaded = []\n",
    "nyt_downloaded = []\n",
    "\n",
    "for video_id in downloaded_ID:\n",
    "\n",
    "    if video_id in poster_ID:\n",
    "        poster_downloaded.append(video_id)\n",
    "\n",
    "    elif video_id in hashtag_ID:\n",
    "        hashtag_downloaded.append(video_id)\n",
    "\n",
    "    elif video_id in nyt_ID:\n",
    "        nyt_downloaded.append(video_id)\n",
    "\n"
   ]
  },
  {
   "cell_type": "code",
   "execution_count": 53,
   "metadata": {},
   "outputs": [
    {
     "name": "stdout",
     "output_type": "stream",
     "text": [
      "There were 45 videos from poster dataframe, \n",
      " 156 videos from hashtag dataframe, \n",
      " and 205 videos from New York Times dataframe. \n",
      " There were a total of 406 videos downloaded.\n"
     ]
    }
   ],
   "source": [
    "size_nyt = len(nyt_downloaded)\n",
    "size_hashtag = len(hashtag_downloaded)\n",
    "size_poster = len(poster_downloaded)\n",
    "size_total = size_nyt + size_hashtag + size_poster \n",
    "\n",
    "print(\"There were {} videos from poster dataframe, \\n {} videos from hashtag dataframe, \\n and {} videos from New York Times dataframe. \\n There were a total of {} videos downloaded.\".format(size_poster, size_hashtag, size_nyt, size_total))"
   ]
  },
  {
   "cell_type": "code",
   "execution_count": 55,
   "metadata": {},
   "outputs": [
    {
     "data": {
      "text/plain": [
       "1      7295871746870086954\n",
       "2      7307665132706909483\n",
       "3      7289861490230709547\n",
       "4      7292366417037364510\n",
       "5      7302509162590702890\n",
       "              ...         \n",
       "434    7302246616499506465\n",
       "435    7269101318369709355\n",
       "436    7301058221450595630\n",
       "437    7307277057585630495\n",
       "438    7292144136512146731\n",
       "Name: video_id, Length: 406, dtype: int64"
      ]
     },
     "execution_count": 55,
     "metadata": {},
     "output_type": "execute_result"
    }
   ],
   "source": [
    "downloaded_video_ids = downloaded_vids['video_id']\n",
    "downloaded_video_ids"
   ]
  },
  {
   "cell_type": "markdown",
   "metadata": {},
   "source": [
    "### Transcription"
   ]
  },
  {
   "cell_type": "code",
   "execution_count": 18,
   "metadata": {},
   "outputs": [],
   "source": [
    "#client = OpenAI(api_key=XYZ)"
   ]
  },
  {
   "cell_type": "markdown",
   "metadata": {},
   "source": [
    "!pip install git+https://github.com/openai/whisper.git"
   ]
  },
  {
   "cell_type": "code",
   "execution_count": 56,
   "metadata": {},
   "outputs": [
    {
     "name": "stderr",
     "output_type": "stream",
     "text": [
      "Special tokens have been added in the vocabulary, make sure the associated word embeddings are fine-tuned or trained.\n"
     ]
    }
   ],
   "source": [
    "\n",
    "# Load the WhisperProcessor and WhisperForConditionalGeneration models\n",
    "processor = WhisperProcessor.from_pretrained(\"openai/whisper-large\")\n",
    "model = WhisperForConditionalGeneration.from_pretrained(\"openai/whisper-large\")\n",
    "\n",
    "# set forced_decoder_ids to None for unforced context tokens\n",
    "model.config.forced_decoder_ids = None  \n",
    "\n"
   ]
  },
  {
   "cell_type": "code",
   "execution_count": 57,
   "metadata": {},
   "outputs": [
    {
     "name": "stderr",
     "output_type": "stream",
     "text": [
      "/var/folders/94/hzlwrw5d571cgm5snsf618b00000gn/T/ipykernel_60173/3110332860.py:13: UserWarning: PySoundFile failed. Trying audioread instead.\n",
      "  audio, sr = librosa.load(audio_path, sr=sampling_rate)\n",
      "/Library/Frameworks/Python.framework/Versions/3.12/lib/python3.12/site-packages/librosa/core/audio.py:183: FutureWarning: librosa.core.audio.__audioread_load\n",
      "\tDeprecated as of librosa version 0.10.0.\n",
      "\tIt will be removed in librosa version 1.0.\n",
      "  y, sr_native = __audioread_load(path, offset, duration, dtype)\n",
      "Due to a bug fix in https://github.com/huggingface/transformers/pull/28687 transcription using a multilingual Whisper will default to language detection followed by transcription instead of translation to English.This might be a breaking change for your use case. If you want to instead always translate your audio to English, make sure to pass `language='en'`.\n",
      "/var/folders/94/hzlwrw5d571cgm5snsf618b00000gn/T/ipykernel_60173/3110332860.py:13: UserWarning: PySoundFile failed. Trying audioread instead.\n",
      "  audio, sr = librosa.load(audio_path, sr=sampling_rate)\n",
      "/Library/Frameworks/Python.framework/Versions/3.12/lib/python3.12/site-packages/librosa/core/audio.py:183: FutureWarning: librosa.core.audio.__audioread_load\n",
      "\tDeprecated as of librosa version 0.10.0.\n",
      "\tIt will be removed in librosa version 1.0.\n",
      "  y, sr_native = __audioread_load(path, offset, duration, dtype)\n"
     ]
    }
   ],
   "source": [
    "output_path = \"txt-transcripts/\"\n",
    "\n",
    "# define sampling rate\n",
    "sampling_rate = 16000  \n",
    "\n",
    "for video_id in downloaded_video_ids:\n",
    "    audio_path = f\"videos/share_video_{video_id}_.mp4\"\n",
    "\n",
    "\n",
    "    if os.path.exists(audio_path):\n",
    "\n",
    "        # load the audio file using librosa\n",
    "        audio, sr = librosa.load(audio_path, sr=sampling_rate)\n",
    "\n",
    "        # process the audio using WhisperProcessor\n",
    "        input_features = processor(audio, sampling_rate=sampling_rate, return_tensors=\"pt\").input_features\n",
    "\n",
    "        # generate token ids for transcription\n",
    "        predicted_ids = model.generate(input_features)\n",
    "\n",
    "        # decode token ids to text\n",
    "        transcription = processor.batch_decode(predicted_ids, skip_special_tokens=True)[0]\n",
    "\n",
    "        # write transcription to a text file named after the video ID\n",
    "        with open(os.path.join(output_path, f\"{video_id}.txt\"), \"w\", encoding=\"utf-8\") as txt:\n",
    "            txt.write(transcription)\n",
    "\n",
    "    else:\n",
    "        # If audio file not found (this makes sense actually because all of these videos were not downloaded)\n",
    "        print(f\"Audio for video ID {video_id} not found.\")\n"
   ]
  },
  {
   "cell_type": "markdown",
   "metadata": {},
   "source": [
    "### After Transcriptions"
   ]
  },
  {
   "cell_type": "code",
   "execution_count": 58,
   "metadata": {},
   "outputs": [
    {
     "name": "stdout",
     "output_type": "stream",
     "text": [
      "                Video_ID                                      Transcription  \\\n",
      "0    7300021255258901806                                         I'm sorry.   \n",
      "1    7236076693822246170                                              Outro   \n",
      "2    7301769517041126702            Okay, right. No, I'm getting with this.   \n",
      "3    7289191984529575214   People, open your eyes. We are supporting gen...   \n",
      "4    7297432141485444394   The Zionist argument we will address today is...   \n",
      "..                   ...                                                ...   \n",
      "401  6866180645400431877   Do you have supervision? I'm going to give yo...   \n",
      "402  7298890303744806174   Guess this song. I... hint Taylor Swift. Oh.....   \n",
      "403  7300191041280412933                      Nothing's new, nothing's new.   \n",
      "404  7295818404936584491   The amount of people okay that feel like this...   \n",
      "405  7302568573396913451   And as my mind begins to spread its wings The...   \n",
      "\n",
      "     Length Original Comparison  \n",
      "0        11                None  \n",
      "1         6                None  \n",
      "2        40                None  \n",
      "3        52                None  \n",
      "4       328                None  \n",
      "..      ...                 ...  \n",
      "401     418                None  \n",
      "402     167                None  \n",
      "403      30                None  \n",
      "404     409                None  \n",
      "405     163                None  \n",
      "\n",
      "[406 rows x 4 columns]\n"
     ]
    }
   ],
   "source": [
    "folder_path = os.path.join(cwd, 'txt-transcripts')\n",
    "data = []\n",
    "\n",
    "#iterate through all TXT files \n",
    "for filename in os.listdir(folder_path):\n",
    "    if filename.endswith('.txt'):\n",
    "        file_path = os.path.join(folder_path, filename)\n",
    "        with open(file_path, 'r') as file:\n",
    "            file_name = os.path.splitext(filename)[0]  # get video id\n",
    "            file_content = file.read() #get the content\n",
    "            file_length = len(file_content) #get length\n",
    "            if file_name in poster_downloaded:\n",
    "                original_comparison = 'poster'\n",
    "            elif file_name in hashtag_downloaded:\n",
    "                original_comparison = 'hashtag'\n",
    "            elif file_name in nyt_downloaded:\n",
    "                original_comparison = 'nyt'\n",
    "            else:\n",
    "                original_comparison = None\n",
    "            data.append([file_name, file_content, file_length, original_comparison])\n",
    "\n",
    "# Create a DF\n",
    "transcription_df = pd.DataFrame(data, columns=['Video_ID', 'Transcription', 'Length', 'Original Comparison'])\n",
    "print(transcription_df)\n",
    "\n"
   ]
  },
  {
   "cell_type": "code",
   "execution_count": 59,
   "metadata": {},
   "outputs": [
    {
     "data": {
      "image/png": "[encoded data removed]",
      "text/plain": [
       "<Figure size 800x600 with 1 Axes>"
      ]
     },
     "metadata": {},
     "output_type": "display_data"
    }
   ],
   "source": [
    "# Plot a histogram of file lengths\n",
    "plt.figure(figsize=(8, 6))\n",
    "plt.hist(transcription_df['Length'], color='lightpink', edgecolor='black')\n",
    "plt.title('Histogram of Lengths')\n",
    "plt.xlabel('Length')\n",
    "plt.ylabel('Frequency')\n",
    "plt.grid(True)\n",
    "plt.show()"
   ]
  },
  {
   "cell_type": "code",
   "execution_count": 65,
   "metadata": {},
   "outputs": [
    {
     "name": "stdout",
     "output_type": "stream",
     "text": [
      "(320, 4)\n"
     ]
    }
   ],
   "source": [
    "###Eliminate any non-English transcriptions\n",
    "\n",
    "def detect_language(text):\n",
    "    \"\"\"function to detect language\"\"\"\n",
    "    try:\n",
    "        lang = detect(text)\n",
    "        return lang == 'en'  # Return True if language is English\n",
    "    except:\n",
    "        return False  # Return False if an error occurs during language detection\n",
    "\n",
    "# filter rows with English text\n",
    "transcription_df = transcription_df[transcription_df['Transcription'].apply(detect_language)]\n",
    "\n",
    "print(transcription_df.shape)"
   ]
  },
  {
   "cell_type": "code",
   "execution_count": null,
   "metadata": {},
   "outputs": [],
   "source": [
    "### Compare lengths of transcription with keywords "
   ]
  }
 ],
 "metadata": {
  "kernelspec": {
   "display_name": "Python 3",
   "language": "python",
   "name": "python3"
  },
  "language_info": {
   "codemirror_mode": {
    "name": "ipython",
    "version": 3
   },
   "file_extension": ".py",
   "mimetype": "text/x-python",
   "name": "python",
   "nbconvert_exporter": "python",
   "pygments_lexer": "ipython3",
   "version": "3.12.0"
  }
 },
 "nbformat": 4,
 "nbformat_minor": 2
}
