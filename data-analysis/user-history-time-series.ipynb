{
 "cells": [
  {
   "cell_type": "markdown",
   "metadata": {},
   "source": [
    "# User History Time Series\n",
    "\n",
    "Notebook used to create time series of the video watching history data that you got from TikTok’s user_data.json file contains timestamps of when videos were watched. Creates a single time series with all users (each with a different color) that shows their usage of TikTok over time, subset for 10/7 - 12/7\n",
    "\n",
    "**Author: Audrey Yip**"
   ]
  },
  {
   "cell_type": "code",
   "execution_count": 1,
   "metadata": {},
   "outputs": [],
   "source": [
    "import os\n",
    "import pandas as pd"
   ]
  },
  {
   "cell_type": "code",
   "execution_count": 2,
   "metadata": {},
   "outputs": [
    {
     "ename": "TypeError",
     "evalue": "dirname() missing 1 required positional argument: 'p'",
     "output_type": "error",
     "traceback": [
      "\u001b[0;31m---------------------------------------------------------------------------\u001b[0m",
      "\u001b[0;31mTypeError\u001b[0m                                 Traceback (most recent call last)",
      "Cell \u001b[0;32mIn[2], line 1\u001b[0m\n\u001b[0;32m----> 1\u001b[0m \u001b[43mos\u001b[49m\u001b[38;5;241;43m.\u001b[39;49m\u001b[43mpath\u001b[49m\u001b[38;5;241;43m.\u001b[39;49m\u001b[43mdirname\u001b[49m\u001b[43m(\u001b[49m\u001b[43m)\u001b[49m\n",
      "\u001b[0;31mTypeError\u001b[0m: dirname() missing 1 required positional argument: 'p'"
     ]
    }
   ],
   "source": [
    "\n",
    "df = pd.read_csv\n",
    "df"
   ]
  },
  {
   "cell_type": "code",
   "execution_count": 5,
   "metadata": {},
   "outputs": [
    {
     "name": "stdout",
     "output_type": "stream",
     "text": [
      "Sec2Gr3_77217.json\n",
      ".DS_Store\n"
     ]
    }
   ],
   "source": [
    "cwd = os.getcwd()\n",
    "filepath = \n",
    "for file in os.listdir((f'{cwd}/../pre-processing/url-json-oct7')):\n",
    "    print(file)"
   ]
  },
  {
   "cell_type": "code",
   "execution_count": 14,
   "metadata": {},
   "outputs": [
    {
     "data": {
      "text/html": [
       "<div>\n",
       "<style scoped>\n",
       "    .dataframe tbody tr th:only-of-type {\n",
       "        vertical-align: middle;\n",
       "    }\n",
       "\n",
       "    .dataframe tbody tr th {\n",
       "        vertical-align: top;\n",
       "    }\n",
       "\n",
       "    .dataframe thead th {\n",
       "        text-align: right;\n",
       "    }\n",
       "</style>\n",
       "<table border=\"1\" class=\"dataframe\">\n",
       "  <thead>\n",
       "    <tr style=\"text-align: right;\">\n",
       "      <th></th>\n",
       "      <th>Date</th>\n",
       "      <th>Link</th>\n",
       "    </tr>\n",
       "  </thead>\n",
       "  <tbody>\n",
       "    <tr>\n",
       "      <th>0</th>\n",
       "      <td>2023-12-06 23:58:36</td>\n",
       "      <td>https://www.tiktokv.com/share/video/7308913410...</td>\n",
       "    </tr>\n",
       "    <tr>\n",
       "      <th>1</th>\n",
       "      <td>2023-12-06 23:58:30</td>\n",
       "      <td>https://www.tiktokv.com/share/video/7299469698...</td>\n",
       "    </tr>\n",
       "    <tr>\n",
       "      <th>2</th>\n",
       "      <td>2023-12-06 23:58:26</td>\n",
       "      <td>https://www.tiktokv.com/share/video/7309289501...</td>\n",
       "    </tr>\n",
       "    <tr>\n",
       "      <th>3</th>\n",
       "      <td>2023-12-06 23:57:56</td>\n",
       "      <td>https://www.tiktokv.com/share/video/7306241104...</td>\n",
       "    </tr>\n",
       "    <tr>\n",
       "      <th>4</th>\n",
       "      <td>2023-12-06 23:57:47</td>\n",
       "      <td>https://www.tiktokv.com/share/video/7308781653...</td>\n",
       "    </tr>\n",
       "  </tbody>\n",
       "</table>\n",
       "</div>"
      ],
      "text/plain": [
       "                  Date                                               Link\n",
       "0  2023-12-06 23:58:36  https://www.tiktokv.com/share/video/7308913410...\n",
       "1  2023-12-06 23:58:30  https://www.tiktokv.com/share/video/7299469698...\n",
       "2  2023-12-06 23:58:26  https://www.tiktokv.com/share/video/7309289501...\n",
       "3  2023-12-06 23:57:56  https://www.tiktokv.com/share/video/7306241104...\n",
       "4  2023-12-06 23:57:47  https://www.tiktokv.com/share/video/7308781653..."
      ]
     },
     "execution_count": 14,
     "metadata": {},
     "output_type": "execute_result"
    }
   ],
   "source": [
    "json_data = pd.read_json(f'{cwd}/../pre-processing/url-json-oct7/Sec2Gr3_77217.json')\n",
    "df = pd.json_normalize(json_data['VideoList'])\n",
    "df.head()"
   ]
  },
  {
   "cell_type": "code",
   "execution_count": 12,
   "metadata": {},
   "outputs": [
    {
     "data": {
      "text/html": [
       "<div>\n",
       "<style scoped>\n",
       "    .dataframe tbody tr th:only-of-type {\n",
       "        vertical-align: middle;\n",
       "    }\n",
       "\n",
       "    .dataframe tbody tr th {\n",
       "        vertical-align: top;\n",
       "    }\n",
       "\n",
       "    .dataframe thead th {\n",
       "        text-align: right;\n",
       "    }\n",
       "</style>\n",
       "<table border=\"1\" class=\"dataframe\">\n",
       "  <thead>\n",
       "    <tr style=\"text-align: right;\">\n",
       "      <th></th>\n",
       "      <th>VideoList</th>\n",
       "    </tr>\n",
       "  </thead>\n",
       "  <tbody>\n",
       "    <tr>\n",
       "      <th>0</th>\n",
       "      <td>{'Date': '2023-12-06 23:58:36', 'Link': 'https...</td>\n",
       "    </tr>\n",
       "    <tr>\n",
       "      <th>1</th>\n",
       "      <td>{'Date': '2023-12-06 23:58:30', 'Link': 'https...</td>\n",
       "    </tr>\n",
       "    <tr>\n",
       "      <th>2</th>\n",
       "      <td>{'Date': '2023-12-06 23:58:26', 'Link': 'https...</td>\n",
       "    </tr>\n",
       "    <tr>\n",
       "      <th>3</th>\n",
       "      <td>{'Date': '2023-12-06 23:57:56', 'Link': 'https...</td>\n",
       "    </tr>\n",
       "    <tr>\n",
       "      <th>4</th>\n",
       "      <td>{'Date': '2023-12-06 23:57:47', 'Link': 'https...</td>\n",
       "    </tr>\n",
       "    <tr>\n",
       "      <th>...</th>\n",
       "      <td>...</td>\n",
       "    </tr>\n",
       "    <tr>\n",
       "      <th>19220</th>\n",
       "      <td>{'Date': '2023-10-07 02:29:18', 'Link': 'https...</td>\n",
       "    </tr>\n",
       "    <tr>\n",
       "      <th>19221</th>\n",
       "      <td>{'Date': '2023-10-07 02:29:16', 'Link': 'https...</td>\n",
       "    </tr>\n",
       "    <tr>\n",
       "      <th>19222</th>\n",
       "      <td>{'Date': '2023-10-07 02:29:06', 'Link': 'https...</td>\n",
       "    </tr>\n",
       "    <tr>\n",
       "      <th>19223</th>\n",
       "      <td>{'Date': '2023-10-07 02:28:58', 'Link': 'https...</td>\n",
       "    </tr>\n",
       "    <tr>\n",
       "      <th>19224</th>\n",
       "      <td>{'Date': '2023-10-07 02:28:31', 'Link': 'https...</td>\n",
       "    </tr>\n",
       "  </tbody>\n",
       "</table>\n",
       "<p>19225 rows × 1 columns</p>\n",
       "</div>"
      ],
      "text/plain": [
       "                                               VideoList\n",
       "0      {'Date': '2023-12-06 23:58:36', 'Link': 'https...\n",
       "1      {'Date': '2023-12-06 23:58:30', 'Link': 'https...\n",
       "2      {'Date': '2023-12-06 23:58:26', 'Link': 'https...\n",
       "3      {'Date': '2023-12-06 23:57:56', 'Link': 'https...\n",
       "4      {'Date': '2023-12-06 23:57:47', 'Link': 'https...\n",
       "...                                                  ...\n",
       "19220  {'Date': '2023-10-07 02:29:18', 'Link': 'https...\n",
       "19221  {'Date': '2023-10-07 02:29:16', 'Link': 'https...\n",
       "19222  {'Date': '2023-10-07 02:29:06', 'Link': 'https...\n",
       "19223  {'Date': '2023-10-07 02:28:58', 'Link': 'https...\n",
       "19224  {'Date': '2023-10-07 02:28:31', 'Link': 'https...\n",
       "\n",
       "[19225 rows x 1 columns]"
      ]
     },
     "execution_count": 12,
     "metadata": {},
     "output_type": "execute_result"
    }
   ],
   "source": []
  }
 ],
 "metadata": {
  "kernelspec": {
   "display_name": "Python 3",
   "language": "python",
   "name": "python3"
  },
  "language_info": {
   "codemirror_mode": {
    "name": "ipython",
    "version": 3
   },
   "file_extension": ".py",
   "mimetype": "text/x-python",
   "name": "python",
   "nbconvert_exporter": "python",
   "pygments_lexer": "ipython3",
   "version": "3.11.3"
  }
 },
 "nbformat": 4,
 "nbformat_minor": 2
}
