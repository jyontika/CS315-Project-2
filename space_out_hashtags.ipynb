{
  "nbformat": 4,
  "nbformat_minor": 0,
  "metadata": {
    "colab": {
      "provenance": [],
      "include_colab_link": true
    },
    "kernelspec": {
      "name": "python3",
      "display_name": "Python 3"
    },
    "language_info": {
      "name": "python"
    }
  },
  "cells": [
    {
      "cell_type": "markdown",
      "metadata": {
        "id": "view-in-github",
        "colab_type": "text"
      },
      "source": [
        "<a href=\"https://colab.research.google.com/github/jyontika/CS315-Project-2/blob/main/space_out_hashtags.ipynb\" target=\"_parent\"><img src=\"https://colab.research.google.com/assets/colab-badge.svg\" alt=\"Open In Colab\"/></a>"
      ]
    },
    {
      "cell_type": "markdown",
      "source": [
        "input: list of hashtags <br>\n",
        "output: list of separated,comprehensible hashtags"
      ],
      "metadata": {
        "id": "fKFF-cmvk3R6"
      }
    },
    {
      "cell_type": "code",
      "source": [
        "!pip install OpenAI"
      ],
      "metadata": {
        "colab": {
          "base_uri": "https://localhost:8080/"
        },
        "id": "Lf1PosPQmQ9T",
        "outputId": "60f5f160-bb5e-4032-8a44-402cfc7ca9fb"
      },
      "execution_count": null,
      "outputs": [
        {
          "output_type": "stream",
          "name": "stdout",
          "text": [
            "Collecting OpenAI\n",
            "  Downloading openai-1.13.3-py3-none-any.whl (227 kB)\n",
            "\u001b[2K     \u001b[90m━━━━━━━━━━━━━━━━━━━━━━━━━━━━━━━━━━━━━━━━\u001b[0m \u001b[32m227.4/227.4 kB\u001b[0m \u001b[31m2.0 MB/s\u001b[0m eta \u001b[36m0:00:00\u001b[0m\n",
            "\u001b[?25hRequirement already satisfied: anyio<5,>=3.5.0 in /usr/local/lib/python3.10/dist-packages (from OpenAI) (3.7.1)\n",
            "Requirement already satisfied: distro<2,>=1.7.0 in /usr/lib/python3/dist-packages (from OpenAI) (1.7.0)\n",
            "Collecting httpx<1,>=0.23.0 (from OpenAI)\n",
            "  Downloading httpx-0.27.0-py3-none-any.whl (75 kB)\n",
            "\u001b[2K     \u001b[90m━━━━━━━━━━━━━━━━━━━━━━━━━━━━━━━━━━━━━━━━\u001b[0m \u001b[32m75.6/75.6 kB\u001b[0m \u001b[31m8.8 MB/s\u001b[0m eta \u001b[36m0:00:00\u001b[0m\n",
            "\u001b[?25hRequirement already satisfied: pydantic<3,>=1.9.0 in /usr/local/lib/python3.10/dist-packages (from OpenAI) (2.6.3)\n",
            "Requirement already satisfied: sniffio in /usr/local/lib/python3.10/dist-packages (from OpenAI) (1.3.1)\n",
            "Requirement already satisfied: tqdm>4 in /usr/local/lib/python3.10/dist-packages (from OpenAI) (4.66.2)\n",
            "Requirement already satisfied: typing-extensions<5,>=4.7 in /usr/local/lib/python3.10/dist-packages (from OpenAI) (4.10.0)\n",
            "Requirement already satisfied: idna>=2.8 in /usr/local/lib/python3.10/dist-packages (from anyio<5,>=3.5.0->OpenAI) (3.6)\n",
            "Requirement already satisfied: exceptiongroup in /usr/local/lib/python3.10/dist-packages (from anyio<5,>=3.5.0->OpenAI) (1.2.0)\n",
            "Requirement already satisfied: certifi in /usr/local/lib/python3.10/dist-packages (from httpx<1,>=0.23.0->OpenAI) (2024.2.2)\n",
            "Collecting httpcore==1.* (from httpx<1,>=0.23.0->OpenAI)\n",
            "  Downloading httpcore-1.0.4-py3-none-any.whl (77 kB)\n",
            "\u001b[2K     \u001b[90m━━━━━━━━━━━━━━━━━━━━━━━━━━━━━━━━━━━━━━━━\u001b[0m \u001b[32m77.8/77.8 kB\u001b[0m \u001b[31m10.2 MB/s\u001b[0m eta \u001b[36m0:00:00\u001b[0m\n",
            "\u001b[?25hCollecting h11<0.15,>=0.13 (from httpcore==1.*->httpx<1,>=0.23.0->OpenAI)\n",
            "  Downloading h11-0.14.0-py3-none-any.whl (58 kB)\n",
            "\u001b[2K     \u001b[90m━━━━━━━━━━━━━━━━━━━━━━━━━━━━━━━━━━━━━━━━\u001b[0m \u001b[32m58.3/58.3 kB\u001b[0m \u001b[31m5.6 MB/s\u001b[0m eta \u001b[36m0:00:00\u001b[0m\n",
            "\u001b[?25hRequirement already satisfied: annotated-types>=0.4.0 in /usr/local/lib/python3.10/dist-packages (from pydantic<3,>=1.9.0->OpenAI) (0.6.0)\n",
            "Requirement already satisfied: pydantic-core==2.16.3 in /usr/local/lib/python3.10/dist-packages (from pydantic<3,>=1.9.0->OpenAI) (2.16.3)\n",
            "Installing collected packages: h11, httpcore, httpx, OpenAI\n",
            "Successfully installed OpenAI-1.13.3 h11-0.14.0 httpcore-1.0.4 httpx-0.27.0\n"
          ]
        }
      ]
    },
    {
      "cell_type": "code",
      "execution_count": null,
      "metadata": {
        "id": "BCHfHOsckyWJ"
      },
      "outputs": [],
      "source": [
        "import openai\n",
        "import os\n",
        "os.environ['API_KEY'] = #SECRET KEY\n",
        "openai.api_key = os.environ['API_KEY']\n",
        "client = openai.OpenAI(\n",
        "    # defaults to os.environ.get(\"OPENAI_API_KEY\")\n",
        "    api_key=openai.api_key,\n",
        ")"
      ]
    },
    {
      "cell_type": "code",
      "source": [
        "def space_out(hashtag_list):\n",
        "  \"\"\"Helper function to call the OpenAI API for splitting hashtags.\"\"\"\n",
        "  response = client.chat.completions.create(\n",
        "    model=\"gpt-3.5-turbo\",\n",
        "    response_format={ \"type\": \"json_object\" },\n",
        "    messages=[\n",
        "      {\"role\": \"system\", \"content\": \"You are a helpful assistant designed to output JSON.\"},\n",
        "      {\"role\": \"user\", \"content\": f\"\"\"The input is a list of merged words. For each merged word in the list,\n",
        "                                space it out to make it a comprehensible and grammatically correct word.\n",
        "                                Output a list of words. For example, if the input list is [\"blackgirltok\",\"koreanoctopus\"],\n",
        "                                the output should be [\"black girl\", \"korean octopus\"]\n",
        "                                The input list is: {hashtag_list}\n",
        "              \"\"\"}\n",
        "    ]\n",
        "  )\n",
        "  res = response.choices[0].message.content\n",
        "  cleaned = [item.strip(' ,\"\\'\\n') for item in res.split('\\n')[2:][:-2]]\n",
        "  return cleaned"
      ],
      "metadata": {
        "id": "Iqlbtt8KmPGi"
      },
      "execution_count": null,
      "outputs": []
    },
    {
      "cell_type": "code",
      "source": [
        "hashtag_list = ['collegeappszn', 'freepalestine', 'mangarecommendation', 'elsalvador', 'catherinethegreat',\n",
        "                'parishilton', 'crimerate', 'texasnationalguard', 'islamicvideo', 'mangatok', 'romancemangarecommendations',\n",
        "                'journalists#heroes', 'zanuffthebutcher', 'theunitedstatesofamerica', 'ohthatsnot', 'guantanamobay',\n",
        "                'communismo', 'greenscreenvideo', 'foryoupage', 'slavictok', 'ngonqua', 'historyfacts', 'torotoroor',\n",
        "                'patientcare', 'mentalhealth', 'eeeeeats', 'qualityoflife', 'FreePalestine', 'judgeattack',\n",
        "                'dontstoptalkingaboutpalestine', 'computerscience', 'aoc2028']\n",
        "output = space_out(hashtag_list)"
      ],
      "metadata": {
        "id": "3E74NPMzoneg"
      },
      "execution_count": null,
      "outputs": []
    },
    {
      "cell_type": "code",
      "source": [
        "output"
      ],
      "metadata": {
        "colab": {
          "base_uri": "https://localhost:8080/"
        },
        "id": "b4oiiLucsvDr",
        "outputId": "3e3375e4-f258-4165-f7d7-dc012c4607cc"
      },
      "execution_count": null,
      "outputs": [
        {
          "output_type": "execute_result",
          "data": {
            "text/plain": [
              "['college apps zn',\n",
              " 'free palestine',\n",
              " 'manga recommendation',\n",
              " 'el salvador',\n",
              " 'catherine the great',\n",
              " 'paris hilton',\n",
              " 'crime rate',\n",
              " 'texas national guard',\n",
              " 'islamic video',\n",
              " 'manga tok',\n",
              " 'romance manga recommendations',\n",
              " 'journalists heroes',\n",
              " 'zanuff the butcher',\n",
              " 'the united states of america',\n",
              " \"oh that's not\",\n",
              " 'guantanamo bay',\n",
              " 'communism o',\n",
              " 'greenscreen video',\n",
              " 'for you page',\n",
              " 'slavic tok',\n",
              " 'ngon qua',\n",
              " 'history facts',\n",
              " 'totoro ror',\n",
              " 'patient care',\n",
              " 'mental health',\n",
              " 'e eee eats',\n",
              " 'quality of life',\n",
              " 'Free Palestine',\n",
              " 'judge attack',\n",
              " \"don't stop talking about palestine\",\n",
              " 'computer science',\n",
              " 'aoc 2028']"
            ]
          },
          "metadata": {},
          "execution_count": 60
        }
      ]
    }
  ]
}