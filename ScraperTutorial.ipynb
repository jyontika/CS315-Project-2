{
 "cells": [
  {
   "attachments": {},
   "cell_type": "markdown",
   "metadata": {},
   "source": [
    "After we scrape each video page and save it into each num.html file, we want to extract info out of the files now.  <br>\n",
    "We start with something simple: given one video html page, extract:\n",
    "1.  num of likes, shares, saves,comments, plays(new!) (in video box)\n",
    "2.  username, nickname, description, music  (below video box)\n",
    "3.  first batch of comments\n",
    "\n",
    "We will do this using ```BeautifulSoup```"
   ]
  },
  {
   "cell_type": "code",
   "execution_count": null,
   "metadata": {},
   "outputs": [],
   "source": [
    "from bs4 import BeautifulSoup as BS\n",
    "import pandas as pd"
   ]
  },
  {
   "cell_type": "code",
   "execution_count": 126,
   "metadata": {},
   "outputs": [],
   "source": [
    "with open('./02-28-01-04-38/vid_0.html', 'r') as f:\n",
    "    contents = f.read()\n",
    "\n",
    "    soup = BS(contents, \"html.parser\")\n",
    "    url = soup.find(\"meta\", property=\"og:url\")['content']\n",
    "    username = soup.find(\"span\", {\"class\": \"css-1c7urt-SpanUniqueId evv7pft1\"}).text\n",
    "    nickname = soup.find(\"span\", {\"class\": \"css-1xccqfx-SpanNickName e17fzhrb1\"}).text\n",
    "    description = soup.find(\"span\", {\"class\": \"css-j2a19r-SpanText efbd9f0\"}).text\n",
    "    music = soup.find(\"div\", {\"class\": \"css-pvx3oa-DivMusicText epjbyn3\"}).text"
   ]
  },
  {
   "cell_type": "code",
   "execution_count": 127,
   "metadata": {},
   "outputs": [
    {
     "name": "stdout",
     "output_type": "stream",
     "text": [
      "url: https://www.tiktok.com/@pinkydollreal/video/7311845651862637829 \n",
      "username: pinkydollreal \n",
      "nickname: Pinkydoll \n",
      "description: NPC in the mall with  \n",
      "music: GTA San Andreas Theme - HYGH Lofi Music & Lobit & Cooky\n"
     ]
    }
   ],
   "source": [
    "print(\"url:\",url,\"\\nusername:\", username,\"\\nnickname:\", nickname, \"\\ndescription:\", description,\"\\nmusic:\",music)"
   ]
  },
  {
   "cell_type": "code",
   "execution_count": 128,
   "metadata": {},
   "outputs": [
    {
     "name": "stdout",
     "output_type": "stream",
     "text": [
      "['Imagine seeing pinky doll in the mall 😱', 'the fact this is laval', 'THEY NEED HER IN GTA 6-', 'I SAW THEM😭', 'Carrefour Laval spotted', 'iceeeee cream soooo goooddd', 'the random back flip 😭😭', 'He did a whole back flip lol', 'oh noooo not in public right toooo', '😭 she’s in laval?', 'This is a w collab', 'What is laval 🤔', 'Who came from Alibaba video', 'UMM CARREFOUR HOW DID I MISS THIS', 'I came here from the santa juju walk rizz vid', 'BYE NOT CARREFOUR', '@ₘᵢₗₑₙₐ 🤍 not this too', '@kiki🔛🔝 PINKY DOLL AT CF', '@breakinMcqueen95 @💗현진 아내💗 @Estriper literally at cf laval', 'Slay', '@Jaya⸆⸉ it’s so preppy in here!', 'YES YES YES', '@Gabriella\\U0001fa77 at c4 agaib😔', 'I swear I love me some pinkydoll 🫶🫶', '@The best y/n BAHAHAHA', 'Is that car four Laval ?', 'like how Kris Kross did dat back flip', 'OMG YHU SAW ALIBABA I KNEW HE SAW YHU ON HIS VIDEO 😭😭', \"😳 I'm a pray for you sis\", 'I was like yassss girl walk that walk', '😭 this was more npc then an npc is', 'Roblox 🙂', 'the flip was dope 😅', 'I sweater I have seen him on snapchat shorts', 'HES SO FRICKEN TINY', 'I love it!', '@𝓗’ HEKP C CAREFOUR', 'Snapped', 'how are malls still in business?', 'You are so amazing']\n"
     ]
    }
   ],
   "source": [
    "comment_div = soup.find_all(\"p\", {\"class\": \"css-xm2h10-PCommentText e1g2efjf6\"})\n",
    "comments = []\n",
    "for comment in comment_div:\n",
    "    comments.append(comment.text)\n",
    "print(comments)"
   ]
  },
  {
   "cell_type": "code",
   "execution_count": 129,
   "metadata": {},
   "outputs": [
    {
     "name": "stdout",
     "output_type": "stream",
     "text": [
      "\n",
      "like: 45500 \n",
      "share: 1205 \n",
      "comment: 744 \n",
      "play: 732700 \n",
      "collect: 2911\n"
     ]
    },
    {
     "name": "stderr",
     "output_type": "stream",
     "text": [
      "/var/folders/6y/w5dznchj3w9cyjt81v33hf1c0000gn/T/ipykernel_84872/2516979041.py:3: DeprecationWarning: The 'text' argument to find()-type methods is deprecated. Use 'string' instead.\n",
      "  script_tag = soup.find('script', text=re.compile('stats'))\n"
     ]
    }
   ],
   "source": [
    "import re\n",
    "import json\n",
    "script_tag = soup.find('script', text=re.compile('stats'))\n",
    "script_content = script_tag.string \n",
    "data = json.loads(script_content)[\"__DEFAULT_SCOPE__\"]['webapp.video-detail']['itemInfo']['itemStruct'][\"stats\"] #json to python dict, and keep looking\n",
    "like_count = data['diggCount']\n",
    "share_count = data['shareCount']\n",
    "comment_count = data['commentCount']\n",
    "playCount = data['playCount']\n",
    "collectCount = data['collectCount']\n",
    "print(\"\\nlike:\",like_count, \"\\nshare:\",share_count, \"\\ncomment:\", comment_count, \"\\nplay:\", playCount, \"\\ncollect:\", collectCount)"
   ]
  },
  {
   "attachments": {},
   "cell_type": "markdown",
   "metadata": {},
   "source": [
    "Now we **generalize** this code to loop through all the ```.html``` files. We do this in  ```parse_html.py```"
   ]
  }
 ],
 "metadata": {
  "kernelspec": {
   "display_name": "venv",
   "language": "python",
   "name": "python3"
  },
  "language_info": {
   "codemirror_mode": {
    "name": "ipython",
    "version": 3
   },
   "file_extension": ".py",
   "mimetype": "text/x-python",
   "name": "python",
   "nbconvert_exporter": "python",
   "pygments_lexer": "ipython3",
   "version": "3.11.4 (main, Jul  5 2023, 08:54:11) [Clang 14.0.6 ]"
  },
  "orig_nbformat": 4,
  "vscode": {
   "interpreter": {
    "hash": "998e054e2a336645a1c034d50f95524bbbabc00cc66740a3f3687176c9a2862f"
   }
  }
 },
 "nbformat": 4,
 "nbformat_minor": 2
}
