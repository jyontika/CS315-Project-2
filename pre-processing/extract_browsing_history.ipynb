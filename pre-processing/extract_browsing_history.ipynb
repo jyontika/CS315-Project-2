{
 "cells": [
  {
   "cell_type": "markdown",
   "metadata": {},
   "source": [
    "# Extracting Video History from json\n",
    "\n",
    "This notebook is used to extract the Video Browsing History from a user_data.json file downloaded from TikTok.\n",
    "\n",
    "Author: Audrey Yip & Jyontika Kapoor\n",
    "\n",
    "Date: 03-04-2024"
   ]
  },
  {
   "cell_type": "code",
   "execution_count": 16,
   "metadata": {},
   "outputs": [],
   "source": [
    "# imports\n",
    "import random\n",
    "import os\n",
    "import json\n",
    "import csv"
   ]
  },
  {
   "cell_type": "code",
   "execution_count": 17,
   "metadata": {},
   "outputs": [],
   "source": [
    "cd = \"raw_data\"\n",
    "file_path = 'user_data_jyontika.json' #team members put their path here \n",
    "filename = os.path.join(cd,file_path)   \n",
    "\n",
    "with open(filename, 'r') as myFile:    \n",
    "  data = json.load(myFile)"
   ]
  },
  {
   "cell_type": "code",
   "execution_count": 18,
   "metadata": {},
   "outputs": [
    {
     "name": "stdout",
     "output_type": "stream",
     "text": [
      "Number of Videos: 1\n"
     ]
    }
   ],
   "source": [
    "video_URLs = data['Activity']['Video Browsing History']\n",
    "\n",
    "print(\"Number of Videos:\", len(video_URLs))"
   ]
  },
  {
   "cell_type": "code",
   "execution_count": 19,
   "metadata": {},
   "outputs": [
    {
     "name": "stdout",
     "output_type": "stream",
     "text": [
      "Video Browsing Data has been dumped into url-json/Sec2Gr3_14110.json\n"
     ]
    }
   ],
   "source": [
    "# create anonymized json file, per Eni's instructions\n",
    "random_number = str(random.randint(10000, 99999))\n",
    "path = \"url-json/\"\n",
    "filename = \"Sec2Gr3_\" + random_number + \".json\"\n",
    "outfile_path =  os.path.join(path, filename) \n",
    "\n",
    "with open(outfile_path, 'w') as outfile:\n",
    "    json.dump(video_URLs, outfile)\n",
    "\n",
    "print(\"Video Browsing Data has been dumped into\", outfile_path)"
   ]
  },
  {
   "cell_type": "code",
   "execution_count": 20,
   "metadata": {},
   "outputs": [
    {
     "name": "stdout",
     "output_type": "stream",
     "text": [
      "Video URLs have been dumped into url-csv/video_urls_14110.csv\n"
     ]
    }
   ],
   "source": [
    "#convert video URLs to a csv\n",
    "\n",
    "video_urls = [entry['Link'] for entry in video_URLs['VideoList']]\n",
    "\n",
    "path = \"url-csv/\"\n",
    "filename  = 'video_urls_' + random_number + '.csv' \n",
    "csv_file_path = os.path.join(path, filename) \n",
    "\n",
    "# write the URLs into a csv\n",
    "with open(csv_file_path, 'w', newline='') as csv_file:\n",
    "    csv_writer = csv.writer(csv_file)\n",
    "    csv_writer.writerow(['Video URL'])  # Write header\n",
    "\n",
    "    for url in video_urls:\n",
    "        csv_writer.writerow([url])\n",
    "\n",
    "print(\"Video URLs have been dumped into\", csv_file_path)"
   ]
  }
 ],
 "metadata": {
  "kernelspec": {
   "display_name": "Python 3",
   "language": "python",
   "name": "python3"
  },
  "language_info": {
   "codemirror_mode": {
    "name": "ipython",
    "version": 3
   },
   "file_extension": ".py",
   "mimetype": "text/x-python",
   "name": "python",
   "nbconvert_exporter": "python",
   "pygments_lexer": "ipython3",
   "version": "3.12.0"
  }
 },
 "nbformat": 4,
 "nbformat_minor": 2
}
