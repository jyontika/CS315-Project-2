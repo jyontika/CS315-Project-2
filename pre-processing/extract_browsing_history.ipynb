{
 "cells": [
  {
   "cell_type": "markdown",
   "metadata": {},
   "source": [
    "# Extracting Video History from json\n",
    "\n",
    "This notebook is used to extract the Video Browsing History from a user_data.json file downloaded from TikTok.\n",
    "\n",
    "Author: Audrey Yip\n",
    "\n",
    "Date: 03-02-2024"
   ]
  },
  {
   "cell_type": "code",
   "execution_count": 15,
   "metadata": {},
   "outputs": [],
   "source": [
    "# imports\n",
    "import random\n",
    "import json"
   ]
  },
  {
   "cell_type": "code",
   "execution_count": 16,
   "metadata": {},
   "outputs": [],
   "source": [
    "filename = 'user_data.json'     # replace the filename with your user_data file\n",
    "with open(filename, 'r') as myFile:    \n",
    "  data = json.load(myFile)"
   ]
  },
  {
   "cell_type": "code",
   "execution_count": 17,
   "metadata": {},
   "outputs": [
    {
     "name": "stdout",
     "output_type": "stream",
     "text": [
      "Number of Videos: 0\n"
     ]
    }
   ],
   "source": [
    "vid_history = data['Activity']['Video Browsing History']\n",
    "\n",
    "print(\"Number of Videos:\", len(vid_history))"
   ]
  },
  {
   "cell_type": "code",
   "execution_count": 18,
   "metadata": {},
   "outputs": [
    {
     "name": "stdout",
     "output_type": "stream",
     "text": [
      "Video Browsing Data has been dumped into Sec2Gr3_29115.json\n"
     ]
    }
   ],
   "source": [
    "# create anonymized json file\n",
    "random_number = str(random.randint(10000, 99999))\n",
    "\n",
    "outfile_path = \"Sec2Gr3_\" + random_number + \".json\"\n",
    "\n",
    "with open(outfile_path, 'w') as outfile:\n",
    "    json.dump(vid_history, outfile)\n",
    "\n",
    "print(\"Video Browsing Data has been dumped into\", outfile_path)"
   ]
  }
 ],
 "metadata": {
  "kernelspec": {
   "display_name": "Python 3",
   "language": "python",
   "name": "python3"
  },
  "language_info": {
   "codemirror_mode": {
    "name": "ipython",
    "version": 3
   },
   "file_extension": ".py",
   "mimetype": "text/x-python",
   "name": "python",
   "nbconvert_exporter": "python",
   "pygments_lexer": "ipython3",
   "version": "3.11.3"
  }
 },
 "nbformat": 4,
 "nbformat_minor": 2
}
