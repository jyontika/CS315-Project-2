{
 "cells": [
  {
   "cell_type": "markdown",
   "metadata": {},
   "source": [
    "# Extracting Video History from json\n",
    "\n",
    "This notebook is used to extract the Video Browsing History from a user_data.json file downloaded from TikTok.\n",
    "\n",
    "Author: Audrey Yip & Jyontika Kapoor\n",
    "\n",
    "Date: 03-04-2024"
   ]
  },
  {
   "cell_type": "code",
   "execution_count": 1,
   "metadata": {},
   "outputs": [],
   "source": [
    "# imports\n",
    "import random\n",
    "import os\n",
    "import json\n",
    "import csv\n",
    "from datetime import datetime"
   ]
  },
  {
   "cell_type": "code",
   "execution_count": 2,
   "metadata": {},
   "outputs": [],
   "source": [
    "filename = '/Users/jyontika/Desktop/user_data_jyontika.json' #team members put path to raw data here \n",
    "\n",
    "with open(filename, 'r') as myFile:    \n",
    "  data = json.load(myFile)"
   ]
  },
  {
   "cell_type": "code",
   "execution_count": 3,
   "metadata": {},
   "outputs": [
    {
     "name": "stdout",
     "output_type": "stream",
     "text": [
      "Number of Videos: 1\n"
     ]
    }
   ],
   "source": [
    "video_URLs = data['Activity']['Video Browsing History']\n",
    "\n",
    "print(\"Number of Videos:\", len(video_URLs))"
   ]
  },
  {
   "cell_type": "code",
   "execution_count": 5,
   "metadata": {},
   "outputs": [
    {
     "name": "stdout",
     "output_type": "stream",
     "text": [
      "Video Browsing Data has been dumped into url-json/Sec2Gr3_15905.json\n"
     ]
    }
   ],
   "source": [
    "# create anonymized json file, per Eni's instructions\n",
    "random_number = str(random.randint(10000, 99999))\n",
    "path = \"url-json/\"\n",
    "filename = \"Sec2Gr3_\" + random_number + \".json\"\n",
    "outfile_path =  os.path.join(path, filename) \n",
    "\n",
    "with open(outfile_path, 'w') as outfile:\n",
    "    json.dump(video_URLs, outfile)\n",
    "\n",
    "print(\"Video Browsing Data has been dumped into\", outfile_path)"
   ]
  },
  {
   "cell_type": "code",
   "execution_count": 9,
   "metadata": {},
   "outputs": [
    {
     "name": "stdout",
     "output_type": "stream",
     "text": [
      "Video URLs have been dumped into url-csv/video_urls_15905.csv\n"
     ]
    }
   ],
   "source": [
    "#convert video URLs to a csv -- ONLY with link\n",
    "\n",
    "# video_urls = [entry['Link'] for entry in video_URLs['VideoList']]\n",
    "\n",
    "# path = \"url-csv/\"\n",
    "# filename  = 'video_urls_' + random_number + '.csv' \n",
    "# csv_file_path = os.path.join(path, filename) \n",
    "\n",
    "# # write the URLs into a csv\n",
    "# with open(csv_file_path, 'w', newline='') as csv_file:\n",
    "#     csv_writer = csv.writer(csv_file)\n",
    "#     csv_writer.writerow(['Video URL'])  # Write header\n",
    "\n",
    "#     for url in video_urls:\n",
    "#         csv_writer.writerow([url])\n",
    "\n",
    "# print(\"Video URLs have been dumped into\", csv_file_path)"
   ]
  },
  {
   "cell_type": "code",
   "execution_count": 13,
   "metadata": {},
   "outputs": [
    {
     "name": "stdout",
     "output_type": "stream",
     "text": [
      "Video URLs and Dates have been dumped into url-csv/video_urls_15905.csv\n"
     ]
    }
   ],
   "source": [
    "# convert video URLs to CSV with dates as well  \n",
    "\n",
    "video_data = video_URLs['VideoList']\n",
    "video_urls = [entry['Link'] for entry in video_data]\n",
    "video_dates = [entry['Date'] for entry in video_data]\n",
    "\n",
    "# Combine links and dates into pairs\n",
    "video_info = zip(video_urls, video_dates)\n",
    "\n",
    "# Specify the CSV file path\n",
    "path = \"url-csv/\"\n",
    "filename = f'video_urls_{random_number}.csv'\n",
    "csv_file_path = os.path.join(path, filename)\n",
    "\n",
    "# write the URLs and dates into a csv\n",
    "with open(csv_file_path, 'w', newline='') as csv_file:\n",
    "    csv_writer = csv.writer(csv_file)\n",
    "    csv_writer.writerow(['Video URL', 'Date']) \n",
    "    \n",
    "    for url, date in video_info:\n",
    "        csv_writer.writerow([url, date])\n",
    "\n",
    "print(\"Video URLs and Dates have been dumped into\", csv_file_path)\n"
   ]
  },
  {
   "cell_type": "markdown",
   "metadata": {},
   "source": [
    "### Extrat Dates related to world news "
   ]
  },
  {
   "cell_type": "code",
   "execution_count": null,
   "metadata": {},
   "outputs": [],
   "source": []
  }
 ],
 "metadata": {
  "kernelspec": {
   "display_name": "Python 3",
   "language": "python",
   "name": "python3"
  },
  "language_info": {
   "codemirror_mode": {
    "name": "ipython",
    "version": 3
   },
   "file_extension": ".py",
   "mimetype": "text/x-python",
   "name": "python",
   "nbconvert_exporter": "python",
   "pygments_lexer": "ipython3",
   "version": "3.12.0"
  }
 },
 "nbformat": 4,
 "nbformat_minor": 2
}
