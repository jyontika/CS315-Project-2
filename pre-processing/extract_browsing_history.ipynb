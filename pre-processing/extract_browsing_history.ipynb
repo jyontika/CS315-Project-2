{
 "cells": [
  {
   "cell_type": "markdown",
   "metadata": {},
   "source": [
    "# Extracting Video History from json\n",
    "\n",
    "This notebook is used to extract the Video Browsing History from a user_data.json file downloaded from TikTok.\n",
    "\n",
    "Author: Audrey Yip & Jyontika Kapoor\n",
    "\n",
    "Date: 03-04-2024"
   ]
  },
  {
   "cell_type": "code",
   "execution_count": 1,
   "metadata": {},
   "outputs": [],
   "source": [
    "# imports\n",
    "import random\n",
    "import os\n",
    "import json\n",
    "import csv\n",
    "from datetime import datetime"
   ]
  },
  {
   "cell_type": "code",
   "execution_count": 2,
   "metadata": {},
   "outputs": [
    {
     "ename": "FileNotFoundError",
     "evalue": "[Errno 2] No such file or directory: ''",
     "output_type": "error",
     "traceback": [
      "\u001b[0;31m---------------------------------------------------------------------------\u001b[0m",
      "\u001b[0;31mFileNotFoundError\u001b[0m                         Traceback (most recent call last)",
      "Cell \u001b[0;32mIn[2], line 4\u001b[0m\n\u001b[1;32m      1\u001b[0m \u001b[38;5;66;03m#team members put path to raw data here \u001b[39;00m\n\u001b[1;32m      2\u001b[0m filename \u001b[38;5;241m=\u001b[39m \u001b[38;5;124m\"\u001b[39m\u001b[38;5;124m\"\u001b[39m\n\u001b[0;32m----> 4\u001b[0m \u001b[38;5;28;01mwith\u001b[39;00m \u001b[38;5;28;43mopen\u001b[39;49m\u001b[43m(\u001b[49m\u001b[43mfilename\u001b[49m\u001b[43m,\u001b[49m\u001b[43m \u001b[49m\u001b[38;5;124;43m'\u001b[39;49m\u001b[38;5;124;43mr\u001b[39;49m\u001b[38;5;124;43m'\u001b[39;49m\u001b[43m)\u001b[49m \u001b[38;5;28;01mas\u001b[39;00m myFile:    \n\u001b[1;32m      5\u001b[0m   data \u001b[38;5;241m=\u001b[39m json\u001b[38;5;241m.\u001b[39mload(myFile)\n",
      "File \u001b[0;32m~/miniconda3/envs/proj2/lib/python3.12/site-packages/IPython/core/interactiveshell.py:324\u001b[0m, in \u001b[0;36m_modified_open\u001b[0;34m(file, *args, **kwargs)\u001b[0m\n\u001b[1;32m    317\u001b[0m \u001b[38;5;28;01mif\u001b[39;00m file \u001b[38;5;129;01min\u001b[39;00m {\u001b[38;5;241m0\u001b[39m, \u001b[38;5;241m1\u001b[39m, \u001b[38;5;241m2\u001b[39m}:\n\u001b[1;32m    318\u001b[0m     \u001b[38;5;28;01mraise\u001b[39;00m \u001b[38;5;167;01mValueError\u001b[39;00m(\n\u001b[1;32m    319\u001b[0m         \u001b[38;5;124mf\u001b[39m\u001b[38;5;124m\"\u001b[39m\u001b[38;5;124mIPython won\u001b[39m\u001b[38;5;124m'\u001b[39m\u001b[38;5;124mt let you open fd=\u001b[39m\u001b[38;5;132;01m{\u001b[39;00mfile\u001b[38;5;132;01m}\u001b[39;00m\u001b[38;5;124m by default \u001b[39m\u001b[38;5;124m\"\u001b[39m\n\u001b[1;32m    320\u001b[0m         \u001b[38;5;124m\"\u001b[39m\u001b[38;5;124mas it is likely to crash IPython. If you know what you are doing, \u001b[39m\u001b[38;5;124m\"\u001b[39m\n\u001b[1;32m    321\u001b[0m         \u001b[38;5;124m\"\u001b[39m\u001b[38;5;124myou can use builtins\u001b[39m\u001b[38;5;124m'\u001b[39m\u001b[38;5;124m open.\u001b[39m\u001b[38;5;124m\"\u001b[39m\n\u001b[1;32m    322\u001b[0m     )\n\u001b[0;32m--> 324\u001b[0m \u001b[38;5;28;01mreturn\u001b[39;00m \u001b[43mio_open\u001b[49m\u001b[43m(\u001b[49m\u001b[43mfile\u001b[49m\u001b[43m,\u001b[49m\u001b[43m \u001b[49m\u001b[38;5;241;43m*\u001b[39;49m\u001b[43margs\u001b[49m\u001b[43m,\u001b[49m\u001b[43m \u001b[49m\u001b[38;5;241;43m*\u001b[39;49m\u001b[38;5;241;43m*\u001b[39;49m\u001b[43mkwargs\u001b[49m\u001b[43m)\u001b[49m\n",
      "\u001b[0;31mFileNotFoundError\u001b[0m: [Errno 2] No such file or directory: ''"
     ]
    }
   ],
   "source": [
    "#team members put path to raw data here \n",
    "filename = \"\"\n",
    "\n",
    "with open(filename, 'r') as myFile:    \n",
    "  data = json.load(myFile)"
   ]
  },
  {
   "cell_type": "code",
   "execution_count": 3,
   "metadata": {},
   "outputs": [
    {
     "name": "stdout",
     "output_type": "stream",
     "text": [
      "Number of Videos: 1\n"
     ]
    }
   ],
   "source": [
    "video_URLs = data['Activity']['Video Browsing History']\n",
    "\n",
    "print(\"Number of Videos:\", len(video_URLs))"
   ]
  },
  {
   "cell_type": "code",
   "execution_count": 4,
   "metadata": {},
   "outputs": [
    {
     "name": "stdout",
     "output_type": "stream",
     "text": [
      "Video Browsing Data has been dumped into url-json-raw/Sec2Gr3_31004.json\n"
     ]
    }
   ],
   "source": [
    "# create anonymized json file, per Eni's instructions\n",
    "random_number = str(random.randint(10000, 99999))\n",
    "path_raw = \"url-json-raw/\"\n",
    "filename = \"Sec2Gr3_\" + random_number + \".json\"\n",
    "outfile_path_raw =  os.path.join(path_raw, filename) \n",
    "\n",
    "with open(outfile_path_raw, 'w') as outfile:\n",
    "    json.dump(video_URLs, outfile)\n",
    "\n",
    "print(\"Video Browsing Data has been dumped into\", outfile_path_raw)"
   ]
  },
  {
   "cell_type": "markdown",
   "metadata": {},
   "source": [
    "### Extract Dates related to world news "
   ]
  },
  {
   "cell_type": "code",
   "execution_count": 5,
   "metadata": {},
   "outputs": [],
   "source": [
    "#create a function to filter dates\n",
    "\n",
    "def filter_dates(start_date, end_date, data):\n",
    "    filtered_data = []\n",
    "    for entry in data['VideoList']:\n",
    "        date_str = entry['Date']\n",
    "        date_obj = datetime.strptime(date_str, \"%Y-%m-%d %H:%M:%S\")\n",
    "        if start_date <= date_obj <= end_date:\n",
    "            filtered_data.append(entry)\n",
    "    return {\"VideoList\": filtered_data}\n"
   ]
  },
  {
   "cell_type": "code",
   "execution_count": 6,
   "metadata": {},
   "outputs": [],
   "source": [
    "#oct 7 and 2 months after\n",
    "start_date = datetime(2023, 10, 7)\n",
    "end_date = datetime(2023, 12, 7)\n",
    "\n",
    "with open(outfile_path_raw, 'r') as file:\n",
    "    json_data = json.load(file)\n",
    "\n",
    "# Filter the data based on the date range\n",
    "filtered_data = filter_dates(start_date, end_date, json_data)\n"
   ]
  },
  {
   "cell_type": "code",
   "execution_count": 7,
   "metadata": {},
   "outputs": [
    {
     "name": "stdout",
     "output_type": "stream",
     "text": [
      "Filtered data saved to url-json-oct7/Sec2Gr3_31004.json\n"
     ]
    }
   ],
   "source": [
    "# save the filtered data to a new JSON file\n",
    "filtered_path = \"url-json-oct7/\"\n",
    "filename = \"Sec2Gr3_\" + random_number + \".json\"\n",
    "outfile_path_filtered =  os.path.join(filtered_path, filename) \n",
    "\n",
    "with open(outfile_path_filtered, 'w') as file:\n",
    "    json.dump(filtered_data['VideoList'], file, indent=2)\n",
    "\n",
    "print(f\"Filtered data saved to {outfile_path_filtered}\")"
   ]
  },
  {
   "cell_type": "markdown",
   "metadata": {},
   "source": [
    "### parking lot for code"
   ]
  },
  {
   "cell_type": "code",
   "execution_count": 8,
   "metadata": {},
   "outputs": [],
   "source": [
    "#convert video URLs to a csv -- ONLY with link\n",
    "\n",
    "# video_urls = [entry['Link'] for entry in video_URLs['VideoList']]\n",
    "\n",
    "# path = \"url-csv/\"\n",
    "# filename  = 'video_urls_' + random_number + '.csv' \n",
    "# csv_file_path = os.path.join(path, filename) \n",
    "\n",
    "# # write the URLs into a csv\n",
    "# with open(csv_file_path, 'w', newline='') as csv_file:\n",
    "#     csv_writer = csv.writer(csv_file)\n",
    "#     csv_writer.writerow(['Video URL'])  # Write header\n",
    "\n",
    "#     for url in video_urls:\n",
    "#         csv_writer.writerow([url])\n",
    "\n",
    "# print(\"Video URLs have been dumped into\", csv_file_path)"
   ]
  },
  {
   "cell_type": "code",
   "execution_count": 9,
   "metadata": {},
   "outputs": [],
   "source": [
    "# # this chunk of code converted video URLs to CSV with dates\n",
    "\n",
    "# video_data = video_URLs['VideoList']\n",
    "# video_urls = [entry['Link'] for entry in video_data]\n",
    "# video_dates = [entry['Date'] for entry in video_data]\n",
    "\n",
    "# # Combine links and dates into pairs\n",
    "# video_info = zip(video_urls, video_dates)\n",
    "\n",
    "# # Specify the CSV file path\n",
    "# path = \"url-csv/\"\n",
    "# filename = f'video_urls_{random_number}.csv'\n",
    "# csv_file_path = os.path.join(path, filename)\n",
    "\n",
    "# # write the URLs and dates into a csv\n",
    "# with open(csv_file_path, 'w', newline='') as csv_file:\n",
    "#     csv_writer = csv.writer(csv_file)\n",
    "#     csv_writer.writerow(['Video URL', 'Date']) \n",
    "    \n",
    "#     for url, date in video_info:\n",
    "#         csv_writer.writerow([url, date])\n",
    "\n",
    "# print(\"Video URLs and Dates have been dumped into\", csv_file_path)\n"
   ]
  },
  {
   "cell_type": "code",
   "execution_count": null,
   "metadata": {},
   "outputs": [],
   "source": []
  },
  {
   "cell_type": "markdown",
   "metadata": {},
   "source": [
    "### Extract following list"
   ]
  },
  {
   "cell_type": "markdown",
   "metadata": {},
   "source": [
    "Please:\n",
    "1) Run the first two cells of this notebook, and then these cells\n",
    "2) Copy and paste this list into an email and send it to me, with the name f'acc_{random_number}'\n",
    "3) If your account doesn't have a random number (i.e. it doesn't have video browsing history so you didn't run it above, please just name it 'acc_{your_initials}{counter}')"
   ]
  },
  {
   "cell_type": "code",
   "execution_count": 8,
   "metadata": {},
   "outputs": [],
   "source": [
    "import flatdict\n",
    "from collections import defaultdict"
   ]
  },
  {
   "cell_type": "code",
   "execution_count": 3,
   "metadata": {},
   "outputs": [
    {
     "ename": "NameError",
     "evalue": "name 'data' is not defined",
     "output_type": "error",
     "traceback": [
      "\u001b[0;31m---------------------------------------------------------------------------\u001b[0m",
      "\u001b[0;31mNameError\u001b[0m                                 Traceback (most recent call last)",
      "Cell \u001b[0;32mIn[3], line 1\u001b[0m\n\u001b[0;32m----> 1\u001b[0m \u001b[38;5;28mprint\u001b[39m(\u001b[38;5;124m\"\u001b[39m\u001b[38;5;124mNumber of Following:\u001b[39m\u001b[38;5;124m\"\u001b[39m, \u001b[38;5;28mlen\u001b[39m(\u001b[43mdata\u001b[49m[\u001b[38;5;124m'\u001b[39m\u001b[38;5;124mActivity\u001b[39m\u001b[38;5;124m'\u001b[39m][\u001b[38;5;124m'\u001b[39m\u001b[38;5;124mFollowing List\u001b[39m\u001b[38;5;124m'\u001b[39m][\u001b[38;5;124m'\u001b[39m\u001b[38;5;124mFollowing\u001b[39m\u001b[38;5;124m'\u001b[39m])) \u001b[38;5;66;03m# print number of followers\u001b[39;00m\n\u001b[1;32m      3\u001b[0m d \u001b[38;5;241m=\u001b[39m  flatdict\u001b[38;5;241m.\u001b[39mFlatDict(data[\u001b[38;5;124m'\u001b[39m\u001b[38;5;124mActivity\u001b[39m\u001b[38;5;124m'\u001b[39m][\u001b[38;5;124m'\u001b[39m\u001b[38;5;124mFollowing List\u001b[39m\u001b[38;5;124m'\u001b[39m], delimiter\u001b[38;5;241m=\u001b[39m\u001b[38;5;124m'\u001b[39m\u001b[38;5;124m.\u001b[39m\u001b[38;5;124m'\u001b[39m)[\u001b[38;5;124m'\u001b[39m\u001b[38;5;124mFollowing\u001b[39m\u001b[38;5;124m'\u001b[39m] \u001b[38;5;66;03m#flattens dict; gives list\u001b[39;00m\n\u001b[1;32m      4\u001b[0m res \u001b[38;5;241m=\u001b[39m defaultdict(\u001b[38;5;28mlist\u001b[39m)\n",
      "\u001b[0;31mNameError\u001b[0m: name 'data' is not defined"
     ]
    }
   ],
   "source": [
    "print(\"Number of Following:\", len(data['Activity']['Following List']['Following'])) # print number of followers\n",
    "\n",
    "d =  flatdict.FlatDict(data['Activity']['Following List'], delimiter='.')['Following'] #flattens dict; gives list\n",
    "res = defaultdict(list)\n",
    "{res[key].append(sub[key]) for sub in d for key in sub} # makes one dict from list of dicts\n",
    "\n",
    "follow_list = res['UserName'] # list of user's followers\n",
    "follow_list"
   ]
  },
  {
   "cell_type": "code",
   "execution_count": 11,
   "metadata": {},
   "outputs": [
    {
     "ename": "SyntaxError",
     "evalue": "invalid syntax (1370412652.py, line 1)",
     "output_type": "error",
     "traceback": [
      "\u001b[0;36m  Cell \u001b[0;32mIn[11], line 1\u001b[0;36m\u001b[0m\n\u001b[0;31m    file_path = # personal path\u001b[0m\n\u001b[0m                ^\u001b[0m\n\u001b[0;31mSyntaxError\u001b[0m\u001b[0;31m:\u001b[0m invalid syntax\n"
     ]
    }
   ],
   "source": [
    "file_path = \"\"\n",
    "\n",
    "# Write the follow_list to the CSV file\n",
    "with open(file_path, 'w', newline='') as csvfile:\n",
    "    csv_writer = csv.writer(csvfile)\n",
    "    for item in follow_list:\n",
    "        csv_writer.writerow([item])\n",
    "\n",
    "print(\"CSV file has been created successfully.\")"
   ]
  },
  {
   "cell_type": "code",
   "execution_count": null,
   "metadata": {},
   "outputs": [],
   "source": []
  }
 ],
 "metadata": {
  "kernelspec": {
   "display_name": "Python 3",
   "language": "python",
   "name": "python3"
  },
  "language_info": {
   "codemirror_mode": {
    "name": "ipython",
    "version": 3
   },
   "file_extension": ".py",
   "mimetype": "text/x-python",
   "name": "python",
   "nbconvert_exporter": "python",
   "pygments_lexer": "ipython3",
   "version": "3.12.2"
  }
 },
 "nbformat": 4,
 "nbformat_minor": 2
}
