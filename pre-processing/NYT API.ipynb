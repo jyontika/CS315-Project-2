{
 "cells": [
  {
   "cell_type": "markdown",
   "metadata": {},
   "source": [
    "# NYT API \n",
    "\n",
    "Author: Audrey Yip\n",
    "\n",
    "Notebook implementing task on Slide 23 of Day 12\n",
    "\n",
    "Our goal: collect NYT articles that we can use to compare with our video descriptions. Videos have dates (video_timestamp), so we want the articles to be from the same date\n",
    "\n",
    "1. Write a Python function that takes a date, for example, \"2024-02-12\", and returns the list of articles for that day (extracting it from the month’s archive).\n",
    "2. Write some code that explores whether the fields \"abstract\" and \"snippet\" are always the same or often differ. Which one has more information?\n",
    "3. Write a function that given one article (in its nested structure), creates a flat dictionary with keys that are relevant for analysis: either the abstract or snippet (see point 2); lead paragraph; headline; keywords concatenated via semicolon; pub_date; document_type; section_name; and type_of_material\n",
    "4. Write another function that calls the function from point 3 on every article, to create a list of article dictionaries, and convert this list into a dataframe and then store it as a CSV file with the date-month in the title (this is important for point 5 below).\n",
    "\n",
    "This notebook will create the CSV to be used with Step 5:\n",
    "\n",
    "5. Once you have done all of these in the notebook, create a Python script that can be called with a date (from a TikTok video). First, the script looks whether a CSV with cleaned articles is in our folder. If not, calls first the API function to get the articles and then the function that converts them into a CSV. Then, it loads the CSV into a dataframe and it uses filtering to get the articles for the desired date. These articles will be used for the Semantic Similarity portion of the TikTok Project.\n",
    "\n",
    "Note: Point 5 is not included in this Notebook\n",
    "\n",
    "**Table of Contents**\n",
    "1. [Extract List of Articles](#1)\n",
    "2. [Explore Abstract vs. Snippet](#2)\n",
    "3. [Create Flat Dictionary](#3)     \n",
    "4. [Create List of Article Dictionaries and CSV](#4)\n",
    "5. [Filters Articles By Date](#5)\n"
   ]
  },
  {
   "cell_type": "markdown",
   "metadata": {},
   "source": [
    "### 1. Extract List of Articles <a class=\"anchor\" id=\"1\"></a>\n",
    "Write a Python function that takes a date, for example, \"2024-02-12\", and returns the list of articles for that day (extracting it from the month’s archive)."
   ]
  },
  {
   "cell_type": "code",
   "execution_count": 1,
   "metadata": {},
   "outputs": [],
   "source": [
    "import requests\n",
    "\n",
    "API_key = 'CvRk9Qjp9rbVhKThEcRSAphBVJYU5SDT'            # change as necessary"
   ]
  },
  {
   "cell_type": "code",
   "execution_count": 2,
   "metadata": {},
   "outputs": [],
   "source": [
    "def get_articles(date):\n",
    "    year, month, _ = date.split('-')\n",
    "    \n",
    "    # remove leading 0 if month is a single digit\n",
    "    if month[0] == '0':\n",
    "        month = month[1:]\n",
    "    \n",
    "    url = f\"https://api.nytimes.com/svc/archive/v1/{year}/{month}.json?api-key={API_key}\"\n",
    "    \n",
    "    response = requests.get(url)\n",
    "\n",
    "    if response.status_code != 200:     # only return for successful requests\n",
    "        print ('Error making request to API')\n",
    "        return\n",
    "    else:\n",
    "        # extract the articles from the response JSON corresponding to date\n",
    "        articles = response.json()['response']['docs']\n",
    "        article_list = [article for article in articles if article['pub_date'][:10] == date]\n",
    "        num_articles = len(article_list)\n",
    "        \n",
    "        print(f\"Successfully got articles for {date}!\")\n",
    "        print(f\"Number of articles: {num_articles} \\n\")\n",
    "        return article_list\n"
   ]
  },
  {
   "cell_type": "code",
   "execution_count": 3,
   "metadata": {},
   "outputs": [
    {
     "name": "stdout",
     "output_type": "stream",
     "text": [
      "Successfully got articles for 2024-02-12!\n",
      "Number of articles: 116 \n",
      "\n"
     ]
    }
   ],
   "source": [
    "# test get articles function\n",
    "data = get_articles('2024-02-12')"
   ]
  },
  {
   "cell_type": "markdown",
   "metadata": {},
   "source": [
    "### 2. Explore Abstract vs. Snippet <a class=\"anchor\" id=\"2\"></a>\n",
    "Write some code that explores whether the fields \"abstract\" and \"snippet\" are always the same or often differ. Which one has more information?"
   ]
  },
  {
   "cell_type": "code",
   "execution_count": 4,
   "metadata": {},
   "outputs": [
    {
     "name": "stdout",
     "output_type": "stream",
     "text": [
      "Testing for first Article\n",
      "Abstract: A Cetaphil commercial showed a father and daughter connecting over football and the music superstar. But a social media influencer said the idea was stolen from her.\n",
      "Snippet: A Cetaphil commercial showed a father and daughter connecting over football and the music superstar. But a social media influencer said the idea was stolen from her.\n"
     ]
    }
   ],
   "source": [
    "# see what abstract and snippet look like for one article\n",
    "test_article = data[0]\n",
    "print(\"Testing for first Article\")\n",
    "print(\"Abstract:\", test_article['abstract'])\n",
    "print(\"Snippet:\", test_article['snippet'])"
   ]
  },
  {
   "cell_type": "code",
   "execution_count": 5,
   "metadata": {},
   "outputs": [],
   "source": [
    "def explore_abstracts_and_snippets(date):\n",
    "    \"\"\" helper function, takes date and explores similarity and differences between abstract and snippet\"\"\"\n",
    "    \n",
    "    data = get_articles(date)\n",
    "    \n",
    "    print('Now exploring abstracts vs. snippets...')\n",
    "    num_same = 0\n",
    "    num_diff = 0\n",
    "\n",
    "    for article in data:\n",
    "        abstract = article['abstract']\n",
    "        snippet = article['snippet']\n",
    "        name = article['headline']['main']\n",
    "\n",
    "        if abstract == snippet:\n",
    "            num_same += 1\n",
    "        else:\n",
    "            num_diff +=1\n",
    "            print(f\"\\n\\\"{name}\\\" has differing abstract and snippet:\")\n",
    "            print('Abstract:', abstract)\n",
    "            if snippet == '':\n",
    "                print('Article has no snippet.')\n",
    "            else:\n",
    "                print('Snippet:', snippet)\n",
    "\n",
    "    if num_same == num_diff:\n",
    "        print('\\nAll articles have identical abstracts and snippets')\n",
    "    else:\n",
    "        print('\\nNumber of articles where abstract and snippet are the same:', num_same)\n",
    "        print('Number of articles where abstract and snippet are different:', num_diff, '\\n')"
   ]
  },
  {
   "cell_type": "code",
   "execution_count": 6,
   "metadata": {},
   "outputs": [
    {
     "name": "stdout",
     "output_type": "stream",
     "text": [
      "----- Exploring articles from 2024-02-12 -----\n",
      "Successfully got articles for 2024-02-12!\n",
      "Number of articles: 116 \n",
      "\n",
      "Now exploring abstracts vs. snippets...\n",
      "\n",
      "\"Nothing Says ‘Be Mine’ Like a Chocolate Chip Cookie the Size of Your Face\" has differing abstract and snippet:\n",
      "Abstract: Have you ever baked a giant chocolate chip cookie in a skillet? If you haven’t, now is the time because Samantha Seneviratne’s recipe is utterly magical. Like everything she puts forth, Samantha’s giant cookie is perfectly balanced, a harmony of brown sugar, walnuts and chocolate chips seasoned with just enough salt to tame the sweetness. And smushing one giant cookie into a skillet is vastly easier and faster than forming individual cookies. It’s the kind of after-work treat that makes Monday altogether worth it.\n",
      "Article has no snippet.\n",
      "\n",
      "Number of articles where abstract and snippet are the same: 115\n",
      "Number of articles where abstract and snippet are different: 1 \n",
      "\n",
      "----- Exploring articles from 2024-01-12 -----\n",
      "Successfully got articles for 2024-01-12!\n",
      "Number of articles: 173 \n",
      "\n",
      "Now exploring abstracts vs. snippets...\n",
      "\n",
      "\"U.S. Strikes in Yemen, and Taiwan’s High-Stakes Election\" has differing abstract and snippet:\n",
      "Abstract: The New York Times Audio app is home to journalism and storytelling, and provides news, depth and serendipity. If you haven’t already, download it here — available to Times news subscribers on iOS — and sign up for our weekly newsletter.\n",
      "Article has no snippet.\n",
      "\n",
      "\"The Best of Late Night This Week\" has differing abstract and snippet:\n",
      "Abstract: On his first show of the new year, Jimmy Kimmel addressed inflammatory comments from the N.F.L. quarterback Aaron Rodgers. The hosts also discussed the near-disastrous accident of an Alaska Airlines Boeing 737 Max 9 jet and former President Donald Trump’s civil trial.\n",
      "Snippet: On his first show of the new year, Jimmy Kimmel addressed inflammatory comments from the N.F.L. quarterback Aaron Rodgers. The hosts also discussed the near-disastrous accident of an Alaska Airlines Boeing 737 Max 9 jet and former President Donald...\n",
      "\n",
      "Number of articles where abstract and snippet are the same: 171\n",
      "Number of articles where abstract and snippet are different: 2 \n",
      "\n",
      "----- Exploring articles from 2023-12-12 -----\n",
      "Successfully got articles for 2023-12-12!\n",
      "Number of articles: 155 \n",
      "\n",
      "Now exploring abstracts vs. snippets...\n",
      "\n",
      "Number of articles where abstract and snippet are the same: 155\n",
      "Number of articles where abstract and snippet are different: 0 \n",
      "\n"
     ]
    }
   ],
   "source": [
    "test_date_list = ['2024-02-12', '2024-01-12', '2023-12-12']\n",
    "\n",
    "for date in test_date_list:\n",
    "    print(f\"----- Exploring articles from {date} -----\")\n",
    "    explore_abstracts_and_snippets(date)"
   ]
  },
  {
   "cell_type": "markdown",
   "metadata": {},
   "source": [
    "Seems that snippet is either a truncated version of the abstract, or article will have an abstract but no snippet. Let's use abstract for part 3."
   ]
  },
  {
   "cell_type": "markdown",
   "metadata": {},
   "source": [
    "### 3. Create Flat Dictionary <a class=\"anchor\" id=3></a>\n",
    "\n",
    "Write a function that given one article (in its nested structure), creates a flat dictionary with keys that are relevant for analysis: either the abstract or snippet (see point 2); lead paragraph; headline; keywords concatenated via semicolon; pub_date; document_type; section_name; and type_of_material"
   ]
  },
  {
   "cell_type": "code",
   "execution_count": 7,
   "metadata": {},
   "outputs": [
    {
     "data": {
      "text/plain": [
       "[{'name': 'subject',\n",
       "  'value': 'Advertising and Marketing',\n",
       "  'rank': 1,\n",
       "  'major': 'N'},\n",
       " {'name': 'subject', 'value': 'Super Bowl', 'rank': 2, 'major': 'N'},\n",
       " {'name': 'subject',\n",
       "  'value': 'Cosmetics and Toiletries',\n",
       "  'rank': 3,\n",
       "  'major': 'N'},\n",
       " {'name': 'persons', 'value': 'Swift, Taylor', 'rank': 4, 'major': 'N'},\n",
       " {'name': 'persons', 'value': 'Kelce, Travis', 'rank': 5, 'major': 'N'},\n",
       " {'name': 'subject', 'value': 'Social Media', 'rank': 7, 'major': 'N'},\n",
       " {'name': 'organizations',\n",
       "  'value': 'TikTok (ByteDance)',\n",
       "  'rank': 8,\n",
       "  'major': 'N'}]"
      ]
     },
     "execution_count": 7,
     "metadata": {},
     "output_type": "execute_result"
    }
   ],
   "source": [
    "# explore keyword field\n",
    "test_article['keywords']"
   ]
  },
  {
   "cell_type": "code",
   "execution_count": 8,
   "metadata": {},
   "outputs": [
    {
     "name": "stdout",
     "output_type": "stream",
     "text": [
      "Advertising and Marketing;Super Bowl;Cosmetics and Toiletries;Swift, Taylor;Kelce, Travis;Social Media;TikTok (ByteDance)\n"
     ]
    }
   ],
   "source": [
    "keywords = []\n",
    "for keyword in test_article['keywords']:\n",
    "    keywords.append(keyword['value'])\n",
    "keywords_concat = ';'.join(keywords)\n",
    "print(keywords_concat)"
   ]
  },
  {
   "cell_type": "code",
   "execution_count": 9,
   "metadata": {},
   "outputs": [],
   "source": [
    "def flat_dictionary(article):\n",
    "    \"\"\"\n",
    "    Given an article, creates a flat dictionary with the abstract, lead paragraph, headline, keywords,\n",
    "    pub_date, document_type, section_name, and type_of_material\n",
    "    \"\"\"\n",
    "    dict = {}\n",
    "\n",
    "    dict['abstract'] = article['abstract']\n",
    "    dict['lead_paragraph'] = article['lead_paragraph']\n",
    "    dict['headline'] = article['headline']['main']\n",
    "    dict['pub_date'] = article['pub_date']\n",
    "    dict['document_type'] = article['document_type']\n",
    "    dict['section_name'] = article['section_name']\n",
    "    dict['type_of_material'] = article['type_of_material']\n",
    "\n",
    "    # get keywords\n",
    "    keywords_list = []\n",
    "    for keyword in article['keywords']:\n",
    "        keywords_list.append(keyword['value'])\n",
    "    keywords_concat = ';'.join(keywords)\n",
    "    dict['keywords'] = keywords_concat\n",
    "\n",
    "    return dict"
   ]
  },
  {
   "cell_type": "code",
   "execution_count": 10,
   "metadata": {},
   "outputs": [
    {
     "data": {
      "text/plain": [
       "{'abstract': 'A Cetaphil commercial showed a father and daughter connecting over football and the music superstar. But a social media influencer said the idea was stolen from her.',\n",
       " 'lead_paragraph': 'When an advertisement for Cetaphil lotion was released online days before the Super Bowl, it drew rave reviews for a narrative that evoked a familiar story for parents, football fans and followers of Taylor Swift.',\n",
       " 'headline': 'Ad Nods to Taylor Swift and Football, Drawing Cheers and Criticism',\n",
       " 'pub_date': '2024-02-12T00:30:32+0000',\n",
       " 'document_type': 'article',\n",
       " 'section_name': 'Business Day',\n",
       " 'type_of_material': 'News',\n",
       " 'keywords': 'Advertising and Marketing;Super Bowl;Cosmetics and Toiletries;Swift, Taylor;Kelce, Travis;Social Media;TikTok (ByteDance)'}"
      ]
     },
     "execution_count": 10,
     "metadata": {},
     "output_type": "execute_result"
    }
   ],
   "source": [
    "# test the function\n",
    "flat_dictionary(test_article)"
   ]
  },
  {
   "cell_type": "markdown",
   "metadata": {},
   "source": [
    "### 4. Create List of Article Dictionaries and CSV <a class=\"anchor\" id=4></a>\n",
    "Write another function that calls the function from point 3 on every article, to create a list of article dictionaries, and convert this list into a dataframe and then store it as a CSV file with the date-month in the title (this is important for point 5 below)."
   ]
  },
  {
   "cell_type": "code",
   "execution_count": 17,
   "metadata": {},
   "outputs": [],
   "source": [
    "import pandas as pd\n",
    "\n",
    "def articles_to_csv(date):\n",
    "    \"\"\"\n",
    "    Given a date, outputs a csv with all relevant information for each article\n",
    "    Calls helper functions get_articles and flat_dictionary\n",
    "    \"\"\"\n",
    "    # get data using helper function\n",
    "    data = get_articles(date)\n",
    "\n",
    "    # collect all article dictionaries \n",
    "    article_data =[]\n",
    "    for article in data:\n",
    "        article_dict = flat_dictionary(article)\n",
    "        article_data.append(article_dict)\n",
    "\n",
    "    # create dataframe and write to csv\n",
    "    df = pd.DataFrame(article_data)\n",
    "    df.to_csv(f\"nyt-articles/NYT_articles_{date}.csv\")"
   ]
  },
  {
   "cell_type": "code",
   "execution_count": 18,
   "metadata": {},
   "outputs": [
    {
     "name": "stdout",
     "output_type": "stream",
     "text": [
      "Successfully got articles for 2024-02-12!\n",
      "Number of articles: 116 \n",
      "\n"
     ]
    }
   ],
   "source": [
    "# test function\n",
    "articles_to_csv('2024-02-12')"
   ]
  },
  {
   "cell_type": "markdown",
   "metadata": {},
   "source": [
    "### 5. Filter Articles By Date <a class=\"anchor\" id=5></a>\n",
    "Once you have done all of these in the notebook, create a Python script that can be called with a date (from a TikTok video). First, the script looks whether a CSV with cleaned articles is in our folder. If not, calls first the API function to get the articles and then the function that converts them into a CSV. Then, it loads the CSV into a dataframe and it uses filtering to get the articles for the desired date. These articles will be used for the Semantic Similarity portion of the TikTok Project."
   ]
  },
  {
   "cell_type": "code",
   "execution_count": 37,
   "metadata": {},
   "outputs": [],
   "source": [
    "import os\n",
    "import pandas"
   ]
  },
  {
   "cell_type": "code",
   "execution_count": 38,
   "metadata": {},
   "outputs": [],
   "source": [
    "def filter_by_date(date):\n",
    "    file_name = f\"NYT_articles_{date}.csv\"\n",
    "    files_in_dir = set(os.listdir(\"nyt-articles\"))\n",
    "    if file_name not in files_in_dir:\n",
    "        articles_to_csv(date)\n",
    "    article_df = pd.read_csv(f\"nyt-articles/NYT_articles_{date}.csv\")\n",
    "    return article_df\n",
    "        "
   ]
  },
  {
   "cell_type": "code",
   "execution_count": 39,
   "metadata": {},
   "outputs": [
    {
     "data": {
      "text/html": [
       "<div>\n",
       "<style scoped>\n",
       "    .dataframe tbody tr th:only-of-type {\n",
       "        vertical-align: middle;\n",
       "    }\n",
       "\n",
       "    .dataframe tbody tr th {\n",
       "        vertical-align: top;\n",
       "    }\n",
       "\n",
       "    .dataframe thead th {\n",
       "        text-align: right;\n",
       "    }\n",
       "</style>\n",
       "<table border=\"1\" class=\"dataframe\">\n",
       "  <thead>\n",
       "    <tr style=\"text-align: right;\">\n",
       "      <th></th>\n",
       "      <th>Unnamed: 0</th>\n",
       "      <th>abstract</th>\n",
       "      <th>lead_paragraph</th>\n",
       "      <th>headline</th>\n",
       "      <th>pub_date</th>\n",
       "      <th>document_type</th>\n",
       "      <th>section_name</th>\n",
       "      <th>type_of_material</th>\n",
       "      <th>keywords</th>\n",
       "    </tr>\n",
       "  </thead>\n",
       "  <tbody>\n",
       "    <tr>\n",
       "      <th>0</th>\n",
       "      <td>0</td>\n",
       "      <td>A Cetaphil commercial showed a father and daug...</td>\n",
       "      <td>When an advertisement for Cetaphil lotion was ...</td>\n",
       "      <td>Ad Nods to Taylor Swift and Football, Drawing ...</td>\n",
       "      <td>2024-02-12T00:30:32+0000</td>\n",
       "      <td>article</td>\n",
       "      <td>Business Day</td>\n",
       "      <td>News</td>\n",
       "      <td>Advertising and Marketing;Super Bowl;Cosmetics...</td>\n",
       "    </tr>\n",
       "    <tr>\n",
       "      <th>1</th>\n",
       "      <td>1</td>\n",
       "      <td>Taylor Swift and Travis Kelce have been the su...</td>\n",
       "      <td>Extending a weekslong right-wing meltdown over...</td>\n",
       "      <td>Trump Says It Would Be ‘Disloyal’ for Taylor S...</td>\n",
       "      <td>2024-02-12T00:32:24+0000</td>\n",
       "      <td>article</td>\n",
       "      <td>U.S.</td>\n",
       "      <td>News</td>\n",
       "      <td>Advertising and Marketing;Super Bowl;Cosmetics...</td>\n",
       "    </tr>\n",
       "    <tr>\n",
       "      <th>2</th>\n",
       "      <td>2</td>\n",
       "      <td>In a halftime set that touched on more than a ...</td>\n",
       "      <td>A few minutes into Usher’s dynamic and sly Sup...</td>\n",
       "      <td>Usher Brings Precise Details to Pop’s Biggest ...</td>\n",
       "      <td>2024-02-12T02:14:00+0000</td>\n",
       "      <td>article</td>\n",
       "      <td>Arts</td>\n",
       "      <td>Review</td>\n",
       "      <td>Advertising and Marketing;Super Bowl;Cosmetics...</td>\n",
       "    </tr>\n",
       "    <tr>\n",
       "      <th>3</th>\n",
       "      <td>3</td>\n",
       "      <td>The pop superstar used a Verizon ad to tell fa...</td>\n",
       "      <td>After days of speculation and online sleuthing...</td>\n",
       "      <td>Beyoncé Announces New Album in Super Bowl Comm...</td>\n",
       "      <td>2024-02-12T02:41:56+0000</td>\n",
       "      <td>article</td>\n",
       "      <td>Arts</td>\n",
       "      <td>News</td>\n",
       "      <td>Advertising and Marketing;Super Bowl;Cosmetics...</td>\n",
       "    </tr>\n",
       "    <tr>\n",
       "      <th>4</th>\n",
       "      <td>4</td>\n",
       "      <td>William Albert Haynes Jr., 70, went by “Billy ...</td>\n",
       "      <td>William Albert “Billy Jack” Haynes Jr., who in...</td>\n",
       "      <td>Former W.W.F. Wrestler Arrested in Wife’s Murder</td>\n",
       "      <td>2024-02-12T03:10:32+0000</td>\n",
       "      <td>article</td>\n",
       "      <td>Arts</td>\n",
       "      <td>News</td>\n",
       "      <td>Advertising and Marketing;Super Bowl;Cosmetics...</td>\n",
       "    </tr>\n",
       "    <tr>\n",
       "      <th>...</th>\n",
       "      <td>...</td>\n",
       "      <td>...</td>\n",
       "      <td>...</td>\n",
       "      <td>...</td>\n",
       "      <td>...</td>\n",
       "      <td>...</td>\n",
       "      <td>...</td>\n",
       "      <td>...</td>\n",
       "      <td>...</td>\n",
       "    </tr>\n",
       "    <tr>\n",
       "      <th>111</th>\n",
       "      <td>111</td>\n",
       "      <td>Pregnant women with diabetes or high blood pre...</td>\n",
       "      <td>Women who develop high blood pressure or diabe...</td>\n",
       "      <td>Children Born to Mothers With Pregnancy Compli...</td>\n",
       "      <td>2024-02-12T23:13:06+0000</td>\n",
       "      <td>article</td>\n",
       "      <td>Health</td>\n",
       "      <td>News</td>\n",
       "      <td>Advertising and Marketing;Super Bowl;Cosmetics...</td>\n",
       "    </tr>\n",
       "    <tr>\n",
       "      <th>112</th>\n",
       "      <td>112</td>\n",
       "      <td>The shooting took place at the Mount Eden Aven...</td>\n",
       "      <td>A 35-year-old man was killed and five other pe...</td>\n",
       "      <td>One Killed and 5 Wounded in Shooting at Bronx ...</td>\n",
       "      <td>2024-02-12T23:13:38+0000</td>\n",
       "      <td>article</td>\n",
       "      <td>New York</td>\n",
       "      <td>News</td>\n",
       "      <td>Advertising and Marketing;Super Bowl;Cosmetics...</td>\n",
       "    </tr>\n",
       "    <tr>\n",
       "      <th>113</th>\n",
       "      <td>113</td>\n",
       "      <td>Our guide to the themes dominating the race.</td>\n",
       "      <td>The special election in New York’s Third Congr...</td>\n",
       "      <td>How Special Is New York’s Special Election?</td>\n",
       "      <td>2024-02-12T23:20:47+0000</td>\n",
       "      <td>article</td>\n",
       "      <td>U.S.</td>\n",
       "      <td>News</td>\n",
       "      <td>Advertising and Marketing;Super Bowl;Cosmetics...</td>\n",
       "    </tr>\n",
       "    <tr>\n",
       "      <th>114</th>\n",
       "      <td>114</td>\n",
       "      <td>The former president showed up at the federal ...</td>\n",
       "      <td>Former President Donald J. Trump and his lawye...</td>\n",
       "      <td>Trump Attends Court Hearing on Access to Class...</td>\n",
       "      <td>2024-02-12T23:31:02+0000</td>\n",
       "      <td>article</td>\n",
       "      <td>U.S.</td>\n",
       "      <td>News</td>\n",
       "      <td>Advertising and Marketing;Super Bowl;Cosmetics...</td>\n",
       "    </tr>\n",
       "    <tr>\n",
       "      <th>115</th>\n",
       "      <td>115</td>\n",
       "      <td>After months of treading lightly about the for...</td>\n",
       "      <td>Nikki Haley, in the final stretch before the S...</td>\n",
       "      <td>Defending Troops, Haley Says Golf Course Is Cl...</td>\n",
       "      <td>2024-02-12T23:31:55+0000</td>\n",
       "      <td>article</td>\n",
       "      <td>U.S.</td>\n",
       "      <td>News</td>\n",
       "      <td>Advertising and Marketing;Super Bowl;Cosmetics...</td>\n",
       "    </tr>\n",
       "  </tbody>\n",
       "</table>\n",
       "<p>116 rows × 9 columns</p>\n",
       "</div>"
      ],
      "text/plain": [
       "     Unnamed: 0                                           abstract  \\\n",
       "0             0  A Cetaphil commercial showed a father and daug...   \n",
       "1             1  Taylor Swift and Travis Kelce have been the su...   \n",
       "2             2  In a halftime set that touched on more than a ...   \n",
       "3             3  The pop superstar used a Verizon ad to tell fa...   \n",
       "4             4  William Albert Haynes Jr., 70, went by “Billy ...   \n",
       "..          ...                                                ...   \n",
       "111         111  Pregnant women with diabetes or high blood pre...   \n",
       "112         112  The shooting took place at the Mount Eden Aven...   \n",
       "113         113       Our guide to the themes dominating the race.   \n",
       "114         114  The former president showed up at the federal ...   \n",
       "115         115  After months of treading lightly about the for...   \n",
       "\n",
       "                                        lead_paragraph  \\\n",
       "0    When an advertisement for Cetaphil lotion was ...   \n",
       "1    Extending a weekslong right-wing meltdown over...   \n",
       "2    A few minutes into Usher’s dynamic and sly Sup...   \n",
       "3    After days of speculation and online sleuthing...   \n",
       "4    William Albert “Billy Jack” Haynes Jr., who in...   \n",
       "..                                                 ...   \n",
       "111  Women who develop high blood pressure or diabe...   \n",
       "112  A 35-year-old man was killed and five other pe...   \n",
       "113  The special election in New York’s Third Congr...   \n",
       "114  Former President Donald J. Trump and his lawye...   \n",
       "115  Nikki Haley, in the final stretch before the S...   \n",
       "\n",
       "                                              headline  \\\n",
       "0    Ad Nods to Taylor Swift and Football, Drawing ...   \n",
       "1    Trump Says It Would Be ‘Disloyal’ for Taylor S...   \n",
       "2    Usher Brings Precise Details to Pop’s Biggest ...   \n",
       "3    Beyoncé Announces New Album in Super Bowl Comm...   \n",
       "4     Former W.W.F. Wrestler Arrested in Wife’s Murder   \n",
       "..                                                 ...   \n",
       "111  Children Born to Mothers With Pregnancy Compli...   \n",
       "112  One Killed and 5 Wounded in Shooting at Bronx ...   \n",
       "113        How Special Is New York’s Special Election?   \n",
       "114  Trump Attends Court Hearing on Access to Class...   \n",
       "115  Defending Troops, Haley Says Golf Course Is Cl...   \n",
       "\n",
       "                     pub_date document_type  section_name type_of_material  \\\n",
       "0    2024-02-12T00:30:32+0000       article  Business Day             News   \n",
       "1    2024-02-12T00:32:24+0000       article          U.S.             News   \n",
       "2    2024-02-12T02:14:00+0000       article          Arts           Review   \n",
       "3    2024-02-12T02:41:56+0000       article          Arts             News   \n",
       "4    2024-02-12T03:10:32+0000       article          Arts             News   \n",
       "..                        ...           ...           ...              ...   \n",
       "111  2024-02-12T23:13:06+0000       article        Health             News   \n",
       "112  2024-02-12T23:13:38+0000       article      New York             News   \n",
       "113  2024-02-12T23:20:47+0000       article          U.S.             News   \n",
       "114  2024-02-12T23:31:02+0000       article          U.S.             News   \n",
       "115  2024-02-12T23:31:55+0000       article          U.S.             News   \n",
       "\n",
       "                                              keywords  \n",
       "0    Advertising and Marketing;Super Bowl;Cosmetics...  \n",
       "1    Advertising and Marketing;Super Bowl;Cosmetics...  \n",
       "2    Advertising and Marketing;Super Bowl;Cosmetics...  \n",
       "3    Advertising and Marketing;Super Bowl;Cosmetics...  \n",
       "4    Advertising and Marketing;Super Bowl;Cosmetics...  \n",
       "..                                                 ...  \n",
       "111  Advertising and Marketing;Super Bowl;Cosmetics...  \n",
       "112  Advertising and Marketing;Super Bowl;Cosmetics...  \n",
       "113  Advertising and Marketing;Super Bowl;Cosmetics...  \n",
       "114  Advertising and Marketing;Super Bowl;Cosmetics...  \n",
       "115  Advertising and Marketing;Super Bowl;Cosmetics...  \n",
       "\n",
       "[116 rows x 9 columns]"
      ]
     },
     "execution_count": 39,
     "metadata": {},
     "output_type": "execute_result"
    }
   ],
   "source": [
    "filter_by_date('2024-02-12')"
   ]
  },
  {
   "cell_type": "code",
   "execution_count": null,
   "metadata": {},
   "outputs": [],
   "source": []
  }
 ],
 "metadata": {
  "kernelspec": {
   "display_name": "Python 3",
   "language": "python",
   "name": "python3"
  },
  "language_info": {
   "codemirror_mode": {
    "name": "ipython",
    "version": 3
   },
   "file_extension": ".py",
   "mimetype": "text/x-python",
   "name": "python",
   "nbconvert_exporter": "python",
   "pygments_lexer": "ipython3",
   "version": "3.12.2"
  }
 },
 "nbformat": 4,
 "nbformat_minor": 2
}
