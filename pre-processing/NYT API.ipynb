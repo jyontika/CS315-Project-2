{
 "cells": [
  {
   "cell_type": "markdown",
   "metadata": {},
   "source": [
    "# NYT API \n",
    "\n",
    "Notebook implementing task on Slide 23 of Day 12\n",
    "\n",
    "Our goal: collect NYT articles that we can use to compare with our video descriptions. Videos have dates (video_timestamp), so we want the articles to be from the same date\n",
    "\n",
    "1. Write a Python function that takes a date, for example, \"2024-02-12\", and returns the list of articles for that day (extracting it from the month’s archive).\n",
    "2. Write some code that explores whether the fields \"abstract\" and \"snippet\" are always the same or often differ. Which one has more information?\n",
    "3. Write a function that given one article (in its nested structure), creates a flat dictionary with keys that are relevant for analysis: either the abstract or snippet (see point 2); lead paragraph; headline; keywords concatenated via semicolon; pub_date; document_type; section_name; and type_of_material\n",
    "4. Write another function that calls the function from point 3 on every article, to create a list of article dictionaries, and convert this list into a dataframe and then store it as a CSV file with the date-month in the title (this is important for point 5 below).\n",
    "\n",
    "This notebook will create the CSV to be used with Step 5:\n",
    "\n",
    "5. Once you have done all of these in the notebook, create a Python script that can be called with a date (from a TikTok video). First, the script looks whether a CSV with cleaned articles is in our folder. If not, calls first the API function to get the articles and then the function that converts them into a CSV. Then, it loads the CSV into a dataframe and it uses filtering to get the articles for the desired date. These articles will be used for the Semantic Similarity portion of the TikTok Project.\n",
    "\n",
    "Note: Point 5 is not included in this Notebook\n",
    "\n",
    "**Table of Contents**\n",
    "1. [Extract List of Articles](#1)\n",
    "2. [Explore Abstract vs. Snippet](#2)\n",
    "3. [Create Flat Dictionary](#3)     \n",
    "4. [Create List of Article Dictionaries and CSV](#4)\n"
   ]
  },
  {
   "cell_type": "markdown",
   "metadata": {},
   "source": [
    "### 1. Extract List of Articles <a class=\"anchor\" id=\"1\"></a>\n",
    "Write a Python function that takes a date, for example, \"2024-02-12\", and returns the list of articles for that day (extracting it from the month’s archive)."
   ]
  },
  {
   "cell_type": "code",
   "execution_count": 3,
   "metadata": {},
   "outputs": [],
   "source": [
    "import requests\n",
    "\n",
    "API_key = 'CvRk9Qjp9rbVhKThEcRSAphBVJYU5SDT'            # change as necessary"
   ]
  },
  {
   "cell_type": "code",
   "execution_count": 30,
   "metadata": {},
   "outputs": [],
   "source": [
    "def get_articles(date):\n",
    "    year, month, _ = date.split('-')\n",
    "    \n",
    "    # remove leading 0 if month is a single digit\n",
    "    if month[0] == '0':\n",
    "        month = month[1:]\n",
    "    \n",
    "    url = f\"https://api.nytimes.com/svc/archive/v1/{year}/{month}.json?api-key={API_key}\"\n",
    "    \n",
    "    response = requests.get(url)\n",
    "\n",
    "    if response.status_code != 200:     # only return for successful requests\n",
    "        print ('Error making request to API')\n",
    "        return\n",
    "    else:\n",
    "        # extract the articles from the response JSON corresponding to date\n",
    "        articles = response.json()['response']['docs']\n",
    "        article_list = [article for article in articles if article['pub_date'][:10] == date]\n",
    "        num_articles = len(article_list)\n",
    "        \n",
    "        print(f\"Successfully got articles for {date}!\")\n",
    "        print(f\"Number of articles: {num_articles} \\n\")\n",
    "        return article_list\n"
   ]
  },
  {
   "cell_type": "code",
   "execution_count": 15,
   "metadata": {},
   "outputs": [
    {
     "name": "stdout",
     "output_type": "stream",
     "text": [
      "Successfully got articles for 2024-02-12!\n",
      "Number of articles: 116\n"
     ]
    }
   ],
   "source": [
    "# test get articles function\n",
    "data = get_articles('2024-02-12')"
   ]
  },
  {
   "cell_type": "markdown",
   "metadata": {},
   "source": [
    "### 2. Explore Abstract vs. Snippet <a class=\"anchor\" id=\"2\"></a>\n",
    "Write some code that explores whether the fields \"abstract\" and \"snippet\" are always the same or often differ. Which one has more information?"
   ]
  },
  {
   "cell_type": "code",
   "execution_count": 17,
   "metadata": {},
   "outputs": [
    {
     "name": "stdout",
     "output_type": "stream",
     "text": [
      "Testing for first Article\n",
      "Abstract: A Cetaphil commercial showed a father and daughter connecting over football and the music superstar. But a social media influencer said the idea was stolen from her.\n",
      "Snippet: A Cetaphil commercial showed a father and daughter connecting over football and the music superstar. But a social media influencer said the idea was stolen from her.\n"
     ]
    }
   ],
   "source": [
    "# see what abstract and snippet look like for one article\n",
    "test_article = data[0]\n",
    "print(\"Testing for first Article\")\n",
    "print(\"Abstract:\", test_article['abstract'])\n",
    "print(\"Snippet:\", test_article['snippet'])"
   ]
  },
  {
   "cell_type": "code",
   "execution_count": 37,
   "metadata": {},
   "outputs": [],
   "source": [
    "def explore_abstracts_and_snippets(date):\n",
    "    \"\"\" helper function, takes date and explores similarity and differences between abstract and snippet\"\"\"\n",
    "    \n",
    "    data = get_articles(date)\n",
    "    \n",
    "    print('Now exploring abstracts vs. snippets...')\n",
    "    num_same = 0\n",
    "    num_diff = 0\n",
    "\n",
    "    for article in data:\n",
    "        abstract = article['abstract']\n",
    "        snippet = article['snippet']\n",
    "        name = article['headline']['main']\n",
    "\n",
    "        if abstract == snippet:\n",
    "            num_same += 1\n",
    "        else:\n",
    "            num_diff +=1\n",
    "            print(f\"\\n\\\"{name}\\\" has differing abstract and snippet:\")\n",
    "            print('Abstract:', abstract)\n",
    "            if snippet == '':\n",
    "                print('Article has no snippet.')\n",
    "            else:\n",
    "                print('Snippet:', snippet)\n",
    "\n",
    "    if num_same == num_diff:\n",
    "        print('\\nAll articles have identical abstracts and snippets')\n",
    "    else:\n",
    "        print('\\nNumber of articles where abstract and snippet are the same:', num_same)\n",
    "        print('Number of articles where abstract and snippet are different:', num_diff, '\\n')"
   ]
  },
  {
   "cell_type": "code",
   "execution_count": 36,
   "metadata": {},
   "outputs": [
    {
     "name": "stdout",
     "output_type": "stream",
     "text": [
      "----- Exploring articles from 2024-02-12 -----\n",
      "Successfully got articles for 2024-02-12!\n",
      "Number of articles: 116 \n",
      "\n",
      "Now exploring abstracts vs. snippets...\n",
      "\"Nothing Says ‘Be Mine’ Like a Chocolate Chip Cookie the Size of Your Face\" has differing abstract and snippet:\n",
      "Abstract: Have you ever baked a giant chocolate chip cookie in a skillet? If you haven’t, now is the time because Samantha Seneviratne’s recipe is utterly magical. Like everything she puts forth, Samantha’s giant cookie is perfectly balanced, a harmony of brown sugar, walnuts and chocolate chips seasoned with just enough salt to tame the sweetness. And smushing one giant cookie into a skillet is vastly easier and faster than forming individual cookies. It’s the kind of after-work treat that makes Monday altogether worth it.\n",
      "Article has no snippet.\n",
      "\n",
      "Number of articles where abstract and snippet are the same: 115\n",
      "Number of articles where abstract and snippet are different: 1 \n",
      "\n",
      "----- Exploring articles from 2024-01-12 -----\n",
      "Successfully got articles for 2024-01-12!\n",
      "Number of articles: 173 \n",
      "\n",
      "Now exploring abstracts vs. snippets...\n",
      "\"U.S. Strikes in Yemen, and Taiwan’s High-Stakes Election\" has differing abstract and snippet:\n",
      "Abstract: The New York Times Audio app is home to journalism and storytelling, and provides news, depth and serendipity. If you haven’t already, download it here — available to Times news subscribers on iOS — and sign up for our weekly newsletter.\n",
      "Article has no snippet.\n",
      "\"The Best of Late Night This Week\" has differing abstract and snippet:\n",
      "Abstract: On his first show of the new year, Jimmy Kimmel addressed inflammatory comments from the N.F.L. quarterback Aaron Rodgers. The hosts also discussed the near-disastrous accident of an Alaska Airlines Boeing 737 Max 9 jet and former President Donald Trump’s civil trial.\n",
      "Snippet: On his first show of the new year, Jimmy Kimmel addressed inflammatory comments from the N.F.L. quarterback Aaron Rodgers. The hosts also discussed the near-disastrous accident of an Alaska Airlines Boeing 737 Max 9 jet and former President Donald...\n",
      "\n",
      "Number of articles where abstract and snippet are the same: 171\n",
      "Number of articles where abstract and snippet are different: 2 \n",
      "\n",
      "----- Exploring articles from 2023-12-12 -----\n",
      "Successfully got articles for 2023-12-12!\n",
      "Number of articles: 155 \n",
      "\n",
      "Now exploring abstracts vs. snippets...\n",
      "\n",
      "Number of articles where abstract and snippet are the same: 155\n",
      "Number of articles where abstract and snippet are different: 0 \n",
      "\n"
     ]
    }
   ],
   "source": [
    "test_date_list = ['2024-02-12', '2024-01-12', '2023-12-12']\n",
    "\n",
    "for date in test_date_list:\n",
    "    print(f\"----- Exploring articles from {date} -----\")\n",
    "    explore_abstracts_and_snippets(date)"
   ]
  },
  {
   "cell_type": "markdown",
   "metadata": {},
   "source": [
    "Seems that snippet is either a truncated version of the abstract, or article will have an abstract but no snippet. Let's use abstract for part 3."
   ]
  },
  {
   "cell_type": "markdown",
   "metadata": {},
   "source": [
    "### 3. Create Flat Dictionary <a class=\"anchor\" id=3></a>\n",
    "\n",
    "Write a function that given one article (in its nested structure), creates a flat dictionary with keys that are relevant for analysis: either the abstract or snippet (see point 2); lead paragraph; headline; keywords concatenated via semicolon; pub_date; document_type; section_name; and type_of_material"
   ]
  },
  {
   "cell_type": "code",
   "execution_count": 48,
   "metadata": {},
   "outputs": [
    {
     "data": {
      "text/plain": [
       "'When an advertisement for Cetaphil lotion was released online days before the Super Bowl, it drew rave reviews for a narrative that evoked a familiar story for parents, football fans and followers of Taylor Swift.'"
      ]
     },
     "execution_count": 48,
     "metadata": {},
     "output_type": "execute_result"
    }
   ],
   "source": [
    "# explore keyword field\n",
    "test_article['lead_paragraph']"
   ]
  },
  {
   "cell_type": "code",
   "execution_count": 43,
   "metadata": {},
   "outputs": [
    {
     "name": "stdout",
     "output_type": "stream",
     "text": [
      "Advertising and Marketing;Super Bowl;Cosmetics and Toiletries;Swift, Taylor;Kelce, Travis;Social Media;TikTok (ByteDance)\n"
     ]
    }
   ],
   "source": [
    "keywords = []\n",
    "for keyword in test_article['keywords']:\n",
    "    keywords.append(keyword['value'])\n",
    "keywords_concat = ';'.join(keywords)\n",
    "print(keywords_concat)"
   ]
  },
  {
   "cell_type": "code",
   "execution_count": 56,
   "metadata": {},
   "outputs": [],
   "source": [
    "def flat_dictionary(article):\n",
    "    \"\"\"\n",
    "    Given an article, creates a flat dictionary with the abstract, lead paragraph, headline, keywords,\n",
    "    pub_date, document_type, section_name, and type_of_material\n",
    "    \"\"\"\n",
    "    dict = {}\n",
    "\n",
    "    dict['abstract'] = article['abstract']\n",
    "    dict['lead_paragraph'] = article['lead_paragraph']\n",
    "    dict['headline'] = article['headline']['main']\n",
    "    dict['pub_date'] = article['pub_date']\n",
    "    dict['document_type'] = article['document_type']\n",
    "    dict['section_name'] = article['section_name']\n",
    "    dict['type_of_material'] = article['type_of_material']\n",
    "\n",
    "    # get keywords\n",
    "    keywords_list = []\n",
    "    for keyword in article['keywords']:\n",
    "        keywords_list.append(keyword['value'])\n",
    "    keywords_concat = ';'.join(keywords)\n",
    "    dict['keywords'] = keywords_concat\n",
    "\n",
    "    return dict"
   ]
  },
  {
   "cell_type": "code",
   "execution_count": 57,
   "metadata": {},
   "outputs": [
    {
     "data": {
      "text/plain": [
       "{'abstract': 'A Cetaphil commercial showed a father and daughter connecting over football and the music superstar. But a social media influencer said the idea was stolen from her.',\n",
       " 'lead_paragraph': 'When an advertisement for Cetaphil lotion was released online days before the Super Bowl, it drew rave reviews for a narrative that evoked a familiar story for parents, football fans and followers of Taylor Swift.',\n",
       " 'headline': 'Ad Nods to Taylor Swift and Football, Drawing Cheers and Criticism',\n",
       " 'pub_date': '2024-02-12T00:30:32+0000',\n",
       " 'document_type': 'article',\n",
       " 'section_name': 'Business Day',\n",
       " 'type_of_material': 'News',\n",
       " 'keywords': 'Advertising and Marketing;Super Bowl;Cosmetics and Toiletries;Swift, Taylor;Kelce, Travis;Social Media;TikTok (ByteDance)'}"
      ]
     },
     "execution_count": 57,
     "metadata": {},
     "output_type": "execute_result"
    }
   ],
   "source": [
    "# test the function\n",
    "flat_dictionary(test_article)"
   ]
  },
  {
   "cell_type": "markdown",
   "metadata": {},
   "source": [
    "### 4. Create List of Article Dictionaries and CSV <a class=\"anchor\" id=4></a>\n",
    "Write another function that calls the function from point 3 on every article, to create a list of article dictionaries, and convert this list into a dataframe and then store it as a CSV file with the date-month in the title (this is important for point 5 below)."
   ]
  },
  {
   "cell_type": "code",
   "execution_count": 62,
   "metadata": {},
   "outputs": [],
   "source": [
    "import pandas as pd\n",
    "\n",
    "def articles_to_csv(date):\n",
    "    \"\"\"\n",
    "    Given a date, outputs a csv with all relevant information for each article\n",
    "    Calls helper functions get_articles and flat_dictionary\n",
    "    \"\"\"\n",
    "    # get data using helper function\n",
    "    data = get_articles(date)\n",
    "\n",
    "    # collect all article dictionaries \n",
    "    article_data =[]\n",
    "    for article in data:\n",
    "        article_dict = flat_dictionary(article)\n",
    "        article_data.append(article_dict)\n",
    "\n",
    "    # create dataframe and write to csv\n",
    "    df = pd.DataFrame(article_data)\n",
    "    df.to_csv(f\"NYT_articles_{date}.csv\")"
   ]
  },
  {
   "cell_type": "code",
   "execution_count": 63,
   "metadata": {},
   "outputs": [
    {
     "name": "stdout",
     "output_type": "stream",
     "text": [
      "Successfully got articles for 2024-02-12!\n",
      "Number of articles: 116 \n",
      "\n"
     ]
    }
   ],
   "source": [
    "# test function\n",
    "articles_to_csv('2024-02-12')"
   ]
  }
 ],
 "metadata": {
  "kernelspec": {
   "display_name": "Python 3",
   "language": "python",
   "name": "python3"
  },
  "language_info": {
   "codemirror_mode": {
    "name": "ipython",
    "version": 3
   },
   "file_extension": ".py",
   "mimetype": "text/x-python",
   "name": "python",
   "nbconvert_exporter": "python",
   "pygments_lexer": "ipython3",
   "version": "3.11.3"
  }
 },
 "nbformat": 4,
 "nbformat_minor": 2
}
